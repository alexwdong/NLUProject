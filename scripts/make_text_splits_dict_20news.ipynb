{
 "cells": [
  {
   "cell_type": "code",
   "execution_count": 30,
   "metadata": {},
   "outputs": [],
   "source": [
    "from datasets import load_from_disk\n",
    "import json\n",
    "import torch\n",
    "from nltk.tokenize import sent_tokenize\n",
    "from torch.nn.functional import softmax\n",
    "from torch.utils.data import DataLoader\n",
    "from transformers import BertTokenizer,BertForNextSentencePrediction\n",
    "import pickle\n",
    "from torch.utils.data import Dataset\n",
    "import os"
   ]
  },
  {
   "cell_type": "code",
   "execution_count": 11,
   "metadata": {},
   "outputs": [],
   "source": [
    "class ContextDataset(Dataset):\n",
    "    def __init__(self, sentence_pair_list):\n",
    "        self.sentence_pair_list = sentence_pair_list\n",
    "\n",
    "    def __len__(self):\n",
    "        return len(self.sentence_pair_list)\n",
    " \n",
    "    def __getitem__(self,idx):\n",
    "        return(self.sentence_pair_list[idx])"
   ]
  },
  {
   "cell_type": "code",
   "execution_count": 12,
   "metadata": {},
   "outputs": [],
   "source": [
    "def get_probabilities_on_text_w_NSP(nsp_model, text, tokenizer, device):\n",
    "    '''\n",
    "    Returns a sequence of probabilities which represent confidence that the next sentence is part of the same segment\n",
    "    \n",
    "    If text has n sentences, then prob_seq has n-1 probabilities. (If text has 1 sentence, prob_seq is [], the empty list.)\n",
    "    The ii index of prob seq represents the NSP confidence of the ii and ii+1 sentences in text.\n",
    "    Probabilities closer to 1 indicate confidence, Probabilities closer to 0 indicate no confidence.\n",
    "    \n",
    "    '''\n",
    "    sentence_list = sent_tokenize(text)\n",
    "    over_length_indices = []\n",
    "    sentence_pair_list=[]\n",
    "    indices_to_be_processed=[]\n",
    "    #Create Sentence pair list\n",
    "    if len(sentence_list)==1:\n",
    "        return [],sentence_list # Return empty list for probs\n",
    "    \n",
    "    for ii in range(0,len(sentence_list)-1):\n",
    "        sentence_1 = sentence_list[ii]\n",
    "        sentence_2 = sentence_list[ii+1]\n",
    "\n",
    "        #Encode temporarily, just to count\n",
    "        encoded = tokenizer.encode_plus(sentence_1, text_pair=sentence_2, return_tensors='pt')\n",
    "        if encoded['input_ids'].shape[1] > 512: # If two sentences are too long, just split them\n",
    "            over_length_indices.append(ii)\n",
    "        else:# add to list to be processed\n",
    "            indices_to_be_processed.append(ii)\n",
    "            sentence_pair_list.append([sentence_1,sentence_2])\n",
    "    # Now, begin calculating probabilities\n",
    "    with torch.no_grad():\n",
    "        # Load into a dataset and dataloader. We do this for speed\n",
    "        context_dataset = ContextDataset(sentence_pair_list)\n",
    "        context_loader = DataLoader(context_dataset, batch_size=128, shuffle=False, pin_memory=True)\n",
    "        probs_list = [] #Will be list of tensors\n",
    "        for batch_idx,batch in enumerate(context_loader):\n",
    "            if len(batch)==0:\n",
    "                continue\n",
    "            # I swear to god this is a legitimate pytorch bug, but we need to reorganize the batch from the dataloader. Whatever\n",
    "            batch_fixed = [(s1,s2) for s1,s2 in zip(batch[0], batch[1])] \n",
    "            # Batch encode\n",
    "            sentence_pairs = tokenizer.batch_encode_plus(batch_fixed, return_tensors='pt',padding=True)\n",
    "            # Run through the model\n",
    "            sentence_pairs.to(device)\n",
    "            logits = nsp_model(**sentence_pairs)[0]\n",
    "            # Get Probability of next sentence.\n",
    "            probs = softmax(logits, dim=1)\n",
    "            probs = probs[:,0]\n",
    "            # Add to list of tensors\n",
    "            probs_list.append(probs.cpu())\n",
    "            \n",
    "        #Cat the list of tensors to get a bsize x sequence_length tensors\n",
    "        if len(probs_list)  == 0:\n",
    "            all_probs = []\n",
    "        else:\n",
    "            all_probs = list(torch.cat(probs_list))\n",
    "    # Now, we need to sort the probabilities. Some of probabilities are coming from over_length_indices, some of them are coming from indices_to_be_processed\n",
    "    # We'll zip, then sort, then take the sorted probs.\n",
    "    indices = over_length_indices + indices_to_be_processed\n",
    "    one_probs = [1]*len(over_length_indices)\n",
    "    probs = one_probs + all_probs\n",
    "    probs = [x for _, x in sorted(zip(indices, probs))]\n",
    "    # Return probabilities, and also return sentence list for use later as well\n",
    "    return probs, sentence_list"
   ]
  },
  {
   "cell_type": "code",
   "execution_count": 13,
   "metadata": {},
   "outputs": [
    {
     "name": "stdout",
     "output_type": "stream",
     "text": [
      "Using device: cuda\n",
      "Quadro RTX 8000\n",
      "Memory Usage:\n",
      "Allocated: 0.1 GB\n",
      "Cached:    0.1 GB\n"
     ]
    }
   ],
   "source": [
    "device = torch.device('cuda' if torch.cuda.is_available() else 'cpu')\n",
    "print('Using device:', device)\n",
    "\n",
    "#Additional Info when using cuda\n",
    "if device.type == 'cuda':\n",
    "    print(torch.cuda.get_device_name(0))\n",
    "    print('Memory Usage:')\n",
    "    print('Allocated:', round(torch.cuda.memory_allocated(0)/1024**3,1), 'GB')\n",
    "    print('Cached:   ', round(torch.cuda.memory_reserved(0)/1024**3,1), 'GB')"
   ]
  },
  {
   "cell_type": "code",
   "execution_count": 14,
   "metadata": {},
   "outputs": [
    {
     "name": "stderr",
     "output_type": "stream",
     "text": [
      "Some weights of the model checkpoint at prajjwal1/bert-small were not used when initializing BertForNextSentencePrediction: ['cls.predictions.bias', 'cls.predictions.transform.dense.weight', 'cls.predictions.transform.dense.bias', 'cls.predictions.transform.LayerNorm.weight', 'cls.predictions.transform.LayerNorm.bias', 'cls.predictions.decoder.weight', 'cls.predictions.decoder.bias']\n",
      "- This IS expected if you are initializing BertForNextSentencePrediction from the checkpoint of a model trained on another task or with another architecture (e.g. initializing a BertForSequenceClassification model from a BertForPreTraining model).\n",
      "- This IS NOT expected if you are initializing BertForNextSentencePrediction from the checkpoint of a model that you expect to be exactly identical (initializing a BertForSequenceClassification model from a BertForSequenceClassification model).\n"
     ]
    }
   ],
   "source": [
    "nsp_model = BertForNextSentencePrediction.from_pretrained('prajjwal1/bert-small')\n",
    "nsp_model.eval()\n",
    "nsp_model.to(device)\n",
    "tokenizer = BertTokenizer.from_pretrained('prajjwal1/bert-small')"
   ]
  },
  {
   "cell_type": "code",
   "execution_count": 25,
   "metadata": {},
   "outputs": [
    {
     "name": "stderr",
     "output_type": "stream",
     "text": [
      "[nltk_data] Downloading package punkt to /home/ay1626/nltk_data...\n",
      "[nltk_data]   Unzipping tokenizers/punkt.zip.\n"
     ]
    },
    {
     "data": {
      "text/plain": [
       "True"
      ]
     },
     "execution_count": 25,
     "metadata": {},
     "output_type": "execute_result"
    }
   ],
   "source": [
    "import nltk\n",
    "nltk.download('punkt')"
   ]
  },
  {
   "cell_type": "code",
   "execution_count": 15,
   "metadata": {},
   "outputs": [],
   "source": [
    "newsgroup_configs = ['bydate_alt.atheism',\n",
    "                 'bydate_comp.graphics',\n",
    "                 'bydate_comp.os.ms-windows.misc',\n",
    "                 'bydate_comp.sys.ibm.pc.hardware',\n",
    "                 'bydate_comp.sys.mac.hardware',\n",
    "                 'bydate_comp.windows.x',\n",
    "                 'bydate_misc.forsale',\n",
    "                 'bydate_rec.autos',\n",
    "                 'bydate_rec.motorcycles',\n",
    "                 'bydate_rec.sport.baseball',\n",
    "                 'bydate_rec.sport.hockey',\n",
    "                 'bydate_sci.crypt',\n",
    "                 'bydate_sci.electronics',\n",
    "                 'bydate_sci.med',\n",
    "                 'bydate_sci.space',\n",
    "                 'bydate_soc.religion.christian',\n",
    "                 'bydate_talk.politics.guns',\n",
    "                 'bydate_talk.politics.mideast',\n",
    "                 'bydate_talk.politics.misc',\n",
    "                 'bydate_talk.religion.misc']"
   ]
  },
  {
   "cell_type": "code",
   "execution_count": 32,
   "metadata": {},
   "outputs": [
    {
     "name": "stdout",
     "output_type": "stream",
     "text": [
      "Loading /home/ay1626/NLU_data/raw/20news/train/bydate_alt.atheism\n",
      "Loading /home/ay1626/NLU_data/raw/20news/train/bydate_comp.graphics\n",
      "Loading /home/ay1626/NLU_data/raw/20news/train/bydate_comp.os.ms-windows.misc\n",
      "Loading /home/ay1626/NLU_data/raw/20news/train/bydate_comp.sys.ibm.pc.hardware\n",
      "Loading /home/ay1626/NLU_data/raw/20news/train/bydate_comp.sys.mac.hardware\n",
      "Loading /home/ay1626/NLU_data/raw/20news/train/bydate_comp.windows.x\n",
      "Loading /home/ay1626/NLU_data/raw/20news/train/bydate_misc.forsale\n",
      "Loading /home/ay1626/NLU_data/raw/20news/train/bydate_rec.autos\n",
      "Loading /home/ay1626/NLU_data/raw/20news/train/bydate_rec.motorcycles\n",
      "Loading /home/ay1626/NLU_data/raw/20news/train/bydate_rec.sport.baseball\n",
      "Loading /home/ay1626/NLU_data/raw/20news/train/bydate_rec.sport.hockey\n",
      "Loading /home/ay1626/NLU_data/raw/20news/train/bydate_sci.crypt\n",
      "Loading /home/ay1626/NLU_data/raw/20news/train/bydate_sci.electronics\n",
      "Loading /home/ay1626/NLU_data/raw/20news/train/bydate_sci.med\n",
      "Loading /home/ay1626/NLU_data/raw/20news/train/bydate_sci.space\n",
      "Loading /home/ay1626/NLU_data/raw/20news/train/bydate_soc.religion.christian\n",
      "Loading /home/ay1626/NLU_data/raw/20news/train/bydate_talk.politics.guns\n",
      "Loading /home/ay1626/NLU_data/raw/20news/train/bydate_talk.politics.mideast\n",
      "Loading /home/ay1626/NLU_data/raw/20news/train/bydate_talk.politics.misc\n",
      "Loading /home/ay1626/NLU_data/raw/20news/train/bydate_talk.religion.misc\n",
      "[Errno 17] File exists: '/home/ay1626/NLU_data/processed/20news/train/'\n",
      "Saving <_io.BufferedWriter name='/home/ay1626/NLU_data/processed/20news/train/bydate_alt.atheism_qid_struct.pkl'>\n",
      "[Errno 17] File exists: '/home/ay1626/NLU_data/processed/20news/train/'\n",
      "Saving <_io.BufferedWriter name='/home/ay1626/NLU_data/processed/20news/train/bydate_comp.graphics_qid_struct.pkl'>\n",
      "[Errno 17] File exists: '/home/ay1626/NLU_data/processed/20news/train/'\n",
      "Saving <_io.BufferedWriter name='/home/ay1626/NLU_data/processed/20news/train/bydate_comp.os.ms-windows.misc_qid_struct.pkl'>\n",
      "[Errno 17] File exists: '/home/ay1626/NLU_data/processed/20news/train/'\n",
      "Saving <_io.BufferedWriter name='/home/ay1626/NLU_data/processed/20news/train/bydate_comp.sys.ibm.pc.hardware_qid_struct.pkl'>\n",
      "[Errno 17] File exists: '/home/ay1626/NLU_data/processed/20news/train/'\n",
      "Saving <_io.BufferedWriter name='/home/ay1626/NLU_data/processed/20news/train/bydate_comp.sys.mac.hardware_qid_struct.pkl'>\n",
      "[Errno 17] File exists: '/home/ay1626/NLU_data/processed/20news/train/'\n",
      "Saving <_io.BufferedWriter name='/home/ay1626/NLU_data/processed/20news/train/bydate_comp.windows.x_qid_struct.pkl'>\n",
      "[Errno 17] File exists: '/home/ay1626/NLU_data/processed/20news/train/'\n",
      "Saving <_io.BufferedWriter name='/home/ay1626/NLU_data/processed/20news/train/bydate_misc.forsale_qid_struct.pkl'>\n",
      "[Errno 17] File exists: '/home/ay1626/NLU_data/processed/20news/train/'\n",
      "Saving <_io.BufferedWriter name='/home/ay1626/NLU_data/processed/20news/train/bydate_rec.autos_qid_struct.pkl'>\n",
      "[Errno 17] File exists: '/home/ay1626/NLU_data/processed/20news/train/'\n",
      "Saving <_io.BufferedWriter name='/home/ay1626/NLU_data/processed/20news/train/bydate_rec.motorcycles_qid_struct.pkl'>\n",
      "[Errno 17] File exists: '/home/ay1626/NLU_data/processed/20news/train/'\n",
      "Saving <_io.BufferedWriter name='/home/ay1626/NLU_data/processed/20news/train/bydate_rec.sport.baseball_qid_struct.pkl'>\n",
      "[Errno 17] File exists: '/home/ay1626/NLU_data/processed/20news/train/'\n",
      "Saving <_io.BufferedWriter name='/home/ay1626/NLU_data/processed/20news/train/bydate_rec.sport.hockey_qid_struct.pkl'>\n",
      "[Errno 17] File exists: '/home/ay1626/NLU_data/processed/20news/train/'\n",
      "Saving <_io.BufferedWriter name='/home/ay1626/NLU_data/processed/20news/train/bydate_sci.crypt_qid_struct.pkl'>\n",
      "[Errno 17] File exists: '/home/ay1626/NLU_data/processed/20news/train/'\n",
      "Saving <_io.BufferedWriter name='/home/ay1626/NLU_data/processed/20news/train/bydate_sci.electronics_qid_struct.pkl'>\n",
      "[Errno 17] File exists: '/home/ay1626/NLU_data/processed/20news/train/'\n",
      "Saving <_io.BufferedWriter name='/home/ay1626/NLU_data/processed/20news/train/bydate_sci.med_qid_struct.pkl'>\n",
      "[Errno 17] File exists: '/home/ay1626/NLU_data/processed/20news/train/'\n",
      "Saving <_io.BufferedWriter name='/home/ay1626/NLU_data/processed/20news/train/bydate_sci.space_qid_struct.pkl'>\n",
      "[Errno 17] File exists: '/home/ay1626/NLU_data/processed/20news/train/'\n",
      "Saving <_io.BufferedWriter name='/home/ay1626/NLU_data/processed/20news/train/bydate_soc.religion.christian_qid_struct.pkl'>\n",
      "[Errno 17] File exists: '/home/ay1626/NLU_data/processed/20news/train/'\n",
      "Saving <_io.BufferedWriter name='/home/ay1626/NLU_data/processed/20news/train/bydate_talk.politics.guns_qid_struct.pkl'>\n",
      "[Errno 17] File exists: '/home/ay1626/NLU_data/processed/20news/train/'\n",
      "Saving <_io.BufferedWriter name='/home/ay1626/NLU_data/processed/20news/train/bydate_talk.politics.mideast_qid_struct.pkl'>\n",
      "[Errno 17] File exists: '/home/ay1626/NLU_data/processed/20news/train/'\n",
      "Saving <_io.BufferedWriter name='/home/ay1626/NLU_data/processed/20news/train/bydate_talk.politics.misc_qid_struct.pkl'>\n",
      "[Errno 17] File exists: '/home/ay1626/NLU_data/processed/20news/train/'\n",
      "Saving <_io.BufferedWriter name='/home/ay1626/NLU_data/processed/20news/train/bydate_talk.religion.misc_qid_struct.pkl'>\n",
      "Loading /home/ay1626/NLU_data/raw/20news/test/bydate_alt.atheism\n",
      "Loading /home/ay1626/NLU_data/raw/20news/test/bydate_comp.graphics\n",
      "Loading /home/ay1626/NLU_data/raw/20news/test/bydate_comp.os.ms-windows.misc\n",
      "Loading /home/ay1626/NLU_data/raw/20news/test/bydate_comp.sys.ibm.pc.hardware\n",
      "Loading /home/ay1626/NLU_data/raw/20news/test/bydate_comp.sys.mac.hardware\n",
      "Loading /home/ay1626/NLU_data/raw/20news/test/bydate_comp.windows.x\n",
      "Loading /home/ay1626/NLU_data/raw/20news/test/bydate_misc.forsale\n",
      "Loading /home/ay1626/NLU_data/raw/20news/test/bydate_rec.autos\n",
      "Loading /home/ay1626/NLU_data/raw/20news/test/bydate_rec.motorcycles\n",
      "Loading /home/ay1626/NLU_data/raw/20news/test/bydate_rec.sport.baseball\n",
      "Loading /home/ay1626/NLU_data/raw/20news/test/bydate_rec.sport.hockey\n",
      "Loading /home/ay1626/NLU_data/raw/20news/test/bydate_sci.crypt\n",
      "Loading /home/ay1626/NLU_data/raw/20news/test/bydate_sci.electronics\n",
      "Loading /home/ay1626/NLU_data/raw/20news/test/bydate_sci.med\n",
      "Loading /home/ay1626/NLU_data/raw/20news/test/bydate_sci.space\n",
      "Loading /home/ay1626/NLU_data/raw/20news/test/bydate_soc.religion.christian\n",
      "Loading /home/ay1626/NLU_data/raw/20news/test/bydate_talk.politics.guns\n",
      "Loading /home/ay1626/NLU_data/raw/20news/test/bydate_talk.politics.mideast\n",
      "Loading /home/ay1626/NLU_data/raw/20news/test/bydate_talk.politics.misc\n",
      "Loading /home/ay1626/NLU_data/raw/20news/test/bydate_talk.religion.misc\n",
      "Saving <_io.BufferedWriter name='/home/ay1626/NLU_data/processed/20news/test/bydate_alt.atheism_qid_struct.pkl'>\n",
      "[Errno 17] File exists: '/home/ay1626/NLU_data/processed/20news/test/'\n",
      "Saving <_io.BufferedWriter name='/home/ay1626/NLU_data/processed/20news/test/bydate_comp.graphics_qid_struct.pkl'>\n",
      "[Errno 17] File exists: '/home/ay1626/NLU_data/processed/20news/test/'\n",
      "Saving <_io.BufferedWriter name='/home/ay1626/NLU_data/processed/20news/test/bydate_comp.os.ms-windows.misc_qid_struct.pkl'>\n",
      "[Errno 17] File exists: '/home/ay1626/NLU_data/processed/20news/test/'\n",
      "Saving <_io.BufferedWriter name='/home/ay1626/NLU_data/processed/20news/test/bydate_comp.sys.ibm.pc.hardware_qid_struct.pkl'>\n",
      "[Errno 17] File exists: '/home/ay1626/NLU_data/processed/20news/test/'\n",
      "Saving <_io.BufferedWriter name='/home/ay1626/NLU_data/processed/20news/test/bydate_comp.sys.mac.hardware_qid_struct.pkl'>\n",
      "[Errno 17] File exists: '/home/ay1626/NLU_data/processed/20news/test/'\n",
      "Saving <_io.BufferedWriter name='/home/ay1626/NLU_data/processed/20news/test/bydate_comp.windows.x_qid_struct.pkl'>\n",
      "[Errno 17] File exists: '/home/ay1626/NLU_data/processed/20news/test/'\n",
      "Saving <_io.BufferedWriter name='/home/ay1626/NLU_data/processed/20news/test/bydate_misc.forsale_qid_struct.pkl'>\n",
      "[Errno 17] File exists: '/home/ay1626/NLU_data/processed/20news/test/'\n",
      "Saving <_io.BufferedWriter name='/home/ay1626/NLU_data/processed/20news/test/bydate_rec.autos_qid_struct.pkl'>\n",
      "[Errno 17] File exists: '/home/ay1626/NLU_data/processed/20news/test/'\n",
      "Saving <_io.BufferedWriter name='/home/ay1626/NLU_data/processed/20news/test/bydate_rec.motorcycles_qid_struct.pkl'>\n",
      "[Errno 17] File exists: '/home/ay1626/NLU_data/processed/20news/test/'\n",
      "Saving <_io.BufferedWriter name='/home/ay1626/NLU_data/processed/20news/test/bydate_rec.sport.baseball_qid_struct.pkl'>\n",
      "[Errno 17] File exists: '/home/ay1626/NLU_data/processed/20news/test/'\n",
      "Saving <_io.BufferedWriter name='/home/ay1626/NLU_data/processed/20news/test/bydate_rec.sport.hockey_qid_struct.pkl'>\n",
      "[Errno 17] File exists: '/home/ay1626/NLU_data/processed/20news/test/'\n",
      "Saving <_io.BufferedWriter name='/home/ay1626/NLU_data/processed/20news/test/bydate_sci.crypt_qid_struct.pkl'>\n",
      "[Errno 17] File exists: '/home/ay1626/NLU_data/processed/20news/test/'\n",
      "Saving <_io.BufferedWriter name='/home/ay1626/NLU_data/processed/20news/test/bydate_sci.electronics_qid_struct.pkl'>\n",
      "[Errno 17] File exists: '/home/ay1626/NLU_data/processed/20news/test/'\n",
      "Saving <_io.BufferedWriter name='/home/ay1626/NLU_data/processed/20news/test/bydate_sci.med_qid_struct.pkl'>\n",
      "[Errno 17] File exists: '/home/ay1626/NLU_data/processed/20news/test/'\n",
      "Saving <_io.BufferedWriter name='/home/ay1626/NLU_data/processed/20news/test/bydate_sci.space_qid_struct.pkl'>\n",
      "[Errno 17] File exists: '/home/ay1626/NLU_data/processed/20news/test/'\n",
      "Saving <_io.BufferedWriter name='/home/ay1626/NLU_data/processed/20news/test/bydate_soc.religion.christian_qid_struct.pkl'>\n",
      "[Errno 17] File exists: '/home/ay1626/NLU_data/processed/20news/test/'\n",
      "Saving <_io.BufferedWriter name='/home/ay1626/NLU_data/processed/20news/test/bydate_talk.politics.guns_qid_struct.pkl'>\n",
      "[Errno 17] File exists: '/home/ay1626/NLU_data/processed/20news/test/'\n",
      "Saving <_io.BufferedWriter name='/home/ay1626/NLU_data/processed/20news/test/bydate_talk.politics.mideast_qid_struct.pkl'>\n",
      "[Errno 17] File exists: '/home/ay1626/NLU_data/processed/20news/test/'\n",
      "Saving <_io.BufferedWriter name='/home/ay1626/NLU_data/processed/20news/test/bydate_talk.politics.misc_qid_struct.pkl'>\n",
      "[Errno 17] File exists: '/home/ay1626/NLU_data/processed/20news/test/'\n",
      "Saving <_io.BufferedWriter name='/home/ay1626/NLU_data/processed/20news/test/bydate_talk.religion.misc_qid_struct.pkl'>\n"
     ]
    }
   ],
   "source": [
    "mode = '20news'\n",
    "splits = ['train', 'test']\n",
    "for split in splits: # Loop over train test\n",
    "    dataset_list = []\n",
    "    for config in newsgroup_configs: #loop over labels\n",
    "        subset_path = os.path.expanduser(f'~/NLU_data/raw/{mode}/{split}/{config}')\n",
    "        print(f\"Loading {subset_path}\")\n",
    "        dataset_list.append((config,load_from_disk(subset_path)))\n",
    "\n",
    "    for label, sub_dataset in dataset_list: #Loop over labels\n",
    "        qid_struct = {}\n",
    "        for ii, entry in enumerate(sub_dataset):# Loop over data entries with the same label\n",
    "            context = entry['text']\n",
    "            prob_seq , _ = get_probabilities_on_text_w_NSP(nsp_model, context, tokenizer, device)\n",
    "            qid_struct[ii] = prob_seq\n",
    "        file_name = f'{label}_qid_struct.pkl'\n",
    "        processed_folder = os.path.expanduser(f\"~/NLU_data/processed/{mode}/{split}/\")\n",
    "        \n",
    "        # Make folder\n",
    "        try:\n",
    "            os.mkdir(processed_folder)\n",
    "        except FileExistsError as error:\n",
    "            pass\n",
    "        \n",
    "        # Save segment breakpoints\n",
    "        with open(processed_folder + file_name, 'wb') as handle:\n",
    "            print(f\"Saving {handle}\")\n",
    "            pickle.dump(qid_struct, handle, protocol=pickle.HIGHEST_PROTOCOL)"
   ]
  },
  {
   "cell_type": "code",
   "execution_count": 34,
   "metadata": {},
   "outputs": [
    {
     "data": {
      "text/plain": [
       "dict"
      ]
     },
     "execution_count": 34,
     "metadata": {},
     "output_type": "execute_result"
    }
   ],
   "source": [
    "type(qid_struct)"
   ]
  },
  {
   "cell_type": "code",
   "execution_count": 36,
   "metadata": {},
   "outputs": [
    {
     "data": {
      "text/plain": [
       "dict_keys([0, 1, 2, 3, 4, 5, 6, 7, 8, 9, 10, 11, 12, 13, 14, 15, 16, 17, 18, 19, 20, 21, 22, 23, 24, 25, 26, 27, 28, 29, 30, 31, 32, 33, 34, 35, 36, 37, 38, 39, 40, 41, 42, 43, 44, 45, 46, 47, 48, 49, 50, 51, 52, 53, 54, 55, 56, 57, 58, 59, 60, 61, 62, 63, 64, 65, 66, 67, 68, 69, 70, 71, 72, 73, 74, 75, 76, 77, 78, 79, 80, 81, 82, 83, 84, 85, 86, 87, 88, 89, 90, 91, 92, 93, 94, 95, 96, 97, 98, 99, 100, 101, 102, 103, 104, 105, 106, 107, 108, 109, 110, 111, 112, 113, 114, 115, 116, 117, 118, 119, 120, 121, 122, 123, 124, 125, 126, 127, 128, 129, 130, 131, 132, 133, 134, 135, 136, 137, 138, 139, 140, 141, 142, 143, 144, 145, 146, 147, 148, 149, 150, 151, 152, 153, 154, 155, 156, 157, 158, 159, 160, 161, 162, 163, 164, 165, 166, 167, 168, 169, 170, 171, 172, 173, 174, 175, 176, 177, 178, 179, 180, 181, 182, 183, 184, 185, 186, 187, 188, 189, 190, 191, 192, 193, 194, 195, 196, 197, 198, 199, 200, 201, 202, 203, 204, 205, 206, 207, 208, 209, 210, 211, 212, 213, 214, 215, 216, 217, 218, 219, 220, 221, 222, 223, 224, 225, 226, 227, 228, 229, 230, 231, 232, 233, 234, 235, 236, 237, 238, 239, 240, 241, 242, 243, 244, 245, 246, 247, 248, 249, 250])"
      ]
     },
     "execution_count": 36,
     "metadata": {},
     "output_type": "execute_result"
    }
   ],
   "source": [
    "qid_struct.keys()"
   ]
  },
  {
   "cell_type": "code",
   "execution_count": 38,
   "metadata": {},
   "outputs": [
    {
     "data": {
      "text/plain": [
       "[tensor(1.0000),\n",
       " tensor(0.9102),\n",
       " tensor(0.8659),\n",
       " tensor(0.8923),\n",
       " tensor(0.5648),\n",
       " tensor(1.0000),\n",
       " tensor(1.0000),\n",
       " tensor(1.0000),\n",
       " tensor(1.0000),\n",
       " tensor(0.6457),\n",
       " tensor(0.9032),\n",
       " tensor(0.9475),\n",
       " tensor(0.9843),\n",
       " tensor(1.0000),\n",
       " tensor(1.0000),\n",
       " tensor(0.8006),\n",
       " tensor(0.9445),\n",
       " tensor(0.8945),\n",
       " tensor(0.0432),\n",
       " tensor(0.9989),\n",
       " tensor(0.5431),\n",
       " tensor(0.9335),\n",
       " tensor(0.9983),\n",
       " tensor(0.0308),\n",
       " tensor(1.0000),\n",
       " tensor(0.7119),\n",
       " tensor(0.9659),\n",
       " tensor(0.8694),\n",
       " tensor(0.0757),\n",
       " tensor(0.7168),\n",
       " tensor(0.9637),\n",
       " tensor(1.0000),\n",
       " tensor(1.0000),\n",
       " tensor(0.1371),\n",
       " tensor(0.2259),\n",
       " tensor(0.9864),\n",
       " tensor(1.0000),\n",
       " tensor(0.9693),\n",
       " tensor(0.9950),\n",
       " tensor(0.9994),\n",
       " tensor(1.0000),\n",
       " tensor(0.4812),\n",
       " tensor(0.9168),\n",
       " tensor(0.9427),\n",
       " tensor(0.9712),\n",
       " tensor(0.9930),\n",
       " tensor(0.8222),\n",
       " tensor(0.8959),\n",
       " tensor(0.8693),\n",
       " tensor(0.2803)]"
      ]
     },
     "execution_count": 38,
     "metadata": {},
     "output_type": "execute_result"
    }
   ],
   "source": [
    "qid_struct[27]"
   ]
  }
 ],
 "metadata": {
  "kernelspec": {
   "display_name": "Python 3",
   "language": "python",
   "name": "python3"
  },
  "language_info": {
   "codemirror_mode": {
    "name": "ipython",
    "version": 3
   },
   "file_extension": ".py",
   "mimetype": "text/x-python",
   "name": "python",
   "nbconvert_exporter": "python",
   "pygments_lexer": "ipython3",
   "version": "3.8.6"
  }
 },
 "nbformat": 4,
 "nbformat_minor": 4
}
