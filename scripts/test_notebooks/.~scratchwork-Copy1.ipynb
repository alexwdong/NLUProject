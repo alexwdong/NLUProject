{
 "cells": [
  {
   "cell_type": "code",
   "execution_count": 1,
   "metadata": {},
   "outputs": [],
   "source": [
    "exec(open(\"../../header.py\").read())"
   ]
  },
  {
   "cell_type": "code",
   "execution_count": 45,
   "metadata": {},
   "outputs": [],
   "source": [
    "from nltk.tokenize import sent_tokenize"
   ]
  },
  {
   "cell_type": "code",
   "execution_count": 2,
   "metadata": {},
   "outputs": [
    {
     "data": {
      "text/plain": [
       "{'DATA_DIR': '/home/ay1626/NLU_data/',\n",
       " 'RAW_DIR': '/home/ay1626/NLU_data/raw/',\n",
       " 'SEGMENT_DIR': '/home/ay1626/NLU_data/segmentations/',\n",
       " 'EMBEDDINGS_DIR': '/home/ay1626/NLU_data/embeddings/',\n",
       " 'RESULTS_DIR': '/home/ay1626/NLU_data/results/'}"
      ]
     },
     "execution_count": 2,
     "metadata": {},
     "output_type": "execute_result"
    }
   ],
   "source": [
    "all_roots"
   ]
  },
  {
   "cell_type": "code",
   "execution_count": 8,
   "metadata": {},
   "outputs": [
    {
     "data": {
      "text/plain": [
       "['bydate_sci.crypt_qid_struct.pkl',\n",
       " 'bydate_comp.windows.x_qid_struct.pkl',\n",
       " 'bydate_talk.politics.misc_qid_struct.pkl',\n",
       " 'bydate_sci.med_qid_struct.pkl',\n",
       " 'label_to_cutoff_indices_0.6.pkl',\n",
       " 'bydate_talk.religion.misc_qid_struct.pkl',\n",
       " 'bydate_rec.autos_qid_struct.pkl',\n",
       " 'bydate_comp.graphics_qid_struct.pkl',\n",
       " 'bydate_comp.os.ms-windows.misc_qid_struct.pkl',\n",
       " 'bydate_rec.sport.hockey_qid_struct.pkl',\n",
       " 'bydate_soc.religion.christian_qid_struct.pkl',\n",
       " 'label_to_cutoff_indices_0.55.pkl',\n",
       " 'bydate_comp.sys.mac.hardware_qid_struct.pkl',\n",
       " 'label_to_cutoff_indices_1.0.pkl',\n",
       " 'bydate_rec.motorcycles_qid_struct.pkl',\n",
       " 'label_to_cutoff_indices_0.9.pkl',\n",
       " 'bydate_talk.politics.mideast_qid_struct.pkl',\n",
       " 'bydate_misc.forsale_qid_struct.pkl',\n",
       " 'label_to_cutoff_indices_0.95.pkl',\n",
       " 'bydate_sci.electronics_qid_struct.pkl',\n",
       " 'bydate_sci.space_qid_struct.pkl',\n",
       " 'label_to_cutoff_indices_0.8.pkl',\n",
       " 'bydate_talk.politics.guns_qid_struct.pkl',\n",
       " 'label_to_cutoff_indices_0.75.pkl',\n",
       " 'label_to_cutoff_indices_0.85.pkl',\n",
       " 'label_to_cutoff_indices_0.7.pkl',\n",
       " 'label_to_cutoff_indices_0.5.pkl',\n",
       " 'bydate_alt.atheism_qid_struct.pkl',\n",
       " 'bydate_rec.sport.baseball_qid_struct.pkl',\n",
       " 'bydate_comp.sys.ibm.pc.hardware_qid_struct.pkl',\n",
       " 'label_to_cutoff_indices_0.65.pkl']"
      ]
     },
     "execution_count": 8,
     "metadata": {},
     "output_type": "execute_result"
    }
   ],
   "source": [
    "os.listdir(SEGMENT_DIR('20news/bert-base-uncased/train'))"
   ]
  },
  {
   "cell_type": "markdown",
   "metadata": {},
   "source": [
    "# Function to explore sentence breaks"
   ]
  },
  {
   "cell_type": "code",
   "execution_count": 88,
   "metadata": {},
   "outputs": [],
   "source": [
    "def get_breakpoints(model, threshold, label, split = 'train', \n",
    "                      document = 0, forward_print = 2,\n",
    "                      print_breakpoints = True):\n",
    "    \n",
    "    data = load_from_disk(RAW_DIR(f'20news/{split}/{label}'))\n",
    "    list_of_sentences = sent_tokenize(data[document]['text'])\n",
    "    \n",
    "    location = f'20news/{model}/{split}/label_to_cutoff_indices_{threshold}.pkl'\n",
    "    with open(SEGMENT_DIR(location), \"rb\") as handle:\n",
    "        label_to_cutoff = pickle.load(handle)   \n",
    "        \n",
    "    breakpoints = label_to_cutoff[label][document]\n",
    "    \n",
    "\n",
    "    if print_breakpoints:\n",
    "        for i in breakpoints:\n",
    "            try:\n",
    "                for j in range(forward_print+1):\n",
    "                    print(f'[{i+j}]: {list_of_sentences[i+j]}')\n",
    "            except IndexError as e:\n",
    "                pass\n",
    "            print('-------------------------------')\n",
    "            \n",
    "    return breakpoints"
   ]
  },
  {
   "cell_type": "code",
   "execution_count": 94,
   "metadata": {},
   "outputs": [],
   "source": [
    "model = 'bert-base-uncased'\n",
    "thresholds = [0.50, 0.55, 0.60, 0.65, 0.70, 0.75, 0.80, 0.85, 0.90, 0.95, 1.0]\n",
    "all_labels = os.listdir(RAW_DIR('20news/train'))\n",
    "bp = {}"
   ]
  },
  {
   "cell_type": "code",
   "execution_count": 89,
   "metadata": {},
   "outputs": [
    {
     "data": {
      "text/plain": [
       "[10, 29, 30, 44, 54, 72, 83, 88, 102, 107]"
      ]
     },
     "execution_count": 89,
     "metadata": {},
     "output_type": "execute_result"
    }
   ],
   "source": [
    "bp = []\n",
    "\n",
    "for t in thresholds:\n",
    "    for l in all_labels:\n",
    "        num_bp = len(get_breakpoints(model = 'bert-base-uncased', \n",
    "                          threshold = t,\n",
    "                          label = l,\n",
    "                          split = 'train',\n",
    "                          forward_print = 2,\n",
    "                          document = 0,\n",
    "                          print_breakpoints = False))"
   ]
  },
  {
   "cell_type": "code",
   "execution_count": 91,
   "metadata": {},
   "outputs": [
    {
     "data": {
      "text/plain": [
       "[0,\n",
       " 1,\n",
       " 2,\n",
       " 3,\n",
       " 4,\n",
       " 5,\n",
       " 6,\n",
       " 7,\n",
       " 8,\n",
       " 9,\n",
       " 10,\n",
       " 11,\n",
       " 12,\n",
       " 13,\n",
       " 14,\n",
       " 15,\n",
       " 16,\n",
       " 17,\n",
       " 18,\n",
       " 19,\n",
       " 20,\n",
       " 21,\n",
       " 22,\n",
       " 23,\n",
       " 24,\n",
       " 25,\n",
       " 26,\n",
       " 27,\n",
       " 28,\n",
       " 29,\n",
       " 30,\n",
       " 31,\n",
       " 32,\n",
       " 33,\n",
       " 34,\n",
       " 35,\n",
       " 36,\n",
       " 37,\n",
       " 38,\n",
       " 39,\n",
       " 40,\n",
       " 41,\n",
       " 42,\n",
       " 43,\n",
       " 44,\n",
       " 45,\n",
       " 46,\n",
       " 47,\n",
       " 48,\n",
       " 49,\n",
       " 50,\n",
       " 51,\n",
       " 52,\n",
       " 53,\n",
       " 54,\n",
       " 55,\n",
       " 56,\n",
       " 57,\n",
       " 58,\n",
       " 59,\n",
       " 60,\n",
       " 61,\n",
       " 62,\n",
       " 63,\n",
       " 64,\n",
       " 65,\n",
       " 66,\n",
       " 67,\n",
       " 68,\n",
       " 69,\n",
       " 70,\n",
       " 71,\n",
       " 72,\n",
       " 73,\n",
       " 74,\n",
       " 75,\n",
       " 76,\n",
       " 77,\n",
       " 78,\n",
       " 79,\n",
       " 80,\n",
       " 81,\n",
       " 82,\n",
       " 83,\n",
       " 84,\n",
       " 85,\n",
       " 86,\n",
       " 87,\n",
       " 88,\n",
       " 89,\n",
       " 90,\n",
       " 91,\n",
       " 92,\n",
       " 93,\n",
       " 94,\n",
       " 95,\n",
       " 96,\n",
       " 97,\n",
       " 98,\n",
       " 99,\n",
       " 100,\n",
       " 101,\n",
       " 102,\n",
       " 103,\n",
       " 104,\n",
       " 105,\n",
       " 106,\n",
       " 107]"
      ]
     },
     "execution_count": 91,
     "metadata": {},
     "output_type": "execute_result"
    }
   ],
   "source": [
    "get_breakpoints(model = 'bert-base-uncased', \n",
    "                  threshold = 1.0,\n",
    "                  label = 'bydate_alt.atheism',\n",
    "                  split = 'train',\n",
    "                  forward_print = 2,\n",
    "                  document = 0,\n",
    "                  print_breakpoints = False)"
   ]
  }
 ],
 "metadata": {
  "kernelspec": {
   "display_name": "Python 3",
   "language": "python",
   "name": "python3"
  },
  "language_info": {
   "codemirror_mode": {
    "name": "ipython",
    "version": 3
   },
   "file_extension": ".py",
   "mimetype": "text/x-python",
   "name": "python",
   "nbconvert_exporter": "python",
   "pygments_lexer": "ipython3",
   "version": "3.8.6"
  }
 },
 "nbformat": 4,
 "nbformat_minor": 4
}
