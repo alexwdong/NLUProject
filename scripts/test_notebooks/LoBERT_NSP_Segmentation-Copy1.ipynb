{
 "cells": [
  {
   "cell_type": "code",
   "execution_count": 1,
   "metadata": {},
   "outputs": [],
   "source": [
    "exec(open(\"../../header.py\").read())"
   ]
  },
  {
   "cell_type": "code",
   "execution_count": 2,
   "metadata": {},
   "outputs": [],
   "source": [
    "from torch.utils.data import Dataset\n",
    "from torch.utils.data import DataLoader\n",
    "\n",
    "from tqdm.notebook import tqdm\n",
    "\n",
    "from transformers import BertTokenizer,BertModel\n",
    "from datasets import load_from_disk,load_dataset\n",
    "\n",
    "import matplotlib.pyplot as plt"
   ]
  },
  {
   "cell_type": "code",
   "execution_count": 3,
   "metadata": {},
   "outputs": [],
   "source": [
    "class EncodedSegmentsDataset(Dataset):\n",
    "    def __init__(self,data_list):\n",
    "        self.data_list = data_list\n",
    "        \n",
    "    def __len__(self):\n",
    "        return len(self.data_list)\n",
    " \n",
    "    def __getitem__(self,idx):\n",
    "        return(self.data_list[idx])\n",
    "    \n",
    "class LSTMoverBERT(nn.Module):\n",
    "    def __init__(self):\n",
    "        super().__init__()\n",
    "        self.LSTM = nn.LSTM(input_size=768,hidden_size = 128,num_layers=1,batch_first=True)\n",
    "        self.activation = nn.ReLU()\n",
    "        self.linear1 = nn.Linear(in_features=128,out_features=64)\n",
    "        self.linear2 = nn.Linear(in_features=64,out_features=20)\n",
    "        self.softmax = nn.Softmax(dim=1)\n",
    "        \n",
    "\n",
    "    def forward(self, x,verbose=False):\n",
    "        \n",
    "        #print('input x:', x.shape)\n",
    "        LSTM_out,LSTM_states = self.LSTM(x)\n",
    "        #print('LSTM out:', LSTM_out.shape)\n",
    "        #print('LSTM states[0]:', LSTM_states[0].shape)\n",
    "        #print('LSTM states[1]:', LSTM_states[1].shape)\n",
    "        last_hidden_state = LSTM_states[0][0,:,:]\n",
    "        #last_embedding = LSTM_out[:,-1,:]\n",
    "        out = self.linear1(last_hidden_state)\n",
    "        #print('linear out', out.shape) if verbose\n",
    "        out = self.activation(out)\n",
    "        #print('activation out', out.shape) if verbose\n",
    "        out = self.linear2(out)\n",
    "        out = self.softmax(out)\n",
    "        return out\n",
    "\n"
   ]
  },
  {
   "cell_type": "code",
   "execution_count": 4,
   "metadata": {},
   "outputs": [
    {
     "name": "stdout",
     "output_type": "stream",
     "text": [
      "Using device: cuda\n",
      "Quadro RTX 8000\n",
      "Memory Usage:\n",
      "Allocated: 0.0 GB\n",
      "Cached:    0.0 GB\n"
     ]
    }
   ],
   "source": [
    "device = torch.device('cuda' if torch.cuda.is_available() else 'cpu')\n",
    "print_cuda_info(device)"
   ]
  },
  {
   "cell_type": "markdown",
   "metadata": {},
   "source": [
    "# Start of Model"
   ]
  },
  {
   "cell_type": "code",
   "execution_count": 10,
   "metadata": {},
   "outputs": [
    {
     "data": {
      "text/plain": [
       "['bert_encoded_segments_list_0.65.pkl',\n",
       " 'bert_encoded_segments_list_1.0.pkl',\n",
       " 'bert_encoded_segments_list_0.9.pkl',\n",
       " 'bert_encoded_segments_list_0.999999.pkl',\n",
       " 'bert_encoded_segments_list_0.99999.pkl',\n",
       " 'bert_encoded_segments_list_0.97.pkl',\n",
       " 'bert_encoded_segments_list_0.6.pkl',\n",
       " 'bert_encoded_segments_list_0.98.pkl',\n",
       " 'bert_encoded_segments_list_0.7.pkl',\n",
       " 'bert_encoded_segments_list_0.96.pkl',\n",
       " 'bert_encoded_segments_list_0.5.pkl',\n",
       " 'bert_encoded_segments_list_0.8.pkl',\n",
       " 'bert_encoded_segments_list_0.85.pkl',\n",
       " 'bert_encoded_segments_list_0.99.pkl',\n",
       " 'bert_encoded_segments_list_0.75.pkl',\n",
       " 'bert_encoded_segments_list_0.9999.pkl',\n",
       " 'bert_encoded_segments_list_0.55.pkl',\n",
       " 'bert_encoded_segments_list_0.95.pkl',\n",
       " 'bert_encoded_segments_list_0.999.pkl']"
      ]
     },
     "execution_count": 10,
     "metadata": {},
     "output_type": "execute_result"
    }
   ],
   "source": [
    "os.listdir(EMBEDDINGS_DIR('20news/bert-base-uncased/train'))"
   ]
  },
  {
   "cell_type": "code",
   "execution_count": 13,
   "metadata": {},
   "outputs": [],
   "source": [
    "threshold = 1.0\n",
    "processed_dir = EMBEDDINGS_DIR('20news/bert-base-uncased')\n",
    "split='train'\n",
    "file_name = 'bert_encoded_segments_list'\n",
    "\n",
    "# Our experiment below\n",
    "with open(f'{processed_dir}/{split}/{file_name}_{threshold}.pkl', 'rb') as handle:\n",
    "    bert_encoded_segments_list = pickle.load(handle)\n"
   ]
  },
  {
   "cell_type": "code",
   "execution_count": 14,
   "metadata": {},
   "outputs": [],
   "source": [
    "encoded_dataset = EncodedSegmentsDataset(bert_encoded_segments_list)\n",
    "val_prop =.1\n",
    "bsize = 1\n",
    "\n",
    "dataset_size = len(encoded_dataset)\n",
    "val_size = int(val_prop * dataset_size)\n",
    "train_size = dataset_size - val_size\n",
    "\n",
    "train_dataset, val_dataset =  torch.utils.data.random_split(encoded_dataset,[train_size,val_size])\n",
    "encoded_train_loader = DataLoader(train_dataset,batch_size=bsize,shuffle=True, pin_memory=True)\n",
    "encoded_val_loader = DataLoader(val_dataset,batch_size=bsize,shuffle=True, pin_memory=True)"
   ]
  },
  {
   "cell_type": "code",
   "execution_count": 15,
   "metadata": {},
   "outputs": [],
   "source": [
    "LoBERT_model = LSTMoverBERT()\n",
    "LoBERT_model.to(device)\n",
    "LoBERT_model.train()\n",
    "criterion = nn.CrossEntropyLoss(reduction='sum')\n",
    "optimizer = optim.Adam(LoBERT_model.parameters(),lr=5e-4,)\n",
    "\n",
    "num_epochs=100\n",
    "# model_save_path = r'\\\\wsl$\\Ubuntu-20.04\\home\\jolteon\\NLUProject\\models\\best_threshold_'+str(threshold)+'_LoBERT.ckpt'\n",
    "best_val_accuracy = 0\n",
    "\n"
   ]
  },
  {
   "cell_type": "code",
   "execution_count": 16,
   "metadata": {},
   "outputs": [
    {
     "data": {
      "image/png": "[encoded data removed]",
      "text/plain": [
       "<Figure size 432x288 with 1 Axes>"
      ]
     },
     "metadata": {
      "needs_background": "light"
     },
     "output_type": "display_data"
    }
   ],
   "source": [
    "seg_length_list = []\n",
    "for label, encoded_segments in bert_encoded_segments_list:\n",
    "    seg_length_list.append(encoded_segments.shape[0])\n",
    "plt.hist(seg_length_list,bins = np.arange(0,100,5))\n",
    "plt.show()"
   ]
  },
  {
   "cell_type": "code",
   "execution_count": 17,
   "metadata": {},
   "outputs": [
    {
     "data": {
      "application/vnd.jupyter.widget-view+json": {
       "model_id": "a2b6645ab6eb4f87801758d53b2a98db",
       "version_major": 2,
       "version_minor": 0
      },
      "text/plain": [
       "HBox(children=(FloatProgress(value=0.0), HTML(value='')))"
      ]
     },
     "metadata": {},
     "output_type": "display_data"
    },
    {
     "name": "stdout",
     "output_type": "stream",
     "text": [
      "Epoch: 0 train_loss: 2.970330388937228 accuracy:  tensor(0.0838, device='cuda:0')\n",
      "Epoch: 0 val_loss: 2.9074357572010827 accuracy:  tensor(0.1680, device='cuda:0')\n",
      "Epoch: 1 train_loss: 2.8565755829084813 accuracy:  tensor(0.2271, device='cuda:0')\n",
      "Epoch: 1 val_loss: 2.818292001619685 accuracy:  tensor(0.2653, device='cuda:0')\n",
      "Epoch: 2 train_loss: 2.769819406211394 accuracy:  tensor(0.3145, device='cuda:0')\n",
      "Epoch: 2 val_loss: 2.734253066709672 accuracy:  tensor(0.3590, device='cuda:0')\n",
      "Epoch: 3 train_loss: 2.7142088713398222 accuracy:  tensor(0.3736, device='cuda:0')\n",
      "Epoch: 3 val_loss: 2.6964994062900964 accuracy:  tensor(0.3935, device='cuda:0')\n",
      "Epoch: 4 train_loss: 2.673020362807177 accuracy:  tensor(0.4125, device='cuda:0')\n",
      "Epoch: 4 val_loss: 2.651211115240945 accuracy:  tensor(0.4315, device='cuda:0')\n",
      "Epoch: 5 train_loss: 2.6397957459749177 accuracy:  tensor(0.4478, device='cuda:0')\n",
      "Epoch: 5 val_loss: 2.640939668044909 accuracy:  tensor(0.4403, device='cuda:0')\n",
      "Epoch: 6 train_loss: 2.615817831059658 accuracy:  tensor(0.4657, device='cuda:0')\n",
      "Epoch: 6 val_loss: 2.6339268623254237 accuracy:  tensor(0.4509, device='cuda:0')\n",
      "Epoch: 7 train_loss: 2.5911044496620357 accuracy:  tensor(0.4929, device='cuda:0')\n",
      "Epoch: 7 val_loss: 2.5748069944052863 accuracy:  tensor(0.5146, device='cuda:0')\n",
      "Epoch: 8 train_loss: 2.5777872932995627 accuracy:  tensor(0.5055, device='cuda:0')\n",
      "Epoch: 8 val_loss: 2.578179114271749 accuracy:  tensor(0.5075, device='cuda:0')\n",
      "Epoch: 9 train_loss: 2.566041103599231 accuracy:  tensor(0.5178, device='cuda:0')\n",
      "Epoch: 9 val_loss: 2.5780089375827293 accuracy:  tensor(0.5022, device='cuda:0')\n",
      "Epoch: 10 train_loss: 2.5514634199675346 accuracy:  tensor(0.5316, device='cuda:0')\n",
      "Epoch: 10 val_loss: 2.5679999409683187 accuracy:  tensor(0.5128, device='cuda:0')\n",
      "Epoch: 11 train_loss: 2.5461299871281557 accuracy:  tensor(0.5352, device='cuda:0')\n",
      "Epoch: 11 val_loss: 2.5305700236774986 accuracy:  tensor(0.5438, device='cuda:0')\n",
      "Epoch: 12 train_loss: 2.536982583212944 accuracy:  tensor(0.5437, device='cuda:0')\n",
      "Epoch: 12 val_loss: 2.5521359458420783 accuracy:  tensor(0.5287, device='cuda:0')\n",
      "Epoch: 13 train_loss: 2.5317034733315342 accuracy:  tensor(0.5492, device='cuda:0')\n",
      "Epoch: 13 val_loss: 2.530304244089506 accuracy:  tensor(0.5508, device='cuda:0')\n",
      "Epoch: 14 train_loss: 2.524685968763173 accuracy:  tensor(0.5556, device='cuda:0')\n",
      "Epoch: 14 val_loss: 2.530829476214003 accuracy:  tensor(0.5517, device='cuda:0')\n",
      "Epoch: 15 train_loss: 2.510418254383465 accuracy:  tensor(0.5694, device='cuda:0')\n",
      "Epoch: 15 val_loss: 2.541354660435549 accuracy:  tensor(0.5393, device='cuda:0')\n",
      "Epoch: 16 train_loss: 2.5102087113778366 accuracy:  tensor(0.5723, device='cuda:0')\n",
      "Epoch: 16 val_loss: 2.5401843538545696 accuracy:  tensor(0.5323, device='cuda:0')\n",
      "Epoch: 17 train_loss: 2.508543717911514 accuracy:  tensor(0.5716, device='cuda:0')\n",
      "Epoch: 17 val_loss: 2.5399257065868293 accuracy:  tensor(0.5429, device='cuda:0')\n",
      "Epoch: 18 train_loss: 2.504342495967817 accuracy:  tensor(0.5758, device='cuda:0')\n",
      "Epoch: 18 val_loss: 2.511419392180169 accuracy:  tensor(0.5632, device='cuda:0')\n",
      "Epoch: 19 train_loss: 2.5101138422534355 accuracy:  tensor(0.5684, device='cuda:0')\n",
      "Epoch: 19 val_loss: 2.498326935249551 accuracy:  tensor(0.5827, device='cuda:0')\n",
      "Epoch: 20 train_loss: 2.5043950189743858 accuracy:  tensor(0.5737, device='cuda:0')\n",
      "Epoch: 20 val_loss: 2.554412012285727 accuracy:  tensor(0.5208, device='cuda:0')\n",
      "Epoch: 21 train_loss: 2.4941979300983994 accuracy:  tensor(0.5840, device='cuda:0')\n",
      "Epoch: 21 val_loss: 2.505418001498721 accuracy:  tensor(0.5791, device='cuda:0')\n",
      "Epoch: 22 train_loss: 2.4930667737887577 accuracy:  tensor(0.5858, device='cuda:0')\n",
      "Epoch: 22 val_loss: 2.5344217424367406 accuracy:  tensor(0.5358, device='cuda:0')\n",
      "Epoch: 23 train_loss: 2.4876857841809747 accuracy:  tensor(0.5899, device='cuda:0')\n",
      "Epoch: 23 val_loss: 2.534287118152851 accuracy:  tensor(0.5438, device='cuda:0')\n",
      "Epoch: 24 train_loss: 2.501925009893526 accuracy:  tensor(0.5768, device='cuda:0')\n",
      "Epoch: 24 val_loss: 2.515665655110812 accuracy:  tensor(0.5632, device='cuda:0')\n",
      "Epoch: 25 train_loss: 2.495555359266203 accuracy:  tensor(0.5827, device='cuda:0')\n",
      "Epoch: 25 val_loss: 2.5038989975218433 accuracy:  tensor(0.5765, device='cuda:0')\n",
      "Epoch: 26 train_loss: 2.4834157617483372 accuracy:  tensor(0.5958, device='cuda:0')\n",
      "Epoch: 26 val_loss: 2.485119230867381 accuracy:  tensor(0.5906, device='cuda:0')\n",
      "Epoch: 27 train_loss: 2.4860974548257055 accuracy:  tensor(0.5922, device='cuda:0')\n",
      "Epoch: 27 val_loss: 2.5265946430405295 accuracy:  tensor(0.5508, device='cuda:0')\n",
      "Epoch: 28 train_loss: 2.480162183299323 accuracy:  tensor(0.5983, device='cuda:0')\n",
      "Epoch: 28 val_loss: 2.5553485320586216 accuracy:  tensor(0.5261, device='cuda:0')\n",
      "Epoch: 29 train_loss: 2.4784708134753175 accuracy:  tensor(0.6015, device='cuda:0')\n",
      "Epoch: 29 val_loss: 2.5143427581095676 accuracy:  tensor(0.5632, device='cuda:0')\n",
      "Epoch: 30 train_loss: 2.4757517592255827 accuracy:  tensor(0.6030, device='cuda:0')\n",
      "Epoch: 30 val_loss: 2.510179625265794 accuracy:  tensor(0.5676, device='cuda:0')\n",
      "Epoch: 31 train_loss: 2.47129802070291 accuracy:  tensor(0.6064, device='cuda:0')\n",
      "Epoch: 31 val_loss: 2.5028246796099514 accuracy:  tensor(0.5774, device='cuda:0')\n",
      "Epoch: 32 train_loss: 2.4703746025775115 accuracy:  tensor(0.6090, device='cuda:0')\n",
      "Epoch: 32 val_loss: 2.4972046973112936 accuracy:  tensor(0.5782, device='cuda:0')\n",
      "Epoch: 33 train_loss: 2.4681337844127875 accuracy:  tensor(0.6091, device='cuda:0')\n",
      "Epoch: 33 val_loss: 2.5078882852768496 accuracy:  tensor(0.5703, device='cuda:0')\n",
      "Epoch: 34 train_loss: 2.471686616482885 accuracy:  tensor(0.6078, device='cuda:0')\n",
      "Epoch: 34 val_loss: 2.501388044509078 accuracy:  tensor(0.5721, device='cuda:0')\n",
      "Epoch: 35 train_loss: 2.4610722176419673 accuracy:  tensor(0.6161, device='cuda:0')\n",
      "Epoch: 35 val_loss: 2.5151775070885236 accuracy:  tensor(0.5561, device='cuda:0')\n",
      "Epoch: 36 train_loss: 2.4657119914214736 accuracy:  tensor(0.6113, device='cuda:0')\n",
      "Epoch: 36 val_loss: 2.5020540905251742 accuracy:  tensor(0.5738, device='cuda:0')\n",
      "Epoch: 37 train_loss: 2.470903529500863 accuracy:  tensor(0.6065, device='cuda:0')\n",
      "Epoch: 37 val_loss: 2.4929139770099695 accuracy:  tensor(0.5844, device='cuda:0')\n",
      "Epoch: 38 train_loss: 2.4632081310465517 accuracy:  tensor(0.6163, device='cuda:0')\n",
      "Epoch: 38 val_loss: 2.489204426342992 accuracy:  tensor(0.5880, device='cuda:0')\n",
      "Epoch: 39 train_loss: 2.464177556629325 accuracy:  tensor(0.6144, device='cuda:0')\n",
      "Epoch: 39 val_loss: 2.4917662154247444 accuracy:  tensor(0.5836, device='cuda:0')\n",
      "Epoch: 40 train_loss: 2.4611176748611974 accuracy:  tensor(0.6166, device='cuda:0')\n",
      "Epoch: 40 val_loss: 2.5145733377556163 accuracy:  tensor(0.5632, device='cuda:0')\n",
      "Epoch: 41 train_loss: 2.4703719937168027 accuracy:  tensor(0.6071, device='cuda:0')\n",
      "Epoch: 41 val_loss: 2.496610968646278 accuracy:  tensor(0.5818, device='cuda:0')\n",
      "Epoch: 42 train_loss: 2.4603695554301535 accuracy:  tensor(0.6175, device='cuda:0')\n",
      "Epoch: 42 val_loss: 2.5119236240757976 accuracy:  tensor(0.5632, device='cuda:0')\n",
      "Epoch: 43 train_loss: 2.4526434723899864 accuracy:  tensor(0.6255, device='cuda:0')\n",
      "Epoch: 43 val_loss: 2.5225935743299868 accuracy:  tensor(0.5553, device='cuda:0')\n",
      "Epoch: 44 train_loss: 2.459440905301168 accuracy:  tensor(0.6206, device='cuda:0')\n",
      "Epoch: 44 val_loss: 2.486687761824496 accuracy:  tensor(0.5924, device='cuda:0')\n",
      "Epoch: 45 train_loss: 2.4594165551150864 accuracy:  tensor(0.6206, device='cuda:0')\n",
      "Epoch: 45 val_loss: 2.5189534393060957 accuracy:  tensor(0.5553, device='cuda:0')\n",
      "Epoch: 46 train_loss: 2.4650849983685847 accuracy:  tensor(0.6123, device='cuda:0')\n",
      "Epoch: 46 val_loss: 2.4845194007104525 accuracy:  tensor(0.5880, device='cuda:0')\n",
      "Epoch: 47 train_loss: 2.4557764937809052 accuracy:  tensor(0.6211, device='cuda:0')\n",
      "Epoch: 47 val_loss: 2.5062855793036367 accuracy:  tensor(0.5703, device='cuda:0')\n",
      "Epoch: 48 train_loss: 2.4527506251402107 accuracy:  tensor(0.6245, device='cuda:0')\n",
      "Epoch: 48 val_loss: 2.5197836113229037 accuracy:  tensor(0.5544, device='cuda:0')\n",
      "Epoch: 49 train_loss: 2.459633337307641 accuracy:  tensor(0.6171, device='cuda:0')\n",
      "Epoch: 49 val_loss: 2.4856172773713667 accuracy:  tensor(0.5942, device='cuda:0')\n",
      "Epoch: 50 train_loss: 2.466830488788605 accuracy:  tensor(0.6096, device='cuda:0')\n",
      "Epoch: 50 val_loss: 2.4927852649165927 accuracy:  tensor(0.5827, device='cuda:0')\n",
      "Epoch: 51 train_loss: 2.4508003389204367 accuracy:  tensor(0.6262, device='cuda:0')\n",
      "Epoch: 51 val_loss: 2.4981306060871966 accuracy:  tensor(0.5800, device='cuda:0')\n",
      "Epoch: 52 train_loss: 2.454466727771963 accuracy:  tensor(0.6239, device='cuda:0')\n",
      "Epoch: 52 val_loss: 2.483864791197233 accuracy:  tensor(0.5933, device='cuda:0')\n",
      "Epoch: 53 train_loss: 2.4634754547702413 accuracy:  tensor(0.6143, device='cuda:0')\n",
      "Epoch: 53 val_loss: 2.542410987336271 accuracy:  tensor(0.5296, device='cuda:0')\n",
      "Epoch: 54 train_loss: 2.4510132508323315 accuracy:  tensor(0.6282, device='cuda:0')\n",
      "Epoch: 54 val_loss: 2.4650644227322176 accuracy:  tensor(0.6145, device='cuda:0')\n",
      "Epoch: 55 train_loss: 2.4497256817968003 accuracy:  tensor(0.6263, device='cuda:0')\n",
      "Epoch: 55 val_loss: 2.5126815679113386 accuracy:  tensor(0.5650, device='cuda:0')\n",
      "Epoch: 56 train_loss: 2.462102870277158 accuracy:  tensor(0.6162, device='cuda:0')\n",
      "Epoch: 56 val_loss: 2.5020862544773954 accuracy:  tensor(0.5756, device='cuda:0')\n",
      "Epoch: 57 train_loss: 2.4493565402049207 accuracy:  tensor(0.6286, device='cuda:0')\n",
      "Epoch: 57 val_loss: 2.479196930015962 accuracy:  tensor(0.5986, device='cuda:0')\n",
      "Epoch: 58 train_loss: 2.441428750012954 accuracy:  tensor(0.6366, device='cuda:0')\n",
      "Epoch: 58 val_loss: 2.50537974069226 accuracy:  tensor(0.5721, device='cuda:0')\n",
      "Epoch: 59 train_loss: 2.4483280771902263 accuracy:  tensor(0.6313, device='cuda:0')\n",
      "Epoch: 59 val_loss: 2.4863008508420856 accuracy:  tensor(0.5915, device='cuda:0')\n",
      "Epoch: 60 train_loss: 2.4424936937159645 accuracy:  tensor(0.6343, device='cuda:0')\n",
      "Epoch: 60 val_loss: 2.5040607654763787 accuracy:  tensor(0.5703, device='cuda:0')\n",
      "Epoch: 61 train_loss: 2.438027122125379 accuracy:  tensor(0.6385, device='cuda:0')\n",
      "Epoch: 61 val_loss: 2.4807625866695173 accuracy:  tensor(0.5924, device='cuda:0')\n",
      "Epoch: 62 train_loss: 2.4409131871264376 accuracy:  tensor(0.6371, device='cuda:0')\n",
      "Epoch: 62 val_loss: 2.5148027240439497 accuracy:  tensor(0.5597, device='cuda:0')\n",
      "Epoch: 63 train_loss: 2.4451873614326107 accuracy:  tensor(0.6327, device='cuda:0')\n",
      "Epoch: 63 val_loss: 2.487210853241061 accuracy:  tensor(0.5880, device='cuda:0')\n",
      "Epoch: 64 train_loss: 2.4429896503678123 accuracy:  tensor(0.6348, device='cuda:0')\n",
      "Epoch: 64 val_loss: 2.5188675944937953 accuracy:  tensor(0.5579, device='cuda:0')\n",
      "Epoch: 65 train_loss: 2.4517412627479667 accuracy:  tensor(0.6259, device='cuda:0')\n",
      "Epoch: 65 val_loss: 2.4876290826434904 accuracy:  tensor(0.5915, device='cuda:0')\n",
      "Epoch: 66 train_loss: 2.444687571305956 accuracy:  tensor(0.6322, device='cuda:0')\n",
      "Epoch: 66 val_loss: 2.493065470198843 accuracy:  tensor(0.5809, device='cuda:0')\n",
      "Epoch: 67 train_loss: 2.4359751511659673 accuracy:  tensor(0.6420, device='cuda:0')\n",
      "Epoch: 67 val_loss: 2.4913588402863627 accuracy:  tensor(0.5853, device='cuda:0')\n",
      "Epoch: 68 train_loss: 2.436138610784588 accuracy:  tensor(0.6411, device='cuda:0')\n",
      "Epoch: 68 val_loss: 2.508961291991958 accuracy:  tensor(0.5668, device='cuda:0')\n",
      "Epoch: 69 train_loss: 2.43318515831626 accuracy:  tensor(0.6451, device='cuda:0')\n",
      "Epoch: 69 val_loss: 2.503210889882055 accuracy:  tensor(0.5738, device='cuda:0')\n",
      "Epoch: 70 train_loss: 2.430898101042053 accuracy:  tensor(0.6461, device='cuda:0')\n",
      "Epoch: 70 val_loss: 2.48701758915929 accuracy:  tensor(0.5880, device='cuda:0')\n",
      "Epoch: 71 train_loss: 2.4354054241579384 accuracy:  tensor(0.6415, device='cuda:0')\n",
      "Epoch: 71 val_loss: 2.498036973988662 accuracy:  tensor(0.5809, device='cuda:0')\n",
      "Epoch: 72 train_loss: 2.444776185425398 accuracy:  tensor(0.6334, device='cuda:0')\n",
      "Epoch: 72 val_loss: 2.487376984192353 accuracy:  tensor(0.5853, device='cuda:0')\n",
      "Epoch: 73 train_loss: 2.4405927461642687 accuracy:  tensor(0.6373, device='cuda:0')\n",
      "Epoch: 73 val_loss: 2.488182788607718 accuracy:  tensor(0.5906, device='cuda:0')\n",
      "Epoch: 74 train_loss: 2.440640443647164 accuracy:  tensor(0.6361, device='cuda:0')\n",
      "Epoch: 74 val_loss: 2.4833828445876414 accuracy:  tensor(0.5897, device='cuda:0')\n",
      "Epoch: 75 train_loss: 2.4301397541727567 accuracy:  tensor(0.6475, device='cuda:0')\n",
      "Epoch: 75 val_loss: 2.473977228690838 accuracy:  tensor(0.6048, device='cuda:0')\n",
      "Epoch: 76 train_loss: 2.4369461233204035 accuracy:  tensor(0.6407, device='cuda:0')\n",
      "Epoch: 76 val_loss: 2.4883826731792285 accuracy:  tensor(0.5915, device='cuda:0')\n",
      "Epoch: 77 train_loss: 2.4398173396648013 accuracy:  tensor(0.6375, device='cuda:0')\n",
      "Epoch: 77 val_loss: 2.498746770551835 accuracy:  tensor(0.5774, device='cuda:0')\n",
      "Epoch: 78 train_loss: 2.4340348013559727 accuracy:  tensor(0.6444, device='cuda:0')\n",
      "Epoch: 78 val_loss: 2.4827955920120766 accuracy:  tensor(0.5942, device='cuda:0')\n",
      "Epoch: 79 train_loss: 2.4359396421568666 accuracy:  tensor(0.6411, device='cuda:0')\n",
      "Epoch: 79 val_loss: 2.4768196233703854 accuracy:  tensor(0.6012, device='cuda:0')\n",
      "Epoch: 80 train_loss: 2.4330961037674856 accuracy:  tensor(0.6447, device='cuda:0')\n",
      "Epoch: 80 val_loss: 2.5170204873426525 accuracy:  tensor(0.5588, device='cuda:0')\n",
      "Epoch: 81 train_loss: 2.4430569470145316 accuracy:  tensor(0.6353, device='cuda:0')\n",
      "Epoch: 81 val_loss: 2.5251953488003354 accuracy:  tensor(0.5517, device='cuda:0')\n",
      "Epoch: 82 train_loss: 2.438611047178709 accuracy:  tensor(0.6396, device='cuda:0')\n",
      "Epoch: 82 val_loss: 2.5138223873209258 accuracy:  tensor(0.5650, device='cuda:0')\n",
      "Epoch: 83 train_loss: 2.438451238223123 accuracy:  tensor(0.6388, device='cuda:0')\n",
      "Epoch: 83 val_loss: 2.519997506306089 accuracy:  tensor(0.5553, device='cuda:0')\n",
      "Epoch: 84 train_loss: 2.431566584359613 accuracy:  tensor(0.6460, device='cuda:0')\n",
      "Epoch: 84 val_loss: 2.5378611880419637 accuracy:  tensor(0.5411, device='cuda:0')\n",
      "Epoch: 85 train_loss: 2.4228682709526925 accuracy:  tensor(0.6541, device='cuda:0')\n",
      "Epoch: 85 val_loss: 2.528386340111784 accuracy:  tensor(0.5473, device='cuda:0')\n",
      "Epoch: 86 train_loss: 2.4339888621720513 accuracy:  tensor(0.6432, device='cuda:0')\n",
      "Epoch: 86 val_loss: 2.480925065242116 accuracy:  tensor(0.5977, device='cuda:0')\n",
      "Epoch: 87 train_loss: 2.430792587650767 accuracy:  tensor(0.6462, device='cuda:0')\n",
      "Epoch: 87 val_loss: 2.497608229715565 accuracy:  tensor(0.5809, device='cuda:0')\n",
      "Epoch: 88 train_loss: 2.437332744438241 accuracy:  tensor(0.6402, device='cuda:0')\n",
      "Epoch: 88 val_loss: 2.4784267897314987 accuracy:  tensor(0.5977, device='cuda:0')\n",
      "Epoch: 89 train_loss: 2.434020940721076 accuracy:  tensor(0.6428, device='cuda:0')\n",
      "Epoch: 89 val_loss: 2.503089342783448 accuracy:  tensor(0.5747, device='cuda:0')\n",
      "Epoch: 90 train_loss: 2.431869882597479 accuracy:  tensor(0.6457, device='cuda:0')\n",
      "Epoch: 90 val_loss: 2.483106602197406 accuracy:  tensor(0.5959, device='cuda:0')\n",
      "Epoch: 91 train_loss: 2.4357023757274123 accuracy:  tensor(0.6416, device='cuda:0')\n",
      "Epoch: 91 val_loss: 2.477257740803254 accuracy:  tensor(0.6004, device='cuda:0')\n",
      "Epoch: 92 train_loss: 2.420623209672441 accuracy:  tensor(0.6578, device='cuda:0')\n",
      "Epoch: 92 val_loss: 2.509673963491101 accuracy:  tensor(0.5694, device='cuda:0')\n",
      "Epoch: 93 train_loss: 2.4311658881870266 accuracy:  tensor(0.6459, device='cuda:0')\n",
      "Epoch: 93 val_loss: 2.4947942780984596 accuracy:  tensor(0.5818, device='cuda:0')\n",
      "Epoch: 94 train_loss: 2.4221664918940555 accuracy:  tensor(0.6541, device='cuda:0')\n",
      "Epoch: 94 val_loss: 2.531567234997197 accuracy:  tensor(0.5464, device='cuda:0')\n",
      "Epoch: 95 train_loss: 2.4352719158879506 accuracy:  tensor(0.6421, device='cuda:0')\n",
      "Epoch: 95 val_loss: 2.5024662953789103 accuracy:  tensor(0.5729, device='cuda:0')\n",
      "Epoch: 96 train_loss: 2.4290313096033804 accuracy:  tensor(0.6482, device='cuda:0')\n",
      "Epoch: 96 val_loss: 2.4695464198722132 accuracy:  tensor(0.6065, device='cuda:0')\n",
      "Epoch: 97 train_loss: 2.429738240427907 accuracy:  tensor(0.6477, device='cuda:0')\n",
      "Epoch: 97 val_loss: 2.471830955972511 accuracy:  tensor(0.6074, device='cuda:0')\n",
      "Epoch: 98 train_loss: 2.4252317514843806 accuracy:  tensor(0.6517, device='cuda:0')\n",
      "Epoch: 98 val_loss: 2.4732449446812232 accuracy:  tensor(0.6021, device='cuda:0')\n",
      "Epoch: 99 train_loss: 2.4283206053359865 accuracy:  tensor(0.6484, device='cuda:0')\n",
      "Epoch: 99 val_loss: 2.48009703962493 accuracy:  tensor(0.5959, device='cuda:0')\n",
      "\n"
     ]
    }
   ],
   "source": [
    "train_loss_list = []\n",
    "val_loss_list = []\n",
    "train_accuracy_list = []\n",
    "val_accuracy_list = []\n",
    "\n",
    "for epoch in tqdm(range(num_epochs)):  # loop over the dataset multiple times\n",
    "    train_loss = 0\n",
    "    train_correct = 0\n",
    "    val_loss = 0\n",
    "    val_correct = 0\n",
    "    \n",
    "    #START TRAIN\n",
    "    LoBERT_model.train()\n",
    "    for idx, batch in enumerate(encoded_train_loader):\n",
    "        optimizer.zero_grad()\n",
    "\n",
    "        # Define and move to GPU\n",
    "        label = batch[0][0]\n",
    "        model_input = batch[1]\n",
    "        label = label.to(device)\n",
    "        model_input = model_input.to(device)\n",
    "        # Forward Pass\n",
    "        out = LoBERT_model(model_input)\n",
    "        loss = criterion(out,label)\n",
    "        #Record Metrics pt 1/2\n",
    "        train_loss += loss.item()\n",
    "        pred = torch.argmax(out)\n",
    "        train_correct +=(pred == label).sum()\n",
    "        \n",
    "        #Backward pass\n",
    "        loss.backward()\n",
    "        optimizer.step()\n",
    "    \n",
    "    #Record Metrics pt 2/2\n",
    "    train_loss = train_loss/ len(encoded_train_loader)\n",
    "    train_accuracy = train_correct/len(encoded_train_loader)\n",
    "    #Print and save\n",
    "    print('Epoch:', epoch, 'train_loss:',train_loss, 'accuracy: ',train_accuracy)\n",
    "    train_loss_list.append(train_loss)\n",
    "    train_accuracy_list.append(train_accuracy.cpu())\n",
    "    \n",
    "    # START VAL\n",
    "    LoBERT_model.eval()\n",
    "    \n",
    "    with torch.no_grad():\n",
    "        for idx, batch in enumerate(encoded_val_loader):\n",
    "            #Define and move to GPU\n",
    "            label = batch[0][0]\n",
    "            model_input = batch[1]\n",
    "            label = label.to(device)\n",
    "            model_input = model_input.to(device)\n",
    "            #Forward Pass\n",
    "            out = LoBERT_model(model_input)\n",
    "            loss = criterion(out,label)\n",
    "            #Record metrics pt 1/2\n",
    "            val_loss += loss.item()\n",
    "\n",
    "            pred = torch.argmax(out)\n",
    "            val_correct +=(pred == label).sum()\n",
    "            \n",
    "    #Record metrics pt 2/2\n",
    "    val_loss = val_loss/ len(encoded_val_loader)\n",
    "    val_accuracy = val_correct/len(encoded_val_loader)\n",
    "    #Print and save\n",
    "    print('Epoch:', epoch, 'val_loss:',val_loss, 'accuracy: ',val_accuracy)\n",
    "    val_loss_list.append(val_loss)\n",
    "    val_accuracy_list.append(val_accuracy.cpu())\n",
    "    \n",
    "    if val_accuracy > best_val_accuracy:\n",
    "        best_val_accuracy = val_accuracy\n",
    "#         torch.save(LoBERT_model.state_dict(), model_save_path)\n",
    "\n"
   ]
  },
  {
   "cell_type": "code",
   "execution_count": 15,
   "metadata": {},
   "outputs": [],
   "source": [
    "results = {'train_loss' : train_loss_list,\n",
    "           'val_loss' : val_loss_list,\n",
    "           'train_accuracy' : train_accuracy_list,\n",
    "           'val_accuracy' : val_accuracy_list\n",
    "           \n",
    "    \n",
    "}\n",
    "baseline_results_path =  r'\\\\wsl$\\Ubuntu-20.04\\home\\jolteon\\NLUProject\\models\\threshold_'+str(threshold)+'_results.pkl'\n",
    "with open(baseline_results_path, 'wb') as handle:\n",
    "    pickle.dump(results, handle, protocol=pickle.HIGHEST_PROTOCOL)"
   ]
  },
  {
   "cell_type": "code",
   "execution_count": 16,
   "metadata": {},
   "outputs": [
    {
     "data": {
      "image/png": "[encoded data removed]",
      "text/plain": [
       "<Figure size 432x288 with 1 Axes>"
      ]
     },
     "metadata": {
      "needs_background": "light"
     },
     "output_type": "display_data"
    }
   ],
   "source": [
    "\n",
    "plt.plot(val_loss_list,label='Validation Loss')\n",
    "plt.plot(train_loss_list,label='Train Loss')\n",
    "plt.legend()\n",
    "plt.title('Cross Entropy Loss vs Epoch')\n",
    "plt.xlabel('Epoch')\n",
    "plt.ylabel('Cross Entropy Loss')\n",
    "plt.show()"
   ]
  },
  {
   "cell_type": "code",
   "execution_count": null,
   "metadata": {},
   "outputs": [],
   "source": []
  },
  {
   "cell_type": "code",
   "execution_count": 17,
   "metadata": {},
   "outputs": [
    {
     "data": {
      "image/png": "[encoded data removed]",
      "text/plain": [
       "<Figure size 432x288 with 1 Axes>"
      ]
     },
     "metadata": {
      "needs_background": "light"
     },
     "output_type": "display_data"
    }
   ],
   "source": [
    "\n",
    "plt.plot(val_accuracy_list,label='Validation Accuracy')\n",
    "plt.plot(train_accuracy_list,label='Train Accuracy')\n",
    "plt.legend()\n",
    "plt.title('Accuracy vs Epoch')\n",
    "plt.xlabel('Epoch')\n",
    "plt.ylabel('Accuracy')\n",
    "plt.show()"
   ]
  },
  {
   "cell_type": "code",
   "execution_count": null,
   "metadata": {},
   "outputs": [],
   "source": []
  },
  {
   "cell_type": "code",
   "execution_count": null,
   "metadata": {},
   "outputs": [],
   "source": []
  },
  {
   "cell_type": "code",
   "execution_count": null,
   "metadata": {},
   "outputs": [],
   "source": []
  },
  {
   "cell_type": "code",
   "execution_count": null,
   "metadata": {},
   "outputs": [],
   "source": []
  },
  {
   "cell_type": "code",
   "execution_count": null,
   "metadata": {},
   "outputs": [],
   "source": []
  },
  {
   "cell_type": "code",
   "execution_count": null,
   "metadata": {},
   "outputs": [],
   "source": []
  },
  {
   "cell_type": "code",
   "execution_count": null,
   "metadata": {},
   "outputs": [],
   "source": []
  },
  {
   "cell_type": "code",
   "execution_count": null,
   "metadata": {},
   "outputs": [],
   "source": []
  },
  {
   "cell_type": "code",
   "execution_count": null,
   "metadata": {},
   "outputs": [],
   "source": []
  },
  {
   "cell_type": "code",
   "execution_count": null,
   "metadata": {},
   "outputs": [],
   "source": []
  },
  {
   "cell_type": "code",
   "execution_count": null,
   "metadata": {},
   "outputs": [],
   "source": []
  },
  {
   "cell_type": "code",
   "execution_count": null,
   "metadata": {},
   "outputs": [],
   "source": []
  }
 ],
 "metadata": {
  "kernelspec": {
   "display_name": "Python 3",
   "language": "python",
   "name": "python3"
  },
  "language_info": {
   "codemirror_mode": {
    "name": "ipython",
    "version": 3
   },
   "file_extension": ".py",
   "mimetype": "text/x-python",
   "name": "python",
   "nbconvert_exporter": "python",
   "pygments_lexer": "ipython3",
   "version": "3.8.6"
  }
 },
 "nbformat": 4,
 "nbformat_minor": 5
}
