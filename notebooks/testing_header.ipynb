{
 "cells": [
  {
   "cell_type": "code",
   "execution_count": 3,
   "metadata": {},
   "outputs": [],
   "source": [
    "exec(open(\"../header.py\").read())"
   ]
  },
  {
   "cell_type": "code",
   "execution_count": 4,
   "metadata": {},
   "outputs": [
    {
     "data": {
      "text/plain": [
       "{'data_dir': '/home/ay1626/NLU_data/',\n",
       " 'raw_dir': '/home/ay1626/NLU_data/raw/',\n",
       " 'segment_dir': '/home/ay1626/NLU_data/segmentations/',\n",
       " 'embeddings_dir': '/home/ay1626/NLU_data/embeddings/',\n",
       " 'results_dir': '/home/ay1626/NLU_data/results/'}"
      ]
     },
     "execution_count": 4,
     "metadata": {},
     "output_type": "execute_result"
    }
   ],
   "source": [
    "all_roots"
   ]
  },
  {
   "cell_type": "code",
   "execution_count": 5,
   "metadata": {},
   "outputs": [
    {
     "name": "stdout",
     "output_type": "stream",
     "text": [
      "data_dir already exists\n",
      "raw_dir already exists\n",
      "segment_dir already exists\n",
      "embeddings_dir already exists\n",
      "results_dir already exists\n"
     ]
    }
   ],
   "source": [
    "for r in all_roots:\n",
    "    try:\n",
    "        os.mkdir(all_roots[r])\n",
    "        print(f\"{r} created\")\n",
    "    except FileExistsError:\n",
    "        print(f\"{r} already exists\")"
   ]
  }
 ],
 "metadata": {
  "kernelspec": {
   "display_name": "Python 3",
   "language": "python",
   "name": "python3"
  },
  "language_info": {
   "codemirror_mode": {
    "name": "ipython",
    "version": 3
   },
   "file_extension": ".py",
   "mimetype": "text/x-python",
   "name": "python",
   "nbconvert_exporter": "python",
   "pygments_lexer": "ipython3",
   "version": "3.8.6"
  }
 },
 "nbformat": 4,
 "nbformat_minor": 4
}
