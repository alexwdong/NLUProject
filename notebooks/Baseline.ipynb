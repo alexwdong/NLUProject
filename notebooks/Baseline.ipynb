{
 "cells": [
  {
   "cell_type": "code",
   "execution_count": 8,
   "id": "74fd740e",
   "metadata": {},
   "outputs": [],
   "source": [
    "import torch\n",
    "import torch.nn as nn\n",
    "import torch.nn.functional as F\n",
    "import torch.optim as optim\n",
    "\n",
    "\n",
    "from nltk.tokenize import sent_tokenize\n",
    "from torch.utils.data import DataLoader\n",
    "\n",
    "from transformers import BertTokenizer,BertModel\n",
    "\n",
    "from torch.utils.data import Dataset\n",
    "\n",
    "from datasets import load_from_disk,load_dataset\n",
    "\n",
    "import pickle\n",
    "import logging\n",
    "logging.getLogger(\"transformers.tokenization_utils\").setLevel(logging.ERROR)\n",
    "from tqdm.notebook import tqdm\n"
   ]
  },
  {
   "cell_type": "code",
   "execution_count": 13,
   "id": "4151ad6e",
   "metadata": {},
   "outputs": [],
   "source": [
    "class OnTheFlyDataset(Dataset):\n",
    "    def __init__(self, tensor):\n",
    "        self.tensor = tensor\n",
    "        \n",
    "    def __len__(self):\n",
    "        return self.tensor.shape[0]\n",
    " \n",
    "    def __getitem__(self,idx):\n",
    "        return(self.tensor[idx])\n",
    "    \n",
    "def create_overlaps(tokens, sequence_length=200, shift_length=50):\n",
    "    cls_token = tokenizer.encode(tokenizer.cls_token,add_special_tokens=False,return_tensors='pt')[0]\n",
    "    start_index = 0\n",
    "    first_time = True\n",
    "    all_sub_seq = []\n",
    "    tokens_left = len(tokens)\n",
    "    # Start the While loop - here, we try to get spans of 200 tokens, with a shift of 50. \n",
    "    # E.g if the sequence is 300 tokens, we get [0,199][50,249],[100,299]\n",
    "\n",
    "    while tokens_left > 0:\n",
    "        sub_seq = tokens[start_index:start_index+sequence_length]\n",
    "        #Update Tokens left\n",
    "        if first_time is True:\n",
    "            tokens_left -=sequence_length\n",
    "            first_time=False\n",
    "        else:\n",
    "            tokens_left -=shift_length\n",
    "        # add start_idx\n",
    "        start_index+=shift_length\n",
    "        # Add new sub_sequence to our list of sub_sequences\n",
    "        sub_seq_w_cls =torch.cat([cls_token,sub_seq]).unsqueeze(0)\n",
    "        if tokens_left <=0: #if this is the last run, make sure to pad the last sequence to be 201 tokens long:\n",
    "            sub_seq_w_cls = tokenizer.encode(sub_seq_w_cls.tolist()[0],padding='max_length',max_length=sequence_length + 1,add_special_tokens=False,return_tensors='pt')\n",
    "        all_sub_seq.append(sub_seq_w_cls)\n",
    "        \n",
    "    return all_sub_seq\n",
    "    "
   ]
  },
  {
   "cell_type": "code",
   "execution_count": 10,
   "id": "54e69bcf",
   "metadata": {},
   "outputs": [
    {
     "name": "stdout",
     "output_type": "stream",
     "text": [
      "Using device: cuda\n",
      "NVIDIA GeForce RTX 3060 Ti\n",
      "Memory Usage:\n",
      "Allocated: 0.8 GB\n",
      "Cached:    0.9 GB\n"
     ]
    }
   ],
   "source": [
    "data_dir = r'\\\\wsl$\\Ubuntu-20.04\\home\\jolteon\\NLUProject\\data\\20news\\\\'\n",
    "processed_dir = data_dir + 'processed\\\\'\n",
    "\n",
    "newsgroup_configs = ['bydate_alt.atheism',\n",
    "                     'bydate_comp.graphics',\n",
    "                     'bydate_comp.os.ms-windows.misc',\n",
    "                     'bydate_comp.sys.ibm.pc.hardware',\n",
    "                     'bydate_comp.sys.mac.hardware',\n",
    "                     'bydate_comp.windows.x',\n",
    "                     'bydate_misc.forsale',\n",
    "                     'bydate_rec.autos',\n",
    "                     'bydate_rec.motorcycles',\n",
    "                     'bydate_rec.sport.baseball',\n",
    "                     'bydate_rec.sport.hockey',\n",
    "                     'bydate_sci.crypt',\n",
    "                     'bydate_sci.electronics',\n",
    "                     'bydate_sci.med',\n",
    "                     'bydate_sci.space',\n",
    "                     'bydate_soc.religion.christian',\n",
    "                     'bydate_talk.politics.guns',\n",
    "                     'bydate_talk.politics.mideast',\n",
    "                     'bydate_talk.politics.misc',\n",
    "                     'bydate_talk.religion.misc']\n",
    "\n",
    "\n",
    "device = torch.device('cuda' if torch.cuda.is_available() else 'cpu')\n",
    "print('Using device:', device)\n",
    "\n",
    "#Additional Info when using cuda\n",
    "if device.type == 'cuda':\n",
    "    print(torch.cuda.get_device_name(0))\n",
    "    print('Memory Usage:')\n",
    "    print('Allocated:', round(torch.cuda.memory_allocated(0)/1024**3,1), 'GB')\n",
    "    print('Cached:   ', round(torch.cuda.memory_reserved(0)/1024**3,1), 'GB')"
   ]
  },
  {
   "cell_type": "code",
   "execution_count": 11,
   "id": "e7ecaaef",
   "metadata": {},
   "outputs": [],
   "source": [
    "configs = ['bydate_alt.atheism',\n",
    "                         'bydate_comp.graphics',\n",
    "                         'bydate_comp.os.ms-windows.misc',\n",
    "                         'bydate_comp.sys.ibm.pc.hardware',\n",
    "                         'bydate_comp.sys.mac.hardware',\n",
    "                         'bydate_comp.windows.x',\n",
    "                         'bydate_misc.forsale',\n",
    "                         'bydate_rec.autos',\n",
    "                         'bydate_rec.motorcycles',\n",
    "                         'bydate_rec.sport.baseball',\n",
    "                         'bydate_rec.sport.hockey',\n",
    "                         'bydate_sci.crypt',\n",
    "                         'bydate_sci.electronics',\n",
    "                         'bydate_sci.med',\n",
    "                         'bydate_sci.space',\n",
    "                         'bydate_soc.religion.christian',\n",
    "                         'bydate_talk.politics.guns',\n",
    "                         'bydate_talk.politics.mideast',\n",
    "                         'bydate_talk.politics.misc',\n",
    "                         'bydate_talk.religion.misc']"
   ]
  },
  {
   "cell_type": "code",
   "execution_count": 12,
   "id": "f2c4d409",
   "metadata": {},
   "outputs": [
    {
     "name": "stdout",
     "output_type": "stream",
     "text": [
      "\n"
     ]
    }
   ],
   "source": [
    "tokenizer = BertTokenizer.from_pretrained('bert-base-uncased')\n",
    "bert_model= BertModel.from_pretrained('bert-base-uncased')\n",
    "bert_model.eval()\n",
    "bert_model.to(device)\n",
    "print('')\n"
   ]
  },
  {
   "cell_type": "code",
   "execution_count": 6,
   "id": "67023816",
   "metadata": {},
   "outputs": [],
   "source": [
    "splits = ['train','test']\n"
   ]
  },
  {
   "cell_type": "code",
   "execution_count": 7,
   "id": "6802bab8",
   "metadata": {},
   "outputs": [],
   "source": [
    "dataset_list = []\n",
    "label_to_label_idx_dict={}\n",
    "for config in newsgroup_configs:\n",
    "    subset_path = data_dir + split + '\\\\' + config\n",
    "    dataset_list.append((config,load_from_disk(subset_path)))\n",
    "    \n",
    "for ii,label in enumerate(configs):\n",
    "    label_to_label_idx_dict[label]=ii"
   ]
  },
  {
   "cell_type": "code",
   "execution_count": null,
   "id": "642a5bab",
   "metadata": {},
   "outputs": [],
   "source": []
  },
  {
   "cell_type": "code",
   "execution_count": 17,
   "id": "669c04b1",
   "metadata": {},
   "outputs": [
    {
     "data": {
      "application/vnd.jupyter.widget-view+json": {
       "model_id": "0d79a64b620c45a39e890a9b2ce0180f",
       "version_major": 2,
       "version_minor": 0
      },
      "text/plain": [
       "HBox(children=(FloatProgress(value=0.0, max=480.0), HTML(value='')))"
      ]
     },
     "metadata": {},
     "output_type": "display_data"
    },
    {
     "name": "stdout",
     "output_type": "stream",
     "text": [
      "\n"
     ]
    },
    {
     "data": {
      "application/vnd.jupyter.widget-view+json": {
       "model_id": "bfc39ec624f74cad8c5462eaabfaa53f",
       "version_major": 2,
       "version_minor": 0
      },
      "text/plain": [
       "HBox(children=(FloatProgress(value=0.0, max=584.0), HTML(value='')))"
      ]
     },
     "metadata": {},
     "output_type": "display_data"
    },
    {
     "name": "stdout",
     "output_type": "stream",
     "text": [
      "\n"
     ]
    },
    {
     "data": {
      "application/vnd.jupyter.widget-view+json": {
       "model_id": "a51a9b78a276434ab48fab65271ee84e",
       "version_major": 2,
       "version_minor": 0
      },
      "text/plain": [
       "HBox(children=(FloatProgress(value=0.0, max=591.0), HTML(value='')))"
      ]
     },
     "metadata": {},
     "output_type": "display_data"
    },
    {
     "name": "stdout",
     "output_type": "stream",
     "text": [
      "\n"
     ]
    },
    {
     "data": {
      "application/vnd.jupyter.widget-view+json": {
       "model_id": "017d3aa87efe447ca0371724d42afa06",
       "version_major": 2,
       "version_minor": 0
      },
      "text/plain": [
       "HBox(children=(FloatProgress(value=0.0, max=590.0), HTML(value='')))"
      ]
     },
     "metadata": {},
     "output_type": "display_data"
    },
    {
     "name": "stdout",
     "output_type": "stream",
     "text": [
      "\n"
     ]
    },
    {
     "data": {
      "application/vnd.jupyter.widget-view+json": {
       "model_id": "5d425700d7ca4b9b9c9af9430d84fbba",
       "version_major": 2,
       "version_minor": 0
      },
      "text/plain": [
       "HBox(children=(FloatProgress(value=0.0, max=578.0), HTML(value='')))"
      ]
     },
     "metadata": {},
     "output_type": "display_data"
    },
    {
     "name": "stdout",
     "output_type": "stream",
     "text": [
      "\n"
     ]
    },
    {
     "data": {
      "application/vnd.jupyter.widget-view+json": {
       "model_id": "b791f8d8a0f042ed99dfe842cc789725",
       "version_major": 2,
       "version_minor": 0
      },
      "text/plain": [
       "HBox(children=(FloatProgress(value=0.0, max=593.0), HTML(value='')))"
      ]
     },
     "metadata": {},
     "output_type": "display_data"
    },
    {
     "name": "stdout",
     "output_type": "stream",
     "text": [
      "\n"
     ]
    },
    {
     "data": {
      "application/vnd.jupyter.widget-view+json": {
       "model_id": "bfd14dfff34a41348965292508506d9f",
       "version_major": 2,
       "version_minor": 0
      },
      "text/plain": [
       "HBox(children=(FloatProgress(value=0.0, max=585.0), HTML(value='')))"
      ]
     },
     "metadata": {},
     "output_type": "display_data"
    },
    {
     "name": "stdout",
     "output_type": "stream",
     "text": [
      "\n"
     ]
    },
    {
     "data": {
      "application/vnd.jupyter.widget-view+json": {
       "model_id": "20ec359998894014b4cbdfb0e9cbdccc",
       "version_major": 2,
       "version_minor": 0
      },
      "text/plain": [
       "HBox(children=(FloatProgress(value=0.0, max=594.0), HTML(value='')))"
      ]
     },
     "metadata": {},
     "output_type": "display_data"
    },
    {
     "name": "stdout",
     "output_type": "stream",
     "text": [
      "\n"
     ]
    },
    {
     "data": {
      "application/vnd.jupyter.widget-view+json": {
       "model_id": "68bad17582f04e3fba9b77d7c1e24671",
       "version_major": 2,
       "version_minor": 0
      },
      "text/plain": [
       "HBox(children=(FloatProgress(value=0.0, max=598.0), HTML(value='')))"
      ]
     },
     "metadata": {},
     "output_type": "display_data"
    },
    {
     "name": "stdout",
     "output_type": "stream",
     "text": [
      "\n"
     ]
    },
    {
     "data": {
      "application/vnd.jupyter.widget-view+json": {
       "model_id": "f5eacb53e9d145149a360425938c8f48",
       "version_major": 2,
       "version_minor": 0
      },
      "text/plain": [
       "HBox(children=(FloatProgress(value=0.0, max=597.0), HTML(value='')))"
      ]
     },
     "metadata": {},
     "output_type": "display_data"
    },
    {
     "name": "stdout",
     "output_type": "stream",
     "text": [
      "\n"
     ]
    },
    {
     "data": {
      "application/vnd.jupyter.widget-view+json": {
       "model_id": "ca9b7e1529c84706b6565b5fcdf7eaf3",
       "version_major": 2,
       "version_minor": 0
      },
      "text/plain": [
       "HBox(children=(FloatProgress(value=0.0, max=600.0), HTML(value='')))"
      ]
     },
     "metadata": {},
     "output_type": "display_data"
    },
    {
     "name": "stdout",
     "output_type": "stream",
     "text": [
      "\n"
     ]
    },
    {
     "data": {
      "application/vnd.jupyter.widget-view+json": {
       "model_id": "df964a390f814ea19517a96f0eb31cad",
       "version_major": 2,
       "version_minor": 0
      },
      "text/plain": [
       "HBox(children=(FloatProgress(value=0.0, max=595.0), HTML(value='')))"
      ]
     },
     "metadata": {},
     "output_type": "display_data"
    },
    {
     "name": "stdout",
     "output_type": "stream",
     "text": [
      "\n"
     ]
    },
    {
     "data": {
      "application/vnd.jupyter.widget-view+json": {
       "model_id": "609efce1cf014a5fbd8adf441385f606",
       "version_major": 2,
       "version_minor": 0
      },
      "text/plain": [
       "HBox(children=(FloatProgress(value=0.0, max=591.0), HTML(value='')))"
      ]
     },
     "metadata": {},
     "output_type": "display_data"
    },
    {
     "name": "stdout",
     "output_type": "stream",
     "text": [
      "\n"
     ]
    },
    {
     "data": {
      "application/vnd.jupyter.widget-view+json": {
       "model_id": "10c777c0c8ba41eb85087f7db4e367c2",
       "version_major": 2,
       "version_minor": 0
      },
      "text/plain": [
       "HBox(children=(FloatProgress(value=0.0, max=594.0), HTML(value='')))"
      ]
     },
     "metadata": {},
     "output_type": "display_data"
    },
    {
     "name": "stdout",
     "output_type": "stream",
     "text": [
      "\n"
     ]
    },
    {
     "data": {
      "application/vnd.jupyter.widget-view+json": {
       "model_id": "7e4292975df94217a6aa541f4e892a4d",
       "version_major": 2,
       "version_minor": 0
      },
      "text/plain": [
       "HBox(children=(FloatProgress(value=0.0, max=593.0), HTML(value='')))"
      ]
     },
     "metadata": {},
     "output_type": "display_data"
    },
    {
     "name": "stdout",
     "output_type": "stream",
     "text": [
      "\n"
     ]
    },
    {
     "data": {
      "application/vnd.jupyter.widget-view+json": {
       "model_id": "e457c9dce84141738c9aa6e1dc906345",
       "version_major": 2,
       "version_minor": 0
      },
      "text/plain": [
       "HBox(children=(FloatProgress(value=0.0, max=599.0), HTML(value='')))"
      ]
     },
     "metadata": {},
     "output_type": "display_data"
    },
    {
     "name": "stdout",
     "output_type": "stream",
     "text": [
      "\n"
     ]
    },
    {
     "data": {
      "application/vnd.jupyter.widget-view+json": {
       "model_id": "8deb9896d69849c8b69dab79f9a16b9b",
       "version_major": 2,
       "version_minor": 0
      },
      "text/plain": [
       "HBox(children=(FloatProgress(value=0.0, max=546.0), HTML(value='')))"
      ]
     },
     "metadata": {},
     "output_type": "display_data"
    },
    {
     "name": "stdout",
     "output_type": "stream",
     "text": [
      "\n"
     ]
    },
    {
     "data": {
      "application/vnd.jupyter.widget-view+json": {
       "model_id": "93e9dcdc00aa41a289bc4688de744a36",
       "version_major": 2,
       "version_minor": 0
      },
      "text/plain": [
       "HBox(children=(FloatProgress(value=0.0, max=564.0), HTML(value='')))"
      ]
     },
     "metadata": {},
     "output_type": "display_data"
    },
    {
     "name": "stdout",
     "output_type": "stream",
     "text": [
      "\n"
     ]
    },
    {
     "data": {
      "application/vnd.jupyter.widget-view+json": {
       "model_id": "88613156cdcc4c789cb4c41b5da19ec0",
       "version_major": 2,
       "version_minor": 0
      },
      "text/plain": [
       "HBox(children=(FloatProgress(value=0.0, max=465.0), HTML(value='')))"
      ]
     },
     "metadata": {},
     "output_type": "display_data"
    },
    {
     "name": "stdout",
     "output_type": "stream",
     "text": [
      "\n"
     ]
    },
    {
     "data": {
      "application/vnd.jupyter.widget-view+json": {
       "model_id": "a5f71bb68aa04dadac6692dd4de798e1",
       "version_major": 2,
       "version_minor": 0
      },
      "text/plain": [
       "HBox(children=(FloatProgress(value=0.0, max=377.0), HTML(value='')))"
      ]
     },
     "metadata": {},
     "output_type": "display_data"
    },
    {
     "name": "stdout",
     "output_type": "stream",
     "text": [
      "\n"
     ]
    },
    {
     "data": {
      "application/vnd.jupyter.widget-view+json": {
       "model_id": "c8f62bf0a3aa435abf10b36130d508d1",
       "version_major": 2,
       "version_minor": 0
      },
      "text/plain": [
       "HBox(children=(FloatProgress(value=0.0, max=319.0), HTML(value='')))"
      ]
     },
     "metadata": {},
     "output_type": "display_data"
    },
    {
     "name": "stdout",
     "output_type": "stream",
     "text": [
      "\n"
     ]
    },
    {
     "data": {
      "application/vnd.jupyter.widget-view+json": {
       "model_id": "be8495563a3d402fa9aaaa23389137f4",
       "version_major": 2,
       "version_minor": 0
      },
      "text/plain": [
       "HBox(children=(FloatProgress(value=0.0, max=389.0), HTML(value='')))"
      ]
     },
     "metadata": {},
     "output_type": "display_data"
    },
    {
     "name": "stdout",
     "output_type": "stream",
     "text": [
      "\n"
     ]
    },
    {
     "data": {
      "application/vnd.jupyter.widget-view+json": {
       "model_id": "d2cd40995ae54a5689ac4072c5cfedcf",
       "version_major": 2,
       "version_minor": 0
      },
      "text/plain": [
       "HBox(children=(FloatProgress(value=0.0, max=394.0), HTML(value='')))"
      ]
     },
     "metadata": {},
     "output_type": "display_data"
    },
    {
     "name": "stdout",
     "output_type": "stream",
     "text": [
      "\n"
     ]
    },
    {
     "data": {
      "application/vnd.jupyter.widget-view+json": {
       "model_id": "88d0f79e76d74e0196e1a092f59eb192",
       "version_major": 2,
       "version_minor": 0
      },
      "text/plain": [
       "HBox(children=(FloatProgress(value=0.0, max=392.0), HTML(value='')))"
      ]
     },
     "metadata": {},
     "output_type": "display_data"
    },
    {
     "name": "stdout",
     "output_type": "stream",
     "text": [
      "\n"
     ]
    },
    {
     "data": {
      "application/vnd.jupyter.widget-view+json": {
       "model_id": "a3777ec3ef294138a3b840f8e851e1e4",
       "version_major": 2,
       "version_minor": 0
      },
      "text/plain": [
       "HBox(children=(FloatProgress(value=0.0, max=385.0), HTML(value='')))"
      ]
     },
     "metadata": {},
     "output_type": "display_data"
    },
    {
     "name": "stdout",
     "output_type": "stream",
     "text": [
      "\n"
     ]
    },
    {
     "data": {
      "application/vnd.jupyter.widget-view+json": {
       "model_id": "7a7c6c622b5347e49485e14a66ccb6e4",
       "version_major": 2,
       "version_minor": 0
      },
      "text/plain": [
       "HBox(children=(FloatProgress(value=0.0, max=395.0), HTML(value='')))"
      ]
     },
     "metadata": {},
     "output_type": "display_data"
    },
    {
     "name": "stdout",
     "output_type": "stream",
     "text": [
      "\n"
     ]
    },
    {
     "data": {
      "application/vnd.jupyter.widget-view+json": {
       "model_id": "3de2c71d675e4bfcad995527a2d560f5",
       "version_major": 2,
       "version_minor": 0
      },
      "text/plain": [
       "HBox(children=(FloatProgress(value=0.0, max=390.0), HTML(value='')))"
      ]
     },
     "metadata": {},
     "output_type": "display_data"
    },
    {
     "name": "stdout",
     "output_type": "stream",
     "text": [
      "\n"
     ]
    },
    {
     "data": {
      "application/vnd.jupyter.widget-view+json": {
       "model_id": "a0ed3a26e9134cc4aef127ec4d19a908",
       "version_major": 2,
       "version_minor": 0
      },
      "text/plain": [
       "HBox(children=(FloatProgress(value=0.0, max=396.0), HTML(value='')))"
      ]
     },
     "metadata": {},
     "output_type": "display_data"
    },
    {
     "name": "stdout",
     "output_type": "stream",
     "text": [
      "\n"
     ]
    },
    {
     "data": {
      "application/vnd.jupyter.widget-view+json": {
       "model_id": "5f79d8f857bb4900b396b68968c8fdc6",
       "version_major": 2,
       "version_minor": 0
      },
      "text/plain": [
       "HBox(children=(FloatProgress(value=0.0, max=398.0), HTML(value='')))"
      ]
     },
     "metadata": {},
     "output_type": "display_data"
    },
    {
     "name": "stdout",
     "output_type": "stream",
     "text": [
      "\n"
     ]
    },
    {
     "data": {
      "application/vnd.jupyter.widget-view+json": {
       "model_id": "2b6cde94883f4f079c2d61164eab0a02",
       "version_major": 2,
       "version_minor": 0
      },
      "text/plain": [
       "HBox(children=(FloatProgress(value=0.0, max=397.0), HTML(value='')))"
      ]
     },
     "metadata": {},
     "output_type": "display_data"
    },
    {
     "name": "stdout",
     "output_type": "stream",
     "text": [
      "\n"
     ]
    },
    {
     "data": {
      "application/vnd.jupyter.widget-view+json": {
       "model_id": "446286dd0ae3422db6a5507970df7382",
       "version_major": 2,
       "version_minor": 0
      },
      "text/plain": [
       "HBox(children=(FloatProgress(value=0.0, max=399.0), HTML(value='')))"
      ]
     },
     "metadata": {},
     "output_type": "display_data"
    },
    {
     "name": "stdout",
     "output_type": "stream",
     "text": [
      "\n"
     ]
    },
    {
     "data": {
      "application/vnd.jupyter.widget-view+json": {
       "model_id": "11a6cd3c1fa34bd297acc4fe51bf443c",
       "version_major": 2,
       "version_minor": 0
      },
      "text/plain": [
       "HBox(children=(FloatProgress(value=0.0, max=396.0), HTML(value='')))"
      ]
     },
     "metadata": {},
     "output_type": "display_data"
    },
    {
     "name": "stdout",
     "output_type": "stream",
     "text": [
      "\n"
     ]
    },
    {
     "data": {
      "application/vnd.jupyter.widget-view+json": {
       "model_id": "db6f5cbc08f54690a7b97ab4b6b1edac",
       "version_major": 2,
       "version_minor": 0
      },
      "text/plain": [
       "HBox(children=(FloatProgress(value=0.0, max=393.0), HTML(value='')))"
      ]
     },
     "metadata": {},
     "output_type": "display_data"
    },
    {
     "name": "stdout",
     "output_type": "stream",
     "text": [
      "\n"
     ]
    },
    {
     "data": {
      "application/vnd.jupyter.widget-view+json": {
       "model_id": "1b00ca07b4d440009ac3dcd097ba6826",
       "version_major": 2,
       "version_minor": 0
      },
      "text/plain": [
       "HBox(children=(FloatProgress(value=0.0, max=396.0), HTML(value='')))"
      ]
     },
     "metadata": {},
     "output_type": "display_data"
    },
    {
     "name": "stdout",
     "output_type": "stream",
     "text": [
      "\n"
     ]
    },
    {
     "data": {
      "application/vnd.jupyter.widget-view+json": {
       "model_id": "5077d17b84a2495b8aeacb4c773c21ab",
       "version_major": 2,
       "version_minor": 0
      },
      "text/plain": [
       "HBox(children=(FloatProgress(value=0.0, max=394.0), HTML(value='')))"
      ]
     },
     "metadata": {},
     "output_type": "display_data"
    },
    {
     "name": "stdout",
     "output_type": "stream",
     "text": [
      "\n"
     ]
    },
    {
     "data": {
      "application/vnd.jupyter.widget-view+json": {
       "model_id": "8e62034fd95f42ff9387bf215d63972d",
       "version_major": 2,
       "version_minor": 0
      },
      "text/plain": [
       "HBox(children=(FloatProgress(value=0.0, max=398.0), HTML(value='')))"
      ]
     },
     "metadata": {},
     "output_type": "display_data"
    },
    {
     "name": "stdout",
     "output_type": "stream",
     "text": [
      "\n"
     ]
    },
    {
     "data": {
      "application/vnd.jupyter.widget-view+json": {
       "model_id": "c27511f1e70f4e2aae7b619c753fe762",
       "version_major": 2,
       "version_minor": 0
      },
      "text/plain": [
       "HBox(children=(FloatProgress(value=0.0, max=364.0), HTML(value='')))"
      ]
     },
     "metadata": {},
     "output_type": "display_data"
    },
    {
     "name": "stdout",
     "output_type": "stream",
     "text": [
      "\n"
     ]
    },
    {
     "data": {
      "application/vnd.jupyter.widget-view+json": {
       "model_id": "bf8095df46a14391ad8eba10ea58bda1",
       "version_major": 2,
       "version_minor": 0
      },
      "text/plain": [
       "HBox(children=(FloatProgress(value=0.0, max=376.0), HTML(value='')))"
      ]
     },
     "metadata": {},
     "output_type": "display_data"
    },
    {
     "name": "stdout",
     "output_type": "stream",
     "text": [
      "\n"
     ]
    },
    {
     "data": {
      "application/vnd.jupyter.widget-view+json": {
       "model_id": "adfe2955eac44e4daa3208eb7b9e54e2",
       "version_major": 2,
       "version_minor": 0
      },
      "text/plain": [
       "HBox(children=(FloatProgress(value=0.0, max=310.0), HTML(value='')))"
      ]
     },
     "metadata": {},
     "output_type": "display_data"
    },
    {
     "name": "stdout",
     "output_type": "stream",
     "text": [
      "\n"
     ]
    },
    {
     "data": {
      "application/vnd.jupyter.widget-view+json": {
       "model_id": "fe027e2379dc491ba403ae49385b127c",
       "version_major": 2,
       "version_minor": 0
      },
      "text/plain": [
       "HBox(children=(FloatProgress(value=0.0, max=251.0), HTML(value='')))"
      ]
     },
     "metadata": {},
     "output_type": "display_data"
    },
    {
     "name": "stdout",
     "output_type": "stream",
     "text": [
      "\n"
     ]
    }
   ],
   "source": [
    "seq_len=200\n",
    "shift_len=200\n",
    "splits = ['train','test']\n",
    "for split in splits:\n",
    "    dataset_list = []\n",
    "    label_to_label_idx_dict={}\n",
    "    \n",
    "    for config in newsgroup_configs:\n",
    "        subset_path = data_dir + split + '\\\\' + config\n",
    "        dataset_list.append((config,load_from_disk(subset_path)))\n",
    "\n",
    "    for ii,label in enumerate(configs):\n",
    "        label_to_label_idx_dict[label] = ii\n",
    "        bert_encoded_segments_list = []\n",
    "    \n",
    "    for label, sub_dataset in dataset_list: #Loop over all dataset\n",
    "\n",
    "        for entry in tqdm(sub_dataset): #Loop inside the dataset\n",
    "            # get text and CLS token\n",
    "            text = entry['text']\n",
    "            tokens = tokenizer.encode(text,add_special_tokens=False,return_tensors='pt')[0]\n",
    "            # Start the While loop - here, we try to get spans of 200 tokens, with a shift of 50. \n",
    "            # E.g if the sequence is 300 tokens, we get [0,199][50,249],[100,299]\n",
    "\n",
    "            all_sub_seq = create_overlaps(tokens,sequence_length=seq_len,shift_length=shift_len)\n",
    "\n",
    "            #cat to make a tensor\n",
    "            segments_tensor = torch.cat(all_sub_seq)\n",
    "            # turn all_sub_seq into an OnTheFlyDataset    \n",
    "            onthefly_dataset = OnTheFlyDataset(segments_tensor)\n",
    "            onthefly_loader = DataLoader(onthefly_dataset, batch_size=64, shuffle=False, pin_memory=True)\n",
    "            #At this point, onthefly_datset/loader contains the tokens for one single \"long document\", in one dataset\n",
    "            with torch.no_grad():\n",
    "                batch_encoded_seg_list = []\n",
    "                for small_batch in onthefly_loader: #encode each segment in the long document\n",
    "                    out = bert_model(input_ids=small_batch.to(device))\n",
    "                    sub_bert_encoded_segments = out['last_hidden_state'][:,0,:]\n",
    "                    batch_encoded_seg_list.append(sub_bert_encoded_segments)\n",
    "                bert_encoded_segments = torch.cat(batch_encoded_seg_list)\n",
    "                bert_encoded_segments_list.append((label_to_label_idx_dict[label],bert_encoded_segments.cpu()))\n",
    "            \n",
    "    file_name = 'bert_encoded_segments_list_overlap_' + str(seq_len) + '_' + str(shift_len)\n",
    "    with open(processed_dir+ split+'\\\\' + file_name  +'.pkl', 'wb') as handle:\n",
    "        pickle.dump(bert_encoded_segments_list, handle, protocol=pickle.HIGHEST_PROTOCOL)\n"
   ]
  },
  {
   "cell_type": "code",
   "execution_count": 9,
   "id": "e504578c",
   "metadata": {},
   "outputs": [],
   "source": [
    "data_dir = r'\\\\wsl$\\Ubuntu-20.04\\home\\jolteon\\NLUProject\\data\\20news\\\\'\n",
    "processed_dir = data_dir + 'processed\\\\'\n",
    "with open(processed_dir+ split+'\\\\' + file_name + 'baseline' +'.pkl', 'wb') as handle:\n",
    "    pickle.dump(bert_encoded_segments_list, handle, protocol=pickle.HIGHEST_PROTOCOL)\n"
   ]
  },
  {
   "cell_type": "code",
   "execution_count": 10,
   "id": "275e4baa",
   "metadata": {},
   "outputs": [
    {
     "data": {
      "text/plain": [
       "'bydate_talk.religion.misc'"
      ]
     },
     "execution_count": 10,
     "metadata": {},
     "output_type": "execute_result"
    }
   ],
   "source": [
    "label"
   ]
  },
  {
   "cell_type": "code",
   "execution_count": 11,
   "id": "7c3e065b",
   "metadata": {},
   "outputs": [],
   "source": [
    "cls_token = tokenizer.encode(tokenizer.cls_token,add_special_tokens=False,return_tensors='pt')[0]\n",
    "\n",
    "start_index = 0\n",
    "first_time = True\n",
    "all_sub_seq = []\n",
    "tokens_left = len(tokens)\n",
    "\n",
    "while tokens_left > 0:\n",
    "    sub_seq = tokens[start_index:start_index+200]\n",
    "    #Update Tokens left\n",
    "    if first_time is True:\n",
    "        tokens_left -=200\n",
    "        first_time=False\n",
    "    else:\n",
    "        tokens_left -=50\n",
    "    # add start_idx\n",
    "    start_index+=50\n",
    "    # Add new sub_sequence to our list of sub_sequences\n",
    "    sub_seq_w_cls =torch.cat([cls_token,sub_seq]).unsqueeze(0)\n",
    "    if tokens_left <=0: #if this is the last run, make sure to pad the last sequence to be 201 tokens long:\n",
    "        sub_seq_w_cls = tokenizer.encode(sub_seq_w_cls.tolist()[0],padding='max_length',max_length=201,add_special_tokens=False,return_tensors='pt')\n",
    "    all_sub_seq.append(sub_seq_w_cls)\n",
    "\n",
    "#cat to make a tensor\n",
    "segments_tensor = torch.cat(all_sub_seq)\n",
    "# turn all_sub_seq into an OnTheFlyDataset    \n",
    "segment_dataset = OnTheFlyDataset(segments_tensor)\n",
    "onthefly_loader =  DataLoader(onthefly_dataset, batch_size=8, shuffle=False, pin_memory=True)\n",
    "\n",
    "batch_encoded_seg_list = []\n",
    "for ii, small_batch in enumerate(onthefly_loader):\n",
    "    out = bert_model(input_ids=small_batch.to(device))\n",
    "    sub_bert_encoded_segments = out['pooler_output']\n",
    "    batch_encoded_seg_list.append(sub_bert_encoded_segments)\n",
    "bert_encoded_segments = torch.cat(batch_encoded_seg_list)\n",
    "bert_encoded_segments_list.append((label,bert_encoded_segments.cpu()))\n"
   ]
  },
  {
   "cell_type": "code",
   "execution_count": 12,
   "id": "398ecee9",
   "metadata": {},
   "outputs": [
    {
     "data": {
      "text/plain": [
       "<__main__.OnTheFlyDataset at 0x21d38875490>"
      ]
     },
     "execution_count": 12,
     "metadata": {},
     "output_type": "execute_result"
    }
   ],
   "source": [
    "segment_dataset"
   ]
  },
  {
   "cell_type": "code",
   "execution_count": 13,
   "id": "5baff63d",
   "metadata": {},
   "outputs": [
    {
     "data": {
      "text/plain": [
       "torch.Size([1, 201])"
      ]
     },
     "execution_count": 13,
     "metadata": {},
     "output_type": "execute_result"
    }
   ],
   "source": [
    "sub_seq_w_cls.shape"
   ]
  },
  {
   "cell_type": "code",
   "execution_count": 14,
   "id": "4ba8539e",
   "metadata": {},
   "outputs": [
    {
     "data": {
      "text/plain": [
       "[[101,\n",
       "  2129,\n",
       "  1998,\n",
       "  2043,\n",
       "  1010,\n",
       "  1998,\n",
       "  2025,\n",
       "  1010,\n",
       "  2005,\n",
       "  1996,\n",
       "  2087,\n",
       "  2112,\n",
       "  1010,\n",
       "  2040,\n",
       "  1998,\n",
       "  2339,\n",
       "  1012,\n",
       "  2671,\n",
       "  2001,\n",
       "  2947,\n",
       "  2141,\n",
       "  2041,\n",
       "  1997,\n",
       "  1996,\n",
       "  19176,\n",
       "  2015,\n",
       "  1005,\n",
       "  10628,\n",
       "  1010,\n",
       "  2776,\n",
       "  11122,\n",
       "  2075,\n",
       "  2185,\n",
       "  1996,\n",
       "  2129,\n",
       "  1998,\n",
       "  2043,\n",
       "  2096,\n",
       "  4321,\n",
       "  2975,\n",
       "  2369,\n",
       "  1996,\n",
       "  2040,\n",
       "  1998,\n",
       "  2339,\n",
       "  1012,\n",
       "  1996,\n",
       "  21591,\n",
       "  1010,\n",
       "  1996,\n",
       "  14337,\n",
       "  1010,\n",
       "  1996,\n",
       "  2046,\n",
       "  3917,\n",
       "  4630,\n",
       "  1010,\n",
       "  1998,\n",
       "  1996,\n",
       "  15818,\n",
       "  1010,\n",
       "  1997,\n",
       "  2607,\n",
       "  1010,\n",
       "  2145,\n",
       "  4366,\n",
       "  3691,\n",
       "  1999,\n",
       "  2035,\n",
       "  2176,\n",
       "  13100,\n",
       "  1012,\n",
       "  1028,\n",
       "  1064,\n",
       "  1028,\n",
       "  4138,\n",
       "  4419,\n",
       "  1010,\n",
       "  14405,\n",
       "  8093,\n",
       "  2080,\n",
       "  1010,\n",
       "  2149,\n",
       "  17167,\n",
       "  23597,\n",
       "  17287,\n",
       "  1028,\n",
       "  2106,\n",
       "  2066,\n",
       "  2115,\n",
       "  6594,\n",
       "  2105,\n",
       "  2572,\n",
       "  7898,\n",
       "  1010,\n",
       "  1998,\n",
       "  1045,\n",
       "  2106,\n",
       "  3275,\n",
       "  2041,\n",
       "  2054,\n",
       "  2572,\n",
       "  2232,\n",
       "  2001,\n",
       "  2013,\n",
       "  1028,\n",
       "  2115,\n",
       "  2434,\n",
       "  2695,\n",
       "  1024,\n",
       "  1011,\n",
       "  1007,\n",
       "  2172,\n",
       "  14723,\n",
       "  1012,\n",
       "  6057,\n",
       "  2129,\n",
       "  8866,\n",
       "  7166,\n",
       "  2000,\n",
       "  8494,\n",
       "  10362,\n",
       "  2477,\n",
       "  1010,\n",
       "  3475,\n",
       "  1005,\n",
       "  1056,\n",
       "  2009,\n",
       "  1029,\n",
       "  2092,\n",
       "  1010,\n",
       "  1045,\n",
       "  2572,\n",
       "  2469,\n",
       "  2045,\n",
       "  2024,\n",
       "  7564,\n",
       "  1997,\n",
       "  1000,\n",
       "  4045,\n",
       "  1000,\n",
       "  4325,\n",
       "  2923,\n",
       "  1000,\n",
       "  2128,\n",
       "  8569,\n",
       "  28200,\n",
       "  2015,\n",
       "  1000,\n",
       "  2041,\n",
       "  2045,\n",
       "  4873,\n",
       "  1010,\n",
       "  2130,\n",
       "  2065,\n",
       "  2027,\n",
       "  2031,\n",
       "  2000,\n",
       "  2022,\n",
       "  2580,\n",
       "  2013,\n",
       "  2498,\n",
       "  1012,\n",
       "  1031,\n",
       "  2074,\n",
       "  2005,\n",
       "  1996,\n",
       "  2501,\n",
       "  1010,\n",
       "  2153,\n",
       "  1010,\n",
       "  2572,\n",
       "  2232,\n",
       "  1027,\n",
       "  28141,\n",
       "  2135,\n",
       "  2715,\n",
       "  4286,\n",
       "  1033,\n",
       "  2190,\n",
       "  12362,\n",
       "  1024,\n",
       "  1011,\n",
       "  1007,\n",
       "  1010,\n",
       "  4138,\n",
       "  4419,\n",
       "  1010,\n",
       "  14405,\n",
       "  8093,\n",
       "  2080,\n",
       "  1010,\n",
       "  2149,\n",
       "  17167,\n",
       "  23597,\n",
       "  17287,\n",
       "  0,\n",
       "  0,\n",
       "  0,\n",
       "  0,\n",
       "  0]]"
      ]
     },
     "execution_count": 14,
     "metadata": {},
     "output_type": "execute_result"
    }
   ],
   "source": [
    "sub_seq_w_cls.tolist()"
   ]
  },
  {
   "cell_type": "code",
   "execution_count": 15,
   "id": "994cd286",
   "metadata": {},
   "outputs": [
    {
     "data": {
      "text/plain": [
       "torch.Size([1])"
      ]
     },
     "execution_count": 15,
     "metadata": {},
     "output_type": "execute_result"
    }
   ],
   "source": [
    "cls_token.shape"
   ]
  },
  {
   "cell_type": "code",
   "execution_count": 16,
   "id": "5e6b8744",
   "metadata": {},
   "outputs": [
    {
     "data": {
      "text/plain": [
       "torch.Size([195])"
      ]
     },
     "execution_count": 16,
     "metadata": {},
     "output_type": "execute_result"
    }
   ],
   "source": [
    "sub_seq.shape"
   ]
  },
  {
   "cell_type": "code",
   "execution_count": 17,
   "id": "e7f2f503",
   "metadata": {},
   "outputs": [],
   "source": [
    "temp = all_sub_seq[-1]"
   ]
  },
  {
   "cell_type": "code",
   "execution_count": 18,
   "id": "d93bc61e",
   "metadata": {},
   "outputs": [
    {
     "ename": "ValueError",
     "evalue": "Input tensor([[  101,  2129,  1998,  2043,  1010,  1998,  2025,  1010,  2005,  1996,\n          2087,  2112,  1010,  2040,  1998,  2339,  1012,  2671,  2001,  2947,\n          2141,  2041,  1997,  1996, 19176,  2015,  1005, 10628,  1010,  2776,\n         11122,  2075,  2185,  1996,  2129,  1998,  2043,  2096,  4321,  2975,\n          2369,  1996,  2040,  1998,  2339,  1012,  1996, 21591,  1010,  1996,\n         14337,  1010,  1996,  2046,  3917,  4630,  1010,  1998,  1996, 15818,\n          1010,  1997,  2607,  1010,  2145,  4366,  3691,  1999,  2035,  2176,\n         13100,  1012,  1028,  1064,  1028,  4138,  4419,  1010, 14405,  8093,\n          2080,  1010,  2149, 17167, 23597, 17287,  1028,  2106,  2066,  2115,\n          6594,  2105,  2572,  7898,  1010,  1998,  1045,  2106,  3275,  2041,\n          2054,  2572,  2232,  2001,  2013,  1028,  2115,  2434,  2695,  1024,\n          1011,  1007,  2172, 14723,  1012,  6057,  2129,  8866,  7166,  2000,\n          8494, 10362,  2477,  1010,  3475,  1005,  1056,  2009,  1029,  2092,\n          1010,  1045,  2572,  2469,  2045,  2024,  7564,  1997,  1000,  4045,\n          1000,  4325,  2923,  1000,  2128,  8569, 28200,  2015,  1000,  2041,\n          2045,  4873,  1010,  2130,  2065,  2027,  2031,  2000,  2022,  2580,\n          2013,  2498,  1012,  1031,  2074,  2005,  1996,  2501,  1010,  2153,\n          1010,  2572,  2232,  1027, 28141,  2135,  2715,  4286,  1033,  2190,\n         12362,  1024,  1011,  1007,  1010,  4138,  4419,  1010, 14405,  8093,\n          2080,  1010,  2149, 17167, 23597, 17287,     0,     0,     0,     0,\n             0]]) is not valid. Should be a string, a list/tuple of strings or a list/tuple of integers.",
     "output_type": "error",
     "traceback": [
      "\u001b[1;31m---------------------------------------------------------------------------\u001b[0m",
      "\u001b[1;31mValueError\u001b[0m                                Traceback (most recent call last)",
      "\u001b[1;32m<ipython-input-18-31711608cded>\u001b[0m in \u001b[0;36m<module>\u001b[1;34m\u001b[0m\n\u001b[1;32m----> 1\u001b[1;33m \u001b[0mtemp1\u001b[0m \u001b[1;33m=\u001b[0m \u001b[0mtokenizer\u001b[0m\u001b[1;33m.\u001b[0m\u001b[0mencode\u001b[0m\u001b[1;33m(\u001b[0m\u001b[0mtemp\u001b[0m\u001b[1;33m,\u001b[0m\u001b[0mpadding\u001b[0m\u001b[1;33m=\u001b[0m\u001b[1;34m'max_length'\u001b[0m\u001b[1;33m,\u001b[0m\u001b[0mmax_length\u001b[0m\u001b[1;33m=\u001b[0m\u001b[1;36m201\u001b[0m\u001b[1;33m,\u001b[0m\u001b[0madd_special_tokens\u001b[0m\u001b[1;33m=\u001b[0m\u001b[1;32mFalse\u001b[0m\u001b[1;33m)\u001b[0m\u001b[1;33m\u001b[0m\u001b[1;33m\u001b[0m\u001b[0m\n\u001b[0m",
      "\u001b[1;32mE:\\miniconda3\\envs\\NLUProject\\lib\\site-packages\\transformers-4.4.2-py3.8.egg\\transformers\\tokenization_utils_base.py\u001b[0m in \u001b[0;36mencode\u001b[1;34m(self, text, text_pair, add_special_tokens, padding, truncation, max_length, stride, return_tensors, **kwargs)\u001b[0m\n\u001b[0;32m   2021\u001b[0m                 ``convert_tokens_to_ids`` method).\n\u001b[0;32m   2022\u001b[0m         \"\"\"\n\u001b[1;32m-> 2023\u001b[1;33m         encoded_inputs = self.encode_plus(\n\u001b[0m\u001b[0;32m   2024\u001b[0m             \u001b[0mtext\u001b[0m\u001b[1;33m,\u001b[0m\u001b[1;33m\u001b[0m\u001b[1;33m\u001b[0m\u001b[0m\n\u001b[0;32m   2025\u001b[0m             \u001b[0mtext_pair\u001b[0m\u001b[1;33m=\u001b[0m\u001b[0mtext_pair\u001b[0m\u001b[1;33m,\u001b[0m\u001b[1;33m\u001b[0m\u001b[1;33m\u001b[0m\u001b[0m\n",
      "\u001b[1;32mE:\\miniconda3\\envs\\NLUProject\\lib\\site-packages\\transformers-4.4.2-py3.8.egg\\transformers\\tokenization_utils_base.py\u001b[0m in \u001b[0;36mencode_plus\u001b[1;34m(self, text, text_pair, add_special_tokens, padding, truncation, max_length, stride, is_split_into_words, pad_to_multiple_of, return_tensors, return_token_type_ids, return_attention_mask, return_overflowing_tokens, return_special_tokens_mask, return_offsets_mapping, return_length, verbose, **kwargs)\u001b[0m\n\u001b[0;32m   2337\u001b[0m         )\n\u001b[0;32m   2338\u001b[0m \u001b[1;33m\u001b[0m\u001b[0m\n\u001b[1;32m-> 2339\u001b[1;33m         return self._encode_plus(\n\u001b[0m\u001b[0;32m   2340\u001b[0m             \u001b[0mtext\u001b[0m\u001b[1;33m=\u001b[0m\u001b[0mtext\u001b[0m\u001b[1;33m,\u001b[0m\u001b[1;33m\u001b[0m\u001b[1;33m\u001b[0m\u001b[0m\n\u001b[0;32m   2341\u001b[0m             \u001b[0mtext_pair\u001b[0m\u001b[1;33m=\u001b[0m\u001b[0mtext_pair\u001b[0m\u001b[1;33m,\u001b[0m\u001b[1;33m\u001b[0m\u001b[1;33m\u001b[0m\u001b[0m\n",
      "\u001b[1;32mE:\\miniconda3\\envs\\NLUProject\\lib\\site-packages\\transformers-4.4.2-py3.8.egg\\transformers\\tokenization_utils.py\u001b[0m in \u001b[0;36m_encode_plus\u001b[1;34m(self, text, text_pair, add_special_tokens, padding_strategy, truncation_strategy, max_length, stride, is_split_into_words, pad_to_multiple_of, return_tensors, return_token_type_ids, return_attention_mask, return_overflowing_tokens, return_special_tokens_mask, return_offsets_mapping, return_length, verbose, **kwargs)\u001b[0m\n\u001b[0;32m    439\u001b[0m             )\n\u001b[0;32m    440\u001b[0m \u001b[1;33m\u001b[0m\u001b[0m\n\u001b[1;32m--> 441\u001b[1;33m         \u001b[0mfirst_ids\u001b[0m \u001b[1;33m=\u001b[0m \u001b[0mget_input_ids\u001b[0m\u001b[1;33m(\u001b[0m\u001b[0mtext\u001b[0m\u001b[1;33m)\u001b[0m\u001b[1;33m\u001b[0m\u001b[1;33m\u001b[0m\u001b[0m\n\u001b[0m\u001b[0;32m    442\u001b[0m         \u001b[0msecond_ids\u001b[0m \u001b[1;33m=\u001b[0m \u001b[0mget_input_ids\u001b[0m\u001b[1;33m(\u001b[0m\u001b[0mtext_pair\u001b[0m\u001b[1;33m)\u001b[0m \u001b[1;32mif\u001b[0m \u001b[0mtext_pair\u001b[0m \u001b[1;32mis\u001b[0m \u001b[1;32mnot\u001b[0m \u001b[1;32mNone\u001b[0m \u001b[1;32melse\u001b[0m \u001b[1;32mNone\u001b[0m\u001b[1;33m\u001b[0m\u001b[1;33m\u001b[0m\u001b[0m\n\u001b[0;32m    443\u001b[0m \u001b[1;33m\u001b[0m\u001b[0m\n",
      "\u001b[1;32mE:\\miniconda3\\envs\\NLUProject\\lib\\site-packages\\transformers-4.4.2-py3.8.egg\\transformers\\tokenization_utils.py\u001b[0m in \u001b[0;36mget_input_ids\u001b[1;34m(text)\u001b[0m\n\u001b[0;32m    426\u001b[0m                     )\n\u001b[0;32m    427\u001b[0m                 \u001b[1;32melse\u001b[0m\u001b[1;33m:\u001b[0m\u001b[1;33m\u001b[0m\u001b[1;33m\u001b[0m\u001b[0m\n\u001b[1;32m--> 428\u001b[1;33m                     raise ValueError(\n\u001b[0m\u001b[0;32m    429\u001b[0m                         \u001b[1;34mf\"Input {text} is not valid. Should be a string, a list/tuple of strings or a list/tuple of integers.\"\u001b[0m\u001b[1;33m\u001b[0m\u001b[1;33m\u001b[0m\u001b[0m\n\u001b[0;32m    430\u001b[0m                     )\n",
      "\u001b[1;31mValueError\u001b[0m: Input tensor([[  101,  2129,  1998,  2043,  1010,  1998,  2025,  1010,  2005,  1996,\n          2087,  2112,  1010,  2040,  1998,  2339,  1012,  2671,  2001,  2947,\n          2141,  2041,  1997,  1996, 19176,  2015,  1005, 10628,  1010,  2776,\n         11122,  2075,  2185,  1996,  2129,  1998,  2043,  2096,  4321,  2975,\n          2369,  1996,  2040,  1998,  2339,  1012,  1996, 21591,  1010,  1996,\n         14337,  1010,  1996,  2046,  3917,  4630,  1010,  1998,  1996, 15818,\n          1010,  1997,  2607,  1010,  2145,  4366,  3691,  1999,  2035,  2176,\n         13100,  1012,  1028,  1064,  1028,  4138,  4419,  1010, 14405,  8093,\n          2080,  1010,  2149, 17167, 23597, 17287,  1028,  2106,  2066,  2115,\n          6594,  2105,  2572,  7898,  1010,  1998,  1045,  2106,  3275,  2041,\n          2054,  2572,  2232,  2001,  2013,  1028,  2115,  2434,  2695,  1024,\n          1011,  1007,  2172, 14723,  1012,  6057,  2129,  8866,  7166,  2000,\n          8494, 10362,  2477,  1010,  3475,  1005,  1056,  2009,  1029,  2092,\n          1010,  1045,  2572,  2469,  2045,  2024,  7564,  1997,  1000,  4045,\n          1000,  4325,  2923,  1000,  2128,  8569, 28200,  2015,  1000,  2041,\n          2045,  4873,  1010,  2130,  2065,  2027,  2031,  2000,  2022,  2580,\n          2013,  2498,  1012,  1031,  2074,  2005,  1996,  2501,  1010,  2153,\n          1010,  2572,  2232,  1027, 28141,  2135,  2715,  4286,  1033,  2190,\n         12362,  1024,  1011,  1007,  1010,  4138,  4419,  1010, 14405,  8093,\n          2080,  1010,  2149, 17167, 23597, 17287,     0,     0,     0,     0,\n             0]]) is not valid. Should be a string, a list/tuple of strings or a list/tuple of integers."
     ]
    }
   ],
   "source": [
    "temp1 = tokenizer.encode(temp,padding='max_length',max_length=201,add_special_tokens=False)"
   ]
  },
  {
   "cell_type": "code",
   "execution_count": null,
   "id": "2c25e886",
   "metadata": {},
   "outputs": [],
   "source": [
    "temp1"
   ]
  },
  {
   "cell_type": "code",
   "execution_count": null,
   "id": "3b763497",
   "metadata": {},
   "outputs": [],
   "source": []
  },
  {
   "cell_type": "code",
   "execution_count": null,
   "id": "c7c36915",
   "metadata": {},
   "outputs": [],
   "source": [
    "a = [1.2,3,4,5]"
   ]
  },
  {
   "cell_type": "code",
   "execution_count": null,
   "id": "cef471d2",
   "metadata": {},
   "outputs": [],
   "source": [
    "a[50:6]"
   ]
  },
  {
   "cell_type": "code",
   "execution_count": null,
   "id": "bf15085a",
   "metadata": {},
   "outputs": [],
   "source": [
    "sub_seq = tokens[start_index:start_index+50]\n",
    "\n",
    "\n"
   ]
  },
  {
   "cell_type": "code",
   "execution_count": null,
   "id": "8111b0e0",
   "metadata": {},
   "outputs": [],
   "source": [
    "cls_token+sub_seq"
   ]
  },
  {
   "cell_type": "code",
   "execution_count": null,
   "id": "2a74fa99",
   "metadata": {},
   "outputs": [],
   "source": []
  },
  {
   "cell_type": "code",
   "execution_count": null,
   "id": "25d48ada",
   "metadata": {},
   "outputs": [],
   "source": []
  },
  {
   "cell_type": "code",
   "execution_count": null,
   "id": "8452e5ca",
   "metadata": {},
   "outputs": [],
   "source": []
  },
  {
   "cell_type": "code",
   "execution_count": null,
   "id": "69918d4f",
   "metadata": {},
   "outputs": [],
   "source": []
  },
  {
   "cell_type": "code",
   "execution_count": null,
   "id": "298bd260",
   "metadata": {},
   "outputs": [],
   "source": []
  },
  {
   "cell_type": "code",
   "execution_count": null,
   "id": "fffab381",
   "metadata": {},
   "outputs": [],
   "source": []
  },
  {
   "cell_type": "code",
   "execution_count": null,
   "id": "1b4fbbb2",
   "metadata": {},
   "outputs": [],
   "source": []
  },
  {
   "cell_type": "code",
   "execution_count": null,
   "id": "a5c610b0",
   "metadata": {},
   "outputs": [],
   "source": []
  },
  {
   "cell_type": "code",
   "execution_count": null,
   "id": "7068ea86",
   "metadata": {},
   "outputs": [],
   "source": []
  }
 ],
 "metadata": {
  "kernelspec": {
   "display_name": "Python 3",
   "language": "python",
   "name": "python3"
  },
  "language_info": {
   "codemirror_mode": {
    "name": "ipython",
    "version": 3
   },
   "file_extension": ".py",
   "mimetype": "text/x-python",
   "name": "python",
   "nbconvert_exporter": "python",
   "pygments_lexer": "ipython3",
   "version": "3.9.2"
  }
 },
 "nbformat": 4,
 "nbformat_minor": 5
}
