{
 "cells": [
  {
   "cell_type": "code",
   "execution_count": 1,
   "id": "8f8e6ac2",
   "metadata": {},
   "outputs": [],
   "source": [
    "import torch\n",
    "import torch.nn as nn\n",
    "import torch.nn.functional as F\n",
    "import torch.optim as optim\n",
    "from torch.utils.data import Dataset\n",
    "from torch.utils.data import DataLoader\n",
    "\n",
    "import numpy as np\n",
    "\n",
    "from tqdm.notebook import tqdm\n",
    "\n",
    "from transformers import BertTokenizer,BertModel\n",
    "from datasets import load_from_disk,load_dataset\n",
    "\n",
    "import matplotlib.pyplot as plt\n",
    "\n",
    "import pickle"
   ]
  },
  {
   "cell_type": "code",
   "execution_count": 2,
   "id": "87994ae6",
   "metadata": {},
   "outputs": [],
   "source": [
    "class EncodedSegmentsDataset(Dataset):\n",
    "    def __init__(self,data_list):\n",
    "        self.data_list = data_list\n",
    "        \n",
    "    def __len__(self):\n",
    "        return len(self.data_list)\n",
    " \n",
    "    def __getitem__(self,idx):\n",
    "        return(self.data_list[idx])\n",
    "    \n",
    "class LSTMoverBERT(nn.Module):\n",
    "    def __init__(self):\n",
    "        super().__init__()\n",
    "        self.LSTM = nn.LSTM(input_size=768,hidden_size = 128,num_layers=1,batch_first=True)\n",
    "        self.activation = nn.ReLU()\n",
    "        self.linear1 = nn.Linear(in_features=128,out_features=64)\n",
    "        self.linear2 = nn.Linear(in_features=64,out_features=20)\n",
    "        self.softmax = nn.Softmax(dim=1)\n",
    "        \n",
    "\n",
    "    def forward(self, x,verbose=False):\n",
    "        \n",
    "        #print('input x:', x.shape)\n",
    "        LSTM_out,LSTM_states = self.LSTM(x)\n",
    "        #print('LSTM out:', LSTM_out.shape)\n",
    "        #print('LSTM states[0]:', LSTM_states[0].shape)\n",
    "        #print('LSTM states[1]:', LSTM_states[1].shape)\n",
    "        last_hidden_state = LSTM_states[0][0,:,:]\n",
    "        #last_embedding = LSTM_out[:,-1,:]\n",
    "        out = self.linear1(last_hidden_state)\n",
    "        #print('linear out', out.shape) if verbose\n",
    "        out = self.activation(out)\n",
    "        #print('activation out', out.shape) if verbose\n",
    "        out = self.linear2(out)\n",
    "        out = self.softmax(out)\n",
    "        return out\n",
    "\n"
   ]
  },
  {
   "cell_type": "code",
   "execution_count": 3,
   "id": "4cca518b",
   "metadata": {},
   "outputs": [
    {
     "name": "stdout",
     "output_type": "stream",
     "text": [
      "Using device: cuda\n",
      "NVIDIA GeForce RTX 3060 Ti\n",
      "Memory Usage:\n",
      "Allocated: 0.0 GB\n",
      "Cached:    0.0 GB\n"
     ]
    }
   ],
   "source": [
    "device = torch.device('cuda' if torch.cuda.is_available() else 'cpu')\n",
    "print('Using device:', device)\n",
    "\n",
    "#Additional Info when using cuda\n",
    "if device.type == 'cuda':\n",
    "    print(torch.cuda.get_device_name(0))\n",
    "    print('Memory Usage:')\n",
    "    print('Allocated:', round(torch.cuda.memory_allocated(0)/1024**3,1), 'GB')\n",
    "    print('Cached:   ', round(torch.cuda.memory_reserved(0)/1024**3,1), 'GB')\n"
   ]
  },
  {
   "cell_type": "markdown",
   "id": "778b6ed1",
   "metadata": {},
   "source": [
    "# Start of Model"
   ]
  },
  {
   "cell_type": "code",
   "execution_count": 4,
   "id": "a5f5dad3",
   "metadata": {},
   "outputs": [],
   "source": [
    "#threshold = 1.0\n",
    "data_dir = r'\\\\wsl$\\Ubuntu-20.04\\home\\jolteon\\NLUProject\\data\\20news\\\\'\n",
    "processed_dir = data_dir + 'processed\\\\'\n",
    "split = 'train'\n",
    "file_name = 'bert_encoded_segments_list_overlap_200_200.pkl'\n",
    "\n",
    "# Our experiment below\n",
    "#with open(processed_dir+ split+'\\\\' + file_name + str(threshold) +'.pkl', 'rb') as handle:\n",
    "#    bert_encoded_segments_list = pickle.load(handle)\n",
    "\n",
    "# Baseline (Hierarchical Transformers Pappagari) below\n",
    "with open(processed_dir+ split+'\\\\' + file_name, 'rb') as handle:\n",
    "    bert_encoded_segments_list = pickle.load(handle)\n",
    " "
   ]
  },
  {
   "cell_type": "code",
   "execution_count": 5,
   "id": "3ed98037",
   "metadata": {},
   "outputs": [],
   "source": [
    "encoded_dataset = EncodedSegmentsDataset(bert_encoded_segments_list)\n",
    "val_prop =.1\n",
    "bsize = 1\n",
    "\n",
    "dataset_size = len(encoded_dataset)\n",
    "val_size = int(val_prop * dataset_size)\n",
    "train_size = dataset_size - val_size\n",
    "\n",
    "train_dataset, val_dataset =  torch.utils.data.random_split(encoded_dataset,[train_size,val_size])\n",
    "encoded_train_loader = DataLoader(train_dataset,batch_size=bsize,shuffle=True, pin_memory=True)\n",
    "encoded_val_loader = DataLoader(val_dataset,batch_size=bsize,shuffle=True, pin_memory=True)\n",
    "\n"
   ]
  },
  {
   "cell_type": "code",
   "execution_count": 6,
   "id": "dd47463b",
   "metadata": {},
   "outputs": [],
   "source": [
    "LoBERT_model = LSTMoverBERT()\n",
    "LoBERT_model.to(device)\n",
    "LoBERT_model.train()\n",
    "criterion = nn.CrossEntropyLoss(reduction='sum')\n",
    "optimizer = optim.Adam(LoBERT_model.parameters(),lr=5e-4,)\n",
    "\n",
    "num_epochs=30\n",
    "model_save_path = r'\\\\wsl$\\Ubuntu-20.04\\home\\jolteon\\NLUProject\\models\\best_baseline_LoBERT.ckpt'\n",
    "best_val_accuracy = 0\n",
    "\n"
   ]
  },
  {
   "cell_type": "code",
   "execution_count": 7,
   "id": "e4dc66e3",
   "metadata": {},
   "outputs": [
    {
     "data": {
      "image/png": "[encoded data removed]",
      "text/plain": [
       "<Figure size 432x288 with 1 Axes>"
      ]
     },
     "metadata": {
      "needs_background": "light"
     },
     "output_type": "display_data"
    }
   ],
   "source": [
    "seg_length_list = []\n",
    "for label, encoded_segments in bert_encoded_segments_list:\n",
    "    seg_length_list.append(encoded_segments.shape[0])\n",
    "plt.hist(seg_length_list,bins = np.arange(0,100,5))\n",
    "plt.show()"
   ]
  },
  {
   "cell_type": "code",
   "execution_count": null,
   "id": "9a607110",
   "metadata": {},
   "outputs": [],
   "source": []
  },
  {
   "cell_type": "code",
   "execution_count": 8,
   "id": "2a1428a7",
   "metadata": {},
   "outputs": [
    {
     "data": {
      "application/vnd.jupyter.widget-view+json": {
       "model_id": "34ffca983891456b90dcf993bcc9ff34",
       "version_major": 2,
       "version_minor": 0
      },
      "text/plain": [
       "HBox(children=(FloatProgress(value=0.0, max=30.0), HTML(value='')))"
      ]
     },
     "metadata": {},
     "output_type": "display_data"
    },
    {
     "name": "stdout",
     "output_type": "stream",
     "text": [
      "Epoch: 0 train_loss: 2.858399542846275 accuracy:  tensor(0.2175, device='cuda:0')\n",
      "Epoch: 0 val_loss: 2.782588033524369 accuracy:  tensor(0.2997, device='cuda:0')\n",
      "Epoch: 1 train_loss: 2.721427210583313 accuracy:  tensor(0.3638, device='cuda:0')\n",
      "Epoch: 1 val_loss: 2.7464534186558 accuracy:  tensor(0.3271, device='cuda:0')\n",
      "Epoch: 2 train_loss: 2.6664246843428483 accuracy:  tensor(0.4159, device='cuda:0')\n",
      "Epoch: 2 val_loss: 2.6749500572734126 accuracy:  tensor(0.4032, device='cuda:0')\n",
      "Epoch: 3 train_loss: 2.6310583238668177 accuracy:  tensor(0.4519, device='cuda:0')\n",
      "Epoch: 3 val_loss: 2.665841368844718 accuracy:  tensor(0.4067, device='cuda:0')\n",
      "Epoch: 4 train_loss: 2.609584771379862 accuracy:  tensor(0.4715, device='cuda:0')\n",
      "Epoch: 4 val_loss: 2.6492705794164926 accuracy:  tensor(0.4297, device='cuda:0')\n",
      "Epoch: 5 train_loss: 2.5984460104779648 accuracy:  tensor(0.4810, device='cuda:0')\n",
      "Epoch: 5 val_loss: 2.6413171219678184 accuracy:  tensor(0.4297, device='cuda:0')\n",
      "Epoch: 6 train_loss: 2.583424371878384 accuracy:  tensor(0.4972, device='cuda:0')\n",
      "Epoch: 6 val_loss: 2.633582242287755 accuracy:  tensor(0.4421, device='cuda:0')\n",
      "Epoch: 7 train_loss: 2.5741074322647397 accuracy:  tensor(0.5054, device='cuda:0')\n",
      "Epoch: 7 val_loss: 2.6229483299187915 accuracy:  tensor(0.4562, device='cuda:0')\n",
      "Epoch: 8 train_loss: 2.562244200699458 accuracy:  tensor(0.5157, device='cuda:0')\n",
      "Epoch: 8 val_loss: 2.6193825066563936 accuracy:  tensor(0.4624, device='cuda:0')\n",
      "Epoch: 9 train_loss: 2.551106858625752 accuracy:  tensor(0.5274, device='cuda:0')\n",
      "Epoch: 9 val_loss: 2.5839574775476564 accuracy:  tensor(0.4969, device='cuda:0')\n",
      "Epoch: 10 train_loss: 2.5385316728222738 accuracy:  tensor(0.5388, device='cuda:0')\n",
      "Epoch: 10 val_loss: 2.578547679671769 accuracy:  tensor(0.4996, device='cuda:0')\n",
      "Epoch: 11 train_loss: 2.5323143030423423 accuracy:  tensor(0.5472, device='cuda:0')\n",
      "Epoch: 11 val_loss: 2.6024920807593066 accuracy:  tensor(0.4730, device='cuda:0')\n",
      "Epoch: 12 train_loss: 2.527647409600171 accuracy:  tensor(0.5517, device='cuda:0')\n",
      "Epoch: 12 val_loss: 2.5557118495094575 accuracy:  tensor(0.5164, device='cuda:0')\n",
      "Epoch: 13 train_loss: 2.5177638914476708 accuracy:  tensor(0.5601, device='cuda:0')\n",
      "Epoch: 13 val_loss: 2.599395414878582 accuracy:  tensor(0.4775, device='cuda:0')\n",
      "Epoch: 14 train_loss: 2.5102247903146364 accuracy:  tensor(0.5679, device='cuda:0')\n",
      "Epoch: 14 val_loss: 2.6068234116919373 accuracy:  tensor(0.4730, device='cuda:0')\n",
      "Epoch: 15 train_loss: 2.508000711203909 accuracy:  tensor(0.5714, device='cuda:0')\n",
      "Epoch: 15 val_loss: 2.565647436179069 accuracy:  tensor(0.5119, device='cuda:0')\n",
      "Epoch: 16 train_loss: 2.498548334735697 accuracy:  tensor(0.5796, device='cuda:0')\n",
      "Epoch: 16 val_loss: 2.5972748772429743 accuracy:  tensor(0.4801, device='cuda:0')\n",
      "Epoch: 17 train_loss: 2.4917038882468243 accuracy:  tensor(0.5866, device='cuda:0')\n",
      "Epoch: 17 val_loss: 2.5756843214431346 accuracy:  tensor(0.5022, device='cuda:0')\n",
      "Epoch: 18 train_loss: 2.4904400909460915 accuracy:  tensor(0.5874, device='cuda:0')\n",
      "Epoch: 18 val_loss: 2.5934547045713603 accuracy:  tensor(0.4845, device='cuda:0')\n",
      "Epoch: 19 train_loss: 2.492280626559227 accuracy:  tensor(0.5864, device='cuda:0')\n",
      "Epoch: 19 val_loss: 2.575715539520763 accuracy:  tensor(0.5013, device='cuda:0')\n",
      "Epoch: 20 train_loss: 2.481516300900259 accuracy:  tensor(0.5986, device='cuda:0')\n",
      "Epoch: 20 val_loss: 2.5757447836359026 accuracy:  tensor(0.4996, device='cuda:0')\n",
      "Epoch: 21 train_loss: 2.4826124645597654 accuracy:  tensor(0.5962, device='cuda:0')\n",
      "Epoch: 21 val_loss: 2.594825980307042 accuracy:  tensor(0.4801, device='cuda:0')\n",
      "Epoch: 22 train_loss: 2.474578769645065 accuracy:  tensor(0.6044, device='cuda:0')\n",
      "Epoch: 22 val_loss: 2.5570179834289957 accuracy:  tensor(0.5190, device='cuda:0')\n",
      "Epoch: 23 train_loss: 2.46855174679191 accuracy:  tensor(0.6075, device='cuda:0')\n",
      "Epoch: 23 val_loss: 2.5685398804203374 accuracy:  tensor(0.5084, device='cuda:0')\n",
      "Epoch: 24 train_loss: 2.458596586888424 accuracy:  tensor(0.6206, device='cuda:0')\n",
      "Epoch: 24 val_loss: 2.5858598352005586 accuracy:  tensor(0.4925, device='cuda:0')\n",
      "Epoch: 25 train_loss: 2.459448901419671 accuracy:  tensor(0.6187, device='cuda:0')\n",
      "Epoch: 25 val_loss: 2.588475011704139 accuracy:  tensor(0.4854, device='cuda:0')\n",
      "Epoch: 26 train_loss: 2.457752672473773 accuracy:  tensor(0.6201, device='cuda:0')\n",
      "Epoch: 26 val_loss: 2.5698526167005276 accuracy:  tensor(0.5075, device='cuda:0')\n",
      "Epoch: 27 train_loss: 2.4540848828926074 accuracy:  tensor(0.6235, device='cuda:0')\n",
      "Epoch: 27 val_loss: 2.549597622966682 accuracy:  tensor(0.5296, device='cuda:0')\n",
      "Epoch: 28 train_loss: 2.453346005547179 accuracy:  tensor(0.6270, device='cuda:0')\n",
      "Epoch: 28 val_loss: 2.561396056840527 accuracy:  tensor(0.5172, device='cuda:0')\n",
      "Epoch: 29 train_loss: 2.4481642544298827 accuracy:  tensor(0.6309, device='cuda:0')\n",
      "Epoch: 29 val_loss: 2.545259896893084 accuracy:  tensor(0.5305, device='cuda:0')\n",
      "\n"
     ]
    }
   ],
   "source": [
    "train_loss_list = []\n",
    "val_loss_list = []\n",
    "train_accuracy_list = []\n",
    "val_accuracy_list = []\n",
    "\n",
    "for epoch in tqdm(range(num_epochs)):  # loop over the dataset multiple times\n",
    "    train_loss = 0\n",
    "    train_correct = 0\n",
    "    val_loss = 0\n",
    "    val_correct = 0\n",
    "    \n",
    "    #START TRAIN\n",
    "    LoBERT_model.train()\n",
    "    for idx, batch in enumerate(encoded_train_loader):\n",
    "        optimizer.zero_grad()\n",
    "\n",
    "        # Define and move to GPU\n",
    "        label = batch[0]\n",
    "        model_input = batch[1]\n",
    "        label = label.to(device)\n",
    "        model_input = model_input.to(device)\n",
    "        # Forward Pass\n",
    "        out = LoBERT_model(model_input)\n",
    "        loss = criterion(out,label)\n",
    "        #Record Metrics pt 1/2\n",
    "        train_loss += loss.item()\n",
    "        pred = torch.argmax(out)\n",
    "        train_correct +=(pred == label).sum()\n",
    "        \n",
    "        #Backward pass\n",
    "        loss.backward()\n",
    "        optimizer.step()\n",
    "    \n",
    "    #Record Metrics pt 2/2\n",
    "    train_loss = train_loss/ len(encoded_train_loader)\n",
    "    train_accuracy = train_correct/len(encoded_train_loader)\n",
    "    #Print and save\n",
    "    print('Epoch:', epoch, 'train_loss:',train_loss, 'accuracy: ',train_accuracy)\n",
    "    train_loss_list.append(train_loss)\n",
    "    train_accuracy_list.append(train_accuracy.cpu())\n",
    "    \n",
    "    # START VAL\n",
    "    LoBERT_model.eval()\n",
    "    \n",
    "    with torch.no_grad():\n",
    "        for idx, batch in enumerate(encoded_val_loader):\n",
    "            #Define and move to GPU\n",
    "            label = batch[0]\n",
    "            model_input = batch[1]\n",
    "            label = label.to(device)\n",
    "            model_input = model_input.to(device)\n",
    "            #Forward Pass\n",
    "            out = LoBERT_model(model_input)\n",
    "            loss = criterion(out,label)\n",
    "            #Record metrics pt 1/2\n",
    "            val_loss += loss.item()\n",
    "\n",
    "            pred = torch.argmax(out)\n",
    "            val_correct +=(pred == label).sum()\n",
    "            \n",
    "    #Record metrics pt 2/2\n",
    "    val_loss = val_loss/ len(encoded_val_loader)\n",
    "    val_accuracy = val_correct/len(encoded_val_loader)\n",
    "    #Print and save\n",
    "    print('Epoch:', epoch, 'val_loss:',val_loss, 'accuracy: ',val_accuracy)\n",
    "    val_loss_list.append(val_loss)\n",
    "    val_accuracy_list.append(val_accuracy.cpu())\n",
    "    \n",
    "    if val_accuracy > best_val_accuracy:\n",
    "        best_val_accuracy = val_accuracy\n",
    "        torch.save(LoBERT_model.state_dict(), model_save_path)\n",
    "\n"
   ]
  },
  {
   "cell_type": "code",
   "execution_count": 9,
   "id": "8c6f1b73",
   "metadata": {},
   "outputs": [],
   "source": [
    "results = {'train_loss' : train_loss_list,\n",
    "           'val_loss' : val_loss_list,\n",
    "           'train_accuracy' : train_accuracy_list,\n",
    "           'val_accuracy' : val_accuracy_list\n",
    "           \n",
    "    \n",
    "}\n",
    "baseline_results_path =  r'\\\\wsl$\\Ubuntu-20.04\\home\\jolteon\\NLUProject\\models\\overlap_200_200_results.pkl'\n",
    "with open(baseline_results_path, 'wb') as handle:\n",
    "    pickle.dump(results, handle, protocol=pickle.HIGHEST_PROTOCOL)"
   ]
  },
  {
   "cell_type": "code",
   "execution_count": 10,
   "id": "bd5c102c",
   "metadata": {},
   "outputs": [
    {
     "data": {
      "image/png": "[encoded data removed]",
      "text/plain": [
       "<Figure size 432x288 with 1 Axes>"
      ]
     },
     "metadata": {
      "needs_background": "light"
     },
     "output_type": "display_data"
    }
   ],
   "source": [
    "\n",
    "plt.plot(val_loss_list,label='Validation Loss')\n",
    "plt.plot(train_loss_list,label='Train Loss')\n",
    "plt.legend()\n",
    "plt.title('Cross Entropy Loss vs Epoch')\n",
    "plt.xlabel('Epoch')\n",
    "plt.ylabel('Cross Entropy Loss')\n",
    "plt.show()"
   ]
  },
  {
   "cell_type": "code",
   "execution_count": null,
   "id": "4ca742b1",
   "metadata": {},
   "outputs": [],
   "source": []
  },
  {
   "cell_type": "code",
   "execution_count": 11,
   "id": "62f085d2",
   "metadata": {},
   "outputs": [
    {
     "data": {
      "image/png": "[encoded data removed]",
      "text/plain": [
       "<Figure size 432x288 with 1 Axes>"
      ]
     },
     "metadata": {
      "needs_background": "light"
     },
     "output_type": "display_data"
    }
   ],
   "source": [
    "\n",
    "plt.plot(val_accuracy_list,label='Validation Accuracy')\n",
    "plt.plot(train_accuracy_list,label='Train Accuracy')\n",
    "plt.legend()\n",
    "plt.title('Accuracy vs Epoch')\n",
    "plt.xlabel('Epoch')\n",
    "plt.ylabel('Accuracy')\n",
    "plt.show()"
   ]
  },
  {
   "cell_type": "code",
   "execution_count": null,
   "id": "533c22a8",
   "metadata": {},
   "outputs": [],
   "source": []
  },
  {
   "cell_type": "code",
   "execution_count": null,
   "id": "661a65ff",
   "metadata": {},
   "outputs": [],
   "source": []
  },
  {
   "cell_type": "code",
   "execution_count": null,
   "id": "58d926da",
   "metadata": {},
   "outputs": [],
   "source": []
  },
  {
   "cell_type": "code",
   "execution_count": null,
   "id": "3e52c727",
   "metadata": {},
   "outputs": [],
   "source": []
  },
  {
   "cell_type": "code",
   "execution_count": null,
   "id": "fe4dc243",
   "metadata": {},
   "outputs": [],
   "source": []
  },
  {
   "cell_type": "code",
   "execution_count": null,
   "id": "907135e3",
   "metadata": {},
   "outputs": [],
   "source": []
  },
  {
   "cell_type": "code",
   "execution_count": null,
   "id": "326d1f12",
   "metadata": {},
   "outputs": [],
   "source": []
  },
  {
   "cell_type": "code",
   "execution_count": null,
   "id": "1672b6a7",
   "metadata": {},
   "outputs": [],
   "source": []
  },
  {
   "cell_type": "code",
   "execution_count": null,
   "id": "9ea2e207",
   "metadata": {},
   "outputs": [],
   "source": []
  },
  {
   "cell_type": "code",
   "execution_count": null,
   "id": "db693472",
   "metadata": {},
   "outputs": [],
   "source": []
  }
 ],
 "metadata": {
  "kernelspec": {
   "display_name": "Python 3",
   "language": "python",
   "name": "python3"
  },
  "language_info": {
   "codemirror_mode": {
    "name": "ipython",
    "version": 3
   },
   "file_extension": ".py",
   "mimetype": "text/x-python",
   "name": "python",
   "nbconvert_exporter": "python",
   "pygments_lexer": "ipython3",
   "version": "3.9.2"
  }
 },
 "nbformat": 4,
 "nbformat_minor": 5
}
