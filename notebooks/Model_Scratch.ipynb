{
 "cells": [
  {
   "cell_type": "code",
   "execution_count": 1,
   "id": "6de98070",
   "metadata": {},
   "outputs": [],
   "source": [
    "import torch\n",
    "import torch.nn as nn\n",
    "import torch.nn.functional as F\n",
    "import torch.optim as optim\n",
    "from torch.utils.data import Dataset\n",
    "from torch.utils.data import DataLoader\n",
    "\n",
    "\n",
    "from tqdm.notebook import tqdm\n",
    "\n",
    "from transformers import BertTokenizer,BertModel\n",
    "from datasets import load_from_disk,load_dataset\n",
    "\n",
    "import matplotlib.pyplot as plt\n",
    "\n",
    "import pickle"
   ]
  },
  {
   "cell_type": "code",
   "execution_count": 49,
   "id": "0845db64",
   "metadata": {},
   "outputs": [],
   "source": [
    "class EncodedSegmentsDataset(Dataset):\n",
    "    def __init__(self,data_list):\n",
    "        self.data_list = data_list\n",
    "        \n",
    "    def __len__(self):\n",
    "        return len(self.data_list)\n",
    " \n",
    "    def __getitem__(self,idx):\n",
    "        return(self.data_list[idx])\n",
    "    \n",
    "class LSTMoverBERT(nn.Module):\n",
    "    def __init__(self):\n",
    "        super().__init__()\n",
    "        self.LSTM = nn.LSTM(input_size=768,hidden_size = 128,num_layers=1,batch_first=True)\n",
    "        self.activation = nn.ReLU()\n",
    "        self.linear1 = nn.Linear(in_features=128,out_features=64)\n",
    "        self.linear2 = nn.Linear(in_features=64,out_features=20)\n",
    "        self.softmax = nn.Softmax(dim=1)\n",
    "        \n",
    "\n",
    "    def forward(self, x,verbose=False):\n",
    "        \n",
    "        #print('input x:', x.shape)\n",
    "        LSTM_out,LSTM_states = self.LSTM(x)\n",
    "        #print('LSTM out:', LSTM_out.shape)\n",
    "        #print('LSTM states[0]:', LSTM_states[0].shape)\n",
    "        #print('LSTM states[1]:', LSTM_states[1].shape)\n",
    "        last_hidden_state = LSTM_states[0][0,:,:]\n",
    "        #last_embedding = LSTM_out[:,-1,:]\n",
    "        out = self.linear1(last_hidden_state)\n",
    "        #print('linear out', out.shape) if verbose\n",
    "        out = self.activation(out)\n",
    "        #print('activation out', out.shape) if verbose\n",
    "        out = self.linear2(out)\n",
    "        out = self.softmax(out)\n",
    "        return out\n",
    "\n"
   ]
  },
  {
   "cell_type": "code",
   "execution_count": 50,
   "id": "42a9a05d",
   "metadata": {},
   "outputs": [
    {
     "name": "stdout",
     "output_type": "stream",
     "text": [
      "Using device: cuda\n",
      "NVIDIA GeForce RTX 3060 Ti\n",
      "Memory Usage:\n",
      "Allocated: 1.0 GB\n",
      "Cached:    1.0 GB\n"
     ]
    }
   ],
   "source": [
    "device = torch.device('cuda' if torch.cuda.is_available() else 'cpu')\n",
    "print('Using device:', device)\n",
    "\n",
    "#Additional Info when using cuda\n",
    "if device.type == 'cuda':\n",
    "    print(torch.cuda.get_device_name(0))\n",
    "    print('Memory Usage:')\n",
    "    print('Allocated:', round(torch.cuda.memory_allocated(0)/1024**3,1), 'GB')\n",
    "    print('Cached:   ', round(torch.cuda.memory_reserved(0)/1024**3,1), 'GB')\n"
   ]
  },
  {
   "cell_type": "markdown",
   "id": "ea8bb5b6",
   "metadata": {},
   "source": [
    "# Start of Model"
   ]
  },
  {
   "cell_type": "code",
   "execution_count": 27,
   "id": "521f2d7e",
   "metadata": {},
   "outputs": [],
   "source": [
    "#threshold = 1.0\n",
    "data_dir = r'\\\\wsl$\\Ubuntu-20.04\\home\\jolteon\\NLUProject\\data\\20news\\\\'\n",
    "processed_dir = data_dir + 'processed\\\\'\n",
    "split='train'\n",
    "file_name = 'bert_encoded_segments_list_'\n",
    "\n",
    "# Our experiment below\n",
    "#with open(processed_dir+ split+'\\\\' + file_name + str(threshold) +'.pkl', 'rb') as handle:\n",
    "#    bert_encoded_segments_list = pickle.load(handle)\n",
    "\n",
    "# Baseline (Hierarchical Transformers Pappagari) below\n",
    "with open(processed_dir+ split+'\\\\' + file_name + 'baseline' +'.pkl', 'rb') as handle:\n",
    "    bert_encoded_segments_list = pickle.load(handle)\n",
    " "
   ]
  },
  {
   "cell_type": "code",
   "execution_count": 33,
   "id": "542d4adc",
   "metadata": {},
   "outputs": [],
   "source": [
    "encoded_dataset = EncodedSegmentsDataset(bert_encoded_segments_list)\n",
    "val_prop =.1\n",
    "bsize = 1\n",
    "\n",
    "dataset_size = len(encoded_dataset)\n",
    "val_size = int(val_prop * dataset_size)\n",
    "train_size = dataset_size - val_size\n",
    "\n",
    "train_dataset, val_dataset =  torch.utils.data.random_split(encoded_dataset,[train_size,val_size])\n",
    "encoded_train_loader = DataLoader(train_dataset,batch_size=bsize,shuffle=True, pin_memory=True)\n",
    "encoded_val_loader = DataLoader(val_dataset,batch_size=bsize,shuffle=True, pin_memory=True)\n",
    "\n"
   ]
  },
  {
   "cell_type": "code",
   "execution_count": 35,
   "id": "f18fbfb1",
   "metadata": {},
   "outputs": [],
   "source": [
    "LoBERT_model = LSTMoverBERT()\n",
    "LoBERT_model.to(device)\n",
    "LoBERT_model.train()\n",
    "criterion = nn.CrossEntropyLoss(reduction='sum')\n",
    "optimizer = optim.Adam(LoBERT_model.parameters(),lr=5e-4,)\n",
    "\n",
    "num_epochs=30\n",
    "model_save_path = r'\\\\wsl$\\Ubuntu-20.04\\home\\jolteon\\NLUProject\\models\\best_baseline_LoBERT.ckpt'\n",
    "best_val_accuracy = 0\n",
    "\n"
   ]
  },
  {
   "cell_type": "code",
   "execution_count": 36,
   "id": "61f5fad0",
   "metadata": {},
   "outputs": [
    {
     "data": {
      "application/vnd.jupyter.widget-view+json": {
       "model_id": "170fec58f92c4c3e941332a1e6a63e9b",
       "version_major": 2,
       "version_minor": 0
      },
      "text/plain": [
       "HBox(children=(FloatProgress(value=0.0, max=30.0), HTML(value='')))"
      ]
     },
     "metadata": {},
     "output_type": "display_data"
    },
    {
     "name": "stdout",
     "output_type": "stream",
     "text": [
      "Epoch: 0 train_loss: 2.8544545136885993 accuracy:  tensor(0.2260, device='cuda:0')\n",
      "Epoch: 0 val_loss: 2.7964432515684847 accuracy:  tensor(0.2794, device='cuda:0')\n",
      "Epoch: 1 train_loss: 2.737805949884209 accuracy:  tensor(0.3418, device='cuda:0')\n",
      "Epoch: 1 val_loss: 2.7181828274967184 accuracy:  tensor(0.3599, device='cuda:0')\n",
      "Epoch: 2 train_loss: 2.6725295448097186 accuracy:  tensor(0.4088, device='cuda:0')\n",
      "Epoch: 2 val_loss: 2.67942721310387 accuracy:  tensor(0.4023, device='cuda:0')\n",
      "Epoch: 3 train_loss: 2.63823527733961 accuracy:  tensor(0.4408, device='cuda:0')\n",
      "Epoch: 3 val_loss: 2.661889452306071 accuracy:  tensor(0.4111, device='cuda:0')\n",
      "Epoch: 4 train_loss: 2.621837510372395 accuracy:  tensor(0.4577, device='cuda:0')\n",
      "Epoch: 4 val_loss: 2.659248869994591 accuracy:  tensor(0.4138, device='cuda:0')\n",
      "Epoch: 5 train_loss: 2.602924616903661 accuracy:  tensor(0.4775, device='cuda:0')\n",
      "Epoch: 5 val_loss: 2.6394430711984 accuracy:  tensor(0.4324, device='cuda:0')\n",
      "Epoch: 6 train_loss: 2.590866820699607 accuracy:  tensor(0.4893, device='cuda:0')\n",
      "Epoch: 6 val_loss: 2.6347019948546175 accuracy:  tensor(0.4368, device='cuda:0')\n",
      "Epoch: 7 train_loss: 2.5813068519181335 accuracy:  tensor(0.4981, device='cuda:0')\n",
      "Epoch: 7 val_loss: 2.622322823282473 accuracy:  tensor(0.4553, device='cuda:0')\n",
      "Epoch: 8 train_loss: 2.5731584481894236 accuracy:  tensor(0.5060, device='cuda:0')\n",
      "Epoch: 8 val_loss: 2.6133875165968 accuracy:  tensor(0.4607, device='cuda:0')\n",
      "Epoch: 9 train_loss: 2.56389397044998 accuracy:  tensor(0.5141, device='cuda:0')\n",
      "Epoch: 9 val_loss: 2.6256609053658133 accuracy:  tensor(0.4492, device='cuda:0')\n",
      "Epoch: 10 train_loss: 2.55979862061416 accuracy:  tensor(0.5178, device='cuda:0')\n",
      "Epoch: 10 val_loss: 2.610583667940634 accuracy:  tensor(0.4642, device='cuda:0')\n",
      "Epoch: 11 train_loss: 2.5452290833915345 accuracy:  tensor(0.5331, device='cuda:0')\n",
      "Epoch: 11 val_loss: 2.606896535998209 accuracy:  tensor(0.4757, device='cuda:0')\n",
      "Epoch: 12 train_loss: 2.542465749452335 accuracy:  tensor(0.5371, device='cuda:0')\n",
      "Epoch: 12 val_loss: 2.605482659226071 accuracy:  tensor(0.4721, device='cuda:0')\n",
      "Epoch: 13 train_loss: 2.5385950046684655 accuracy:  tensor(0.5414, device='cuda:0')\n",
      "Epoch: 13 val_loss: 2.627292950104866 accuracy:  tensor(0.4500, device='cuda:0')\n",
      "Epoch: 14 train_loss: 2.537192037083786 accuracy:  tensor(0.5403, device='cuda:0')\n",
      "Epoch: 14 val_loss: 2.6002969672256184 accuracy:  tensor(0.4801, device='cuda:0')\n",
      "Epoch: 15 train_loss: 2.5307328028586644 accuracy:  tensor(0.5477, device='cuda:0')\n",
      "Epoch: 15 val_loss: 2.6043315844447292 accuracy:  tensor(0.4730, device='cuda:0')\n",
      "Epoch: 16 train_loss: 2.524159912438848 accuracy:  tensor(0.5540, device='cuda:0')\n",
      "Epoch: 16 val_loss: 2.600321157541452 accuracy:  tensor(0.4748, device='cuda:0')\n",
      "Epoch: 17 train_loss: 2.520428532714941 accuracy:  tensor(0.5569, device='cuda:0')\n",
      "Epoch: 17 val_loss: 2.6183170838022947 accuracy:  tensor(0.4553, device='cuda:0')\n",
      "Epoch: 18 train_loss: 2.5140397687985225 accuracy:  tensor(0.5656, device='cuda:0')\n",
      "Epoch: 18 val_loss: 2.610840351996856 accuracy:  tensor(0.4651, device='cuda:0')\n",
      "Epoch: 19 train_loss: 2.513733145015993 accuracy:  tensor(0.5642, device='cuda:0')\n",
      "Epoch: 19 val_loss: 2.604111793081282 accuracy:  tensor(0.4730, device='cuda:0')\n",
      "Epoch: 20 train_loss: 2.5154483881420955 accuracy:  tensor(0.5622, device='cuda:0')\n",
      "Epoch: 20 val_loss: 2.609163142220306 accuracy:  tensor(0.4686, device='cuda:0')\n",
      "Epoch: 21 train_loss: 2.5075686924773395 accuracy:  tensor(0.5708, device='cuda:0')\n",
      "Epoch: 21 val_loss: 2.6067667633532214 accuracy:  tensor(0.4695, device='cuda:0')\n",
      "Epoch: 22 train_loss: 2.5088680970531825 accuracy:  tensor(0.5692, device='cuda:0')\n",
      "Epoch: 22 val_loss: 2.6108832989615958 accuracy:  tensor(0.4642, device='cuda:0')\n",
      "Epoch: 23 train_loss: 2.502850035605889 accuracy:  tensor(0.5747, device='cuda:0')\n",
      "Epoch: 23 val_loss: 2.602537430882138 accuracy:  tensor(0.4783, device='cuda:0')\n",
      "Epoch: 24 train_loss: 2.5035443140202416 accuracy:  tensor(0.5749, device='cuda:0')\n",
      "Epoch: 24 val_loss: 2.596198253564135 accuracy:  tensor(0.4836, device='cuda:0')\n",
      "Epoch: 25 train_loss: 2.5046511959329543 accuracy:  tensor(0.5733, device='cuda:0')\n",
      "Epoch: 25 val_loss: 2.609948173442001 accuracy:  tensor(0.4668, device='cuda:0')\n",
      "Epoch: 26 train_loss: 2.4991477937322815 accuracy:  tensor(0.5793, device='cuda:0')\n",
      "Epoch: 26 val_loss: 2.6038330461365473 accuracy:  tensor(0.4695, device='cuda:0')\n",
      "Epoch: 27 train_loss: 2.4965798904464274 accuracy:  tensor(0.5820, device='cuda:0')\n",
      "Epoch: 27 val_loss: 2.6009683126269136 accuracy:  tensor(0.4775, device='cuda:0')\n",
      "Epoch: 28 train_loss: 2.5006201891911752 accuracy:  tensor(0.5780, device='cuda:0')\n",
      "Epoch: 28 val_loss: 2.6043378229588137 accuracy:  tensor(0.4730, device='cuda:0')\n",
      "Epoch: 29 train_loss: 2.4970426379165116 accuracy:  tensor(0.5790, device='cuda:0')\n",
      "Epoch: 29 val_loss: 2.592113031738106 accuracy:  tensor(0.4836, device='cuda:0')\n",
      "\n"
     ]
    }
   ],
   "source": [
    "train_loss_list = []\n",
    "val_loss_list = []\n",
    "train_accuracy_list = []\n",
    "val_accuracy_list = []\n",
    "\n",
    "for epoch in tqdm(range(num_epochs)):  # loop over the dataset multiple times\n",
    "    train_loss = 0\n",
    "    train_correct = 0\n",
    "    val_loss = 0\n",
    "    val_correct = 0\n",
    "    \n",
    "    #START TRAIN\n",
    "    LoBERT_model.train()\n",
    "    for idx, batch in enumerate(encoded_train_loader):\n",
    "        optimizer.zero_grad()\n",
    "\n",
    "        # Define and move to GPU\n",
    "        label = batch[0]\n",
    "        model_input = batch[1]\n",
    "        label = label.to(device)\n",
    "        model_input = model_input.to(device)\n",
    "        # Forward Pass\n",
    "        out = LoBERT_model(model_input)\n",
    "        loss = criterion(out,label)\n",
    "        #Record Metrics pt 1/2\n",
    "        train_loss += loss.item()\n",
    "        pred = torch.argmax(out)\n",
    "        train_correct +=(pred == label).sum()\n",
    "        \n",
    "        #Backward pass\n",
    "        loss.backward()\n",
    "        optimizer.step()\n",
    "    \n",
    "    #Record Metrics pt 2/2\n",
    "    train_loss = train_loss/ len(encoded_train_loader)\n",
    "    train_accuracy = train_correct/len(encoded_train_loader)\n",
    "    #Print and save\n",
    "    print('Epoch:', epoch, 'train_loss:',train_loss, 'accuracy: ',train_accuracy)\n",
    "    train_loss_list.append(train_loss)\n",
    "    train_accuracy_list.append(train_accuracy.cpu())\n",
    "    \n",
    "    # START VAL\n",
    "    LoBERT_model.eval()\n",
    "    \n",
    "    with torch.no_grad():\n",
    "        for idx, batch in enumerate(encoded_val_loader):\n",
    "            #Define and move to GPU\n",
    "            label = batch[0]\n",
    "            model_input = batch[1]\n",
    "            label = label.to(device)\n",
    "            model_input = model_input.to(device)\n",
    "            #Forward Pass\n",
    "            out = LoBERT_model(model_input)\n",
    "            loss = criterion(out,label)\n",
    "            #Record metrics pt 1/2\n",
    "            val_loss += loss.item()\n",
    "\n",
    "            pred = torch.argmax(out)\n",
    "            val_correct +=(pred == label).sum()\n",
    "            \n",
    "    #Record metrics pt 2/2\n",
    "    val_loss = val_loss/ len(encoded_val_loader)\n",
    "    val_accuracy = val_correct/len(encoded_val_loader)\n",
    "    #Print and save\n",
    "    print('Epoch:', epoch, 'val_loss:',val_loss, 'accuracy: ',val_accuracy)\n",
    "    val_loss_list.append(val_loss)\n",
    "    val_accuracy_list.append(val_accuracy.cpu())\n",
    "    \n",
    "    if val_accuracy > best_val_accuracy:\n",
    "        best_val_accuracy = val_accuracy\n",
    "        torch.save(LoBERT_model.state_dict(), model_save_path)\n",
    "\n"
   ]
  },
  {
   "cell_type": "code",
   "execution_count": 53,
   "id": "b5831f09",
   "metadata": {},
   "outputs": [],
   "source": [
    "results = {'train_loss' : train_loss_list,\n",
    "           'val_loss' : val_loss_list,\n",
    "           'train_accuracy' : train_accuracy_list,\n",
    "           'val_accuracy' : val_accuracy_list\n",
    "           \n",
    "    \n",
    "}\n",
    "baseline_results_path =  r'\\\\wsl$\\Ubuntu-20.04\\home\\jolteon\\NLUProject\\models\\baseline_results.pkl'\n",
    "with open(baseline_results_path, 'wb') as handle:\n",
    "    pickle.dump(results, handle, protocol=pickle.HIGHEST_PROTOCOL)"
   ]
  },
  {
   "cell_type": "code",
   "execution_count": 43,
   "id": "fcb6b57d",
   "metadata": {},
   "outputs": [
    {
     "data": {
      "image/png": "[encoded data removed]",
      "text/plain": [
       "<Figure size 432x288 with 1 Axes>"
      ]
     },
     "metadata": {
      "needs_background": "light"
     },
     "output_type": "display_data"
    }
   ],
   "source": [
    "\n",
    "plt.plot(val_loss_list,label='Validation Loss')\n",
    "plt.plot(train_loss_list,label='Train Loss')\n",
    "plt.legend()\n",
    "plt.title('Cross Entropy Loss vs Epoch')\n",
    "plt.xlabel('Epoch')\n",
    "plt.ylabel('Cross Entropy Loss')\n",
    "plt.show()"
   ]
  },
  {
   "cell_type": "code",
   "execution_count": 47,
   "id": "962f3256",
   "metadata": {},
   "outputs": [],
   "source": []
  },
  {
   "cell_type": "code",
   "execution_count": 48,
   "id": "3085041c",
   "metadata": {},
   "outputs": [
    {
     "data": {
      "image/png": "[encoded data removed]",
      "text/plain": [
       "<Figure size 432x288 with 1 Axes>"
      ]
     },
     "metadata": {
      "needs_background": "light"
     },
     "output_type": "display_data"
    }
   ],
   "source": [
    "\n",
    "plt.plot(val_accuracy_list,label='Validation Accuracy')\n",
    "plt.plot(train_accuracy_list,label='Train Accuracy')\n",
    "plt.legend()\n",
    "plt.title('Accuracy vs Epoch')\n",
    "plt.xlabel('Epoch')\n",
    "plt.ylabel('Accuracy')\n",
    "plt.show()"
   ]
  },
  {
   "cell_type": "code",
   "execution_count": null,
   "id": "8a60bead",
   "metadata": {},
   "outputs": [],
   "source": []
  },
  {
   "cell_type": "code",
   "execution_count": null,
   "id": "1a884c1b",
   "metadata": {},
   "outputs": [],
   "source": []
  },
  {
   "cell_type": "code",
   "execution_count": null,
   "id": "de7b99e1",
   "metadata": {},
   "outputs": [],
   "source": []
  },
  {
   "cell_type": "code",
   "execution_count": null,
   "id": "3a155085",
   "metadata": {},
   "outputs": [],
   "source": []
  },
  {
   "cell_type": "code",
   "execution_count": null,
   "id": "811c9b8d",
   "metadata": {},
   "outputs": [],
   "source": []
  },
  {
   "cell_type": "code",
   "execution_count": null,
   "id": "5ed9c20f",
   "metadata": {},
   "outputs": [],
   "source": []
  },
  {
   "cell_type": "code",
   "execution_count": null,
   "id": "9f313dce",
   "metadata": {},
   "outputs": [],
   "source": []
  },
  {
   "cell_type": "code",
   "execution_count": null,
   "id": "563caef9",
   "metadata": {},
   "outputs": [],
   "source": []
  },
  {
   "cell_type": "code",
   "execution_count": null,
   "id": "9eae4f19",
   "metadata": {},
   "outputs": [],
   "source": []
  },
  {
   "cell_type": "code",
   "execution_count": null,
   "id": "bdba2b37",
   "metadata": {},
   "outputs": [],
   "source": []
  }
 ],
 "metadata": {
  "kernelspec": {
   "display_name": "Python 3",
   "language": "python",
   "name": "python3"
  },
  "language_info": {
   "codemirror_mode": {
    "name": "ipython",
    "version": 3
   },
   "file_extension": ".py",
   "mimetype": "text/x-python",
   "name": "python",
   "nbconvert_exporter": "python",
   "pygments_lexer": "ipython3",
   "version": "3.9.2"
  }
 },
 "nbformat": 4,
 "nbformat_minor": 5
}
