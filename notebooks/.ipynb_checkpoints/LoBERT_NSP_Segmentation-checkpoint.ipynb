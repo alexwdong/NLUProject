{
 "cells": [
  {
   "cell_type": "code",
   "execution_count": 1,
   "id": "3ed2961d",
   "metadata": {},
   "outputs": [],
   "source": [
    "import torch\n",
    "import torch.nn as nn\n",
    "import torch.nn.functional as F\n",
    "import torch.optim as optim\n",
    "from torch.utils.data import Dataset\n",
    "from torch.utils.data import DataLoader\n",
    "\n",
    "import numpy as np\n",
    "\n",
    "from tqdm.notebook import tqdm\n",
    "\n",
    "from transformers import BertTokenizer,BertModel\n",
    "from datasets import load_from_disk,load_dataset\n",
    "\n",
    "import matplotlib.pyplot as plt\n",
    "\n",
    "import pickle"
   ]
  },
  {
   "cell_type": "code",
   "execution_count": 2,
   "id": "c975433c",
   "metadata": {},
   "outputs": [],
   "source": [
    "class EncodedSegmentsDataset(Dataset):\n",
    "    def __init__(self,data_list):\n",
    "        self.data_list = data_list\n",
    "        \n",
    "    def __len__(self):\n",
    "        return len(self.data_list)\n",
    " \n",
    "    def __getitem__(self,idx):\n",
    "        return(self.data_list[idx])\n",
    "    \n",
    "class LSTMoverBERT(nn.Module):\n",
    "    def __init__(self):\n",
    "        super().__init__()\n",
    "        self.LSTM = nn.LSTM(input_size=768,hidden_size = 128,num_layers=1,batch_first=True)\n",
    "        self.activation = nn.ReLU()\n",
    "        self.linear1 = nn.Linear(in_features=128,out_features=64)\n",
    "        self.linear2 = nn.Linear(in_features=64,out_features=20)\n",
    "        self.softmax = nn.Softmax(dim=1)\n",
    "        \n",
    "\n",
    "    def forward(self, x,verbose=False):\n",
    "        \n",
    "        #print('input x:', x.shape)\n",
    "        LSTM_out,LSTM_states = self.LSTM(x)\n",
    "        #print('LSTM out:', LSTM_out.shape)\n",
    "        #print('LSTM states[0]:', LSTM_states[0].shape)\n",
    "        #print('LSTM states[1]:', LSTM_states[1].shape)\n",
    "        last_hidden_state = LSTM_states[0][0,:,:]\n",
    "        #last_embedding = LSTM_out[:,-1,:]\n",
    "        out = self.linear1(last_hidden_state)\n",
    "        #print('linear out', out.shape) if verbose\n",
    "        out = self.activation(out)\n",
    "        #print('activation out', out.shape) if verbose\n",
    "        out = self.linear2(out)\n",
    "        out = self.softmax(out)\n",
    "        return out\n",
    "\n"
   ]
  },
  {
   "cell_type": "code",
   "execution_count": 3,
   "id": "c29fbaf3",
   "metadata": {},
   "outputs": [
    {
     "name": "stdout",
     "output_type": "stream",
     "text": [
      "Using device: cuda\n",
      "NVIDIA GeForce RTX 3060 Ti\n",
      "Memory Usage:\n",
      "Allocated: 0.0 GB\n",
      "Cached:    0.0 GB\n"
     ]
    }
   ],
   "source": [
    "device = torch.device('cuda' if torch.cuda.is_available() else 'cpu')\n",
    "print('Using device:', device)\n",
    "\n",
    "#Additional Info when using cuda\n",
    "if device.type == 'cuda':\n",
    "    print(torch.cuda.get_device_name(0))\n",
    "    print('Memory Usage:')\n",
    "    print('Allocated:', round(torch.cuda.memory_allocated(0)/1024**3,1), 'GB')\n",
    "    print('Cached:   ', round(torch.cuda.memory_reserved(0)/1024**3,1), 'GB')\n"
   ]
  },
  {
   "cell_type": "markdown",
   "id": "950c401a",
   "metadata": {},
   "source": [
    "# Start of Model"
   ]
  },
  {
   "cell_type": "code",
   "execution_count": 4,
   "id": "a394120d",
   "metadata": {},
   "outputs": [],
   "source": [
    "threshold = 1.0\n",
    "data_dir = r'\\\\wsl$\\Ubuntu-20.04\\home\\jolteon\\NLUProject\\data\\20news\\\\'\n",
    "processed_dir = data_dir + 'processed\\\\'\n",
    "split='train'\n",
    "file_name = 'bert_encoded_segments_list_'\n",
    "\n",
    "# Our experiment below\n",
    "with open(processed_dir+ split+'\\\\' + file_name + str(threshold) +'.pkl', 'rb') as handle:\n",
    "    bert_encoded_segments_list = pickle.load(handle)\n"
   ]
  },
  {
   "cell_type": "code",
   "execution_count": 5,
   "id": "7e1b2f92",
   "metadata": {},
   "outputs": [],
   "source": [
    "encoded_dataset = EncodedSegmentsDataset(bert_encoded_segments_list)\n",
    "val_prop =.1\n",
    "bsize = 1\n",
    "\n",
    "dataset_size = len(encoded_dataset)\n",
    "val_size = int(val_prop * dataset_size)\n",
    "train_size = dataset_size - val_size\n",
    "\n",
    "train_dataset, val_dataset =  torch.utils.data.random_split(encoded_dataset,[train_size,val_size])\n",
    "encoded_train_loader = DataLoader(train_dataset,batch_size=bsize,shuffle=True, pin_memory=True)\n",
    "encoded_val_loader = DataLoader(val_dataset,batch_size=bsize,shuffle=True, pin_memory=True)\n",
    "\n"
   ]
  },
  {
   "cell_type": "code",
   "execution_count": 12,
   "id": "7855dc4d",
   "metadata": {},
   "outputs": [],
   "source": [
    "LoBERT_model = LSTMoverBERT()\n",
    "LoBERT_model.to(device)\n",
    "LoBERT_model.train()\n",
    "criterion = nn.CrossEntropyLoss(reduction='sum')\n",
    "optimizer = optim.Adam(LoBERT_model.parameters(),lr=5e-4,)\n",
    "\n",
    "num_epochs=100\n",
    "model_save_path = r'\\\\wsl$\\Ubuntu-20.04\\home\\jolteon\\NLUProject\\models\\best_threshold_'+str(threshold)+'_LoBERT.ckpt'\n",
    "best_val_accuracy = 0\n",
    "\n"
   ]
  },
  {
   "cell_type": "code",
   "execution_count": 13,
   "id": "8676e1e0",
   "metadata": {},
   "outputs": [
    {
     "data": {
      "image/png": "[encoded data removed]",
      "text/plain": [
       "<Figure size 432x288 with 1 Axes>"
      ]
     },
     "metadata": {
      "needs_background": "light"
     },
     "output_type": "display_data"
    }
   ],
   "source": [
    "seg_length_list = []\n",
    "for label, encoded_segments in bert_encoded_segments_list:\n",
    "    seg_length_list.append(encoded_segments.shape[0])\n",
    "plt.hist(seg_length_list,bins = np.arange(0,100,5))\n",
    "plt.show()"
   ]
  },
  {
   "cell_type": "code",
   "execution_count": 14,
   "id": "d426f095",
   "metadata": {},
   "outputs": [
    {
     "data": {
      "application/vnd.jupyter.widget-view+json": {
       "model_id": "07ad61b4b9454775bd07ad9819fe5f09",
       "version_major": 2,
       "version_minor": 0
      },
      "text/plain": [
       "HBox(children=(FloatProgress(value=0.0), HTML(value='')))"
      ]
     },
     "metadata": {},
     "output_type": "display_data"
    },
    {
     "name": "stdout",
     "output_type": "stream",
     "text": [
      "Epoch: 0 train_loss: 2.9592946298953815 accuracy:  tensor(0.1019, device='cuda:0')\n",
      "Epoch: 0 val_loss: 2.871990203435815 accuracy:  tensor(0.1857, device='cuda:0')\n",
      "Epoch: 1 train_loss: 2.8384735596433996 accuracy:  tensor(0.2424, device='cuda:0')\n",
      "Epoch: 1 val_loss: 2.7916657557854285 accuracy:  tensor(0.2918, device='cuda:0')\n",
      "Epoch: 2 train_loss: 2.7612970692463104 accuracy:  tensor(0.3244, device='cuda:0')\n",
      "Epoch: 2 val_loss: 2.715156378522581 accuracy:  tensor(0.3758, device='cuda:0')\n",
      "Epoch: 3 train_loss: 2.712858635234561 accuracy:  tensor(0.3707, device='cuda:0')\n",
      "Epoch: 3 val_loss: 2.6641604286922385 accuracy:  tensor(0.4332, device='cuda:0')\n",
      "Epoch: 4 train_loss: 2.6756389135697685 accuracy:  tensor(0.4132, device='cuda:0')\n",
      "Epoch: 4 val_loss: 2.664644771925018 accuracy:  tensor(0.4209, device='cuda:0')\n",
      "Epoch: 5 train_loss: 2.642102646380502 accuracy:  tensor(0.4476, device='cuda:0')\n",
      "Epoch: 5 val_loss: 2.638952474062892 accuracy:  tensor(0.4385, device='cuda:0')\n",
      "Epoch: 6 train_loss: 2.6234085340695614 accuracy:  tensor(0.4637, device='cuda:0')\n",
      "Epoch: 6 val_loss: 2.5915007939073074 accuracy:  tensor(0.4951, device='cuda:0')\n",
      "Epoch: 7 train_loss: 2.59747352490523 accuracy:  tensor(0.4897, device='cuda:0')\n",
      "Epoch: 7 val_loss: 2.594067219608553 accuracy:  tensor(0.4934, device='cuda:0')\n",
      "Epoch: 8 train_loss: 2.5869881185698134 accuracy:  tensor(0.4973, device='cuda:0')\n",
      "Epoch: 8 val_loss: 2.6129623667314767 accuracy:  tensor(0.4713, device='cuda:0')\n",
      "Epoch: 9 train_loss: 2.569583371195287 accuracy:  tensor(0.5128, device='cuda:0')\n",
      "Epoch: 9 val_loss: 2.5874219594225223 accuracy:  tensor(0.4943, device='cuda:0')\n",
      "Epoch: 10 train_loss: 2.5567989258053 accuracy:  tensor(0.5254, device='cuda:0')\n",
      "Epoch: 10 val_loss: 2.5523035682270105 accuracy:  tensor(0.5332, device='cuda:0')\n",
      "Epoch: 11 train_loss: 2.5436643592784276 accuracy:  tensor(0.5423, device='cuda:0')\n",
      "Epoch: 11 val_loss: 2.5691068680490887 accuracy:  tensor(0.5075, device='cuda:0')\n",
      "Epoch: 12 train_loss: 2.5387791183647375 accuracy:  tensor(0.5432, device='cuda:0')\n",
      "Epoch: 12 val_loss: 2.559710038646357 accuracy:  tensor(0.5172, device='cuda:0')\n",
      "Epoch: 13 train_loss: 2.530553491459981 accuracy:  tensor(0.5534, device='cuda:0')\n",
      "Epoch: 13 val_loss: 2.5595963819168186 accuracy:  tensor(0.5172, device='cuda:0')\n",
      "Epoch: 14 train_loss: 2.524141115628583 accuracy:  tensor(0.5580, device='cuda:0')\n",
      "Epoch: 14 val_loss: 2.540279113961784 accuracy:  tensor(0.5385, device='cuda:0')\n",
      "Epoch: 15 train_loss: 2.5210406062154163 accuracy:  tensor(0.5600, device='cuda:0')\n",
      "Epoch: 15 val_loss: 2.562385950543836 accuracy:  tensor(0.5225, device='cuda:0')\n",
      "Epoch: 16 train_loss: 2.5103962054295237 accuracy:  tensor(0.5701, device='cuda:0')\n",
      "Epoch: 16 val_loss: 2.511398483229147 accuracy:  tensor(0.5676, device='cuda:0')\n",
      "Epoch: 17 train_loss: 2.5100567194751258 accuracy:  tensor(0.5692, device='cuda:0')\n",
      "Epoch: 17 val_loss: 2.5168375427168517 accuracy:  tensor(0.5615, device='cuda:0')\n",
      "Epoch: 18 train_loss: 2.503404850155762 accuracy:  tensor(0.5784, device='cuda:0')\n",
      "Epoch: 18 val_loss: 2.5986910416529727 accuracy:  tensor(0.4828, device='cuda:0')\n",
      "Epoch: 19 train_loss: 2.4930972065401606 accuracy:  tensor(0.5846, device='cuda:0')\n",
      "Epoch: 19 val_loss: 2.5116367633104537 accuracy:  tensor(0.5650, device='cuda:0')\n",
      "Epoch: 20 train_loss: 2.486941580827187 accuracy:  tensor(0.5936, device='cuda:0')\n",
      "Epoch: 20 val_loss: 2.5112861842839305 accuracy:  tensor(0.5659, device='cuda:0')\n",
      "Epoch: 21 train_loss: 2.4832094746793545 accuracy:  tensor(0.5967, device='cuda:0')\n",
      "Epoch: 21 val_loss: 2.52962212937791 accuracy:  tensor(0.5455, device='cuda:0')\n",
      "Epoch: 22 train_loss: 2.491635375274348 accuracy:  tensor(0.5877, device='cuda:0')\n",
      "Epoch: 22 val_loss: 2.48309002525505 accuracy:  tensor(0.5986, device='cuda:0')\n",
      "Epoch: 23 train_loss: 2.4829584175742214 accuracy:  tensor(0.5965, device='cuda:0')\n",
      "Epoch: 23 val_loss: 2.4984957779750268 accuracy:  tensor(0.5791, device='cuda:0')\n",
      "Epoch: 24 train_loss: 2.479187806462956 accuracy:  tensor(0.6004, device='cuda:0')\n",
      "Epoch: 24 val_loss: 2.4817587903492435 accuracy:  tensor(0.6021, device='cuda:0')\n",
      "Epoch: 25 train_loss: 2.48483533973042 accuracy:  tensor(0.5948, device='cuda:0')\n",
      "Epoch: 25 val_loss: 2.4811334723819156 accuracy:  tensor(0.5995, device='cuda:0')\n",
      "Epoch: 26 train_loss: 2.4737293690042086 accuracy:  tensor(0.6057, device='cuda:0')\n",
      "Epoch: 26 val_loss: 2.4967320018063384 accuracy:  tensor(0.5809, device='cuda:0')\n",
      "Epoch: 27 train_loss: 2.4728873650521717 accuracy:  tensor(0.6067, device='cuda:0')\n",
      "Epoch: 27 val_loss: 2.480760508780981 accuracy:  tensor(0.5950, device='cuda:0')\n",
      "Epoch: 28 train_loss: 2.47722356309828 accuracy:  tensor(0.6018, device='cuda:0')\n",
      "Epoch: 28 val_loss: 2.4976350025831335 accuracy:  tensor(0.5765, device='cuda:0')\n",
      "Epoch: 29 train_loss: 2.473136776781124 accuracy:  tensor(0.6066, device='cuda:0')\n",
      "Epoch: 29 val_loss: 2.504377670987953 accuracy:  tensor(0.5712, device='cuda:0')\n",
      "Epoch: 30 train_loss: 2.4681917164984335 accuracy:  tensor(0.6108, device='cuda:0')\n",
      "Epoch: 30 val_loss: 2.4694420370140717 accuracy:  tensor(0.6074, device='cuda:0')\n",
      "Epoch: 31 train_loss: 2.471276442756192 accuracy:  tensor(0.6069, device='cuda:0')\n",
      "Epoch: 31 val_loss: 2.51892168831762 accuracy:  tensor(0.5561, device='cuda:0')\n",
      "Epoch: 32 train_loss: 2.4604261611470957 accuracy:  tensor(0.6199, device='cuda:0')\n",
      "Epoch: 32 val_loss: 2.5158305705700377 accuracy:  tensor(0.5641, device='cuda:0')\n",
      "Epoch: 33 train_loss: 2.465827025119722 accuracy:  tensor(0.6134, device='cuda:0')\n",
      "Epoch: 33 val_loss: 2.544535468680789 accuracy:  tensor(0.5367, device='cuda:0')\n",
      "Epoch: 34 train_loss: 2.4635783570297196 accuracy:  tensor(0.6151, device='cuda:0')\n",
      "Epoch: 34 val_loss: 2.540163610173368 accuracy:  tensor(0.5367, device='cuda:0')\n",
      "Epoch: 35 train_loss: 2.452778773282982 accuracy:  tensor(0.6252, device='cuda:0')\n",
      "Epoch: 35 val_loss: 2.4767482405105175 accuracy:  tensor(0.6039, device='cuda:0')\n",
      "Epoch: 36 train_loss: 2.4548860354612234 accuracy:  tensor(0.6239, device='cuda:0')\n",
      "Epoch: 36 val_loss: 2.4887707355694895 accuracy:  tensor(0.5906, device='cuda:0')\n",
      "Epoch: 37 train_loss: 2.4571488097692 accuracy:  tensor(0.6215, device='cuda:0')\n",
      "Epoch: 37 val_loss: 2.511653053771069 accuracy:  tensor(0.5659, device='cuda:0')\n",
      "Epoch: 38 train_loss: 2.451903304240798 accuracy:  tensor(0.6258, device='cuda:0')\n",
      "Epoch: 38 val_loss: 2.490166689419936 accuracy:  tensor(0.5862, device='cuda:0')\n",
      "Epoch: 39 train_loss: 2.45369605391524 accuracy:  tensor(0.6245, device='cuda:0')\n",
      "Epoch: 39 val_loss: 2.4853842909835695 accuracy:  tensor(0.5862, device='cuda:0')\n",
      "Epoch: 40 train_loss: 2.454879355713905 accuracy:  tensor(0.6231, device='cuda:0')\n",
      "Epoch: 40 val_loss: 2.5091244967820683 accuracy:  tensor(0.5650, device='cuda:0')\n",
      "Epoch: 41 train_loss: 2.4500727193898517 accuracy:  tensor(0.6283, device='cuda:0')\n",
      "Epoch: 41 val_loss: 2.474853412331363 accuracy:  tensor(0.6021, device='cuda:0')\n",
      "Epoch: 42 train_loss: 2.444982214619272 accuracy:  tensor(0.6332, device='cuda:0')\n",
      "Epoch: 42 val_loss: 2.4698610210924627 accuracy:  tensor(0.6118, device='cuda:0')\n",
      "Epoch: 43 train_loss: 2.450773542901101 accuracy:  tensor(0.6265, device='cuda:0')\n",
      "Epoch: 43 val_loss: 2.4858126851123163 accuracy:  tensor(0.5897, device='cuda:0')\n",
      "Epoch: 44 train_loss: 2.44913830734196 accuracy:  tensor(0.6300, device='cuda:0')\n",
      "Epoch: 44 val_loss: 2.4999013684894216 accuracy:  tensor(0.5800, device='cuda:0')\n",
      "Epoch: 45 train_loss: 2.4467163818074296 accuracy:  tensor(0.6321, device='cuda:0')\n",
      "Epoch: 45 val_loss: 2.4864713300339 accuracy:  tensor(0.5950, device='cuda:0')\n",
      "Epoch: 46 train_loss: 2.4504205598749698 accuracy:  tensor(0.6285, device='cuda:0')\n",
      "Epoch: 46 val_loss: 2.4737755946623974 accuracy:  tensor(0.6012, device='cuda:0')\n",
      "Epoch: 47 train_loss: 2.4501191737152417 accuracy:  tensor(0.6281, device='cuda:0')\n",
      "Epoch: 47 val_loss: 2.502756855953699 accuracy:  tensor(0.5747, device='cuda:0')\n",
      "Epoch: 48 train_loss: 2.4506234317962354 accuracy:  tensor(0.6270, device='cuda:0')\n",
      "Epoch: 48 val_loss: 2.5370619275947255 accuracy:  tensor(0.5402, device='cuda:0')\n",
      "Epoch: 49 train_loss: 2.448649049308625 accuracy:  tensor(0.6298, device='cuda:0')\n",
      "Epoch: 49 val_loss: 2.4715717114989046 accuracy:  tensor(0.6065, device='cuda:0')\n",
      "Epoch: 50 train_loss: 2.442748245387043 accuracy:  tensor(0.6360, device='cuda:0')\n",
      "Epoch: 50 val_loss: 2.4675678867454764 accuracy:  tensor(0.6127, device='cuda:0')\n",
      "Epoch: 51 train_loss: 2.4355435446555918 accuracy:  tensor(0.6423, device='cuda:0')\n",
      "Epoch: 51 val_loss: 2.464943347622292 accuracy:  tensor(0.6127, device='cuda:0')\n",
      "Epoch: 52 train_loss: 2.439868649248874 accuracy:  tensor(0.6379, device='cuda:0')\n",
      "Epoch: 52 val_loss: 2.5380631886574148 accuracy:  tensor(0.5358, device='cuda:0')\n",
      "Epoch: 53 train_loss: 2.440579281660565 accuracy:  tensor(0.6371, device='cuda:0')\n",
      "Epoch: 53 val_loss: 2.596522429893757 accuracy:  tensor(0.4810, device='cuda:0')\n",
      "Epoch: 54 train_loss: 2.430738259214064 accuracy:  tensor(0.6466, device='cuda:0')\n",
      "Epoch: 54 val_loss: 2.4670666096802836 accuracy:  tensor(0.6101, device='cuda:0')\n",
      "Epoch: 55 train_loss: 2.4358367968855865 accuracy:  tensor(0.6417, device='cuda:0')\n",
      "Epoch: 55 val_loss: 2.4610951288309275 accuracy:  tensor(0.6163, device='cuda:0')\n",
      "Epoch: 56 train_loss: 2.4327787817502013 accuracy:  tensor(0.6450, device='cuda:0')\n",
      "Epoch: 56 val_loss: 2.471274661764858 accuracy:  tensor(0.6092, device='cuda:0')\n",
      "Epoch: 57 train_loss: 2.4298440993540438 accuracy:  tensor(0.6467, device='cuda:0')\n",
      "Epoch: 57 val_loss: 2.4899679906172207 accuracy:  tensor(0.5871, device='cuda:0')\n",
      "Epoch: 58 train_loss: 2.4262269979889193 accuracy:  tensor(0.6508, device='cuda:0')\n",
      "Epoch: 58 val_loss: 2.486569184101756 accuracy:  tensor(0.5933, device='cuda:0')\n",
      "Epoch: 59 train_loss: 2.428745951128535 accuracy:  tensor(0.6500, device='cuda:0')\n",
      "Epoch: 59 val_loss: 2.4946651304853793 accuracy:  tensor(0.5800, device='cuda:0')\n",
      "Epoch: 60 train_loss: 2.4275880644975376 accuracy:  tensor(0.6488, device='cuda:0')\n",
      "Epoch: 60 val_loss: 2.5224815241327128 accuracy:  tensor(0.5526, device='cuda:0')\n",
      "Epoch: 61 train_loss: 2.4289400210189034 accuracy:  tensor(0.6487, device='cuda:0')\n",
      "Epoch: 61 val_loss: 2.5218688642736242 accuracy:  tensor(0.5570, device='cuda:0')\n",
      "Epoch: 62 train_loss: 2.4356117352022353 accuracy:  tensor(0.6424, device='cuda:0')\n",
      "Epoch: 62 val_loss: 2.5370972205009426 accuracy:  tensor(0.5438, device='cuda:0')\n",
      "Epoch: 63 train_loss: 2.4330748303821816 accuracy:  tensor(0.6457, device='cuda:0')\n",
      "Epoch: 63 val_loss: 2.4989138168112355 accuracy:  tensor(0.5809, device='cuda:0')\n",
      "Epoch: 64 train_loss: 2.419212268656836 accuracy:  tensor(0.6583, device='cuda:0')\n",
      "Epoch: 64 val_loss: 2.464115028777658 accuracy:  tensor(0.6127, device='cuda:0')\n",
      "Epoch: 65 train_loss: 2.417765384407347 accuracy:  tensor(0.6608, device='cuda:0')\n",
      "Epoch: 65 val_loss: 2.4612833911818175 accuracy:  tensor(0.6154, device='cuda:0')\n",
      "Epoch: 66 train_loss: 2.4346768685130815 accuracy:  tensor(0.6420, device='cuda:0')\n",
      "Epoch: 66 val_loss: 2.442274642349027 accuracy:  tensor(0.6322, device='cuda:0')\n",
      "Epoch: 67 train_loss: 2.430360749371216 accuracy:  tensor(0.6478, device='cuda:0')\n",
      "Epoch: 67 val_loss: 2.491703376424302 accuracy:  tensor(0.5844, device='cuda:0')\n",
      "Epoch: 68 train_loss: 2.4233850568143698 accuracy:  tensor(0.6541, device='cuda:0')\n",
      "Epoch: 68 val_loss: 2.499482634423793 accuracy:  tensor(0.5791, device='cuda:0')\n",
      "Epoch: 69 train_loss: 2.4238030653881157 accuracy:  tensor(0.6539, device='cuda:0')\n",
      "Epoch: 69 val_loss: 2.467529809548726 accuracy:  tensor(0.6136, device='cuda:0')\n",
      "\n"
     ]
    },
    {
     "ename": "KeyboardInterrupt",
     "evalue": "",
     "output_type": "error",
     "traceback": [
      "\u001b[1;31m---------------------------------------------------------------------------\u001b[0m",
      "\u001b[1;31mKeyboardInterrupt\u001b[0m                         Traceback (most recent call last)",
      "\u001b[1;32m<ipython-input-14-40813e0c8795>\u001b[0m in \u001b[0;36m<module>\u001b[1;34m\u001b[0m\n\u001b[0;32m     29\u001b[0m \u001b[1;33m\u001b[0m\u001b[0m\n\u001b[0;32m     30\u001b[0m         \u001b[1;31m#Backward pass\u001b[0m\u001b[1;33m\u001b[0m\u001b[1;33m\u001b[0m\u001b[1;33m\u001b[0m\u001b[0m\n\u001b[1;32m---> 31\u001b[1;33m         \u001b[0mloss\u001b[0m\u001b[1;33m.\u001b[0m\u001b[0mbackward\u001b[0m\u001b[1;33m(\u001b[0m\u001b[1;33m)\u001b[0m\u001b[1;33m\u001b[0m\u001b[1;33m\u001b[0m\u001b[0m\n\u001b[0m\u001b[0;32m     32\u001b[0m         \u001b[0moptimizer\u001b[0m\u001b[1;33m.\u001b[0m\u001b[0mstep\u001b[0m\u001b[1;33m(\u001b[0m\u001b[1;33m)\u001b[0m\u001b[1;33m\u001b[0m\u001b[1;33m\u001b[0m\u001b[0m\n\u001b[0;32m     33\u001b[0m \u001b[1;33m\u001b[0m\u001b[0m\n",
      "\u001b[1;32mE:\\miniconda3\\envs\\NLUProject\\lib\\site-packages\\torch\\tensor.py\u001b[0m in \u001b[0;36mbackward\u001b[1;34m(self, gradient, retain_graph, create_graph, inputs)\u001b[0m\n\u001b[0;32m    243\u001b[0m                 \u001b[0mcreate_graph\u001b[0m\u001b[1;33m=\u001b[0m\u001b[0mcreate_graph\u001b[0m\u001b[1;33m,\u001b[0m\u001b[1;33m\u001b[0m\u001b[1;33m\u001b[0m\u001b[0m\n\u001b[0;32m    244\u001b[0m                 inputs=inputs)\n\u001b[1;32m--> 245\u001b[1;33m         \u001b[0mtorch\u001b[0m\u001b[1;33m.\u001b[0m\u001b[0mautograd\u001b[0m\u001b[1;33m.\u001b[0m\u001b[0mbackward\u001b[0m\u001b[1;33m(\u001b[0m\u001b[0mself\u001b[0m\u001b[1;33m,\u001b[0m \u001b[0mgradient\u001b[0m\u001b[1;33m,\u001b[0m \u001b[0mretain_graph\u001b[0m\u001b[1;33m,\u001b[0m \u001b[0mcreate_graph\u001b[0m\u001b[1;33m,\u001b[0m \u001b[0minputs\u001b[0m\u001b[1;33m=\u001b[0m\u001b[0minputs\u001b[0m\u001b[1;33m)\u001b[0m\u001b[1;33m\u001b[0m\u001b[1;33m\u001b[0m\u001b[0m\n\u001b[0m\u001b[0;32m    246\u001b[0m \u001b[1;33m\u001b[0m\u001b[0m\n\u001b[0;32m    247\u001b[0m     \u001b[1;32mdef\u001b[0m \u001b[0mregister_hook\u001b[0m\u001b[1;33m(\u001b[0m\u001b[0mself\u001b[0m\u001b[1;33m,\u001b[0m \u001b[0mhook\u001b[0m\u001b[1;33m)\u001b[0m\u001b[1;33m:\u001b[0m\u001b[1;33m\u001b[0m\u001b[1;33m\u001b[0m\u001b[0m\n",
      "\u001b[1;32mE:\\miniconda3\\envs\\NLUProject\\lib\\site-packages\\torch\\autograd\\__init__.py\u001b[0m in \u001b[0;36mbackward\u001b[1;34m(tensors, grad_tensors, retain_graph, create_graph, grad_variables, inputs)\u001b[0m\n\u001b[0;32m    143\u001b[0m         \u001b[0mretain_graph\u001b[0m \u001b[1;33m=\u001b[0m \u001b[0mcreate_graph\u001b[0m\u001b[1;33m\u001b[0m\u001b[1;33m\u001b[0m\u001b[0m\n\u001b[0;32m    144\u001b[0m \u001b[1;33m\u001b[0m\u001b[0m\n\u001b[1;32m--> 145\u001b[1;33m     Variable._execution_engine.run_backward(\n\u001b[0m\u001b[0;32m    146\u001b[0m         \u001b[0mtensors\u001b[0m\u001b[1;33m,\u001b[0m \u001b[0mgrad_tensors_\u001b[0m\u001b[1;33m,\u001b[0m \u001b[0mretain_graph\u001b[0m\u001b[1;33m,\u001b[0m \u001b[0mcreate_graph\u001b[0m\u001b[1;33m,\u001b[0m \u001b[0minputs\u001b[0m\u001b[1;33m,\u001b[0m\u001b[1;33m\u001b[0m\u001b[1;33m\u001b[0m\u001b[0m\n\u001b[0;32m    147\u001b[0m         allow_unreachable=True, accumulate_grad=True)  # allow_unreachable flag\n",
      "\u001b[1;31mKeyboardInterrupt\u001b[0m: "
     ]
    }
   ],
   "source": [
    "train_loss_list = []\n",
    "val_loss_list = []\n",
    "train_accuracy_list = []\n",
    "val_accuracy_list = []\n",
    "\n",
    "for epoch in tqdm(range(num_epochs)):  # loop over the dataset multiple times\n",
    "    train_loss = 0\n",
    "    train_correct = 0\n",
    "    val_loss = 0\n",
    "    val_correct = 0\n",
    "    \n",
    "    #START TRAIN\n",
    "    LoBERT_model.train()\n",
    "    for idx, batch in enumerate(encoded_train_loader):\n",
    "        optimizer.zero_grad()\n",
    "\n",
    "        # Define and move to GPU\n",
    "        label = batch[0][0]\n",
    "        model_input = batch[1]\n",
    "        label = label.to(device)\n",
    "        model_input = model_input.to(device)\n",
    "        # Forward Pass\n",
    "        out = LoBERT_model(model_input)\n",
    "        loss = criterion(out,label)\n",
    "        #Record Metrics pt 1/2\n",
    "        train_loss += loss.item()\n",
    "        pred = torch.argmax(out)\n",
    "        train_correct +=(pred == label).sum()\n",
    "        \n",
    "        #Backward pass\n",
    "        loss.backward()\n",
    "        optimizer.step()\n",
    "    \n",
    "    #Record Metrics pt 2/2\n",
    "    train_loss = train_loss/ len(encoded_train_loader)\n",
    "    train_accuracy = train_correct/len(encoded_train_loader)\n",
    "    #Print and save\n",
    "    print('Epoch:', epoch, 'train_loss:',train_loss, 'accuracy: ',train_accuracy)\n",
    "    train_loss_list.append(train_loss)\n",
    "    train_accuracy_list.append(train_accuracy.cpu())\n",
    "    \n",
    "    # START VAL\n",
    "    LoBERT_model.eval()\n",
    "    \n",
    "    with torch.no_grad():\n",
    "        for idx, batch in enumerate(encoded_val_loader):\n",
    "            #Define and move to GPU\n",
    "            label = batch[0][0]\n",
    "            model_input = batch[1]\n",
    "            label = label.to(device)\n",
    "            model_input = model_input.to(device)\n",
    "            #Forward Pass\n",
    "            out = LoBERT_model(model_input)\n",
    "            loss = criterion(out,label)\n",
    "            #Record metrics pt 1/2\n",
    "            val_loss += loss.item()\n",
    "\n",
    "            pred = torch.argmax(out)\n",
    "            val_correct +=(pred == label).sum()\n",
    "            \n",
    "    #Record metrics pt 2/2\n",
    "    val_loss = val_loss/ len(encoded_val_loader)\n",
    "    val_accuracy = val_correct/len(encoded_val_loader)\n",
    "    #Print and save\n",
    "    print('Epoch:', epoch, 'val_loss:',val_loss, 'accuracy: ',val_accuracy)\n",
    "    val_loss_list.append(val_loss)\n",
    "    val_accuracy_list.append(val_accuracy.cpu())\n",
    "    \n",
    "    if val_accuracy > best_val_accuracy:\n",
    "        best_val_accuracy = val_accuracy\n",
    "        torch.save(LoBERT_model.state_dict(), model_save_path)\n",
    "\n"
   ]
  },
  {
   "cell_type": "code",
   "execution_count": 15,
   "id": "fcd6e9c0",
   "metadata": {},
   "outputs": [],
   "source": [
    "results = {'train_loss' : train_loss_list,\n",
    "           'val_loss' : val_loss_list,\n",
    "           'train_accuracy' : train_accuracy_list,\n",
    "           'val_accuracy' : val_accuracy_list\n",
    "           \n",
    "    \n",
    "}\n",
    "baseline_results_path =  r'\\\\wsl$\\Ubuntu-20.04\\home\\jolteon\\NLUProject\\models\\threshold_'+str(threshold)+'_results.pkl'\n",
    "with open(baseline_results_path, 'wb') as handle:\n",
    "    pickle.dump(results, handle, protocol=pickle.HIGHEST_PROTOCOL)"
   ]
  },
  {
   "cell_type": "code",
   "execution_count": 16,
   "id": "e92f8c9c",
   "metadata": {},
   "outputs": [
    {
     "data": {
      "image/png": "[encoded data removed]",
      "text/plain": [
       "<Figure size 432x288 with 1 Axes>"
      ]
     },
     "metadata": {
      "needs_background": "light"
     },
     "output_type": "display_data"
    }
   ],
   "source": [
    "\n",
    "plt.plot(val_loss_list,label='Validation Loss')\n",
    "plt.plot(train_loss_list,label='Train Loss')\n",
    "plt.legend()\n",
    "plt.title('Cross Entropy Loss vs Epoch')\n",
    "plt.xlabel('Epoch')\n",
    "plt.ylabel('Cross Entropy Loss')\n",
    "plt.show()"
   ]
  },
  {
   "cell_type": "code",
   "execution_count": null,
   "id": "1c4f4bc7",
   "metadata": {},
   "outputs": [],
   "source": []
  },
  {
   "cell_type": "code",
   "execution_count": 17,
   "id": "b587520f",
   "metadata": {},
   "outputs": [
    {
     "data": {
      "image/png": "[encoded data removed]",
      "text/plain": [
       "<Figure size 432x288 with 1 Axes>"
      ]
     },
     "metadata": {
      "needs_background": "light"
     },
     "output_type": "display_data"
    }
   ],
   "source": [
    "\n",
    "plt.plot(val_accuracy_list,label='Validation Accuracy')\n",
    "plt.plot(train_accuracy_list,label='Train Accuracy')\n",
    "plt.legend()\n",
    "plt.title('Accuracy vs Epoch')\n",
    "plt.xlabel('Epoch')\n",
    "plt.ylabel('Accuracy')\n",
    "plt.show()"
   ]
  },
  {
   "cell_type": "code",
   "execution_count": null,
   "id": "fb13f6c3",
   "metadata": {},
   "outputs": [],
   "source": []
  },
  {
   "cell_type": "code",
   "execution_count": null,
   "id": "453bdd68",
   "metadata": {},
   "outputs": [],
   "source": []
  },
  {
   "cell_type": "code",
   "execution_count": null,
   "id": "c8b7e98e",
   "metadata": {},
   "outputs": [],
   "source": []
  },
  {
   "cell_type": "code",
   "execution_count": null,
   "id": "9af308e7",
   "metadata": {},
   "outputs": [],
   "source": []
  },
  {
   "cell_type": "code",
   "execution_count": null,
   "id": "273b8bcb",
   "metadata": {},
   "outputs": [],
   "source": []
  },
  {
   "cell_type": "code",
   "execution_count": null,
   "id": "54a42d33",
   "metadata": {},
   "outputs": [],
   "source": []
  },
  {
   "cell_type": "code",
   "execution_count": null,
   "id": "ee1622d4",
   "metadata": {},
   "outputs": [],
   "source": []
  },
  {
   "cell_type": "code",
   "execution_count": null,
   "id": "81782d65",
   "metadata": {},
   "outputs": [],
   "source": []
  },
  {
   "cell_type": "code",
   "execution_count": null,
   "id": "4b666429",
   "metadata": {},
   "outputs": [],
   "source": []
  },
  {
   "cell_type": "code",
   "execution_count": null,
   "id": "f277dc79",
   "metadata": {},
   "outputs": [],
   "source": []
  },
  {
   "cell_type": "code",
   "execution_count": null,
   "id": "696bedbe",
   "metadata": {},
   "outputs": [],
   "source": []
  },
  {
   "cell_type": "code",
   "execution_count": null,
   "id": "e234cc6b",
   "metadata": {},
   "outputs": [],
   "source": []
  }
 ],
 "metadata": {
  "kernelspec": {
   "display_name": "Python 3",
   "language": "python",
   "name": "python3"
  },
  "language_info": {
   "codemirror_mode": {
    "name": "ipython",
    "version": 3
   },
   "file_extension": ".py",
   "mimetype": "text/x-python",
   "name": "python",
   "nbconvert_exporter": "python",
   "pygments_lexer": "ipython3",
   "version": "3.9.2"
  }
 },
 "nbformat": 4,
 "nbformat_minor": 5
}
