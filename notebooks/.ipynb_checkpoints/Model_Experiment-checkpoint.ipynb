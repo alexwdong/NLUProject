{
 "cells": [
  {
   "cell_type": "code",
   "execution_count": 1,
   "id": "67774cd0",
   "metadata": {},
   "outputs": [],
   "source": [
    "import torch\n",
    "import torch.nn as nn\n",
    "import torch.nn.functional as F\n",
    "import torch.optim as optim\n",
    "from torch.utils.data import Dataset\n",
    "from torch.utils.data import DataLoader\n",
    "\n",
    "\n",
    "from tqdm.notebook import tqdm\n",
    "\n",
    "from transformers import BertTokenizer,BertModel\n",
    "from datasets import load_from_disk,load_dataset\n",
    "\n",
    "import matplotlib.pyplot as plt\n",
    "\n",
    "import pickle"
   ]
  },
  {
   "cell_type": "code",
   "execution_count": 2,
   "id": "a3a932d5",
   "metadata": {},
   "outputs": [],
   "source": [
    "class EncodedSegmentsDataset(Dataset):\n",
    "    def __init__(self,data_list):\n",
    "        self.data_list = data_list\n",
    "        \n",
    "    def __len__(self):\n",
    "        return len(self.data_list)\n",
    " \n",
    "    def __getitem__(self,idx):\n",
    "        return(self.data_list[idx])\n",
    "    \n",
    "class LSTMoverBERT(nn.Module):\n",
    "    def __init__(self):\n",
    "        super().__init__()\n",
    "        self.LSTM = nn.LSTM(input_size=768,hidden_size = 128,num_layers=1,batch_first=True)\n",
    "        self.activation = nn.ReLU()\n",
    "        self.linear1 = nn.Linear(in_features=128,out_features=64)\n",
    "        self.linear2 = nn.Linear(in_features=64,out_features=20)\n",
    "        self.softmax = nn.Softmax(dim=1)\n",
    "        \n",
    "\n",
    "    def forward(self, x,verbose=False):\n",
    "        \n",
    "        #print('input x:', x.shape)\n",
    "        LSTM_out,LSTM_states = self.LSTM(x)\n",
    "        #print('LSTM out:', LSTM_out.shape)\n",
    "        #print('LSTM states[0]:', LSTM_states[0].shape)\n",
    "        #print('LSTM states[1]:', LSTM_states[1].shape)\n",
    "        last_hidden_state = LSTM_states[0][0,:,:]\n",
    "        #last_embedding = LSTM_out[:,-1,:]\n",
    "        out = self.linear1(last_hidden_state)\n",
    "        #print('linear out', out.shape) if verbose\n",
    "        out = self.activation(out)\n",
    "        #print('activation out', out.shape) if verbose\n",
    "        out = self.linear2(out)\n",
    "        out = self.softmax(out)\n",
    "        return out\n",
    "\n"
   ]
  },
  {
   "cell_type": "code",
   "execution_count": 3,
   "id": "67727b40",
   "metadata": {},
   "outputs": [
    {
     "name": "stdout",
     "output_type": "stream",
     "text": [
      "Using device: cuda\n",
      "NVIDIA GeForce RTX 3060 Ti\n",
      "Memory Usage:\n",
      "Allocated: 0.0 GB\n",
      "Cached:    0.0 GB\n"
     ]
    }
   ],
   "source": [
    "device = torch.device('cuda' if torch.cuda.is_available() else 'cpu')\n",
    "print('Using device:', device)\n",
    "\n",
    "#Additional Info when using cuda\n",
    "if device.type == 'cuda':\n",
    "    print(torch.cuda.get_device_name(0))\n",
    "    print('Memory Usage:')\n",
    "    print('Allocated:', round(torch.cuda.memory_allocated(0)/1024**3,1), 'GB')\n",
    "    print('Cached:   ', round(torch.cuda.memory_reserved(0)/1024**3,1), 'GB')\n"
   ]
  },
  {
   "cell_type": "markdown",
   "id": "5104fb6f",
   "metadata": {},
   "source": [
    "# Start of Model"
   ]
  },
  {
   "cell_type": "code",
   "execution_count": 5,
   "id": "6cb7984d",
   "metadata": {},
   "outputs": [],
   "source": [
    "threshold = 1.0\n",
    "data_dir = r'\\\\wsl$\\Ubuntu-20.04\\home\\jolteon\\NLUProject\\data\\20news\\\\'\n",
    "processed_dir = data_dir + 'processed\\\\'\n",
    "split='train'\n",
    "file_name = 'bert_encoded_segments_list_'\n",
    "\n",
    "# Our experiment below\n",
    "with open(processed_dir+ split+'\\\\' + file_name + str(threshold) +'.pkl', 'rb') as handle:\n",
    "    bert_encoded_segments_list = pickle.load(handle)\n"
   ]
  },
  {
   "cell_type": "code",
   "execution_count": 6,
   "id": "e13ab4a1",
   "metadata": {},
   "outputs": [],
   "source": [
    "encoded_dataset = EncodedSegmentsDataset(bert_encoded_segments_list)\n",
    "val_prop =.1\n",
    "bsize = 1\n",
    "\n",
    "dataset_size = len(encoded_dataset)\n",
    "val_size = int(val_prop * dataset_size)\n",
    "train_size = dataset_size - val_size\n",
    "\n",
    "train_dataset, val_dataset =  torch.utils.data.random_split(encoded_dataset,[train_size,val_size])\n",
    "encoded_train_loader = DataLoader(train_dataset,batch_size=bsize,shuffle=True, pin_memory=True)\n",
    "encoded_val_loader = DataLoader(val_dataset,batch_size=bsize,shuffle=True, pin_memory=True)\n",
    "\n"
   ]
  },
  {
   "cell_type": "code",
   "execution_count": 7,
   "id": "fe4965b7",
   "metadata": {},
   "outputs": [],
   "source": [
    "LoBERT_model = LSTMoverBERT()\n",
    "LoBERT_model.to(device)\n",
    "LoBERT_model.train()\n",
    "criterion = nn.CrossEntropyLoss(reduction='sum')\n",
    "optimizer = optim.Adam(LoBERT_model.parameters(),lr=5e-4,)\n",
    "\n",
    "num_epochs=30\n",
    "model_save_path = r'\\\\wsl$\\Ubuntu-20.04\\home\\jolteon\\NLUProject\\models\\best_threshold_'+str(threshold)+'_LoBERT.ckpt'\n",
    "best_val_accuracy = 0\n",
    "\n"
   ]
  },
  {
   "cell_type": "code",
   "execution_count": 9,
   "id": "fc7d7770",
   "metadata": {},
   "outputs": [
    {
     "data": {
      "application/vnd.jupyter.widget-view+json": {
       "model_id": "e111f8afec2f4c849727e642af86d021",
       "version_major": 2,
       "version_minor": 0
      },
      "text/plain": [
       "HBox(children=(FloatProgress(value=0.0, max=30.0), HTML(value='')))"
      ]
     },
     "metadata": {},
     "output_type": "display_data"
    },
    {
     "name": "stdout",
     "output_type": "stream",
     "text": [
      "Epoch: 0 train_loss: 2.993285006066384 accuracy:  tensor(0.0557, device='cuda:0')\n",
      "Epoch: 0 val_loss: 2.9847382202704957 accuracy:  tensor(0.0752, device='cuda:0')\n",
      "Epoch: 1 train_loss: 2.986323672990182 accuracy:  tensor(0.0683, device='cuda:0')\n",
      "Epoch: 1 val_loss: 2.984568307085653 accuracy:  tensor(0.0681, device='cuda:0')\n",
      "Epoch: 2 train_loss: 2.981269909124366 accuracy:  tensor(0.0730, device='cuda:0')\n",
      "Epoch: 2 val_loss: 2.9773893130763667 accuracy:  tensor(0.0858, device='cuda:0')\n",
      "Epoch: 3 train_loss: 2.9745491086927434 accuracy:  tensor(0.0872, device='cuda:0')\n",
      "Epoch: 3 val_loss: 2.963709766521167 accuracy:  tensor(0.0928, device='cuda:0')\n",
      "Epoch: 4 train_loss: 2.9669720228418646 accuracy:  tensor(0.0953, device='cuda:0')\n",
      "Epoch: 4 val_loss: 2.9609272808864198 accuracy:  tensor(0.1052, device='cuda:0')\n",
      "Epoch: 5 train_loss: 2.9621278526014327 accuracy:  tensor(0.1011, device='cuda:0')\n",
      "Epoch: 5 val_loss: 2.9747203937365247 accuracy:  tensor(0.0831, device='cuda:0')\n",
      "Epoch: 6 train_loss: 2.95596382951123 accuracy:  tensor(0.1078, device='cuda:0')\n",
      "Epoch: 6 val_loss: 2.955441137418401 accuracy:  tensor(0.1096, device='cuda:0')\n",
      "Epoch: 7 train_loss: 2.9522629783463294 accuracy:  tensor(0.1143, device='cuda:0')\n",
      "Epoch: 7 val_loss: 2.935229646326903 accuracy:  tensor(0.1344, device='cuda:0')\n",
      "Epoch: 8 train_loss: 2.9479434851238375 accuracy:  tensor(0.1184, device='cuda:0')\n",
      "Epoch: 8 val_loss: 2.956711815691542 accuracy:  tensor(0.1052, device='cuda:0')\n",
      "Epoch: 9 train_loss: 2.9468473387668284 accuracy:  tensor(0.1163, device='cuda:0')\n",
      "Epoch: 9 val_loss: 2.956179915857357 accuracy:  tensor(0.1141, device='cuda:0')\n",
      "Epoch: 10 train_loss: 2.9418126929664408 accuracy:  tensor(0.1234, device='cuda:0')\n",
      "Epoch: 10 val_loss: 2.9337822663689166 accuracy:  tensor(0.1282, device='cuda:0')\n",
      "Epoch: 11 train_loss: 2.9386428136740337 accuracy:  tensor(0.1285, device='cuda:0')\n",
      "Epoch: 11 val_loss: 2.934151400727155 accuracy:  tensor(0.1247, device='cuda:0')\n",
      "Epoch: 12 train_loss: 2.9359683353868364 accuracy:  tensor(0.1322, device='cuda:0')\n",
      "Epoch: 12 val_loss: 2.9441625831614124 accuracy:  tensor(0.1264, device='cuda:0')\n",
      "Epoch: 13 train_loss: 2.9360213294474558 accuracy:  tensor(0.1296, device='cuda:0')\n",
      "Epoch: 13 val_loss: 2.932048851994684 accuracy:  tensor(0.1379, device='cuda:0')\n",
      "Epoch: 14 train_loss: 2.932970877212566 accuracy:  tensor(0.1323, device='cuda:0')\n",
      "Epoch: 14 val_loss: 2.922821758069579 accuracy:  tensor(0.1406, device='cuda:0')\n",
      "Epoch: 15 train_loss: 2.931248348704914 accuracy:  tensor(0.1359, device='cuda:0')\n",
      "Epoch: 15 val_loss: 2.942234970214196 accuracy:  tensor(0.1220, device='cuda:0')\n",
      "Epoch: 16 train_loss: 2.934205977935214 accuracy:  tensor(0.1327, device='cuda:0')\n",
      "Epoch: 16 val_loss: 2.947791634988827 accuracy:  tensor(0.1185, device='cuda:0')\n",
      "Epoch: 17 train_loss: 2.9306986177879573 accuracy:  tensor(0.1356, device='cuda:0')\n",
      "Epoch: 17 val_loss: 2.9213326011053975 accuracy:  tensor(0.1450, device='cuda:0')\n",
      "Epoch: 18 train_loss: 2.9252895761025535 accuracy:  tensor(0.1420, device='cuda:0')\n",
      "Epoch: 18 val_loss: 2.912614629502638 accuracy:  tensor(0.1503, device='cuda:0')\n",
      "Epoch: 19 train_loss: 2.9286564485879025 accuracy:  tensor(0.1356, device='cuda:0')\n",
      "Epoch: 19 val_loss: 2.926080208558303 accuracy:  tensor(0.1459, device='cuda:0')\n",
      "Epoch: 20 train_loss: 2.9237857559604565 accuracy:  tensor(0.1448, device='cuda:0')\n",
      "Epoch: 20 val_loss: 2.9187358460734103 accuracy:  tensor(0.1450, device='cuda:0')\n",
      "Epoch: 21 train_loss: 2.919303502758348 accuracy:  tensor(0.1500, device='cuda:0')\n",
      "Epoch: 21 val_loss: 2.9440394778045063 accuracy:  tensor(0.1158, device='cuda:0')\n",
      "Epoch: 22 train_loss: 2.921716641387033 accuracy:  tensor(0.1473, device='cuda:0')\n",
      "Epoch: 22 val_loss: 2.9182166842419317 accuracy:  tensor(0.1609, device='cuda:0')\n",
      "Epoch: 23 train_loss: 2.924891978552027 accuracy:  tensor(0.1431, device='cuda:0')\n",
      "Epoch: 23 val_loss: 2.956552147127484 accuracy:  tensor(0.1114, device='cuda:0')\n",
      "Epoch: 24 train_loss: 2.920218268932697 accuracy:  tensor(0.1483, device='cuda:0')\n",
      "Epoch: 24 val_loss: 2.9053187867796177 accuracy:  tensor(0.1698, device='cuda:0')\n",
      "Epoch: 25 train_loss: 2.913913403186725 accuracy:  tensor(0.1531, device='cuda:0')\n",
      "Epoch: 25 val_loss: 2.923622131769263 accuracy:  tensor(0.1415, device='cuda:0')\n",
      "Epoch: 26 train_loss: 2.9155662637392337 accuracy:  tensor(0.1527, device='cuda:0')\n",
      "Epoch: 26 val_loss: 2.9152461928039606 accuracy:  tensor(0.1521, device='cuda:0')\n",
      "Epoch: 27 train_loss: 2.9075338776331923 accuracy:  tensor(0.1614, device='cuda:0')\n",
      "Epoch: 27 val_loss: 2.9091415666669582 accuracy:  tensor(0.1583, device='cuda:0')\n",
      "Epoch: 28 train_loss: 2.906115600897242 accuracy:  tensor(0.1642, device='cuda:0')\n",
      "Epoch: 28 val_loss: 2.924657376227813 accuracy:  tensor(0.1441, device='cuda:0')\n",
      "Epoch: 29 train_loss: 2.9068202694495135 accuracy:  tensor(0.1635, device='cuda:0')\n",
      "Epoch: 29 val_loss: 2.9092021791625085 accuracy:  tensor(0.1574, device='cuda:0')\n",
      "\n"
     ]
    }
   ],
   "source": [
    "train_loss_list = []\n",
    "val_loss_list = []\n",
    "train_accuracy_list = []\n",
    "val_accuracy_list = []\n",
    "\n",
    "for epoch in tqdm(range(num_epochs)):  # loop over the dataset multiple times\n",
    "    train_loss = 0\n",
    "    train_correct = 0\n",
    "    val_loss = 0\n",
    "    val_correct = 0\n",
    "    \n",
    "    #START TRAIN\n",
    "    LoBERT_model.train()\n",
    "    for idx, batch in enumerate(encoded_train_loader):\n",
    "        optimizer.zero_grad()\n",
    "\n",
    "        # Define and move to GPU\n",
    "        label = batch[0][0]\n",
    "        model_input = batch[1]\n",
    "        label = label.to(device)\n",
    "        model_input = model_input.to(device)\n",
    "        # Forward Pass\n",
    "        out = LoBERT_model(model_input)\n",
    "        loss = criterion(out,label)\n",
    "        #Record Metrics pt 1/2\n",
    "        train_loss += loss.item()\n",
    "        pred = torch.argmax(out)\n",
    "        train_correct +=(pred == label).sum()\n",
    "        \n",
    "        #Backward pass\n",
    "        loss.backward()\n",
    "        optimizer.step()\n",
    "    \n",
    "    #Record Metrics pt 2/2\n",
    "    train_loss = train_loss/ len(encoded_train_loader)\n",
    "    train_accuracy = train_correct/len(encoded_train_loader)\n",
    "    #Print and save\n",
    "    print('Epoch:', epoch, 'train_loss:',train_loss, 'accuracy: ',train_accuracy)\n",
    "    train_loss_list.append(train_loss)\n",
    "    train_accuracy_list.append(train_accuracy.cpu())\n",
    "    \n",
    "    # START VAL\n",
    "    LoBERT_model.eval()\n",
    "    \n",
    "    with torch.no_grad():\n",
    "        for idx, batch in enumerate(encoded_val_loader):\n",
    "            #Define and move to GPU\n",
    "            label = batch[0][0]\n",
    "            model_input = batch[1]\n",
    "            label = label.to(device)\n",
    "            model_input = model_input.to(device)\n",
    "            #Forward Pass\n",
    "            out = LoBERT_model(model_input)\n",
    "            loss = criterion(out,label)\n",
    "            #Record metrics pt 1/2\n",
    "            val_loss += loss.item()\n",
    "\n",
    "            pred = torch.argmax(out)\n",
    "            val_correct +=(pred == label).sum()\n",
    "            \n",
    "    #Record metrics pt 2/2\n",
    "    val_loss = val_loss/ len(encoded_val_loader)\n",
    "    val_accuracy = val_correct/len(encoded_val_loader)\n",
    "    #Print and save\n",
    "    print('Epoch:', epoch, 'val_loss:',val_loss, 'accuracy: ',val_accuracy)\n",
    "    val_loss_list.append(val_loss)\n",
    "    val_accuracy_list.append(val_accuracy.cpu())\n",
    "    \n",
    "    if val_accuracy > best_val_accuracy:\n",
    "        best_val_accuracy = val_accuracy\n",
    "        torch.save(LoBERT_model.state_dict(), model_save_path)\n",
    "\n"
   ]
  },
  {
   "cell_type": "code",
   "execution_count": 10,
   "id": "04012d0e",
   "metadata": {},
   "outputs": [],
   "source": [
    "results = {'train_loss' : train_loss_list,\n",
    "           'val_loss' : val_loss_list,\n",
    "           'train_accuracy' : train_accuracy_list,\n",
    "           'val_accuracy' : val_accuracy_list\n",
    "           \n",
    "    \n",
    "}\n",
    "baseline_results_path =  r'\\\\wsl$\\Ubuntu-20.04\\home\\jolteon\\NLUProject\\models\\threshold_'+str(threshold)+'_results.pkl'\n",
    "with open(baseline_results_path, 'wb') as handle:\n",
    "    pickle.dump(results, handle, protocol=pickle.HIGHEST_PROTOCOL)"
   ]
  },
  {
   "cell_type": "code",
   "execution_count": 11,
   "id": "05c057e4",
   "metadata": {},
   "outputs": [
    {
     "data": {
      "image/png": "[encoded data removed]",
      "text/plain": [
       "<Figure size 432x288 with 1 Axes>"
      ]
     },
     "metadata": {
      "needs_background": "light"
     },
     "output_type": "display_data"
    }
   ],
   "source": [
    "\n",
    "plt.plot(val_loss_list,label='Validation Loss')\n",
    "plt.plot(train_loss_list,label='Train Loss')\n",
    "plt.legend()\n",
    "plt.title('Cross Entropy Loss vs Epoch')\n",
    "plt.xlabel('Epoch')\n",
    "plt.ylabel('Cross Entropy Loss')\n",
    "plt.show()"
   ]
  },
  {
   "cell_type": "code",
   "execution_count": null,
   "id": "d3968f0f",
   "metadata": {},
   "outputs": [],
   "source": []
  },
  {
   "cell_type": "code",
   "execution_count": 12,
   "id": "52ee8b3c",
   "metadata": {},
   "outputs": [
    {
     "data": {
      "image/png": "[encoded data removed]",
      "text/plain": [
       "<Figure size 432x288 with 1 Axes>"
      ]
     },
     "metadata": {
      "needs_background": "light"
     },
     "output_type": "display_data"
    }
   ],
   "source": [
    "\n",
    "plt.plot(val_accuracy_list,label='Validation Accuracy')\n",
    "plt.plot(train_accuracy_list,label='Train Accuracy')\n",
    "plt.legend()\n",
    "plt.title('Accuracy vs Epoch')\n",
    "plt.xlabel('Epoch')\n",
    "plt.ylabel('Accuracy')\n",
    "plt.show()"
   ]
  },
  {
   "cell_type": "code",
   "execution_count": null,
   "id": "4917cae5",
   "metadata": {},
   "outputs": [],
   "source": []
  },
  {
   "cell_type": "code",
   "execution_count": null,
   "id": "9db976c7",
   "metadata": {},
   "outputs": [],
   "source": []
  },
  {
   "cell_type": "code",
   "execution_count": null,
   "id": "e2281e0d",
   "metadata": {},
   "outputs": [],
   "source": []
  },
  {
   "cell_type": "code",
   "execution_count": null,
   "id": "89709db3",
   "metadata": {},
   "outputs": [],
   "source": []
  },
  {
   "cell_type": "code",
   "execution_count": null,
   "id": "a8c53502",
   "metadata": {},
   "outputs": [],
   "source": []
  },
  {
   "cell_type": "code",
   "execution_count": null,
   "id": "67831d75",
   "metadata": {},
   "outputs": [],
   "source": []
  },
  {
   "cell_type": "code",
   "execution_count": null,
   "id": "a86a044c",
   "metadata": {},
   "outputs": [],
   "source": []
  },
  {
   "cell_type": "code",
   "execution_count": null,
   "id": "9a20c3b6",
   "metadata": {},
   "outputs": [],
   "source": []
  },
  {
   "cell_type": "code",
   "execution_count": null,
   "id": "30b99cc6",
   "metadata": {},
   "outputs": [],
   "source": []
  },
  {
   "cell_type": "code",
   "execution_count": null,
   "id": "a6c672cf",
   "metadata": {},
   "outputs": [],
   "source": []
  },
  {
   "cell_type": "code",
   "execution_count": null,
   "id": "14d80752",
   "metadata": {},
   "outputs": [],
   "source": []
  },
  {
   "cell_type": "code",
   "execution_count": null,
   "id": "472463bd",
   "metadata": {},
   "outputs": [],
   "source": []
  }
 ],
 "metadata": {
  "kernelspec": {
   "display_name": "Python 3",
   "language": "python",
   "name": "python3"
  },
  "language_info": {
   "codemirror_mode": {
    "name": "ipython",
    "version": 3
   },
   "file_extension": ".py",
   "mimetype": "text/x-python",
   "name": "python",
   "nbconvert_exporter": "python",
   "pygments_lexer": "ipython3",
   "version": "3.9.2"
  }
 },
 "nbformat": 4,
 "nbformat_minor": 5
}
