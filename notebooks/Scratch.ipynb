{
 "cells": [
  {
   "cell_type": "code",
   "execution_count": 1,
   "id": "b8ce3d91",
   "metadata": {},
   "outputs": [],
   "source": [
    "from datasets import load_from_disk,load_dataset\n",
    "import json\n",
    "import torch\n",
    "from nltk.tokenize import sent_tokenize\n",
    "from torch.nn.functional import softmax\n",
    "from torch.utils.data import DataLoader\n",
    "from tqdm.notebook import tqdm\n",
    "from transformers import BertTokenizer,BertForNextSentencePrediction\n",
    "\n",
    "from torch.utils.data import Dataset\n",
    "import pickle"
   ]
  },
  {
   "cell_type": "code",
   "execution_count": 2,
   "id": "50e15e24",
   "metadata": {},
   "outputs": [
    {
     "name": "stdout",
     "output_type": "stream",
     "text": [
      "Using device: cuda\n",
      "NVIDIA GeForce RTX 3060 Ti\n",
      "Memory Usage:\n",
      "Allocated: 0.0 GB\n",
      "Cached:    0.0 GB\n"
     ]
    }
   ],
   "source": [
    "device = torch.device('cuda' if torch.cuda.is_available() else 'cpu')\n",
    "print('Using device:', device)\n",
    "\n",
    "#Additional Info when using cuda\n",
    "if device.type == 'cuda':\n",
    "    print(torch.cuda.get_device_name(0))\n",
    "    print('Memory Usage:')\n",
    "    print('Allocated:', round(torch.cuda.memory_allocated(0)/1024**3,1), 'GB')\n",
    "    print('Cached:   ', round(torch.cuda.memory_reserved(0)/1024**3,1), 'GB')\n"
   ]
  },
  {
   "cell_type": "code",
   "execution_count": 3,
   "id": "fd88a233",
   "metadata": {},
   "outputs": [
    {
     "data": {
      "text/plain": [
       "\"\\nconfigs = ['bydate_alt.atheism', 'bydate_comp.graphics', 'bydate_comp.os.ms-windows.misc', 'bydate_comp.sys.ibm.pc.hardware', 'bydate_comp.sys.mac.hardware', 'bydate_comp.windows.x', 'bydate_misc.forsale', 'bydate_rec.autos', 'bydate_rec.motorcycles', 'bydate_rec.sport.baseball', 'bydate_rec.sport.hockey', 'bydate_sci.crypt', 'bydate_sci.electronics', 'bydate_sci.med', 'bydate_sci.space', 'bydate_soc.religion.christian', 'bydate_talk.politics.guns', 'bydate_talk.politics.mideast', 'bydate_talk.politics.misc', 'bydate_talk.religion.misc']\\n\\ndataset_list = []\\nfor config in configs:\\n    topic_dataset = load_dataset('newsgroup',config,split='test',)\\n    topic_dataset.save_to_disk('/scratch/awd275/NLU_data/data/20news/test/'+config)\\n    \\nfor config in configs:\\n    topic_dataset = load_dataset('newsgroup',config,split='train',)\\n    topic_dataset.save_to_disk('/scratch/awd275/NLU_data/data/20news/train/'+config)\\n    \\nfrom datasets import load_from_disk,load_dataset\\ntemp1 = load_dataset('./newsgroup/newsgroup.py','bydate_alt.atheism',split='test',)\\ntemp2 = load_dataset('./newsgroup/newsgroup.py','bydate_alt.atheism',split='train',)\\n\\n\""
      ]
     },
     "execution_count": 3,
     "metadata": {},
     "output_type": "execute_result"
    }
   ],
   "source": [
    "'''\n",
    "configs = ['bydate_alt.atheism', 'bydate_comp.graphics', 'bydate_comp.os.ms-windows.misc', 'bydate_comp.sys.ibm.pc.hardware', 'bydate_comp.sys.mac.hardware', 'bydate_comp.windows.x', 'bydate_misc.forsale', 'bydate_rec.autos', 'bydate_rec.motorcycles', 'bydate_rec.sport.baseball', 'bydate_rec.sport.hockey', 'bydate_sci.crypt', 'bydate_sci.electronics', 'bydate_sci.med', 'bydate_sci.space', 'bydate_soc.religion.christian', 'bydate_talk.politics.guns', 'bydate_talk.politics.mideast', 'bydate_talk.politics.misc', 'bydate_talk.religion.misc']\n",
    "\n",
    "dataset_list = []\n",
    "for config in configs:\n",
    "    topic_dataset = load_dataset('newsgroup',config,split='test',)\n",
    "    topic_dataset.save_to_disk('/scratch/awd275/NLU_data/data/20news/test/'+config)\n",
    "    \n",
    "for config in configs:\n",
    "    topic_dataset = load_dataset('newsgroup',config,split='train',)\n",
    "    topic_dataset.save_to_disk('/scratch/awd275/NLU_data/data/20news/train/'+config)\n",
    "    \n",
    "from datasets import load_from_disk,load_dataset\n",
    "temp1 = load_dataset('./newsgroup/newsgroup.py','bydate_alt.atheism',split='test',)\n",
    "temp2 = load_dataset('./newsgroup/newsgroup.py','bydate_alt.atheism',split='train',)\n",
    "\n",
    "'''\n"
   ]
  },
  {
   "cell_type": "code",
   "execution_count": 4,
   "id": "d949397c",
   "metadata": {},
   "outputs": [
    {
     "data": {
      "text/plain": [
       "'\\\\\\\\wsl$\\\\Ubuntu-20.04\\\\home\\\\jolteon\\\\NLUProject\\\\notebooks'"
      ]
     },
     "execution_count": 4,
     "metadata": {},
     "output_type": "execute_result"
    }
   ],
   "source": [
    "%pwd"
   ]
  },
  {
   "cell_type": "code",
   "execution_count": null,
   "id": "9ab10587",
   "metadata": {},
   "outputs": [],
   "source": []
  },
  {
   "cell_type": "code",
   "execution_count": null,
   "id": "cbd65d15",
   "metadata": {},
   "outputs": [],
   "source": []
  },
  {
   "cell_type": "code",
   "execution_count": 5,
   "id": "8bea8131",
   "metadata": {},
   "outputs": [],
   "source": [
    "#dataset = load_from_disk('/home/adong/School/NLUProject/data/trivia_qa_rc_tiny')\n",
    "#dataset = load_from_disk(r'\\\\wsl$\\Ubuntu-20.04\\home\\jolteon\\NLUProject\\data\\trivia_qa_rc_tiny')"
   ]
  },
  {
   "cell_type": "code",
   "execution_count": 6,
   "id": "a07a3135",
   "metadata": {},
   "outputs": [],
   "source": [
    "#dataloader = DataLoader(dataset,batch_size=256,shuffle=False)"
   ]
  },
  {
   "cell_type": "markdown",
   "id": "2acbbd38",
   "metadata": {},
   "source": [
    "# Need to make a dict that is:\n",
    "\n",
    "    entry_id -> [search_context_idx -> splits,  \n",
    "             entity_pages_idx -> splits]  \n",
    "             \n",
    "             "
   ]
  },
  {
   "cell_type": "code",
   "execution_count": null,
   "id": "5b880640",
   "metadata": {},
   "outputs": [],
   "source": []
  },
  {
   "cell_type": "code",
   "execution_count": 7,
   "id": "d2e27775",
   "metadata": {},
   "outputs": [
    {
     "name": "stderr",
     "output_type": "stream",
     "text": [
      "Some weights of the model checkpoint at prajjwal1/bert-small were not used when initializing BertForNextSentencePrediction: ['cls.predictions.bias', 'cls.predictions.transform.dense.weight', 'cls.predictions.transform.dense.bias', 'cls.predictions.transform.LayerNorm.weight', 'cls.predictions.transform.LayerNorm.bias', 'cls.predictions.decoder.weight', 'cls.predictions.decoder.bias']\n",
      "- This IS expected if you are initializing BertForNextSentencePrediction from the checkpoint of a model trained on another task or with another architecture (e.g. initializing a BertForSequenceClassification model from a BertForPreTraining model).\n",
      "- This IS NOT expected if you are initializing BertForNextSentencePrediction from the checkpoint of a model that you expect to be exactly identical (initializing a BertForSequenceClassification model from a BertForSequenceClassification model).\n"
     ]
    }
   ],
   "source": [
    "nsp_model = BertForNextSentencePrediction.from_pretrained('prajjwal1/bert-small')\n",
    "nsp_model.eval()\n",
    "nsp_model.to(device)\n",
    "tokenizer = BertTokenizer.from_pretrained('prajjwal1/bert-small')\n"
   ]
  },
  {
   "cell_type": "code",
   "execution_count": null,
   "id": "34758c3b",
   "metadata": {},
   "outputs": [],
   "source": []
  },
  {
   "cell_type": "code",
   "execution_count": 8,
   "id": "6b554159",
   "metadata": {},
   "outputs": [],
   "source": [
    "class ContextDataset(Dataset):\n",
    "    def __init__(self, sentence_pair_list):\n",
    "        self.sentence_pair_list = sentence_pair_list\n",
    "\n",
    "    def __len__(self):\n",
    "        return len(self.sentence_pair_list)\n",
    " \n",
    "    def __getitem__(self,idx):\n",
    "        return(self.sentence_pair_list[idx])\n",
    "\n",
    "def get_probabilities_on_text_w_NSP(nsp_model, text, tokenizer, device):\n",
    "    '''\n",
    "    Returns a sequence of probabilities which represent confidence that the next sentence is part of the same segment\n",
    "    \n",
    "    If text has n sentences, then prob_seq has n-1 probabilities. (If text has 1 sentence, prob_seq is [], the empty list.)\n",
    "    The ii index of prob seq represents the NSP confidence of the ii and ii+1 sentences in text.\n",
    "    Probabilities closer to 1 indicate confidence, Probabilities closer to 0 indicate no confidence.\n",
    "    \n",
    "    '''\n",
    "    #print(text)\n",
    "    text = text.lower()\n",
    "    #print(text)\n",
    "    sentence_list = sent_tokenize(text)\n",
    "    over_length_indices = []\n",
    "    sentence_pair_list=[]\n",
    "    indices_to_be_processed=[]\n",
    "    #Create Sentence pair list\n",
    "    if len(sentence_list)==1:\n",
    "        return [],sentence_list # Return empty list for probs\n",
    "    for ii in range(0,len(sentence_list)-1):\n",
    "        sentence_1 = sentence_list[ii]\n",
    "        sentence_2 = sentence_list[ii+1]\n",
    "\n",
    "        #Encode temporarily, just to count\n",
    "        encoded = tokenizer.encode_plus(sentence_1, text_pair=sentence_2, return_tensors='pt')\n",
    "        if encoded['input_ids'].shape[1] > 512: # If two sentences are too long, just split them\n",
    "            over_length_indices.append(ii)\n",
    "        else:# add to list to be processed\n",
    "            indices_to_be_processed.append(ii)\n",
    "            sentence_pair_list.append([sentence_1,sentence_2])\n",
    "    # Now, begin calculating probabilities\n",
    "    with torch.no_grad():\n",
    "        # Load into a dataset and dataloader. We do this for speed\n",
    "        context_dataset = ContextDataset(sentence_pair_list)\n",
    "        context_loader = DataLoader(context_dataset, batch_size=64, shuffle=False, pin_memory=True)\n",
    "        probs_list = [] #Will be list of tensors\n",
    "        for batch_idx,batch in enumerate(context_loader):\n",
    "            if len(batch)==0:\n",
    "                continue\n",
    "            # I swear to god this is a legitimate pytorch bug, but we need to reorganize the batch from the dataloader. Whatever\n",
    "            batch_fixed = [(s1,s2) for s1,s2 in zip(batch[0], batch[1])] \n",
    "            # Batch encode\n",
    "            sentence_pairs = tokenizer.batch_encode_plus(batch_fixed, return_tensors='pt',padding=True)\n",
    "            # Run through the model\n",
    "            sentence_pairs.to(device)\n",
    "            logits = nsp_model(**sentence_pairs)[0]\n",
    "            # Get Probability of next sentence.\n",
    "            probs = softmax(logits, dim=1)\n",
    "            probs = probs[:,0]\n",
    "            # Add to list of tensors\n",
    "            probs_list.append(probs.cpu())\n",
    "            \n",
    "        #Cat the list of tensors to get a bsize x sequence_length tensors\n",
    "        if len(probs_list)  == 0:\n",
    "            all_probs = []\n",
    "        else:\n",
    "            all_probs = list(torch.cat(probs_list))\n",
    "    # Now, we need to sort the probabilities. Some of probabilities are coming from over_length_indices, some of them are coming from indices_to_be_processed\n",
    "    # We'll zip, then sort, then take the sorted probs.\n",
    "    indices = over_length_indices + indices_to_be_processed\n",
    "    one_probs = [1]*len(over_length_indices)\n",
    "    probs = one_probs + all_probs\n",
    "    probs = [x for _, x in sorted(zip(indices, probs))]\n",
    "    # Return probabilities, and also return sentence list for use later as well\n",
    "    return probs, sentence_list\n",
    "\n",
    "\n",
    "def get_tokens_per_sentence_list(tokenizer,sentence_list):\n",
    "    tokens_per_sentence_list = [len(tokenizer.encode(sentence)) for sentence in sentence_list]\n",
    "    return tokens_per_sentence_list\n",
    "\n",
    "def apply_threshold(prob_seq,tokens_per_sentence_list,threshold):\n",
    "    '''\n",
    "    If prob_seq is empty, we will return and empty list.\n",
    "    '''\n",
    "    # Initialize\n",
    "    cutoff_indices = []\n",
    "    running_length = tokens_per_sentence_list[0]\n",
    "    # \n",
    "    for ii,prob in enumerate(prob_seq):\n",
    "        if prob <= threshold:\n",
    "            cutoff_indices.append(ii)\n",
    "            running_length = tokens_per_sentence_list[ii+1]\n",
    "            \n",
    "        elif running_length + tokens_per_sentence_list[ii+1] > 512:\n",
    "            cutoff_indices.append(ii)\n",
    "            running_length = tokens_per_sentence_list[ii+1]\n",
    "            \n",
    "        else:\n",
    "            running_length += tokens_per_sentence_list[ii+1]\n",
    "        \n",
    "    return cutoff_indices\n",
    "\n",
    "def get_cutoff_indices(text, threshold, nsp_model,tokenizer, device):\n",
    "    \n",
    "    prob_seq, sentence_list = get_probabilities_on_text_w_NSP(nsp_model, text, tokenizer,device)\n",
    "    tokens_per_sentence_list = get_tokens_per_sentence_list(tokenizer, sentence_list)\n",
    "    cutoff_indices = apply_threshold(prob_seq, tokens_per_sentence_list, threshold=.5)\n",
    "    \n",
    "    return cutoff_indices\n"
   ]
  },
  {
   "cell_type": "markdown",
   "id": "2c63b559",
   "metadata": {},
   "source": [
    "# 20 newsgroup driver code"
   ]
  },
  {
   "cell_type": "code",
   "execution_count": 13,
   "id": "458dba5e",
   "metadata": {},
   "outputs": [
    {
     "data": {
      "application/vnd.jupyter.widget-view+json": {
       "model_id": "7ffe31aa848344a0a1798fbe1e9ba7f9",
       "version_major": 2,
       "version_minor": 0
      },
      "text/plain": [
       "HBox(children=(FloatProgress(value=1.0, bar_style='info', layout=Layout(width='20px'), max=1.0), HTML(value=''…"
      ]
     },
     "metadata": {},
     "output_type": "display_data"
    },
    {
     "name": "stdout",
     "output_type": "stream",
     "text": [
      "\n"
     ]
    },
    {
     "data": {
      "application/vnd.jupyter.widget-view+json": {
       "model_id": "80c11cad60e04ed8b6dae5d8bfa0ede9",
       "version_major": 2,
       "version_minor": 0
      },
      "text/plain": [
       "HBox(children=(FloatProgress(value=1.0, bar_style='info', layout=Layout(width='20px'), max=1.0), HTML(value=''…"
      ]
     },
     "metadata": {},
     "output_type": "display_data"
    },
    {
     "name": "stdout",
     "output_type": "stream",
     "text": [
      "\n"
     ]
    },
    {
     "data": {
      "application/vnd.jupyter.widget-view+json": {
       "model_id": "e3cc3beae55d4f00bc94d6e27bcf6a4c",
       "version_major": 2,
       "version_minor": 0
      },
      "text/plain": [
       "HBox(children=(FloatProgress(value=1.0, bar_style='info', layout=Layout(width='20px'), max=1.0), HTML(value=''…"
      ]
     },
     "metadata": {},
     "output_type": "display_data"
    },
    {
     "name": "stdout",
     "output_type": "stream",
     "text": [
      "\n"
     ]
    },
    {
     "data": {
      "application/vnd.jupyter.widget-view+json": {
       "model_id": "11549ad28187415c85c33e19993f40fb",
       "version_major": 2,
       "version_minor": 0
      },
      "text/plain": [
       "HBox(children=(FloatProgress(value=1.0, bar_style='info', layout=Layout(width='20px'), max=1.0), HTML(value=''…"
      ]
     },
     "metadata": {},
     "output_type": "display_data"
    },
    {
     "name": "stdout",
     "output_type": "stream",
     "text": [
      "\n"
     ]
    },
    {
     "data": {
      "application/vnd.jupyter.widget-view+json": {
       "model_id": "911af99a99a7470dbf765642ffeee3af",
       "version_major": 2,
       "version_minor": 0
      },
      "text/plain": [
       "HBox(children=(FloatProgress(value=1.0, bar_style='info', layout=Layout(width='20px'), max=1.0), HTML(value=''…"
      ]
     },
     "metadata": {},
     "output_type": "display_data"
    },
    {
     "name": "stdout",
     "output_type": "stream",
     "text": [
      "\n"
     ]
    },
    {
     "data": {
      "application/vnd.jupyter.widget-view+json": {
       "model_id": "33a8797434614a44be74bd071aec71df",
       "version_major": 2,
       "version_minor": 0
      },
      "text/plain": [
       "HBox(children=(FloatProgress(value=1.0, bar_style='info', layout=Layout(width='20px'), max=1.0), HTML(value=''…"
      ]
     },
     "metadata": {},
     "output_type": "display_data"
    },
    {
     "name": "stdout",
     "output_type": "stream",
     "text": [
      "\n"
     ]
    },
    {
     "data": {
      "application/vnd.jupyter.widget-view+json": {
       "model_id": "9edf428743fc4cf9bb32a3e48e1c49cb",
       "version_major": 2,
       "version_minor": 0
      },
      "text/plain": [
       "HBox(children=(FloatProgress(value=1.0, bar_style='info', layout=Layout(width='20px'), max=1.0), HTML(value=''…"
      ]
     },
     "metadata": {},
     "output_type": "display_data"
    },
    {
     "name": "stdout",
     "output_type": "stream",
     "text": [
      "\n"
     ]
    },
    {
     "data": {
      "application/vnd.jupyter.widget-view+json": {
       "model_id": "1feaeb3afad04d1aa401dfa17e645f35",
       "version_major": 2,
       "version_minor": 0
      },
      "text/plain": [
       "HBox(children=(FloatProgress(value=1.0, bar_style='info', layout=Layout(width='20px'), max=1.0), HTML(value=''…"
      ]
     },
     "metadata": {},
     "output_type": "display_data"
    },
    {
     "name": "stdout",
     "output_type": "stream",
     "text": [
      "\n"
     ]
    },
    {
     "data": {
      "application/vnd.jupyter.widget-view+json": {
       "model_id": "0e3dfdfc3b904230becad1a46b712c33",
       "version_major": 2,
       "version_minor": 0
      },
      "text/plain": [
       "HBox(children=(FloatProgress(value=1.0, bar_style='info', layout=Layout(width='20px'), max=1.0), HTML(value=''…"
      ]
     },
     "metadata": {},
     "output_type": "display_data"
    },
    {
     "name": "stdout",
     "output_type": "stream",
     "text": [
      "\n"
     ]
    },
    {
     "data": {
      "application/vnd.jupyter.widget-view+json": {
       "model_id": "cf16782dee014b9ab3499d783a648be5",
       "version_major": 2,
       "version_minor": 0
      },
      "text/plain": [
       "HBox(children=(FloatProgress(value=1.0, bar_style='info', layout=Layout(width='20px'), max=1.0), HTML(value=''…"
      ]
     },
     "metadata": {},
     "output_type": "display_data"
    },
    {
     "name": "stdout",
     "output_type": "stream",
     "text": [
      "\n"
     ]
    },
    {
     "data": {
      "application/vnd.jupyter.widget-view+json": {
       "model_id": "9dfa66dbb86a489388113016ac469084",
       "version_major": 2,
       "version_minor": 0
      },
      "text/plain": [
       "HBox(children=(FloatProgress(value=1.0, bar_style='info', layout=Layout(width='20px'), max=1.0), HTML(value=''…"
      ]
     },
     "metadata": {},
     "output_type": "display_data"
    },
    {
     "name": "stdout",
     "output_type": "stream",
     "text": [
      "\n"
     ]
    },
    {
     "data": {
      "application/vnd.jupyter.widget-view+json": {
       "model_id": "ccf014ab785f4790b0f2ff4a94237f5a",
       "version_major": 2,
       "version_minor": 0
      },
      "text/plain": [
       "HBox(children=(FloatProgress(value=1.0, bar_style='info', layout=Layout(width='20px'), max=1.0), HTML(value=''…"
      ]
     },
     "metadata": {},
     "output_type": "display_data"
    },
    {
     "name": "stdout",
     "output_type": "stream",
     "text": [
      "\n"
     ]
    },
    {
     "data": {
      "application/vnd.jupyter.widget-view+json": {
       "model_id": "fa3fbd89943d4cbab59f692d3cd6b661",
       "version_major": 2,
       "version_minor": 0
      },
      "text/plain": [
       "HBox(children=(FloatProgress(value=1.0, bar_style='info', layout=Layout(width='20px'), max=1.0), HTML(value=''…"
      ]
     },
     "metadata": {},
     "output_type": "display_data"
    },
    {
     "name": "stdout",
     "output_type": "stream",
     "text": [
      "\n"
     ]
    },
    {
     "data": {
      "application/vnd.jupyter.widget-view+json": {
       "model_id": "b076ea9c33f8497e84bc55f1f18b911c",
       "version_major": 2,
       "version_minor": 0
      },
      "text/plain": [
       "HBox(children=(FloatProgress(value=1.0, bar_style='info', layout=Layout(width='20px'), max=1.0), HTML(value=''…"
      ]
     },
     "metadata": {},
     "output_type": "display_data"
    },
    {
     "name": "stdout",
     "output_type": "stream",
     "text": [
      "\n"
     ]
    },
    {
     "data": {
      "application/vnd.jupyter.widget-view+json": {
       "model_id": "fd3bd507bc054b0b91dc57fc938082c6",
       "version_major": 2,
       "version_minor": 0
      },
      "text/plain": [
       "HBox(children=(FloatProgress(value=1.0, bar_style='info', layout=Layout(width='20px'), max=1.0), HTML(value=''…"
      ]
     },
     "metadata": {},
     "output_type": "display_data"
    },
    {
     "name": "stdout",
     "output_type": "stream",
     "text": [
      "\n"
     ]
    },
    {
     "data": {
      "application/vnd.jupyter.widget-view+json": {
       "model_id": "cbb1802ab8b246659b8145b955750ae4",
       "version_major": 2,
       "version_minor": 0
      },
      "text/plain": [
       "HBox(children=(FloatProgress(value=1.0, bar_style='info', layout=Layout(width='20px'), max=1.0), HTML(value=''…"
      ]
     },
     "metadata": {},
     "output_type": "display_data"
    },
    {
     "name": "stdout",
     "output_type": "stream",
     "text": [
      "\n"
     ]
    },
    {
     "data": {
      "application/vnd.jupyter.widget-view+json": {
       "model_id": "c28e70c9ef5c4d2fb3a6941fe4c52376",
       "version_major": 2,
       "version_minor": 0
      },
      "text/plain": [
       "HBox(children=(FloatProgress(value=1.0, bar_style='info', layout=Layout(width='20px'), max=1.0), HTML(value=''…"
      ]
     },
     "metadata": {},
     "output_type": "display_data"
    },
    {
     "name": "stdout",
     "output_type": "stream",
     "text": [
      "\n"
     ]
    },
    {
     "data": {
      "application/vnd.jupyter.widget-view+json": {
       "model_id": "236c949566dd4f20864069f8562005b3",
       "version_major": 2,
       "version_minor": 0
      },
      "text/plain": [
       "HBox(children=(FloatProgress(value=1.0, bar_style='info', layout=Layout(width='20px'), max=1.0), HTML(value=''…"
      ]
     },
     "metadata": {},
     "output_type": "display_data"
    },
    {
     "name": "stdout",
     "output_type": "stream",
     "text": [
      "\n"
     ]
    },
    {
     "data": {
      "application/vnd.jupyter.widget-view+json": {
       "model_id": "ea98692800344a8f84a0ac5daacdd0cc",
       "version_major": 2,
       "version_minor": 0
      },
      "text/plain": [
       "HBox(children=(FloatProgress(value=1.0, bar_style='info', layout=Layout(width='20px'), max=1.0), HTML(value=''…"
      ]
     },
     "metadata": {},
     "output_type": "display_data"
    },
    {
     "name": "stdout",
     "output_type": "stream",
     "text": [
      "\n"
     ]
    },
    {
     "data": {
      "application/vnd.jupyter.widget-view+json": {
       "model_id": "870fc344ebbc4617a9aa19871fe96eac",
       "version_major": 2,
       "version_minor": 0
      },
      "text/plain": [
       "HBox(children=(FloatProgress(value=1.0, bar_style='info', layout=Layout(width='20px'), max=1.0), HTML(value=''…"
      ]
     },
     "metadata": {},
     "output_type": "display_data"
    },
    {
     "name": "stdout",
     "output_type": "stream",
     "text": [
      "\n"
     ]
    },
    {
     "data": {
      "application/vnd.jupyter.widget-view+json": {
       "model_id": "da0a3df8144447f6a29c0241c4867b2e",
       "version_major": 2,
       "version_minor": 0
      },
      "text/plain": [
       "HBox(children=(FloatProgress(value=1.0, bar_style='info', layout=Layout(width='20px'), max=1.0), HTML(value=''…"
      ]
     },
     "metadata": {},
     "output_type": "display_data"
    },
    {
     "name": "stdout",
     "output_type": "stream",
     "text": [
      "\n"
     ]
    },
    {
     "data": {
      "application/vnd.jupyter.widget-view+json": {
       "model_id": "d8ba7425e0d54db9a0c955bdedd1e5e6",
       "version_major": 2,
       "version_minor": 0
      },
      "text/plain": [
       "HBox(children=(FloatProgress(value=1.0, bar_style='info', layout=Layout(width='20px'), max=1.0), HTML(value=''…"
      ]
     },
     "metadata": {},
     "output_type": "display_data"
    },
    {
     "name": "stdout",
     "output_type": "stream",
     "text": [
      "\n"
     ]
    },
    {
     "data": {
      "application/vnd.jupyter.widget-view+json": {
       "model_id": "443f6afb7af9405a8427d09e1adc4bea",
       "version_major": 2,
       "version_minor": 0
      },
      "text/plain": [
       "HBox(children=(FloatProgress(value=1.0, bar_style='info', layout=Layout(width='20px'), max=1.0), HTML(value=''…"
      ]
     },
     "metadata": {},
     "output_type": "display_data"
    },
    {
     "name": "stdout",
     "output_type": "stream",
     "text": [
      "\n"
     ]
    },
    {
     "data": {
      "application/vnd.jupyter.widget-view+json": {
       "model_id": "118bcbfcb7be4bcf97bab4d5534ef08a",
       "version_major": 2,
       "version_minor": 0
      },
      "text/plain": [
       "HBox(children=(FloatProgress(value=1.0, bar_style='info', layout=Layout(width='20px'), max=1.0), HTML(value=''…"
      ]
     },
     "metadata": {},
     "output_type": "display_data"
    },
    {
     "name": "stdout",
     "output_type": "stream",
     "text": [
      "\n"
     ]
    },
    {
     "data": {
      "application/vnd.jupyter.widget-view+json": {
       "model_id": "4d0c1e25a7ab46f694d973679fc2f352",
       "version_major": 2,
       "version_minor": 0
      },
      "text/plain": [
       "HBox(children=(FloatProgress(value=1.0, bar_style='info', layout=Layout(width='20px'), max=1.0), HTML(value=''…"
      ]
     },
     "metadata": {},
     "output_type": "display_data"
    },
    {
     "name": "stdout",
     "output_type": "stream",
     "text": [
      "\n"
     ]
    },
    {
     "data": {
      "application/vnd.jupyter.widget-view+json": {
       "model_id": "b8cdeb820c334166a967f1058c97e111",
       "version_major": 2,
       "version_minor": 0
      },
      "text/plain": [
       "HBox(children=(FloatProgress(value=1.0, bar_style='info', layout=Layout(width='20px'), max=1.0), HTML(value=''…"
      ]
     },
     "metadata": {},
     "output_type": "display_data"
    },
    {
     "name": "stdout",
     "output_type": "stream",
     "text": [
      "\n"
     ]
    },
    {
     "data": {
      "application/vnd.jupyter.widget-view+json": {
       "model_id": "ee03fed654f743aaabb3b79e014b3371",
       "version_major": 2,
       "version_minor": 0
      },
      "text/plain": [
       "HBox(children=(FloatProgress(value=1.0, bar_style='info', layout=Layout(width='20px'), max=1.0), HTML(value=''…"
      ]
     },
     "metadata": {},
     "output_type": "display_data"
    },
    {
     "name": "stdout",
     "output_type": "stream",
     "text": [
      "\n"
     ]
    },
    {
     "data": {
      "application/vnd.jupyter.widget-view+json": {
       "model_id": "ff3e31c4306643c8b693e6987814334f",
       "version_major": 2,
       "version_minor": 0
      },
      "text/plain": [
       "HBox(children=(FloatProgress(value=1.0, bar_style='info', layout=Layout(width='20px'), max=1.0), HTML(value=''…"
      ]
     },
     "metadata": {},
     "output_type": "display_data"
    },
    {
     "name": "stdout",
     "output_type": "stream",
     "text": [
      "\n"
     ]
    },
    {
     "data": {
      "application/vnd.jupyter.widget-view+json": {
       "model_id": "b1d04714c7d94f548a5e75a1eb7b2ee1",
       "version_major": 2,
       "version_minor": 0
      },
      "text/plain": [
       "HBox(children=(FloatProgress(value=1.0, bar_style='info', layout=Layout(width='20px'), max=1.0), HTML(value=''…"
      ]
     },
     "metadata": {},
     "output_type": "display_data"
    },
    {
     "name": "stdout",
     "output_type": "stream",
     "text": [
      "\n"
     ]
    },
    {
     "data": {
      "application/vnd.jupyter.widget-view+json": {
       "model_id": "e9ba699d591547128aea4bb08b492851",
       "version_major": 2,
       "version_minor": 0
      },
      "text/plain": [
       "HBox(children=(FloatProgress(value=1.0, bar_style='info', layout=Layout(width='20px'), max=1.0), HTML(value=''…"
      ]
     },
     "metadata": {},
     "output_type": "display_data"
    },
    {
     "name": "stdout",
     "output_type": "stream",
     "text": [
      "\n"
     ]
    },
    {
     "data": {
      "application/vnd.jupyter.widget-view+json": {
       "model_id": "1aeffec357574b849161eeef8ba139f0",
       "version_major": 2,
       "version_minor": 0
      },
      "text/plain": [
       "HBox(children=(FloatProgress(value=1.0, bar_style='info', layout=Layout(width='20px'), max=1.0), HTML(value=''…"
      ]
     },
     "metadata": {},
     "output_type": "display_data"
    },
    {
     "name": "stdout",
     "output_type": "stream",
     "text": [
      "\n"
     ]
    },
    {
     "data": {
      "application/vnd.jupyter.widget-view+json": {
       "model_id": "332449dcfa6f4cd4adc9ec59238f6a01",
       "version_major": 2,
       "version_minor": 0
      },
      "text/plain": [
       "HBox(children=(FloatProgress(value=1.0, bar_style='info', layout=Layout(width='20px'), max=1.0), HTML(value=''…"
      ]
     },
     "metadata": {},
     "output_type": "display_data"
    },
    {
     "name": "stdout",
     "output_type": "stream",
     "text": [
      "\n"
     ]
    },
    {
     "data": {
      "application/vnd.jupyter.widget-view+json": {
       "model_id": "689eb4a02d1b455dac48fe3671eac5e6",
       "version_major": 2,
       "version_minor": 0
      },
      "text/plain": [
       "HBox(children=(FloatProgress(value=1.0, bar_style='info', layout=Layout(width='20px'), max=1.0), HTML(value=''…"
      ]
     },
     "metadata": {},
     "output_type": "display_data"
    },
    {
     "name": "stdout",
     "output_type": "stream",
     "text": [
      "\n"
     ]
    },
    {
     "data": {
      "application/vnd.jupyter.widget-view+json": {
       "model_id": "3955f1a64a2f402395b65d11492b28fa",
       "version_major": 2,
       "version_minor": 0
      },
      "text/plain": [
       "HBox(children=(FloatProgress(value=1.0, bar_style='info', layout=Layout(width='20px'), max=1.0), HTML(value=''…"
      ]
     },
     "metadata": {},
     "output_type": "display_data"
    },
    {
     "name": "stdout",
     "output_type": "stream",
     "text": [
      "\n"
     ]
    },
    {
     "data": {
      "application/vnd.jupyter.widget-view+json": {
       "model_id": "b0bb3231b0c84fcb96a0ccf8248c1a09",
       "version_major": 2,
       "version_minor": 0
      },
      "text/plain": [
       "HBox(children=(FloatProgress(value=1.0, bar_style='info', layout=Layout(width='20px'), max=1.0), HTML(value=''…"
      ]
     },
     "metadata": {},
     "output_type": "display_data"
    },
    {
     "name": "stdout",
     "output_type": "stream",
     "text": [
      "\n"
     ]
    },
    {
     "data": {
      "application/vnd.jupyter.widget-view+json": {
       "model_id": "c38ed4346ea5422dbd7fa64250dc128d",
       "version_major": 2,
       "version_minor": 0
      },
      "text/plain": [
       "HBox(children=(FloatProgress(value=1.0, bar_style='info', layout=Layout(width='20px'), max=1.0), HTML(value=''…"
      ]
     },
     "metadata": {},
     "output_type": "display_data"
    },
    {
     "name": "stdout",
     "output_type": "stream",
     "text": [
      "\n"
     ]
    },
    {
     "data": {
      "application/vnd.jupyter.widget-view+json": {
       "model_id": "69e8beb84e8f4d84aa418ab8b10b7907",
       "version_major": 2,
       "version_minor": 0
      },
      "text/plain": [
       "HBox(children=(FloatProgress(value=1.0, bar_style='info', layout=Layout(width='20px'), max=1.0), HTML(value=''…"
      ]
     },
     "metadata": {},
     "output_type": "display_data"
    },
    {
     "name": "stdout",
     "output_type": "stream",
     "text": [
      "\n"
     ]
    },
    {
     "data": {
      "application/vnd.jupyter.widget-view+json": {
       "model_id": "c28d243e4f1443edb173704a77a256db",
       "version_major": 2,
       "version_minor": 0
      },
      "text/plain": [
       "HBox(children=(FloatProgress(value=1.0, bar_style='info', layout=Layout(width='20px'), max=1.0), HTML(value=''…"
      ]
     },
     "metadata": {},
     "output_type": "display_data"
    },
    {
     "name": "stdout",
     "output_type": "stream",
     "text": [
      "\n"
     ]
    },
    {
     "data": {
      "application/vnd.jupyter.widget-view+json": {
       "model_id": "a684d62dee66460691fc606cf5a6b2ff",
       "version_major": 2,
       "version_minor": 0
      },
      "text/plain": [
       "HBox(children=(FloatProgress(value=1.0, bar_style='info', layout=Layout(width='20px'), max=1.0), HTML(value=''…"
      ]
     },
     "metadata": {},
     "output_type": "display_data"
    },
    {
     "name": "stdout",
     "output_type": "stream",
     "text": [
      "\n"
     ]
    },
    {
     "data": {
      "application/vnd.jupyter.widget-view+json": {
       "model_id": "ddca832b37c04afaa9a118d66606a849",
       "version_major": 2,
       "version_minor": 0
      },
      "text/plain": [
       "HBox(children=(FloatProgress(value=1.0, bar_style='info', layout=Layout(width='20px'), max=1.0), HTML(value=''…"
      ]
     },
     "metadata": {},
     "output_type": "display_data"
    },
    {
     "name": "stdout",
     "output_type": "stream",
     "text": [
      "\n"
     ]
    },
    {
     "data": {
      "application/vnd.jupyter.widget-view+json": {
       "model_id": "28519a135a9f442cb9eb42a755c6d7dd",
       "version_major": 2,
       "version_minor": 0
      },
      "text/plain": [
       "HBox(children=(FloatProgress(value=1.0, bar_style='info', layout=Layout(width='20px'), max=1.0), HTML(value=''…"
      ]
     },
     "metadata": {},
     "output_type": "display_data"
    },
    {
     "name": "stdout",
     "output_type": "stream",
     "text": [
      "\n"
     ]
    },
    {
     "data": {
      "application/vnd.jupyter.widget-view+json": {
       "model_id": "808d174216fa4e91a3b8cf708d2019b3",
       "version_major": 2,
       "version_minor": 0
      },
      "text/plain": [
       "HBox(children=(FloatProgress(value=1.0, bar_style='info', layout=Layout(width='20px'), max=1.0), HTML(value=''…"
      ]
     },
     "metadata": {},
     "output_type": "display_data"
    },
    {
     "name": "stdout",
     "output_type": "stream",
     "text": [
      "\n"
     ]
    },
    {
     "data": {
      "application/vnd.jupyter.widget-view+json": {
       "model_id": "9edc20774ed841689f5d04c3aec14965",
       "version_major": 2,
       "version_minor": 0
      },
      "text/plain": [
       "HBox(children=(FloatProgress(value=1.0, bar_style='info', layout=Layout(width='20px'), max=1.0), HTML(value=''…"
      ]
     },
     "metadata": {},
     "output_type": "display_data"
    },
    {
     "name": "stdout",
     "output_type": "stream",
     "text": [
      "\n"
     ]
    },
    {
     "data": {
      "application/vnd.jupyter.widget-view+json": {
       "model_id": "06f9f2f70322421289819585bef14b71",
       "version_major": 2,
       "version_minor": 0
      },
      "text/plain": [
       "HBox(children=(FloatProgress(value=1.0, bar_style='info', layout=Layout(width='20px'), max=1.0), HTML(value=''…"
      ]
     },
     "metadata": {},
     "output_type": "display_data"
    },
    {
     "name": "stdout",
     "output_type": "stream",
     "text": [
      "\n"
     ]
    },
    {
     "data": {
      "application/vnd.jupyter.widget-view+json": {
       "model_id": "fb1dc32c28ed4a4a815c8f25b745c7f4",
       "version_major": 2,
       "version_minor": 0
      },
      "text/plain": [
       "HBox(children=(FloatProgress(value=1.0, bar_style='info', layout=Layout(width='20px'), max=1.0), HTML(value=''…"
      ]
     },
     "metadata": {},
     "output_type": "display_data"
    },
    {
     "name": "stdout",
     "output_type": "stream",
     "text": [
      "\n"
     ]
    },
    {
     "data": {
      "application/vnd.jupyter.widget-view+json": {
       "model_id": "078c03797d6349d49af37d32b81f7cb7",
       "version_major": 2,
       "version_minor": 0
      },
      "text/plain": [
       "HBox(children=(FloatProgress(value=1.0, bar_style='info', layout=Layout(width='20px'), max=1.0), HTML(value=''…"
      ]
     },
     "metadata": {},
     "output_type": "display_data"
    },
    {
     "name": "stdout",
     "output_type": "stream",
     "text": [
      "\n"
     ]
    },
    {
     "data": {
      "application/vnd.jupyter.widget-view+json": {
       "model_id": "b2736be36772474392ad7db10856345d",
       "version_major": 2,
       "version_minor": 0
      },
      "text/plain": [
       "HBox(children=(FloatProgress(value=1.0, bar_style='info', layout=Layout(width='20px'), max=1.0), HTML(value=''…"
      ]
     },
     "metadata": {},
     "output_type": "display_data"
    },
    {
     "name": "stdout",
     "output_type": "stream",
     "text": [
      "\n"
     ]
    },
    {
     "data": {
      "application/vnd.jupyter.widget-view+json": {
       "model_id": "e5869a1f4e524cc18067fdc499fa6257",
       "version_major": 2,
       "version_minor": 0
      },
      "text/plain": [
       "HBox(children=(FloatProgress(value=1.0, bar_style='info', layout=Layout(width='20px'), max=1.0), HTML(value=''…"
      ]
     },
     "metadata": {},
     "output_type": "display_data"
    },
    {
     "name": "stdout",
     "output_type": "stream",
     "text": [
      "\n"
     ]
    },
    {
     "data": {
      "application/vnd.jupyter.widget-view+json": {
       "model_id": "1394aa97172547b29c384eba856ce2be",
       "version_major": 2,
       "version_minor": 0
      },
      "text/plain": [
       "HBox(children=(FloatProgress(value=1.0, bar_style='info', layout=Layout(width='20px'), max=1.0), HTML(value=''…"
      ]
     },
     "metadata": {},
     "output_type": "display_data"
    },
    {
     "name": "stdout",
     "output_type": "stream",
     "text": [
      "\n"
     ]
    },
    {
     "data": {
      "application/vnd.jupyter.widget-view+json": {
       "model_id": "aecf45fb0267434da6f1c34b19d03750",
       "version_major": 2,
       "version_minor": 0
      },
      "text/plain": [
       "HBox(children=(FloatProgress(value=1.0, bar_style='info', layout=Layout(width='20px'), max=1.0), HTML(value=''…"
      ]
     },
     "metadata": {},
     "output_type": "display_data"
    },
    {
     "name": "stdout",
     "output_type": "stream",
     "text": [
      "\n"
     ]
    },
    {
     "data": {
      "application/vnd.jupyter.widget-view+json": {
       "model_id": "169653e238d54eb39173962f8a52ba0e",
       "version_major": 2,
       "version_minor": 0
      },
      "text/plain": [
       "HBox(children=(FloatProgress(value=1.0, bar_style='info', layout=Layout(width='20px'), max=1.0), HTML(value=''…"
      ]
     },
     "metadata": {},
     "output_type": "display_data"
    },
    {
     "name": "stdout",
     "output_type": "stream",
     "text": [
      "\n"
     ]
    },
    {
     "data": {
      "application/vnd.jupyter.widget-view+json": {
       "model_id": "4555878e89e046549ac5d999b48072fe",
       "version_major": 2,
       "version_minor": 0
      },
      "text/plain": [
       "HBox(children=(FloatProgress(value=1.0, bar_style='info', layout=Layout(width='20px'), max=1.0), HTML(value=''…"
      ]
     },
     "metadata": {},
     "output_type": "display_data"
    },
    {
     "name": "stdout",
     "output_type": "stream",
     "text": [
      "\n"
     ]
    },
    {
     "data": {
      "application/vnd.jupyter.widget-view+json": {
       "model_id": "cf6ddbee267d4bf292d9d4b66b342f22",
       "version_major": 2,
       "version_minor": 0
      },
      "text/plain": [
       "HBox(children=(FloatProgress(value=1.0, bar_style='info', layout=Layout(width='20px'), max=1.0), HTML(value=''…"
      ]
     },
     "metadata": {},
     "output_type": "display_data"
    },
    {
     "name": "stdout",
     "output_type": "stream",
     "text": [
      "\n"
     ]
    },
    {
     "data": {
      "application/vnd.jupyter.widget-view+json": {
       "model_id": "a0780a0dfbab471c89565926da96b890",
       "version_major": 2,
       "version_minor": 0
      },
      "text/plain": [
       "HBox(children=(FloatProgress(value=1.0, bar_style='info', layout=Layout(width='20px'), max=1.0), HTML(value=''…"
      ]
     },
     "metadata": {},
     "output_type": "display_data"
    },
    {
     "name": "stdout",
     "output_type": "stream",
     "text": [
      "\n"
     ]
    },
    {
     "data": {
      "application/vnd.jupyter.widget-view+json": {
       "model_id": "2ea42696e51d4d9495f956ce87ab3a22",
       "version_major": 2,
       "version_minor": 0
      },
      "text/plain": [
       "HBox(children=(FloatProgress(value=1.0, bar_style='info', layout=Layout(width='20px'), max=1.0), HTML(value=''…"
      ]
     },
     "metadata": {},
     "output_type": "display_data"
    },
    {
     "name": "stdout",
     "output_type": "stream",
     "text": [
      "\n"
     ]
    },
    {
     "data": {
      "application/vnd.jupyter.widget-view+json": {
       "model_id": "2b7d6cc937e242d09950e5eeee804f59",
       "version_major": 2,
       "version_minor": 0
      },
      "text/plain": [
       "HBox(children=(FloatProgress(value=1.0, bar_style='info', layout=Layout(width='20px'), max=1.0), HTML(value=''…"
      ]
     },
     "metadata": {},
     "output_type": "display_data"
    },
    {
     "name": "stdout",
     "output_type": "stream",
     "text": [
      "\n"
     ]
    },
    {
     "data": {
      "application/vnd.jupyter.widget-view+json": {
       "model_id": "c22273f8224c40c9b50ade20fad18ca6",
       "version_major": 2,
       "version_minor": 0
      },
      "text/plain": [
       "HBox(children=(FloatProgress(value=1.0, bar_style='info', layout=Layout(width='20px'), max=1.0), HTML(value=''…"
      ]
     },
     "metadata": {},
     "output_type": "display_data"
    },
    {
     "name": "stdout",
     "output_type": "stream",
     "text": [
      "\n"
     ]
    },
    {
     "data": {
      "application/vnd.jupyter.widget-view+json": {
       "model_id": "e4ede2127ae7459ca2048783aabb94f7",
       "version_major": 2,
       "version_minor": 0
      },
      "text/plain": [
       "HBox(children=(FloatProgress(value=1.0, bar_style='info', layout=Layout(width='20px'), max=1.0), HTML(value=''…"
      ]
     },
     "metadata": {},
     "output_type": "display_data"
    },
    {
     "name": "stdout",
     "output_type": "stream",
     "text": [
      "\n"
     ]
    },
    {
     "data": {
      "application/vnd.jupyter.widget-view+json": {
       "model_id": "df9d47d9af1c4cbdb26bb021e328628b",
       "version_major": 2,
       "version_minor": 0
      },
      "text/plain": [
       "HBox(children=(FloatProgress(value=1.0, bar_style='info', layout=Layout(width='20px'), max=1.0), HTML(value=''…"
      ]
     },
     "metadata": {},
     "output_type": "display_data"
    },
    {
     "name": "stdout",
     "output_type": "stream",
     "text": [
      "\n"
     ]
    },
    {
     "data": {
      "application/vnd.jupyter.widget-view+json": {
       "model_id": "7787f7563e28463ab6a0f40b6353484b",
       "version_major": 2,
       "version_minor": 0
      },
      "text/plain": [
       "HBox(children=(FloatProgress(value=1.0, bar_style='info', layout=Layout(width='20px'), max=1.0), HTML(value=''…"
      ]
     },
     "metadata": {},
     "output_type": "display_data"
    },
    {
     "name": "stdout",
     "output_type": "stream",
     "text": [
      "\n"
     ]
    }
   ],
   "source": [
    "newsgroup_configs = ['bydate_alt.atheism', 'bydate_comp.graphics', 'bydate_comp.os.ms-windows.misc', 'bydate_comp.sys.ibm.pc.hardware', 'bydate_comp.sys.mac.hardware', 'bydate_comp.windows.x', 'bydate_misc.forsale', 'bydate_rec.autos', 'bydate_rec.motorcycles', 'bydate_rec.sport.baseball', 'bydate_rec.sport.hockey', 'bydate_sci.crypt', 'bydate_sci.electronics', 'bydate_sci.med', 'bydate_sci.space', 'bydate_soc.religion.christian', 'bydate_talk.politics.guns', 'bydate_talk.politics.mideast', 'bydate_talk.politics.misc', 'bydate_talk.religion.misc']\n",
    "dataset_list = []\n",
    "splits = ['train','test']\n",
    "for split in splits: # Loop over train test\n",
    "    for config in newsgroup_configs: #loop over labels\n",
    "        subset_path = r'\\\\wsl$\\Ubuntu-20.04\\home\\jolteon\\NLUProject\\data\\20news\\\\'+ split+ '\\\\'+ config\n",
    "        dataset_list.append((config,load_from_disk(subset_path)))\n",
    "    \n",
    "    \n",
    "    for label, sub_dataset in dataset_list: #Loop over labels\n",
    "        qid_struct = {}\n",
    "        for ii, entry in tqdm(enumerate(sub_dataset)):# Loop over data entries with the same label\n",
    "            context = entry['text']\n",
    "            prob_seq , _ = get_probabilities_on_text_w_NSP(nsp_model, context, tokenizer, device)\n",
    "            qid_struct[ii] = prob_seq\n",
    "        file_name = label + '_qid_struct.pkl'\n",
    "        with open(r\"\\\\wsl$\\Ubuntu-20.04\\home\\jolteon\\NLUProject\\data\\20news\\processed\\\\\" + split + '\\\\' +file_name, 'wb') as handle:\n",
    "            pickle.dump(qid_struct, handle, protocol=pickle.HIGHEST_PROTOCOL)\n"
   ]
  },
  {
   "cell_type": "code",
   "execution_count": null,
   "id": "8c32de13",
   "metadata": {},
   "outputs": [],
   "source": []
  },
  {
   "cell_type": "code",
   "execution_count": 50,
   "id": "5800662f",
   "metadata": {},
   "outputs": [],
   "source": []
  },
  {
   "cell_type": "code",
   "execution_count": null,
   "id": "52dbf10d",
   "metadata": {},
   "outputs": [],
   "source": []
  },
  {
   "cell_type": "code",
   "execution_count": null,
   "id": "c3c02edf",
   "metadata": {},
   "outputs": [],
   "source": []
  },
  {
   "cell_type": "code",
   "execution_count": null,
   "id": "01e3a036",
   "metadata": {},
   "outputs": [],
   "source": []
  },
  {
   "cell_type": "markdown",
   "id": "becbd2f9",
   "metadata": {},
   "source": [
    "# Wikihop driver code"
   ]
  },
  {
   "cell_type": "code",
   "execution_count": 9,
   "id": "73cc6c7e",
   "metadata": {},
   "outputs": [
    {
     "data": {
      "application/vnd.jupyter.widget-view+json": {
       "model_id": "6cab46bbc4db4e6abb00b535cb1b153a",
       "version_major": 2,
       "version_minor": 0
      },
      "text/plain": [
       "HBox(children=(FloatProgress(value=1.0, bar_style='info', layout=Layout(width='20px'), max=1.0), HTML(value=''…"
      ]
     },
     "metadata": {},
     "output_type": "display_data"
    },
    {
     "name": "stdout",
     "output_type": "stream",
     "text": [
      "started:  0\n",
      "started:  1\n",
      "started:  2\n",
      "started:  3\n",
      "started:  4\n",
      "started:  5\n",
      "started:  6\n",
      "started:  7\n",
      "started:  8\n",
      "started:  9\n",
      "\n"
     ]
    }
   ],
   "source": [
    "\n",
    "threshold=.5\n",
    "qid_struct = {}\n",
    "key='test'\n",
    "for ii, entry  in tqdm(enumerate(dataset)):\n",
    "    if ii ==10:\n",
    "        break\n",
    "    print('started: ',str(ii))\n",
    "\n",
    "    if len(entry['entity_pages']['wiki_context'])==0:\n",
    "        wiki_context_probs = None\n",
    "    else:\n",
    "        wiki_context_probs = []\n",
    "        for context in entry['entity_pages']['wiki_context']:\n",
    "            prob_seq , _ = get_probabilities_on_text_w_NSP(nsp_model, context, tokenizer, device)\n",
    "            wiki_context_probs.append(prob_seq)\n",
    "            \n",
    "    if len(entry['search_results']['search_context']) == 0:\n",
    "         search_context_probs = None\n",
    "    else:\n",
    "        search_context_probs = []\n",
    "        for context in entry['search_results']['search_context']:\n",
    "\n",
    "            prob_seq , _ = get_probabilities_on_text_w_NSP(nsp_model, context, tokenizer, device)\n",
    "            search_context_probs.append(prob_seq)\n",
    "    \n",
    "    qid_struct[entry['question_id']] = (wiki_context_probs,search_context_probs)\n",
    "file_name = key + '_qid_struct.pkl'\n",
    "\n",
    "with open(r\"\\\\wsl$\\Ubuntu-20.04\\home\\jolteon\\NLUProject\\\\\" + file_name, 'wb') as handle:\n",
    "    pickle.dump(qid_struct, handle, protocol=pickle.HIGHEST_PROTOCOL)\n"
   ]
  },
  {
   "cell_type": "code",
   "execution_count": 16,
   "id": "ce13f432",
   "metadata": {},
   "outputs": [
    {
     "name": "stdout",
     "output_type": "stream",
     "text": [
      "On The Street Where You Live ~ Vic Damone - YouTube\n",
      "On The Street Where You Live ~ Vic Damone\n",
      "Want to watch this again later?\n",
      "Sign in to add this video to a playlist.\n",
      "Need to report the video?\n",
      "Sign in to report inappropriate content.\n",
      "Rating is available when the video has been rented.\n",
      "This feature is not available right now. Please try again later.\n",
      "Published on Feb 14, 2014\n",
      "\"On the Street Where You Live\" is a song with music by Frederick Loewe and lyrics by Alan Jay Lerner from the 1956 Broadway musical My Fair Lady. It is sung in the musical by the character Freddy Eynsford-Hill, who was portrayed by John Michael King in the original production. In the 1964 film version, it was sung by Bill Shirley, dubbing for actor Jeremy Brett.\n",
      "The most popular single of the song was recorded by Vic Damone in 1956 for Columbia Records. It reached #4 on the Billboard magazine charts and #6 on Cash Box magazine's chart. It was a #1 hit in the UK in 1958.\n",
      "In 1955, Damone had only one song on the charts, \"Por Favor,\" which did not make it above #73. However, he did have major roles in two movie musicals, Hit the Deck and Kismet. In early 1956, he moved from Mercury to Columbia Records and had some success on that label with hits like \"On the Street Where You Live\" (from My Fair Lady, his final pop top ten) and \"An Affair to Remember\" (from the movie of the same name). His six original, long-playing albums on Columbia between 1957 and 1961 were That Towering Feeling, Angela Mia, Closer Than a Kiss, This Game of Love, On the Swingin' Side and Young and Lively.\n",
      "Oh, the towering feeling\n",
      "Just to know somehow you are near\n",
      "I have often walked on this street before\n",
      "But the pavement always stayed beneath my feet before\n",
      "All at once am I several stories high\n",
      "Knowing I'm on the street where you live\n",
      "Are there lilac trees in the heart of town\n",
      "Can you hear a lark in any other part of town\n",
      "Does enchantment pour out of every door\n",
      "No, it's just on the street where you live\n",
      "For oh, the towering feeling\n",
      "Just to know somehow you are near\n",
      "The overpowering feeling\n",
      "That any second you may suddenly appear\n",
      "People stop and stare, they don't bother me\n",
      "For there's nowhere else on earth\n",
      "That I would rather be\n",
      "Let the time go by, I won't care if I\n",
      "Can be here on the street where you live\n",
      "Sound recording administered by SME (thanks for allowing this to remain)\n",
      "\"The AUDIO content does not belong to me. I do not profit from these Videos and/or Slideshows. I do not own copyrights of the images, which are from free websites. This is strictly for Educational use and Commentary purposes.\"\n",
      "\"No copyright is claimed in [the music] and to the extent that material may appear to be infringed, I assert that such alleged infringement is permissible under fair use principles in U.S. copyright laws. If you believe material has been used in an unauthorized manner, please contact the poster.\"\n",
      "Copyright Disclaimer--\"Copyright Disclaimer Under Section 107 of the Copyright Act 1976, allowance is made for \"fair use\" for purposes such as criticism, comment, news reporting, teaching, scholarship, and research. Fair use is a use permitted by copyright statute that might otherwise be infringing. Non-profit, educational or personal use tips the balance in favor of fair use.\"\n",
      "Category\n"
     ]
    }
   ],
   "source": [
    "print(dataset[1]['search_results']['search_context'][0])"
   ]
  },
  {
   "cell_type": "code",
   "execution_count": 12,
   "id": "3400ae19",
   "metadata": {},
   "outputs": [
    {
     "ename": "KeyError",
     "evalue": "'search_context'",
     "output_type": "error",
     "traceback": [
      "\u001b[1;31m---------------------------------------------------------------------------\u001b[0m",
      "\u001b[1;31mKeyError\u001b[0m                                  Traceback (most recent call last)",
      "\u001b[1;32m<ipython-input-12-228b2bb15cf0>\u001b[0m in \u001b[0;36m<module>\u001b[1;34m\u001b[0m\n\u001b[1;32m----> 1\u001b[1;33m \u001b[0mdataset\u001b[0m\u001b[1;33m[\u001b[0m\u001b[1;36m1\u001b[0m\u001b[1;33m]\u001b[0m\u001b[1;33m[\u001b[0m\u001b[1;34m'entity_pages'\u001b[0m\u001b[1;33m]\u001b[0m\u001b[1;33m[\u001b[0m\u001b[1;34m'search_context'\u001b[0m\u001b[1;33m]\u001b[0m\u001b[1;33m\u001b[0m\u001b[1;33m\u001b[0m\u001b[0m\n\u001b[0m",
      "\u001b[1;31mKeyError\u001b[0m: 'search_context'"
     ]
    }
   ],
   "source": [
    "dataset[1]['entity_pages']['search_context']"
   ]
  },
  {
   "cell_type": "code",
   "execution_count": 10,
   "id": "04778563",
   "metadata": {},
   "outputs": [
    {
     "data": {
      "text/plain": [
       "{'tc_69': (None,\n",
       "  [[tensor(0.9902, device='cuda:0'),\n",
       "    tensor(0.9993, device='cuda:0'),\n",
       "    tensor(0.9994, device='cuda:0'),\n",
       "    tensor(0.9514, device='cuda:0'),\n",
       "    tensor(0.9976, device='cuda:0'),\n",
       "    tensor(0.8270, device='cuda:0'),\n",
       "    tensor(0.9424, device='cuda:0'),\n",
       "    tensor(0.1639, device='cuda:0')]]),\n",
       " 'tc_261': (None,\n",
       "  [[tensor(0.9942, device='cuda:0'),\n",
       "    tensor(0.9993, device='cuda:0'),\n",
       "    tensor(0.9994, device='cuda:0'),\n",
       "    tensor(0.9515, device='cuda:0'),\n",
       "    tensor(0.9976, device='cuda:0'),\n",
       "    tensor(0.8270, device='cuda:0'),\n",
       "    tensor(0.8981, device='cuda:0'),\n",
       "    tensor(0.9981, device='cuda:0'),\n",
       "    tensor(0.9998, device='cuda:0'),\n",
       "    tensor(0.9993, device='cuda:0'),\n",
       "    tensor(0.9946, device='cuda:0'),\n",
       "    tensor(0.9967, device='cuda:0'),\n",
       "    tensor(0.9998, device='cuda:0'),\n",
       "    tensor(1.0000, device='cuda:0'),\n",
       "    tensor(0.9982, device='cuda:0'),\n",
       "    tensor(1.0000, device='cuda:0'),\n",
       "    tensor(0.9999, device='cuda:0'),\n",
       "    tensor(0.9846, device='cuda:0'),\n",
       "    tensor(0.9968, device='cuda:0'),\n",
       "    tensor(1.0000, device='cuda:0'),\n",
       "    tensor(0.9999, device='cuda:0'),\n",
       "    tensor(1.0000, device='cuda:0'),\n",
       "    tensor(1.0000, device='cuda:0'),\n",
       "    tensor(0.3214, device='cuda:0')]]),\n",
       " 'tc_280': (None,\n",
       "  [[tensor(0.9992, device='cuda:0'),\n",
       "    tensor(0.1608, device='cuda:0'),\n",
       "    tensor(0.9105, device='cuda:0'),\n",
       "    tensor(0.0029, device='cuda:0'),\n",
       "    tensor(0.9596, device='cuda:0'),\n",
       "    tensor(1.0000, device='cuda:0'),\n",
       "    tensor(0.9828, device='cuda:0'),\n",
       "    tensor(0.9775, device='cuda:0'),\n",
       "    tensor(0.9843, device='cuda:0'),\n",
       "    tensor(0.9844, device='cuda:0'),\n",
       "    tensor(0.9957, device='cuda:0'),\n",
       "    tensor(0.9999, device='cuda:0'),\n",
       "    tensor(0.9996, device='cuda:0'),\n",
       "    tensor(1.0000, device='cuda:0'),\n",
       "    tensor(0.9296, device='cuda:0'),\n",
       "    tensor(0.9341, device='cuda:0'),\n",
       "    tensor(0.9796, device='cuda:0'),\n",
       "    tensor(1.0000, device='cuda:0'),\n",
       "    tensor(0.0275, device='cuda:0'),\n",
       "    tensor(0.9999, device='cuda:0'),\n",
       "    tensor(0.1303, device='cuda:0'),\n",
       "    tensor(0.8782, device='cuda:0'),\n",
       "    tensor(0.9766, device='cuda:0'),\n",
       "    tensor(0.0412, device='cuda:0'),\n",
       "    tensor(0.0248, device='cuda:0'),\n",
       "    tensor(0.9998, device='cuda:0'),\n",
       "    tensor(0.9997, device='cuda:0'),\n",
       "    tensor(0.9937, device='cuda:0'),\n",
       "    tensor(0.9655, device='cuda:0'),\n",
       "    tensor(0.9680, device='cuda:0'),\n",
       "    tensor(1.0000, device='cuda:0'),\n",
       "    tensor(0.0197, device='cuda:0'),\n",
       "    tensor(0.9999, device='cuda:0'),\n",
       "    tensor(0.9866, device='cuda:0'),\n",
       "    tensor(0.9994, device='cuda:0'),\n",
       "    tensor(0.9950, device='cuda:0'),\n",
       "    tensor(0.0569, device='cuda:0'),\n",
       "    tensor(0.9747, device='cuda:0'),\n",
       "    tensor(0.9950, device='cuda:0'),\n",
       "    tensor(0.0102, device='cuda:0'),\n",
       "    tensor(0.9362, device='cuda:0'),\n",
       "    tensor(0.9999, device='cuda:0'),\n",
       "    tensor(0.9793, device='cuda:0'),\n",
       "    tensor(0.9885, device='cuda:0'),\n",
       "    tensor(0.9828, device='cuda:0'),\n",
       "    tensor(0.9994, device='cuda:0'),\n",
       "    tensor(0.2112, device='cuda:0'),\n",
       "    tensor(0.9994, device='cuda:0'),\n",
       "    tensor(0.9884, device='cuda:0'),\n",
       "    tensor(0.9544, device='cuda:0'),\n",
       "    tensor(0.8053, device='cuda:0'),\n",
       "    tensor(0.0009, device='cuda:0'),\n",
       "    tensor(1.0000, device='cuda:0'),\n",
       "    tensor(1.0000, device='cuda:0'),\n",
       "    tensor(0.3187, device='cuda:0'),\n",
       "    tensor(1.0000, device='cuda:0'),\n",
       "    tensor(0.9996, device='cuda:0'),\n",
       "    tensor(0.9999, device='cuda:0'),\n",
       "    tensor(0.9991, device='cuda:0'),\n",
       "    tensor(0.9986, device='cuda:0'),\n",
       "    tensor(0.9986, device='cuda:0'),\n",
       "    tensor(0.9886, device='cuda:0'),\n",
       "    tensor(0.9933, device='cuda:0'),\n",
       "    tensor(0.9919, device='cuda:0'),\n",
       "    tensor(0.9925, device='cuda:0'),\n",
       "    tensor(0.9726, device='cuda:0'),\n",
       "    tensor(0.9978, device='cuda:0'),\n",
       "    tensor(0.9998, device='cuda:0'),\n",
       "    tensor(0.9699, device='cuda:0'),\n",
       "    tensor(1.0000, device='cuda:0'),\n",
       "    tensor(1.0000, device='cuda:0'),\n",
       "    tensor(1.0000, device='cuda:0'),\n",
       "    tensor(0.9951, device='cuda:0'),\n",
       "    tensor(0.6199, device='cuda:0'),\n",
       "    tensor(0.0030, device='cuda:0'),\n",
       "    tensor(0.0767, device='cuda:0'),\n",
       "    tensor(0.8521, device='cuda:0'),\n",
       "    tensor(0.9999, device='cuda:0'),\n",
       "    tensor(0.1541, device='cuda:0'),\n",
       "    tensor(0.9948, device='cuda:0'),\n",
       "    tensor(0.0265, device='cuda:0'),\n",
       "    tensor(1.0000, device='cuda:0'),\n",
       "    tensor(0.9411, device='cuda:0'),\n",
       "    tensor(0.9799, device='cuda:0'),\n",
       "    tensor(0.9795, device='cuda:0'),\n",
       "    tensor(0.1080, device='cuda:0'),\n",
       "    tensor(0.1781, device='cuda:0'),\n",
       "    tensor(0.9684, device='cuda:0'),\n",
       "    tensor(1.0000, device='cuda:0'),\n",
       "    tensor(1.0000, device='cuda:0'),\n",
       "    tensor(0.9894, device='cuda:0'),\n",
       "    tensor(0.2848, device='cuda:0'),\n",
       "    tensor(0.5558, device='cuda:0'),\n",
       "    tensor(0.9441, device='cuda:0'),\n",
       "    tensor(0.0497, device='cuda:0'),\n",
       "    tensor(0.3736, device='cuda:0'),\n",
       "    tensor(0.9924, device='cuda:0'),\n",
       "    tensor(1.0000, device='cuda:0'),\n",
       "    tensor(0.5872, device='cuda:0'),\n",
       "    tensor(0.7904, device='cuda:0'),\n",
       "    tensor(0.9807, device='cuda:0'),\n",
       "    tensor(0.9983, device='cuda:0'),\n",
       "    tensor(0.9454, device='cuda:0'),\n",
       "    tensor(0.9876, device='cuda:0'),\n",
       "    tensor(1.0000, device='cuda:0'),\n",
       "    tensor(1.0000, device='cuda:0'),\n",
       "    tensor(0.9748, device='cuda:0'),\n",
       "    tensor(0.0992, device='cuda:0'),\n",
       "    tensor(0.9427, device='cuda:0'),\n",
       "    tensor(0.1633, device='cuda:0'),\n",
       "    tensor(0.0427, device='cuda:0'),\n",
       "    tensor(0.0694, device='cuda:0'),\n",
       "    tensor(0.9945, device='cuda:0'),\n",
       "    tensor(0.9990, device='cuda:0'),\n",
       "    tensor(0.1255, device='cuda:0'),\n",
       "    tensor(0.8452, device='cuda:0'),\n",
       "    tensor(0.9971, device='cuda:0'),\n",
       "    tensor(0.3539, device='cuda:0'),\n",
       "    tensor(0.9912, device='cuda:0'),\n",
       "    tensor(0.9551, device='cuda:0'),\n",
       "    tensor(0.9129, device='cuda:0'),\n",
       "    tensor(0.2760, device='cuda:0'),\n",
       "    tensor(1.0000, device='cuda:0'),\n",
       "    tensor(0.9946, device='cuda:0'),\n",
       "    tensor(0.9945, device='cuda:0'),\n",
       "    tensor(0.9983, device='cuda:0'),\n",
       "    tensor(0.9385, device='cuda:0'),\n",
       "    tensor(0.9963, device='cuda:0'),\n",
       "    tensor(0.9955, device='cuda:0'),\n",
       "    tensor(0.9993, device='cuda:0'),\n",
       "    tensor(0.0524, device='cuda:0'),\n",
       "    tensor(0.8304, device='cuda:0'),\n",
       "    tensor(0.9992, device='cuda:0'),\n",
       "    tensor(0.9993, device='cuda:0'),\n",
       "    tensor(0.9882, device='cuda:0'),\n",
       "    tensor(0.8834, device='cuda:0'),\n",
       "    tensor(0.9485, device='cuda:0'),\n",
       "    tensor(0.9955, device='cuda:0'),\n",
       "    tensor(0.9907, device='cuda:0'),\n",
       "    tensor(0.8111, device='cuda:0'),\n",
       "    1,\n",
       "    1,\n",
       "    tensor(1.0000, device='cuda:0'),\n",
       "    tensor(1.0000, device='cuda:0'),\n",
       "    tensor(1.0000, device='cuda:0'),\n",
       "    tensor(0.9997, device='cuda:0'),\n",
       "    tensor(0.9970, device='cuda:0'),\n",
       "    tensor(0.0674, device='cuda:0'),\n",
       "    tensor(0.0339, device='cuda:0'),\n",
       "    tensor(0.7244, device='cuda:0'),\n",
       "    tensor(0.9598, device='cuda:0'),\n",
       "    tensor(1.0000, device='cuda:0'),\n",
       "    tensor(0.0033, device='cuda:0'),\n",
       "    tensor(0.9537, device='cuda:0'),\n",
       "    tensor(0.9844, device='cuda:0'),\n",
       "    tensor(0.9978, device='cuda:0'),\n",
       "    tensor(0.9999, device='cuda:0'),\n",
       "    tensor(0.7543, device='cuda:0'),\n",
       "    tensor(0.9927, device='cuda:0'),\n",
       "    tensor(1.0000, device='cuda:0'),\n",
       "    tensor(1.0000, device='cuda:0'),\n",
       "    tensor(0.9799, device='cuda:0'),\n",
       "    tensor(0.9801, device='cuda:0'),\n",
       "    tensor(0.9113, device='cuda:0'),\n",
       "    tensor(0.9945, device='cuda:0'),\n",
       "    tensor(0.9961, device='cuda:0'),\n",
       "    tensor(0.9992, device='cuda:0'),\n",
       "    tensor(0.2915, device='cuda:0'),\n",
       "    tensor(1.0000, device='cuda:0'),\n",
       "    tensor(0.7219, device='cuda:0'),\n",
       "    tensor(0.5004, device='cuda:0'),\n",
       "    tensor(0.6520, device='cuda:0'),\n",
       "    tensor(0.9910, device='cuda:0'),\n",
       "    tensor(0.9704, device='cuda:0'),\n",
       "    tensor(0.8721, device='cuda:0'),\n",
       "    tensor(0.9747, device='cuda:0')]]),\n",
       " 'tc_586': ([[tensor(0.9994, device='cuda:0'),\n",
       "    tensor(0.9999, device='cuda:0'),\n",
       "    tensor(0.9999, device='cuda:0'),\n",
       "    tensor(0.9994, device='cuda:0'),\n",
       "    tensor(0.9882, device='cuda:0'),\n",
       "    tensor(1.0000, device='cuda:0'),\n",
       "    tensor(1.0000, device='cuda:0'),\n",
       "    tensor(0.9986, device='cuda:0'),\n",
       "    tensor(0.1348, device='cuda:0'),\n",
       "    tensor(0.9999, device='cuda:0'),\n",
       "    tensor(0.1492, device='cuda:0'),\n",
       "    tensor(1.0000, device='cuda:0'),\n",
       "    tensor(0.9999, device='cuda:0'),\n",
       "    tensor(0.9841, device='cuda:0'),\n",
       "    tensor(1.0000, device='cuda:0'),\n",
       "    tensor(1.0000, device='cuda:0'),\n",
       "    tensor(1.0000, device='cuda:0'),\n",
       "    tensor(0.9954, device='cuda:0'),\n",
       "    tensor(1.0000, device='cuda:0'),\n",
       "    tensor(1.0000, device='cuda:0'),\n",
       "    tensor(0.1429, device='cuda:0'),\n",
       "    tensor(0.9999, device='cuda:0'),\n",
       "    tensor(1.0000, device='cuda:0'),\n",
       "    tensor(0.9992, device='cuda:0'),\n",
       "    tensor(0.9721, device='cuda:0'),\n",
       "    tensor(0.9989, device='cuda:0'),\n",
       "    tensor(1.0000, device='cuda:0'),\n",
       "    tensor(0.9999, device='cuda:0'),\n",
       "    tensor(1.0000, device='cuda:0'),\n",
       "    tensor(0.9990, device='cuda:0'),\n",
       "    tensor(0.9350, device='cuda:0'),\n",
       "    tensor(0.0312, device='cuda:0'),\n",
       "    tensor(0.9522, device='cuda:0'),\n",
       "    tensor(0.9971, device='cuda:0'),\n",
       "    tensor(1.0000, device='cuda:0'),\n",
       "    tensor(1.0000, device='cuda:0'),\n",
       "    tensor(1.0000, device='cuda:0'),\n",
       "    tensor(0.9999, device='cuda:0'),\n",
       "    tensor(1.0000, device='cuda:0'),\n",
       "    tensor(0.9996, device='cuda:0'),\n",
       "    tensor(0.9991, device='cuda:0'),\n",
       "    tensor(0.9998, device='cuda:0'),\n",
       "    tensor(0.9681, device='cuda:0'),\n",
       "    tensor(1.0000, device='cuda:0'),\n",
       "    tensor(0.9982, device='cuda:0'),\n",
       "    tensor(0.9957, device='cuda:0'),\n",
       "    tensor(0.9966, device='cuda:0'),\n",
       "    tensor(0.9999, device='cuda:0'),\n",
       "    tensor(0.9999, device='cuda:0'),\n",
       "    tensor(0.9764, device='cuda:0'),\n",
       "    tensor(0.9795, device='cuda:0'),\n",
       "    tensor(0.9984, device='cuda:0'),\n",
       "    tensor(0.9999, device='cuda:0'),\n",
       "    tensor(0.9968, device='cuda:0'),\n",
       "    tensor(0.9998, device='cuda:0'),\n",
       "    tensor(0.9606, device='cuda:0'),\n",
       "    tensor(0.8157, device='cuda:0'),\n",
       "    tensor(0.1098, device='cuda:0'),\n",
       "    tensor(0.9903, device='cuda:0'),\n",
       "    tensor(0.9947, device='cuda:0'),\n",
       "    tensor(0.9984, device='cuda:0'),\n",
       "    tensor(1.0000, device='cuda:0'),\n",
       "    tensor(0.9995, device='cuda:0'),\n",
       "    tensor(0.9832, device='cuda:0'),\n",
       "    tensor(1.0000, device='cuda:0'),\n",
       "    tensor(0.9999, device='cuda:0'),\n",
       "    tensor(0.9986, device='cuda:0'),\n",
       "    tensor(1.0000, device='cuda:0'),\n",
       "    tensor(0.9214, device='cuda:0'),\n",
       "    tensor(0.9994, device='cuda:0'),\n",
       "    tensor(0.9651, device='cuda:0'),\n",
       "    tensor(1.0000, device='cuda:0'),\n",
       "    tensor(0.7276, device='cuda:0'),\n",
       "    tensor(0.9775, device='cuda:0'),\n",
       "    tensor(0.9981, device='cuda:0'),\n",
       "    tensor(1.0000, device='cuda:0'),\n",
       "    tensor(1.0000, device='cuda:0'),\n",
       "    tensor(1.0000, device='cuda:0'),\n",
       "    tensor(1.0000, device='cuda:0'),\n",
       "    tensor(0.9999, device='cuda:0'),\n",
       "    tensor(1.0000, device='cuda:0'),\n",
       "    tensor(0.9996, device='cuda:0'),\n",
       "    tensor(0.9995, device='cuda:0'),\n",
       "    tensor(0.9996, device='cuda:0'),\n",
       "    tensor(0.9806, device='cuda:0'),\n",
       "    tensor(0.9896, device='cuda:0'),\n",
       "    tensor(1.0000, device='cuda:0'),\n",
       "    tensor(0.9936, device='cuda:0'),\n",
       "    tensor(0.9992, device='cuda:0'),\n",
       "    tensor(1.0000, device='cuda:0'),\n",
       "    tensor(0.9983, device='cuda:0'),\n",
       "    tensor(0.9489, device='cuda:0'),\n",
       "    tensor(0.0700, device='cuda:0'),\n",
       "    tensor(0.9627, device='cuda:0'),\n",
       "    tensor(0.0050, device='cuda:0'),\n",
       "    tensor(0.9895, device='cuda:0'),\n",
       "    tensor(0.9368, device='cuda:0'),\n",
       "    tensor(1.0000, device='cuda:0'),\n",
       "    tensor(0.0004, device='cuda:0'),\n",
       "    tensor(0.1745, device='cuda:0'),\n",
       "    tensor(0.9997, device='cuda:0'),\n",
       "    tensor(0.9998, device='cuda:0'),\n",
       "    tensor(0.9975, device='cuda:0'),\n",
       "    tensor(0.9751, device='cuda:0'),\n",
       "    tensor(0.9998, device='cuda:0'),\n",
       "    tensor(0.9990, device='cuda:0'),\n",
       "    tensor(0.9999, device='cuda:0'),\n",
       "    tensor(1.0000, device='cuda:0'),\n",
       "    tensor(0.9999, device='cuda:0'),\n",
       "    tensor(1.0000, device='cuda:0'),\n",
       "    tensor(0.9995, device='cuda:0'),\n",
       "    tensor(0.9779, device='cuda:0'),\n",
       "    tensor(0.9977, device='cuda:0'),\n",
       "    tensor(0.0119, device='cuda:0'),\n",
       "    tensor(1.0000, device='cuda:0'),\n",
       "    tensor(0.9999, device='cuda:0'),\n",
       "    tensor(0.9996, device='cuda:0'),\n",
       "    tensor(0.9998, device='cuda:0'),\n",
       "    tensor(1.0000, device='cuda:0'),\n",
       "    tensor(0.9989, device='cuda:0'),\n",
       "    tensor(0.9695, device='cuda:0'),\n",
       "    tensor(0.5452, device='cuda:0'),\n",
       "    tensor(0.9987, device='cuda:0'),\n",
       "    tensor(0.9987, device='cuda:0'),\n",
       "    tensor(1.0000, device='cuda:0'),\n",
       "    tensor(0.9998, device='cuda:0'),\n",
       "    tensor(0.9998, device='cuda:0'),\n",
       "    tensor(0.1153, device='cuda:0'),\n",
       "    tensor(0.9572, device='cuda:0'),\n",
       "    tensor(1.0000, device='cuda:0'),\n",
       "    tensor(0.9994, device='cuda:0'),\n",
       "    tensor(0.9346, device='cuda:0'),\n",
       "    tensor(0.9999, device='cuda:0'),\n",
       "    tensor(0.9955, device='cuda:0'),\n",
       "    tensor(0.9997, device='cuda:0'),\n",
       "    tensor(0.9997, device='cuda:0'),\n",
       "    tensor(0.9817, device='cuda:0'),\n",
       "    tensor(0.9579, device='cuda:0'),\n",
       "    tensor(0.9995, device='cuda:0'),\n",
       "    tensor(1.0000, device='cuda:0'),\n",
       "    tensor(0.9928, device='cuda:0'),\n",
       "    tensor(1.0000, device='cuda:0'),\n",
       "    tensor(0.9997, device='cuda:0'),\n",
       "    tensor(0.9999, device='cuda:0'),\n",
       "    tensor(1.0000, device='cuda:0'),\n",
       "    tensor(1.0000, device='cuda:0'),\n",
       "    tensor(0.9992, device='cuda:0'),\n",
       "    tensor(0.9997, device='cuda:0'),\n",
       "    tensor(0.9999, device='cuda:0'),\n",
       "    tensor(0.9995, device='cuda:0'),\n",
       "    tensor(0.9935, device='cuda:0'),\n",
       "    tensor(0.9999, device='cuda:0'),\n",
       "    tensor(0.9986, device='cuda:0'),\n",
       "    tensor(1.0000, device='cuda:0'),\n",
       "    tensor(1.0000, device='cuda:0'),\n",
       "    tensor(0.9998, device='cuda:0'),\n",
       "    tensor(1.0000, device='cuda:0'),\n",
       "    tensor(0.9963, device='cuda:0'),\n",
       "    tensor(1.0000, device='cuda:0'),\n",
       "    tensor(0.9992, device='cuda:0'),\n",
       "    tensor(0.9993, device='cuda:0'),\n",
       "    tensor(1.0000, device='cuda:0'),\n",
       "    tensor(0.9998, device='cuda:0'),\n",
       "    tensor(0.9993, device='cuda:0'),\n",
       "    tensor(0.0541, device='cuda:0'),\n",
       "    tensor(0.9989, device='cuda:0'),\n",
       "    tensor(0.0046, device='cuda:0'),\n",
       "    tensor(1.0000, device='cuda:0'),\n",
       "    tensor(1.0000, device='cuda:0'),\n",
       "    tensor(0.9999, device='cuda:0'),\n",
       "    tensor(1.0000, device='cuda:0'),\n",
       "    tensor(0.9997, device='cuda:0'),\n",
       "    tensor(0.9909, device='cuda:0'),\n",
       "    tensor(0.9933, device='cuda:0'),\n",
       "    tensor(0.9997, device='cuda:0'),\n",
       "    tensor(0.9997, device='cuda:0'),\n",
       "    tensor(0.9996, device='cuda:0'),\n",
       "    tensor(1.0000, device='cuda:0'),\n",
       "    tensor(1.0000, device='cuda:0'),\n",
       "    tensor(0.9999, device='cuda:0'),\n",
       "    tensor(0.8940, device='cuda:0'),\n",
       "    tensor(0.9984, device='cuda:0'),\n",
       "    tensor(0.9996, device='cuda:0'),\n",
       "    tensor(1.0000, device='cuda:0'),\n",
       "    tensor(0.9986, device='cuda:0'),\n",
       "    tensor(0.9970, device='cuda:0'),\n",
       "    tensor(0.9999, device='cuda:0'),\n",
       "    tensor(0.9993, device='cuda:0'),\n",
       "    tensor(0.9943, device='cuda:0'),\n",
       "    tensor(0.9996, device='cuda:0'),\n",
       "    tensor(0.9996, device='cuda:0'),\n",
       "    tensor(0.9999, device='cuda:0'),\n",
       "    tensor(0.9998, device='cuda:0'),\n",
       "    tensor(0.9990, device='cuda:0'),\n",
       "    tensor(0.9995, device='cuda:0'),\n",
       "    tensor(0.9985, device='cuda:0'),\n",
       "    tensor(0.9973, device='cuda:0'),\n",
       "    tensor(0.9984, device='cuda:0'),\n",
       "    tensor(0.9931, device='cuda:0'),\n",
       "    tensor(0.9993, device='cuda:0'),\n",
       "    tensor(0.9997, device='cuda:0'),\n",
       "    tensor(1.0000, device='cuda:0'),\n",
       "    tensor(0.9998, device='cuda:0'),\n",
       "    tensor(0.9995, device='cuda:0'),\n",
       "    tensor(0.9997, device='cuda:0'),\n",
       "    tensor(0.9997, device='cuda:0'),\n",
       "    tensor(0.9999, device='cuda:0'),\n",
       "    tensor(0.9988, device='cuda:0'),\n",
       "    tensor(0.9950, device='cuda:0'),\n",
       "    tensor(0.9894, device='cuda:0'),\n",
       "    tensor(0.9911, device='cuda:0'),\n",
       "    tensor(0.0148, device='cuda:0'),\n",
       "    tensor(1.0000, device='cuda:0'),\n",
       "    tensor(0.9999, device='cuda:0'),\n",
       "    tensor(0.9999, device='cuda:0'),\n",
       "    tensor(1.0000, device='cuda:0'),\n",
       "    tensor(1.0000, device='cuda:0'),\n",
       "    tensor(0.9834, device='cuda:0'),\n",
       "    tensor(0.9967, device='cuda:0'),\n",
       "    tensor(0.9431, device='cuda:0'),\n",
       "    tensor(0.9999, device='cuda:0'),\n",
       "    tensor(0.9998, device='cuda:0'),\n",
       "    tensor(1.0000, device='cuda:0'),\n",
       "    tensor(0.9999, device='cuda:0'),\n",
       "    tensor(1.0000, device='cuda:0'),\n",
       "    tensor(0.9985, device='cuda:0'),\n",
       "    tensor(1.0000, device='cuda:0'),\n",
       "    tensor(0.9999, device='cuda:0'),\n",
       "    tensor(0.9998, device='cuda:0'),\n",
       "    tensor(0.0670, device='cuda:0'),\n",
       "    tensor(0.9998, device='cuda:0'),\n",
       "    tensor(0.9995, device='cuda:0'),\n",
       "    tensor(0.9988, device='cuda:0'),\n",
       "    tensor(0.9984, device='cuda:0'),\n",
       "    tensor(0.9993, device='cuda:0'),\n",
       "    tensor(0.9995, device='cuda:0'),\n",
       "    tensor(0.9997, device='cuda:0'),\n",
       "    tensor(1.0000, device='cuda:0'),\n",
       "    tensor(0.9997, device='cuda:0'),\n",
       "    tensor(0.9997, device='cuda:0'),\n",
       "    tensor(0.9945, device='cuda:0'),\n",
       "    tensor(1.0000, device='cuda:0'),\n",
       "    tensor(0.9985, device='cuda:0'),\n",
       "    tensor(0.9954, device='cuda:0'),\n",
       "    tensor(0.9997, device='cuda:0'),\n",
       "    tensor(0.9903, device='cuda:0'),\n",
       "    tensor(0.0012, device='cuda:0'),\n",
       "    tensor(0.9999, device='cuda:0'),\n",
       "    tensor(0.0045, device='cuda:0'),\n",
       "    tensor(0.9987, device='cuda:0'),\n",
       "    tensor(0.9996, device='cuda:0'),\n",
       "    tensor(0.9910, device='cuda:0'),\n",
       "    tensor(0.9999, device='cuda:0'),\n",
       "    tensor(0.1001, device='cuda:0'),\n",
       "    tensor(0.9636, device='cuda:0'),\n",
       "    tensor(0.9948, device='cuda:0'),\n",
       "    tensor(0.9989, device='cuda:0'),\n",
       "    tensor(0.0009, device='cuda:0'),\n",
       "    tensor(0.9936, device='cuda:0'),\n",
       "    tensor(1.0000, device='cuda:0'),\n",
       "    tensor(1.0000, device='cuda:0'),\n",
       "    tensor(0.9991, device='cuda:0'),\n",
       "    tensor(0.9993, device='cuda:0'),\n",
       "    tensor(0.9993, device='cuda:0'),\n",
       "    tensor(1.0000, device='cuda:0'),\n",
       "    tensor(0.9997, device='cuda:0'),\n",
       "    tensor(0.9998, device='cuda:0'),\n",
       "    tensor(0.9986, device='cuda:0'),\n",
       "    tensor(0.9981, device='cuda:0'),\n",
       "    tensor(0.9997, device='cuda:0'),\n",
       "    tensor(1.0000, device='cuda:0'),\n",
       "    tensor(0.9977, device='cuda:0'),\n",
       "    tensor(0.9999, device='cuda:0'),\n",
       "    tensor(1.0000, device='cuda:0'),\n",
       "    tensor(0.0043, device='cuda:0'),\n",
       "    tensor(1.0000, device='cuda:0'),\n",
       "    tensor(0.9999, device='cuda:0'),\n",
       "    tensor(0.9999, device='cuda:0'),\n",
       "    tensor(1.0000, device='cuda:0'),\n",
       "    tensor(0.9998, device='cuda:0'),\n",
       "    tensor(0.3368, device='cuda:0'),\n",
       "    tensor(0.9998, device='cuda:0'),\n",
       "    tensor(1.0000, device='cuda:0'),\n",
       "    tensor(0.9998, device='cuda:0'),\n",
       "    tensor(0.7892, device='cuda:0'),\n",
       "    tensor(0.9721, device='cuda:0'),\n",
       "    tensor(1.0000, device='cuda:0'),\n",
       "    tensor(0.9997, device='cuda:0'),\n",
       "    tensor(0.9373, device='cuda:0'),\n",
       "    tensor(0.9999, device='cuda:0'),\n",
       "    tensor(0.9813, device='cuda:0'),\n",
       "    tensor(0.9655, device='cuda:0'),\n",
       "    tensor(0.9990, device='cuda:0'),\n",
       "    tensor(0.9446, device='cuda:0'),\n",
       "    tensor(0.9998, device='cuda:0'),\n",
       "    tensor(0.9930, device='cuda:0'),\n",
       "    tensor(0.9968, device='cuda:0'),\n",
       "    tensor(0.9998, device='cuda:0'),\n",
       "    tensor(0.9963, device='cuda:0'),\n",
       "    tensor(0.9371, device='cuda:0'),\n",
       "    tensor(0.9970, device='cuda:0'),\n",
       "    tensor(0.9996, device='cuda:0'),\n",
       "    tensor(0.9943, device='cuda:0'),\n",
       "    tensor(0.9973, device='cuda:0'),\n",
       "    tensor(0.9577, device='cuda:0'),\n",
       "    tensor(0.0117, device='cuda:0'),\n",
       "    tensor(0.9739, device='cuda:0'),\n",
       "    tensor(1.0000, device='cuda:0'),\n",
       "    tensor(1.0000, device='cuda:0'),\n",
       "    tensor(0.9999, device='cuda:0'),\n",
       "    tensor(0.9996, device='cuda:0'),\n",
       "    tensor(0.9993, device='cuda:0'),\n",
       "    tensor(0.9992, device='cuda:0'),\n",
       "    tensor(0.9990, device='cuda:0'),\n",
       "    tensor(0.9925, device='cuda:0'),\n",
       "    tensor(1.0000, device='cuda:0'),\n",
       "    tensor(0.9996, device='cuda:0'),\n",
       "    tensor(0.9884, device='cuda:0'),\n",
       "    tensor(0.9999, device='cuda:0'),\n",
       "    tensor(1.0000, device='cuda:0'),\n",
       "    tensor(0.1062, device='cuda:0'),\n",
       "    tensor(0.9902, device='cuda:0'),\n",
       "    tensor(0.9886, device='cuda:0'),\n",
       "    tensor(0.9882, device='cuda:0'),\n",
       "    tensor(0.9973, device='cuda:0'),\n",
       "    tensor(1.0000, device='cuda:0'),\n",
       "    tensor(0.9993, device='cuda:0'),\n",
       "    tensor(0.9999, device='cuda:0'),\n",
       "    tensor(0.9999, device='cuda:0'),\n",
       "    tensor(0.9998, device='cuda:0'),\n",
       "    tensor(0.9974, device='cuda:0'),\n",
       "    tensor(0.9990, device='cuda:0'),\n",
       "    tensor(0.9795, device='cuda:0'),\n",
       "    tensor(0.9997, device='cuda:0'),\n",
       "    tensor(0.9999, device='cuda:0'),\n",
       "    tensor(0.8168, device='cuda:0'),\n",
       "    tensor(0.0961, device='cuda:0'),\n",
       "    tensor(0.0892, device='cuda:0'),\n",
       "    tensor(0.9528, device='cuda:0'),\n",
       "    tensor(0.9992, device='cuda:0'),\n",
       "    tensor(0.9530, device='cuda:0'),\n",
       "    tensor(0.9986, device='cuda:0'),\n",
       "    tensor(0.9999, device='cuda:0'),\n",
       "    tensor(0.9987, device='cuda:0'),\n",
       "    tensor(0.9971, device='cuda:0'),\n",
       "    tensor(0.9999, device='cuda:0'),\n",
       "    tensor(1.0000, device='cuda:0'),\n",
       "    tensor(0.7105, device='cuda:0'),\n",
       "    tensor(0.9985, device='cuda:0'),\n",
       "    tensor(0.9992, device='cuda:0'),\n",
       "    tensor(0.9924, device='cuda:0'),\n",
       "    tensor(1.0000, device='cuda:0'),\n",
       "    tensor(0.9988, device='cuda:0'),\n",
       "    tensor(0.9998, device='cuda:0'),\n",
       "    tensor(1.0000, device='cuda:0'),\n",
       "    tensor(0.9999, device='cuda:0'),\n",
       "    tensor(0.9996, device='cuda:0'),\n",
       "    tensor(0.9988, device='cuda:0'),\n",
       "    tensor(0.9990, device='cuda:0'),\n",
       "    tensor(0.9938, device='cuda:0'),\n",
       "    tensor(0.9780, device='cuda:0'),\n",
       "    tensor(0.9232, device='cuda:0'),\n",
       "    tensor(0.9998, device='cuda:0'),\n",
       "    tensor(1.0000, device='cuda:0'),\n",
       "    tensor(0.9965, device='cuda:0'),\n",
       "    tensor(0.9999, device='cuda:0'),\n",
       "    tensor(1.0000, device='cuda:0'),\n",
       "    tensor(0.9976, device='cuda:0'),\n",
       "    tensor(0.9960, device='cuda:0'),\n",
       "    tensor(0.9998, device='cuda:0'),\n",
       "    tensor(0.1893, device='cuda:0'),\n",
       "    tensor(0.9981, device='cuda:0'),\n",
       "    tensor(0.9986, device='cuda:0'),\n",
       "    tensor(0.9898, device='cuda:0'),\n",
       "    tensor(1.0000, device='cuda:0'),\n",
       "    tensor(0.9975, device='cuda:0'),\n",
       "    tensor(1.0000, device='cuda:0'),\n",
       "    tensor(0.5789, device='cuda:0'),\n",
       "    tensor(0.9992, device='cuda:0'),\n",
       "    tensor(0.9997, device='cuda:0'),\n",
       "    tensor(0.9994, device='cuda:0'),\n",
       "    tensor(0.9994, device='cuda:0'),\n",
       "    tensor(0.9999, device='cuda:0'),\n",
       "    tensor(0.9998, device='cuda:0'),\n",
       "    tensor(0.9997, device='cuda:0'),\n",
       "    tensor(0.9999, device='cuda:0'),\n",
       "    tensor(0.0239, device='cuda:0'),\n",
       "    tensor(0.9995, device='cuda:0'),\n",
       "    tensor(0.9887, device='cuda:0'),\n",
       "    tensor(0.9994, device='cuda:0'),\n",
       "    tensor(0.9999, device='cuda:0'),\n",
       "    tensor(0.9995, device='cuda:0'),\n",
       "    tensor(0.9999, device='cuda:0'),\n",
       "    tensor(0.9998, device='cuda:0'),\n",
       "    tensor(0.9997, device='cuda:0'),\n",
       "    tensor(0.9998, device='cuda:0'),\n",
       "    tensor(0.9752, device='cuda:0'),\n",
       "    tensor(0.9751, device='cuda:0'),\n",
       "    tensor(0.0354, device='cuda:0'),\n",
       "    tensor(1.0000, device='cuda:0'),\n",
       "    tensor(0.5179, device='cuda:0'),\n",
       "    tensor(0.9999, device='cuda:0'),\n",
       "    tensor(0.9999, device='cuda:0'),\n",
       "    tensor(0.9996, device='cuda:0'),\n",
       "    tensor(0.9995, device='cuda:0'),\n",
       "    tensor(1.0000, device='cuda:0'),\n",
       "    tensor(0.9999, device='cuda:0'),\n",
       "    tensor(1.0000, device='cuda:0'),\n",
       "    tensor(0.9805, device='cuda:0'),\n",
       "    tensor(0.9964, device='cuda:0'),\n",
       "    tensor(0.9962, device='cuda:0'),\n",
       "    tensor(0.9999, device='cuda:0'),\n",
       "    tensor(1.0000, device='cuda:0'),\n",
       "    tensor(0.9998, device='cuda:0'),\n",
       "    tensor(0.0021, device='cuda:0'),\n",
       "    tensor(0.9931, device='cuda:0'),\n",
       "    tensor(0.8551, device='cuda:0'),\n",
       "    tensor(0.9994, device='cuda:0'),\n",
       "    tensor(1.0000, device='cuda:0'),\n",
       "    tensor(0.9999, device='cuda:0'),\n",
       "    tensor(0.9999, device='cuda:0'),\n",
       "    tensor(0.9999, device='cuda:0'),\n",
       "    tensor(1.0000, device='cuda:0'),\n",
       "    tensor(0.9981, device='cuda:0'),\n",
       "    tensor(0.9945, device='cuda:0'),\n",
       "    tensor(0.0298, device='cuda:0'),\n",
       "    tensor(0.9995, device='cuda:0'),\n",
       "    tensor(0.9998, device='cuda:0'),\n",
       "    tensor(0.9999, device='cuda:0'),\n",
       "    tensor(0.9996, device='cuda:0'),\n",
       "    tensor(0.9992, device='cuda:0'),\n",
       "    tensor(0.9784, device='cuda:0'),\n",
       "    tensor(0.9991, device='cuda:0'),\n",
       "    tensor(0.9996, device='cuda:0'),\n",
       "    tensor(0.9925, device='cuda:0'),\n",
       "    tensor(0.5629, device='cuda:0'),\n",
       "    tensor(0.9323, device='cuda:0'),\n",
       "    tensor(0.9553, device='cuda:0'),\n",
       "    tensor(0.9968, device='cuda:0'),\n",
       "    tensor(0.9955, device='cuda:0'),\n",
       "    tensor(0.9980, device='cuda:0'),\n",
       "    tensor(0.9977, device='cuda:0'),\n",
       "    tensor(0.9913, device='cuda:0'),\n",
       "    tensor(0.0548, device='cuda:0'),\n",
       "    tensor(1.0000, device='cuda:0'),\n",
       "    tensor(0.9927, device='cuda:0'),\n",
       "    tensor(0.5529, device='cuda:0'),\n",
       "    tensor(0.7691, device='cuda:0'),\n",
       "    tensor(0.9913, device='cuda:0'),\n",
       "    tensor(0.9968, device='cuda:0'),\n",
       "    tensor(0.9997, device='cuda:0'),\n",
       "    tensor(0.9997, device='cuda:0'),\n",
       "    tensor(0.9999, device='cuda:0'),\n",
       "    tensor(0.9977, device='cuda:0'),\n",
       "    tensor(0.9552, device='cuda:0'),\n",
       "    tensor(0.9999, device='cuda:0'),\n",
       "    tensor(0.9995, device='cuda:0'),\n",
       "    tensor(0.9997, device='cuda:0'),\n",
       "    tensor(0.9991, device='cuda:0'),\n",
       "    tensor(0.9995, device='cuda:0'),\n",
       "    tensor(0.9887, device='cuda:0'),\n",
       "    tensor(0.9978, device='cuda:0'),\n",
       "    tensor(0.9980, device='cuda:0'),\n",
       "    tensor(0.9661, device='cuda:0'),\n",
       "    tensor(1.0000, device='cuda:0'),\n",
       "    tensor(1.0000, device='cuda:0'),\n",
       "    tensor(0.9347, device='cuda:0'),\n",
       "    tensor(0.9999, device='cuda:0'),\n",
       "    tensor(0.9997, device='cuda:0'),\n",
       "    tensor(0.9997, device='cuda:0'),\n",
       "    tensor(0.9975, device='cuda:0'),\n",
       "    tensor(1.0000, device='cuda:0'),\n",
       "    tensor(0.9987, device='cuda:0'),\n",
       "    tensor(0.9384, device='cuda:0'),\n",
       "    tensor(0.9955, device='cuda:0'),\n",
       "    tensor(0.9999, device='cuda:0'),\n",
       "    tensor(0.0312, device='cuda:0'),\n",
       "    tensor(0.8641, device='cuda:0'),\n",
       "    tensor(0.9861, device='cuda:0'),\n",
       "    tensor(0.9309, device='cuda:0'),\n",
       "    tensor(0.9940, device='cuda:0'),\n",
       "    tensor(0.9998, device='cuda:0'),\n",
       "    tensor(0.9934, device='cuda:0'),\n",
       "    tensor(0.9997, device='cuda:0'),\n",
       "    tensor(0.9285, device='cuda:0'),\n",
       "    tensor(0.1397, device='cuda:0'),\n",
       "    tensor(1.0000, device='cuda:0'),\n",
       "    tensor(0.9937, device='cuda:0'),\n",
       "    tensor(0.9830, device='cuda:0'),\n",
       "    tensor(0.9977, device='cuda:0'),\n",
       "    tensor(0.9908, device='cuda:0'),\n",
       "    tensor(0.0167, device='cuda:0'),\n",
       "    tensor(0.9881, device='cuda:0'),\n",
       "    tensor(0.9992, device='cuda:0'),\n",
       "    tensor(0.9951, device='cuda:0'),\n",
       "    tensor(0.9988, device='cuda:0'),\n",
       "    tensor(0.9999, device='cuda:0'),\n",
       "    tensor(1.0000, device='cuda:0'),\n",
       "    tensor(0.0850, device='cuda:0'),\n",
       "    tensor(1.0000, device='cuda:0'),\n",
       "    tensor(0.0114, device='cuda:0'),\n",
       "    tensor(0.0594, device='cuda:0'),\n",
       "    tensor(0.9981, device='cuda:0'),\n",
       "    tensor(0.9989, device='cuda:0'),\n",
       "    tensor(0.9986, device='cuda:0'),\n",
       "    tensor(0.9417, device='cuda:0'),\n",
       "    tensor(0.9968, device='cuda:0'),\n",
       "    tensor(0.8841, device='cuda:0'),\n",
       "    tensor(1.0000, device='cuda:0'),\n",
       "    tensor(0.9495, device='cuda:0'),\n",
       "    tensor(0.9997, device='cuda:0'),\n",
       "    tensor(0.9617, device='cuda:0'),\n",
       "    tensor(0.9999, device='cuda:0'),\n",
       "    tensor(0.9998, device='cuda:0'),\n",
       "    tensor(0.9992, device='cuda:0'),\n",
       "    tensor(0.9994, device='cuda:0'),\n",
       "    tensor(0.9999, device='cuda:0'),\n",
       "    tensor(0.9999, device='cuda:0'),\n",
       "    tensor(1.0000, device='cuda:0'),\n",
       "    tensor(0.9998, device='cuda:0'),\n",
       "    tensor(0.9415, device='cuda:0'),\n",
       "    tensor(0.9992, device='cuda:0'),\n",
       "    tensor(0.9983, device='cuda:0'),\n",
       "    tensor(0.9996, device='cuda:0'),\n",
       "    tensor(0.9999, device='cuda:0'),\n",
       "    tensor(1.0000, device='cuda:0'),\n",
       "    tensor(0.0320, device='cuda:0'),\n",
       "    tensor(1.0000, device='cuda:0'),\n",
       "    tensor(1.0000, device='cuda:0'),\n",
       "    tensor(0.9693, device='cuda:0'),\n",
       "    tensor(2.7548e-05, device='cuda:0'),\n",
       "    tensor(0.9989, device='cuda:0'),\n",
       "    tensor(0.9996, device='cuda:0'),\n",
       "    tensor(0.9999, device='cuda:0'),\n",
       "    tensor(1.0000, device='cuda:0'),\n",
       "    tensor(0.9969, device='cuda:0'),\n",
       "    tensor(1.0000, device='cuda:0'),\n",
       "    tensor(0.9999, device='cuda:0'),\n",
       "    tensor(0.9972, device='cuda:0'),\n",
       "    tensor(0.9937, device='cuda:0'),\n",
       "    tensor(0.9996, device='cuda:0'),\n",
       "    tensor(1.0000, device='cuda:0'),\n",
       "    tensor(0.9856, device='cuda:0'),\n",
       "    tensor(0.9994, device='cuda:0'),\n",
       "    tensor(1.0000, device='cuda:0'),\n",
       "    tensor(0.9294, device='cuda:0'),\n",
       "    tensor(0.9999, device='cuda:0'),\n",
       "    tensor(1.0000, device='cuda:0'),\n",
       "    tensor(1.0000, device='cuda:0'),\n",
       "    tensor(1.0000, device='cuda:0'),\n",
       "    tensor(0.9999, device='cuda:0'),\n",
       "    tensor(0.9991, device='cuda:0'),\n",
       "    tensor(1.0000, device='cuda:0'),\n",
       "    tensor(0.9968, device='cuda:0'),\n",
       "    tensor(0.9999, device='cuda:0'),\n",
       "    tensor(1.0000, device='cuda:0'),\n",
       "    tensor(0.9999, device='cuda:0')]],\n",
       "  None),\n",
       " 'tc_1007': (None,\n",
       "  [[tensor(0.9323, device='cuda:0'),\n",
       "    tensor(0.4643, device='cuda:0'),\n",
       "    tensor(0.9011, device='cuda:0'),\n",
       "    tensor(0.9858, device='cuda:0'),\n",
       "    tensor(0.0753, device='cuda:0'),\n",
       "    tensor(0.0058, device='cuda:0'),\n",
       "    tensor(0.9977, device='cuda:0'),\n",
       "    tensor(0.9961, device='cuda:0'),\n",
       "    tensor(0.0452, device='cuda:0'),\n",
       "    tensor(0.9987, device='cuda:0'),\n",
       "    tensor(0.9993, device='cuda:0'),\n",
       "    tensor(0.9998, device='cuda:0'),\n",
       "    tensor(0.9485, device='cuda:0'),\n",
       "    tensor(0.9974, device='cuda:0'),\n",
       "    tensor(0.9943, device='cuda:0'),\n",
       "    tensor(0.9632, device='cuda:0'),\n",
       "    tensor(0.9998, device='cuda:0'),\n",
       "    tensor(0.9341, device='cuda:0'),\n",
       "    tensor(0.9731, device='cuda:0'),\n",
       "    tensor(0.9995, device='cuda:0'),\n",
       "    tensor(0.9753, device='cuda:0'),\n",
       "    tensor(0.0150, device='cuda:0'),\n",
       "    tensor(0.0383, device='cuda:0'),\n",
       "    tensor(0.0027, device='cuda:0'),\n",
       "    tensor(0.0566, device='cuda:0'),\n",
       "    tensor(0.9999, device='cuda:0'),\n",
       "    tensor(0.0158, device='cuda:0'),\n",
       "    tensor(1.0000, device='cuda:0'),\n",
       "    tensor(0.0053, device='cuda:0'),\n",
       "    tensor(0.9974, device='cuda:0'),\n",
       "    tensor(0.2099, device='cuda:0'),\n",
       "    tensor(0.9444, device='cuda:0'),\n",
       "    tensor(1.0000, device='cuda:0'),\n",
       "    tensor(1.0000, device='cuda:0'),\n",
       "    tensor(1.0000, device='cuda:0'),\n",
       "    tensor(0.9999, device='cuda:0'),\n",
       "    tensor(0.9614, device='cuda:0'),\n",
       "    tensor(0.9892, device='cuda:0'),\n",
       "    tensor(0.9339, device='cuda:0'),\n",
       "    tensor(0.9341, device='cuda:0'),\n",
       "    tensor(0.9826, device='cuda:0'),\n",
       "    tensor(0.0876, device='cuda:0'),\n",
       "    tensor(0.9027, device='cuda:0'),\n",
       "    tensor(0.9978, device='cuda:0'),\n",
       "    tensor(0.9958, device='cuda:0'),\n",
       "    tensor(1.0000, device='cuda:0'),\n",
       "    tensor(0.9036, device='cuda:0'),\n",
       "    tensor(0.1242, device='cuda:0'),\n",
       "    tensor(0.1300, device='cuda:0'),\n",
       "    tensor(0.0810, device='cuda:0'),\n",
       "    tensor(0.8128, device='cuda:0'),\n",
       "    tensor(0.9998, device='cuda:0'),\n",
       "    tensor(0.2102, device='cuda:0')]]),\n",
       " 'tc_1020': (None,\n",
       "  [[tensor(1.0000, device='cuda:0'),\n",
       "    tensor(1.0000, device='cuda:0'),\n",
       "    tensor(0.1345, device='cuda:0'),\n",
       "    tensor(0.8351, device='cuda:0'),\n",
       "    tensor(1.0000, device='cuda:0'),\n",
       "    tensor(1., device='cuda:0'),\n",
       "    tensor(0.9910, device='cuda:0'),\n",
       "    tensor(0.9745, device='cuda:0'),\n",
       "    tensor(0.8513, device='cuda:0'),\n",
       "    tensor(0.8357, device='cuda:0'),\n",
       "    tensor(0.0114, device='cuda:0'),\n",
       "    tensor(0.9989, device='cuda:0'),\n",
       "    tensor(0.9804, device='cuda:0'),\n",
       "    tensor(0.4150, device='cuda:0'),\n",
       "    tensor(0.0205, device='cuda:0'),\n",
       "    tensor(0.2129, device='cuda:0')]]),\n",
       " 'tc_1156': (None,\n",
       "  [[tensor(0.9734, device='cuda:0'),\n",
       "    tensor(0.8255, device='cuda:0'),\n",
       "    tensor(0.9890, device='cuda:0'),\n",
       "    tensor(0.9407, device='cuda:0'),\n",
       "    tensor(0.9318, device='cuda:0'),\n",
       "    tensor(0.9832, device='cuda:0'),\n",
       "    tensor(0.7497, device='cuda:0'),\n",
       "    tensor(0.9945, device='cuda:0'),\n",
       "    tensor(1.0000, device='cuda:0'),\n",
       "    tensor(0.9929, device='cuda:0'),\n",
       "    tensor(0.9458, device='cuda:0'),\n",
       "    tensor(0.9798, device='cuda:0'),\n",
       "    tensor(0.9775, device='cuda:0'),\n",
       "    tensor(0.0613, device='cuda:0'),\n",
       "    tensor(0.9189, device='cuda:0'),\n",
       "    tensor(0.9879, device='cuda:0'),\n",
       "    tensor(0.9915, device='cuda:0'),\n",
       "    tensor(0.9506, device='cuda:0'),\n",
       "    tensor(0.1578, device='cuda:0'),\n",
       "    tensor(0.4800, device='cuda:0'),\n",
       "    tensor(0.9882, device='cuda:0'),\n",
       "    tensor(0.8192, device='cuda:0'),\n",
       "    tensor(0.9641, device='cuda:0'),\n",
       "    tensor(1.0000, device='cuda:0'),\n",
       "    tensor(0.9278, device='cuda:0'),\n",
       "    tensor(0.9991, device='cuda:0'),\n",
       "    tensor(0.9841, device='cuda:0'),\n",
       "    tensor(0.9688, device='cuda:0'),\n",
       "    tensor(1.0000, device='cuda:0'),\n",
       "    tensor(1.0000, device='cuda:0'),\n",
       "    tensor(0.9989, device='cuda:0'),\n",
       "    tensor(0.9414, device='cuda:0'),\n",
       "    tensor(0.9912, device='cuda:0'),\n",
       "    tensor(0.9494, device='cuda:0'),\n",
       "    tensor(0.9993, device='cuda:0'),\n",
       "    tensor(0.1073, device='cuda:0'),\n",
       "    tensor(0.4402, device='cuda:0'),\n",
       "    tensor(1.0000, device='cuda:0'),\n",
       "    tensor(0.2438, device='cuda:0'),\n",
       "    tensor(0.9962, device='cuda:0'),\n",
       "    tensor(0.8996, device='cuda:0'),\n",
       "    tensor(0.8690, device='cuda:0'),\n",
       "    tensor(0.9571, device='cuda:0'),\n",
       "    tensor(0.9996, device='cuda:0'),\n",
       "    tensor(0.9999, device='cuda:0'),\n",
       "    tensor(0.9657, device='cuda:0'),\n",
       "    tensor(0.9197, device='cuda:0'),\n",
       "    tensor(0.9193, device='cuda:0'),\n",
       "    tensor(0.9993, device='cuda:0'),\n",
       "    tensor(0.9980, device='cuda:0'),\n",
       "    tensor(0.9137, device='cuda:0'),\n",
       "    tensor(0.3024, device='cuda:0'),\n",
       "    tensor(0.9902, device='cuda:0'),\n",
       "    tensor(0.9973, device='cuda:0'),\n",
       "    tensor(0.9998, device='cuda:0'),\n",
       "    tensor(0.9926, device='cuda:0'),\n",
       "    tensor(0.7663, device='cuda:0'),\n",
       "    tensor(0.0104, device='cuda:0'),\n",
       "    tensor(0.0887, device='cuda:0'),\n",
       "    tensor(1.0000, device='cuda:0'),\n",
       "    tensor(0.9777, device='cuda:0'),\n",
       "    tensor(0.0482, device='cuda:0'),\n",
       "    tensor(0.6534, device='cuda:0'),\n",
       "    tensor(0.9707, device='cuda:0'),\n",
       "    tensor(0.9971, device='cuda:0'),\n",
       "    tensor(0.7189, device='cuda:0'),\n",
       "    tensor(0.9927, device='cuda:0'),\n",
       "    tensor(0.9962, device='cuda:0'),\n",
       "    tensor(0.9998, device='cuda:0'),\n",
       "    tensor(0.9999, device='cuda:0'),\n",
       "    tensor(0.9634, device='cuda:0'),\n",
       "    tensor(0.9005, device='cuda:0'),\n",
       "    tensor(0.9930, device='cuda:0'),\n",
       "    tensor(0.2792, device='cuda:0'),\n",
       "    tensor(0.9945, device='cuda:0'),\n",
       "    tensor(0.9943, device='cuda:0'),\n",
       "    tensor(0.9974, device='cuda:0'),\n",
       "    tensor(1.0000, device='cuda:0'),\n",
       "    tensor(0.0090, device='cuda:0'),\n",
       "    tensor(1.0000, device='cuda:0'),\n",
       "    tensor(0.9479, device='cuda:0'),\n",
       "    tensor(0.0210, device='cuda:0'),\n",
       "    tensor(0.9601, device='cuda:0'),\n",
       "    tensor(0.4296, device='cuda:0'),\n",
       "    tensor(0.9996, device='cuda:0'),\n",
       "    tensor(0.9995, device='cuda:0'),\n",
       "    tensor(0.9465, device='cuda:0'),\n",
       "    tensor(0.9994, device='cuda:0')]]),\n",
       " 'tc_1516': (None,\n",
       "  [[tensor(0.9994, device='cuda:0'),\n",
       "    tensor(1.0000, device='cuda:0'),\n",
       "    tensor(1.0000, device='cuda:0'),\n",
       "    tensor(0.9611, device='cuda:0'),\n",
       "    tensor(1.0000, device='cuda:0'),\n",
       "    tensor(0.9652, device='cuda:0'),\n",
       "    tensor(1.0000, device='cuda:0'),\n",
       "    tensor(0.9996, device='cuda:0'),\n",
       "    tensor(0.9955, device='cuda:0'),\n",
       "    tensor(1.0000, device='cuda:0'),\n",
       "    tensor(1.0000, device='cuda:0'),\n",
       "    tensor(1.0000, device='cuda:0'),\n",
       "    tensor(0.9976, device='cuda:0'),\n",
       "    tensor(0.9176, device='cuda:0'),\n",
       "    tensor(0.9998, device='cuda:0'),\n",
       "    tensor(0.9959, device='cuda:0'),\n",
       "    tensor(1.0000, device='cuda:0'),\n",
       "    tensor(0.9996, device='cuda:0'),\n",
       "    tensor(0.9998, device='cuda:0'),\n",
       "    tensor(0.9988, device='cuda:0'),\n",
       "    tensor(0.9999, device='cuda:0'),\n",
       "    tensor(0.9819, device='cuda:0'),\n",
       "    tensor(0.9998, device='cuda:0'),\n",
       "    tensor(0.9985, device='cuda:0'),\n",
       "    tensor(1.0000, device='cuda:0'),\n",
       "    tensor(1.0000, device='cuda:0'),\n",
       "    tensor(0.9999, device='cuda:0'),\n",
       "    tensor(0.9998, device='cuda:0'),\n",
       "    tensor(0.9999, device='cuda:0'),\n",
       "    tensor(0.9996, device='cuda:0'),\n",
       "    tensor(0.5965, device='cuda:0'),\n",
       "    tensor(0.9997, device='cuda:0'),\n",
       "    tensor(0.0251, device='cuda:0'),\n",
       "    tensor(1.0000, device='cuda:0'),\n",
       "    tensor(0.9379, device='cuda:0'),\n",
       "    tensor(0.0651, device='cuda:0'),\n",
       "    tensor(1.0000, device='cuda:0'),\n",
       "    tensor(1.0000, device='cuda:0'),\n",
       "    tensor(0.0251, device='cuda:0'),\n",
       "    tensor(0.0519, device='cuda:0'),\n",
       "    tensor(0.9835, device='cuda:0'),\n",
       "    tensor(0.9997, device='cuda:0'),\n",
       "    tensor(0.9643, device='cuda:0'),\n",
       "    tensor(0.9970, device='cuda:0'),\n",
       "    tensor(0.9886, device='cuda:0'),\n",
       "    tensor(0.9905, device='cuda:0'),\n",
       "    tensor(0.9981, device='cuda:0'),\n",
       "    tensor(0.9939, device='cuda:0'),\n",
       "    tensor(0.9682, device='cuda:0'),\n",
       "    tensor(0.9957, device='cuda:0'),\n",
       "    tensor(0.9957, device='cuda:0'),\n",
       "    tensor(1.0000, device='cuda:0'),\n",
       "    tensor(0.9974, device='cuda:0'),\n",
       "    tensor(0.0710, device='cuda:0'),\n",
       "    tensor(0.9517, device='cuda:0'),\n",
       "    tensor(0.9994, device='cuda:0'),\n",
       "    tensor(0.9998, device='cuda:0'),\n",
       "    tensor(0.9948, device='cuda:0'),\n",
       "    tensor(1.0000, device='cuda:0'),\n",
       "    tensor(0.9998, device='cuda:0'),\n",
       "    tensor(0.9998, device='cuda:0'),\n",
       "    tensor(0.9991, device='cuda:0'),\n",
       "    tensor(0.8750, device='cuda:0'),\n",
       "    tensor(1.0000, device='cuda:0'),\n",
       "    tensor(0.9950, device='cuda:0'),\n",
       "    tensor(0.9997, device='cuda:0'),\n",
       "    tensor(0.9989, device='cuda:0'),\n",
       "    tensor(0.8773, device='cuda:0')]]),\n",
       " 'tc_1535': (None,\n",
       "  [[tensor(1.0000, device='cuda:0'),\n",
       "    tensor(1.0000, device='cuda:0'),\n",
       "    tensor(0.9996, device='cuda:0'),\n",
       "    tensor(0.9993, device='cuda:0'),\n",
       "    tensor(1.0000, device='cuda:0'),\n",
       "    tensor(1., device='cuda:0'),\n",
       "    tensor(1., device='cuda:0'),\n",
       "    tensor(1.0000, device='cuda:0'),\n",
       "    tensor(0.4201, device='cuda:0'),\n",
       "    tensor(0.9999, device='cuda:0'),\n",
       "    tensor(0.9998, device='cuda:0'),\n",
       "    tensor(1.0000, device='cuda:0'),\n",
       "    tensor(0.9995, device='cuda:0'),\n",
       "    tensor(0.9999, device='cuda:0'),\n",
       "    tensor(0.9997, device='cuda:0'),\n",
       "    tensor(0.9855, device='cuda:0'),\n",
       "    tensor(1.0000, device='cuda:0'),\n",
       "    tensor(1.0000, device='cuda:0'),\n",
       "    tensor(0.9998, device='cuda:0'),\n",
       "    tensor(0.9978, device='cuda:0'),\n",
       "    tensor(0.7821, device='cuda:0')]]),\n",
       " 'tc_1542': (None,\n",
       "  [[tensor(1.0000, device='cuda:0'),\n",
       "    tensor(1.0000, device='cuda:0'),\n",
       "    tensor(0.9991, device='cuda:0'),\n",
       "    tensor(0.0817, device='cuda:0'),\n",
       "    tensor(1.0000, device='cuda:0'),\n",
       "    tensor(1.0000, device='cuda:0'),\n",
       "    tensor(1.0000, device='cuda:0'),\n",
       "    tensor(1.0000, device='cuda:0'),\n",
       "    tensor(0.0643, device='cuda:0'),\n",
       "    tensor(0.9816, device='cuda:0'),\n",
       "    tensor(0.2501, device='cuda:0'),\n",
       "    tensor(0.0840, device='cuda:0'),\n",
       "    tensor(0.9999, device='cuda:0'),\n",
       "    tensor(1.0000, device='cuda:0'),\n",
       "    tensor(0.9987, device='cuda:0'),\n",
       "    tensor(0.9999, device='cuda:0'),\n",
       "    tensor(0.0029, device='cuda:0'),\n",
       "    tensor(0.0009, device='cuda:0'),\n",
       "    tensor(1.0000, device='cuda:0'),\n",
       "    tensor(1.0000, device='cuda:0'),\n",
       "    tensor(1.0000, device='cuda:0'),\n",
       "    tensor(0.9963, device='cuda:0'),\n",
       "    tensor(0.9876, device='cuda:0'),\n",
       "    tensor(1.0000, device='cuda:0'),\n",
       "    tensor(1.0000, device='cuda:0'),\n",
       "    tensor(0.9999, device='cuda:0'),\n",
       "    tensor(0.9914, device='cuda:0'),\n",
       "    tensor(0.9986, device='cuda:0'),\n",
       "    tensor(0.9999, device='cuda:0'),\n",
       "    tensor(1.0000, device='cuda:0'),\n",
       "    tensor(0.9998, device='cuda:0'),\n",
       "    tensor(1.0000, device='cuda:0'),\n",
       "    tensor(0.9950, device='cuda:0'),\n",
       "    tensor(0.9998, device='cuda:0'),\n",
       "    tensor(1.0000, device='cuda:0'),\n",
       "    tensor(1.0000, device='cuda:0')]])}"
      ]
     },
     "execution_count": 10,
     "metadata": {},
     "output_type": "execute_result"
    }
   ],
   "source": [
    "qid_struct"
   ]
  },
  {
   "cell_type": "markdown",
   "id": "7e6a3a28",
   "metadata": {},
   "source": [
    "# Cutoff index Sequence version of for loop"
   ]
  },
  {
   "cell_type": "code",
   "execution_count": null,
   "id": "33a85973",
   "metadata": {},
   "outputs": [],
   "source": [
    "\n",
    "threshold=.5\n",
    "qid_struct = {}\n",
    "key='test'\n",
    "for ii, entry  in tqdm(enumerate(dataset)):\n",
    "    print('started: ',str(ii))\n",
    "\n",
    "    if len(entry['entity_pages']['wiki_context'])==0:\n",
    "        wiki_context_splits = None\n",
    "    else:\n",
    "        wiki_context_splits = []\n",
    "        for context in entry['entity_pages']['wiki_context']:\n",
    "            cutoff_indices = get_cutoff_indices(context, threshold, nsp_model, tokenizer,device)\n",
    "            wiki_context_splits.append(cutoff_indices)\n",
    "            \n",
    "    if len(entry['search_results']['search_context']) == 0:\n",
    "         search_context_splits = None\n",
    "    else:\n",
    "        search_context_splits = []\n",
    "        for context in entry['search_results']['search_context']:\n",
    "\n",
    "            cutoff_indices = get_cutoff_indices(context, threshold, nsp_model, tokenizer,device)\n",
    "            search_context_splits.append(cutoff_indices)\n",
    "    \n",
    "    qid_struct[entry['question_id']] = (wiki_context_splits,search_context_splits)\n",
    "file_name = key + '_qid_struct.pkl'\n",
    "\n",
    "with open(r\"\\\\wsl$\\Ubuntu-20.04\\home\\jolteon\\NLUProject\\\\\" + file_name, 'wb') as handle:\n",
    "    pickle.dump(qid_struct, handle, protocol=pickle.HIGHEST_PROTOCOL)   \n",
    "     "
   ]
  },
  {
   "cell_type": "code",
   "execution_count": null,
   "id": "263dbe1e",
   "metadata": {},
   "outputs": [],
   "source": [
    "   with open(r\"\\\\wsl$\\Ubuntu-20.04\\home\\jolteon\\NLUProject\\\\\" + file_name, 'wb') as handle:\n",
    "            pickle.dump(qid_struct, handle, protocol=pickle.HIGHEST_PROTOCOL)"
   ]
  },
  {
   "cell_type": "code",
   "execution_count": null,
   "id": "c1d12bf9",
   "metadata": {},
   "outputs": [],
   "source": [
    "dataset[44]"
   ]
  },
  {
   "cell_type": "code",
   "execution_count": null,
   "id": "81f09fd4",
   "metadata": {},
   "outputs": [],
   "source": [
    "class LSTM_Over_BERT(nn.Module):\n",
    "    '''\n",
    "    Input is a entry in trivia_qa dataset\n",
    "    '''\n",
    "    def __init__(self):\n",
    "        super(LSTM_Over_BERT, self).__init__()\n",
    "        self.conv1 = nn.Conv2d(3, 6, 5)\n",
    "        self.pool = nn.MaxPool2d(2, 2)\n",
    "        self.conv2 = nn.Conv2d(6, 16, 5)\n",
    "        self.fc1 = nn.Linear(16 * 5 * 5, 120)\n",
    "        self.fc2 = nn.Linear(120, 84)\n",
    "        self.fc3 = nn.Linear(84, 10)\n",
    "\n",
    "    def forward(self, x):\n",
    "        x = self.pool(F.relu(self.conv1(x)))\n",
    "        x = self.pool(F.relu(self.conv2(x)))\n",
    "        x = x.view(-1, 16 * 5 * 5)\n",
    "        x = F.relu(self.fc1(x))\n",
    "        x = F.relu(self.fc2(x))\n",
    "        x = self.fc3(x)\n",
    "        return x"
   ]
  },
  {
   "cell_type": "markdown",
   "id": "15bd5189",
   "metadata": {},
   "source": [
    "Input is a data entry in trivia_qa dataset.\n",
    "entry contains the question, possible answers, correct answer, and possibly, multiple spans of text?\n"
   ]
  },
  {
   "cell_type": "code",
   "execution_count": null,
   "id": "44a83346",
   "metadata": {},
   "outputs": [],
   "source": []
  },
  {
   "cell_type": "code",
   "execution_count": null,
   "id": "28a5b67e",
   "metadata": {},
   "outputs": [],
   "source": []
  },
  {
   "cell_type": "code",
   "execution_count": null,
   "id": "17d5fa65",
   "metadata": {},
   "outputs": [],
   "source": []
  },
  {
   "cell_type": "code",
   "execution_count": null,
   "id": "731455d4",
   "metadata": {},
   "outputs": [],
   "source": []
  },
  {
   "cell_type": "code",
   "execution_count": null,
   "id": "0d1e49fc",
   "metadata": {},
   "outputs": [],
   "source": []
  }
 ],
 "metadata": {
  "kernelspec": {
   "display_name": "Python 3",
   "language": "python",
   "name": "python3"
  },
  "language_info": {
   "codemirror_mode": {
    "name": "ipython",
    "version": 3
   },
   "file_extension": ".py",
   "mimetype": "text/x-python",
   "name": "python",
   "nbconvert_exporter": "python",
   "pygments_lexer": "ipython3",
   "version": "3.9.2"
  }
 },
 "nbformat": 4,
 "nbformat_minor": 5
}
