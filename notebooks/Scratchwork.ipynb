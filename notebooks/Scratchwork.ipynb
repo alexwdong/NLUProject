{
 "cells": [
  {
   "cell_type": "code",
   "execution_count": 28,
   "id": "09bcad6b",
   "metadata": {},
   "outputs": [],
   "source": [
    "import numpy as np\n",
    "from transformers import BertConfig,BertModel,AutoConfig,AutoTokenizer,BertForNextSentencePrediction\n",
    "import torch\n",
    "from torch.nn.functional import softmax\n",
    "from datasets import load_dataset,load_from_disk\n",
    "import json\n"
   ]
  },
  {
   "cell_type": "code",
   "execution_count": 5,
   "id": "19fd955d",
   "metadata": {},
   "outputs": [],
   "source": [
    "\n",
    "#dataset = load_dataset('trivia_qa', 'rc')\n",
    "#dataset.save_to_disk('.')"
   ]
  },
  {
   "cell_type": "code",
   "execution_count": 8,
   "id": "fb8bc4bb",
   "metadata": {},
   "outputs": [],
   "source": [
    "dataset = load_from_disk(r'\\\\wsl$\\Ubuntu-20.04\\home\\jolteon\\NLUProject\\data\\trivia_qa_rc')"
   ]
  },
  {
   "cell_type": "code",
   "execution_count": null,
   "id": "4cac6589",
   "metadata": {},
   "outputs": [],
   "source": [
    "train_dataset = dataset['train']"
   ]
  },
  {
   "cell_type": "code",
   "execution_count": 38,
   "id": "41110164",
   "metadata": {},
   "outputs": [],
   "source": [
    "def function(item):\n",
    "    print(len(item['search_results']['search_context']))"
   ]
  },
  {
   "cell_type": "code",
   "execution_count": 41,
   "id": "393d5c82",
   "metadata": {},
   "outputs": [],
   "source": [
    "#train_dataset.map(function)"
   ]
  },
  {
   "cell_type": "markdown",
   "id": "c7c86a6e",
   "metadata": {},
   "source": [
    "# Useful fields: \n",
    "Question:\n",
    "Answer:\n",
    "Entity_pages -> wiki_context (multiple contexts)\n",
    "search_results -> search_context (multiple contexts)\n",
    "\n",
    "# Planning:\n",
    "set of documents which contains all of wiki context and search results\n",
    "\n",
    "for each document:\n",
    "    Split by sentences using NLTK:\n",
    "    Tokenize each sentence using bert (wordpiece) embeddings\n",
    "    Store each tokenized sentence in a ordered dict of {sentence_idx -> tokenized sentence}\n",
    "    run Bert's NSP over the document to generate sequence of split confidence\n",
    "    Pick a confidence threshold. Threshold needs to be s.t each segment has less than 512 tokens.\n",
    "    Assign each sentence to a segment based on threshold.\n",
    "    \n",
    "    \n",
    "    \n"
   ]
  },
  {
   "cell_type": "code",
   "execution_count": 48,
   "id": "5985e0b5",
   "metadata": {},
   "outputs": [
    {
     "name": "stdout",
     "output_type": "stream",
     "text": [
      "7 0\n",
      "6 2\n",
      "2 0\n",
      "7 3\n",
      "4 1\n",
      "6 1\n",
      "1 2\n",
      "0 1\n",
      "{\n",
      "    \"answer\": {\n",
      "        \"aliases\": [\n",
      "            \"\\u65e5\\u672c\\u570b\",\n",
      "            \"State of Japan\",\n",
      "            \"Ja-pan\",\n",
      "            \"Nihon\",\n",
      "            \"Nippon\",\n",
      "            \"Japang\",\n",
      "            \"Modern\\u2013era Japan\",\n",
      "            \"Etymology of Japan\",\n",
      "            \"Japan (country)\",\n",
      "            \"Republic of Japan\",\n",
      "            \"Japanese financial sector\",\n",
      "            \"Nihon-koku\",\n",
      "            \"ISO 3166-1:JP\",\n",
      "            \"\\u65e5\\u672c\",\n",
      "            \"Japian\",\n",
      "            \"Japan\",\n",
      "            \"JapaN\",\n",
      "            \"The State of Japan\",\n",
      "            \"Riben\",\n",
      "            \"Nippon-koku\",\n",
      "            \"JPN\",\n",
      "            \"Jpan\",\n",
      "            \"R\\u00ecb\\u011bn\",\n",
      "            \"\\u65e5\\u672c\\u56fd\",\n",
      "            \"Japao\",\n",
      "            \"JAPAN\",\n",
      "            \"Japoa\",\n",
      "            \"\\ud83d\\uddfe\"\n",
      "        ],\n",
      "        \"matched_wiki_entity_name\": \"\",\n",
      "        \"normalized_aliases\": [\n",
      "            \"nihon koku\",\n",
      "            \"nihon\",\n",
      "            \"japoa\",\n",
      "            \"japang\",\n",
      "            \"japan\",\n",
      "            \"\\u65e5\\u672c\\u570b\",\n",
      "            \"etymology of japan\",\n",
      "            \"iso 3166 1 jp\",\n",
      "            \"jpan\",\n",
      "            \"japan country\",\n",
      "            \"riben\",\n",
      "            \"r\\u00ecb\\u011bn\",\n",
      "            \"\\ud83d\\uddfe\",\n",
      "            \"japanese financial sector\",\n",
      "            \"japian\",\n",
      "            \"nippon koku\",\n",
      "            \"state of japan\",\n",
      "            \"nippon\",\n",
      "            \"modern\\u2013era japan\",\n",
      "            \"republic of japan\",\n",
      "            \"\\u65e5\\u672c\\u56fd\",\n",
      "            \"jpn\",\n",
      "            \"japao\",\n",
      "            \"ja pan\",\n",
      "            \"\\u65e5\\u672c\"\n",
      "        ],\n",
      "        \"normalized_matched_wiki_entity_name\": \"\",\n",
      "        \"normalized_value\": \"japan\",\n",
      "        \"type\": \"WikipediaEntity\",\n",
      "        \"value\": \"Japan\"\n",
      "    },\n",
      "    \"entity_pages\": {\n",
      "        \"doc_source\": [\n",
      "            \"TagMe\"\n",
      "        ],\n",
      "        \"filename\": [\n",
      "            \"Integrated_Services_Digital_Network.txt\"\n",
      "        ],\n",
      "        \"title\": [\n",
      "            \"Integrated Services Digital Network\"\n",
      "        ],\n",
      "        \"wiki_context\": [\n",
      "            \"Integrated Services Digital Network (ISDN) is a set of communication standards for simultaneous digital transmission of voice, video, data, and other network services over the traditional circuits of the public switched telephone network. It was first defined in 1988 in the CCITT red book.   Prior to ISDN, the telephone system was viewed as a way to transport voice, with some special services available for data. The key feature of ISDN is that it integrates speech and data on the same lines, adding features that were not available in the classic telephone system. The ISDN standards define several kinds of access interfaces, such as Basic Rate Interface (BRI), Primary Rate Interface (PRI), Narrowband ISDN (N-ISDN), and Broadband ISDN (B-ISDN).\\n\\nISDN is a circuit-switched telephone network system, which also provides access to packet switched networks, designed to allow digital transmission of voice and data over ordinary telephone copper wires, resulting in potentially better voice quality than an analog phone can provide. It offers circuit-switched connections (for either voice or data), and packet-switched connections (for data), in increments of 64 kilobit/s. In some countries, ISDN found major market application for Internet access, in which ISDN typically provides a maximum of 128 kbit/s bandwidth in both upstream and downstream directions. Channel bonding can achieve a greater data rate; typically the ISDN B-channels of three or four BRIs (six to eight 64 kbit/s channels) are bonded.\\n\\nISDN is employed as the network, data-link and physical layers in the context of the OSI model, or could be considered a suite of digital services existing on layers 1, 2, and 3 of the OSI model. In common use, ISDN is often limited to usage to Q.931 and related protocols, which are a set of signaling protocols establishing and breaking circuit-switched connections, and for advanced calling features for the user. They were introduced in 1986. \\n\\nIn a videoconference, ISDN provides simultaneous voice, video, and text transmission between individual desktop videoconferencing systems and group (room) videoconferencing systems.\\n\\nISDN elements\\n\\nIntegrated services refers to ISDN's ability to deliver at minimum two simultaneous connections, in any combination of data, voice, video, and fax, over a single line. Multiple devices can be attached to the line, and used as needed. That means an ISDN line can take care of most people's complete communications needs (apart from broadband Internet access and entertainment television) at a much higher transmission rate, without forcing the purchase of multiple analog phone lines. It also refers to integrated switching and transmission  in that telephone switching and carrier wave transmission are integrated rather than separate as in earlier technology.\\n\\nBasic Rate Interface\\n\\nThe entry level interface to ISDN is the Basic Rate Interface (BRI), a 128 kbit/s service delivered over a pair of standard telephone copper wires. The 144 kbit/s payload rate is broken down into two 64 kbit/s bearer channels ('B' channels) and one 16 kbit/s signaling channel ('D' channel or data channel). This is sometimes referred to as 2B+D. \\n\\nThe interface specifies the following network interfaces:\\n* The U interface is a two-wire interface between the exchange and a network terminating unit, which is usually the demarcation point in non-North American networks.\\n* The T interface is a serial interface between a computing device and a terminal adapter, which is the digital equivalent of a modem.\\n* The S interface is a four-wire bus that ISDN consumer devices plug into; the S & T reference points are commonly implemented as a single interface labeled 'S/T' on a Network termination 1 (NT1).\\n* The R interface defines the point between a non-ISDN device and a terminal adapter (TA) which provides translation to and from such a device.\\n\\nBRI-ISDN is very popular in Europe but is much less common in North America. It is also common in Japan\\u00a0\\u2014 where it is known as INS64.  \\n\\nPrimary Rate Interface\\n\\nThe other ISDN access available is the Primary Rate Interface (PRI), which is carried over an E1 (2048 kbit/s) in most parts of the world. An E1 is 30 'B' channels of 64 kbit/s, one 'D' channel of 64 kbit/s and a timing and alarm channel of 64 kbit/s. This is often referred to as 30B+D. \\n \\nIn North America PRI service is delivered on one or more T1 carriers (often referred to as 23B+D) of 1544 kbit/s (24 channels). A PRI has 23 'B' channels and 1 'D' channel for signalling (Japan uses a circuit called a J1, which is similar to a T1). Inter-changeably but incorrectly, a PRI is referred to as T1 because it uses the T1 carrier format. A true T1 (commonly called \\\"Analog T1\\\" to avoid confusion) uses 24 channels of 64 kbit/s of in-band signaling. Each channel uses 56 kb for data and voice and 8 kb for signaling and messaging. PRI uses out of band signaling which provides the 23 B channels with clear 64 kb for voice and data and one 64 kb 'D' channel for signaling and messaging. In North America, Non-Facility Associated Signalling allows two or more PRIs to be controlled by a single D channel, and is sometimes called \\\"23B+D + n*24B\\\". D-channel backup allows for a second D channel in case the primary fails. NFAS is commonly used on a T3.\\n\\nPRI-ISDN is popular throughout the world, especially for connecting private branch exchanges to the public network.\\n\\nEven though many network professionals use the term \\\"ISDN\\\" to refer to the lower-bandwidth BRI circuit, in North America BRI is relatively uncommon whilst PRI circuits serving PBXs are commonplace.\\n\\nBearer channels\\n\\nThe bearer channel (B) is a standard 64 kbit/s voice channel of 8 bits sampled at 8\\u00a0kHz with G.711 encoding. B-Channels can also be used to carry data, since they are nothing more than digital channels.\\n\\nEach one of these channels is known as a DS0.\\n\\nMost B channels can carry a 64 kbit/s signal, but some were limited to 56K because they traveled over RBS lines. This was commonplace in the 20th century, but has since become less so.\\n\\nSignaling channel\\n\\nThe signaling channel (D) uses Q.931 for signaling with the other side of the link.\\n\\nX.25\\n\\nX.25 can be carried over the B or D channels of a BRI line, and over the B channels of a PRI line. X.25 over the D channel is used at many point-of-sale (credit card) terminals because it eliminates the modem setup, and because it connects to the central system over a B channel, thereby eliminating the need for modems and making much better use of the central system's telephone lines.\\n\\nX.25 was also part of an ISDN protocol called \\\"Always On/Dynamic ISDN\\\", or AO/DI. This allowed a user to have a constant multi-link PPP connection to the internet over X.25 on the D channel, and brought up one or two B channels as needed.\\n\\nFrame Relay\\n\\nIn theory, Frame Relay can operate over the D channel of BRIs and PRIs, but it is seldom, if ever, used.\\n\\nConsumer and industry perspectives\\n\\nThere is a second viewpoint: that of the telephone industry, where ISDN is a core technology. A telephone network can be thought of as a collection of wires strung between switching systems. The common electrical specification for the signals on these wires is T1 or E1. Between telephone company switches, the signaling is performed via SS7. Normally, a PBX is connected via a T1 with robbed bit signaling to indicate on-hook or off-hook conditions and MF and DTMF tones to encode the destination number. ISDN is much better because messages can be sent much more quickly than by trying to encode numbers as long (100 ms per digit) tone sequences. This results in faster call setup times. Also, a greater number of features are available and fraud is reduced.\\n\\nISDN is also used as a smart-network technology intended to add new services to the public switched telephone network (PSTN) by giving users direct access to end-to-end circuit-switched digital services and as a backup or failsafe circuit solution for critical use data circuits.\\n\\nISDN and broadcast industry\\n\\nISDN is used heavily by the broadcast industry as a reliable way of switching low-latency, high-quality, long-distance audio circuits. In conjunction with an appropriate codec using MPEG or various manufacturers proprietary algorithms, an ISDN BRI can be used to send stereo bi-directional audio coded at 128 kbit/s with 20\\u00a0Hz\\u00a0\\u2013 20\\u00a0kHz audio bandwidth, although commonly the G.722 algorithm is used with a single 64 kbit/s B channel to send much lower latency mono audio at the expense of audio quality. Where very high quality audio is required multiple ISDN BRIs can be used in parallel to provide a higher bandwidth circuit switched connection. BBC Radio 3 commonly makes use of three ISDN BRIs to carry 320 kbit/s audio stream for live outside broadcasts. ISDN BRI services are used to link remote studios, sports grounds and outside broadcasts into the main broadcast studio. ISDN via satellite is used by field reporters around the world. It is also common to use ISDN for the return audio links to remote satellite broadcast vehicles.\\n\\nIn many countries, such as the UK and Australia, ISDN has displaced the older technology of equalised analogue landlines, with these circuits being phased out by telecommunications providers. IP-based streaming codecs are starting to gain a foothold in the broadcast sector, using broadband internet to connect remote studios.  However, reliability and latency is crucially important for broadcasters and the quality of service offered by ISDN has not yet been matched by packet switched alternatives.\\n\\nCountries\\n\\nUnited States and Canada\\n\\nISDN-BRI never gained popularity as a general use telephone access technology in Canada and the US, and remains a niche product. The service was seen as a solution in search of a problem,  and the extensive array of options and features were difficult for customers to understand and use. ISDN has long been known by derogatory backronyms highlighting these issues, such as It Still Does Nothing, Innovations Subscribers Don't Need, and I Still Don't kNow.  \\n\\nOnce the concept of broadband Internet access came to be associated with data rates incoming to the customer at 256 kbit/s or more, and alternatives like ADSL grew in popularity, the consumer market for BRI did not develop. Its only remaining advantage is that while ADSL has a functional distance limitation and can use ADSL loop extenders, BRI has a greater limit and can use repeaters. As such, BRI may be acceptable for customers who are too remote for ADSL. Widespread use of BRI is further stymied by some small North American CLECs such as CenturyTel having given up on it and not providing Internet access using it.  However, AT&T in most states (especially the former SBC/SWB territory) will still install an ISDN BRI line anywhere a normal analog line can be placed and the monthly charge is roughly $55.\\n\\nISDN-BRI is currently primarily used in industries with specialized and very specific needs. High-end videoconferencing hardware made by companies such as Sony, Polycom, Tandberg, and LifeSize via the LifeSize Networker  can bond up to 8 B-channels together (using a BRI circuit for every 2 channels) to provide digital, circuit-switched video connections to almost anywhere in the world. This is very expensive, and is being replaced by IP-based conferencing, but where cost concern is less of an issue than predictable quality and where a QoS-enabled IP does not exist, BRI is the preferred choice.\\n\\nMost modern non-VoIP PBXs use ISDN-PRI circuits. These are connected via T1 lines with the central office switch, replacing older analog two-way and direct inward dialing (DID) trunks. PRI is capable of delivering Calling Line Identification (CLID) in both directions so that the telephone number of an extension, rather than a company's main number, can be sent. It is still commonly used in recording studios, when a voice-over actor is in one studio, but the director and producer are in a studio at another location. The ISDN protocol delivers channelized, not-over-the-Internet service, powerful call setup and routing features, faster setup and tear down, superior audio fidelity as compared to POTS (plain old telephone service), lower delay and, at higher densities, lower cost.\\n\\nIn 2013, Verizon announced it would no longer take orders for ISDN service in the Northeastern United States. \\n\\nIndia\\n\\nBharat Sanchar Nigam Limited, Reliance Communications and Bharti Airtel are the largest communication service providers, and offer both ISDN BRI and PRI services across the country. Reliance Communications and Bharti Airtel uses the DLC technology for providing these services. With the introduction of broadband technology, the load on bandwidth is being absorbed by ADSL. ISDN continues to be an important backup network for point-to-point leased line customers such as banks, Eseva Centers,  Life Insurance Corporation of India, and SBI ATMs.\\n\\nJapan\\n\\nOn April 19, 1988, Japanese telecommunications company NTT began offering nationwide ISDN services trademarked INS Net 64, and INS Net 1500, a fruition of NTT's independent research and trial from the 1970s of what it referred to the INS (Information Network System). \\n\\nPreviously, on April 1985, Japanese digital telephone exchange hardware made by Fujitsu was used to experimentally deploy the world's first I interface ISDN. The I interface, unlike the older and incompatible Y interface, is what modern ISDN services use today.\\n\\nSince 2000, NTT's ISDN offering have been known as FLET's ISDN, incorporating the \\\"FLET's\\\" brand that NTT uses for all of its ISP offerings.\\n\\nIn Japan, the number of ISDN subscribers dwindled as alternative technologies such as ADSL, cable Internet access, and fiber to the home gained greater popularity. On November 2, 2010, NTT announced plans to migrate their backend from PSTN to the IP network from around 2020 to around 2025. For this migration, ISDN services will be retired, and fiber optic services are recommended as an alternative. \\n\\nUnited Kingdom\\n\\nIn the United Kingdom, British Telecom (BT) provides ISDN2e (BRI) as well as ISDN30 (PRI). Until April 2006, they also offered services named Home Highway and Business Highway, which were BRI ISDN-based services that offered integrated analogue connectivity as well as ISDN. Later versions of the Highway products also included built-in universal serial bus (USB) sockets for direct computer access. Home Highway was bought by many home users, usually for Internet connection, although not as fast as ADSL, because it was available before ADSL and in places where ADSL does not reach.\\n\\nIn early 2015, BT announced their intention to retire the UK's ISDN infrastructure by 2025. \\n\\nFrance\\n\\nFrance Telecom offers ISDN services under their product name Numeris (2 B+D), of which a professional Duo and home Itoo version is available. ISDN is generally known as RNIS in France and has widespread availability. The introduction of ADSL is reducing ISDN use for data transfer and Internet access, although it is still common in more rural and outlying areas, and for applications such as business voice and point-of-sale terminals.\\n\\nGermany\\n\\nIn Germany, ISDN was very popular with an installed base of 25 million channels (29% of all subscriber lines in Germany as of 2003 and 20% of all ISDN channels worldwide). Due to the success of ISDN, the number of installed analog lines was decreasing. Deutsche Telekom (DTAG) offered both BRI and PRI. Competing phone companies often offered ISDN only and no analog lines. However, these operators generally offered free hardware that also allows the use of POTS equipment, such as NTBAs with integrated terminal adapters. Because of the widespread availability of ADSL services, ISDN was primarily used for voice and fax traffic.\\n\\nUntil 2007 ISDN (BRI) and ADSL/VDSL were often bundled on the same line, mainly because the combination of ADSL with an analog line had no cost advantage over a combined ISDN-ADSL line. This advantage diminished when vendors of ISDN technology stopped manufacturing it and spare parts became hard to come by. Since then phone companies started introducing cheaper ADSL-only products using VoIP for telephony. \\n\\nSince the introduction of VDSL2 using outdoor MSANs, ISDN became obsolete. Today new ISDN lines are not available anymore in Germany and existing ISDN lines will be phased out until 2018 and replaced by G.992.3 Annex J all digital mode ADSL. \\n\\nGreece\\n\\nOTE, the incumbent telecommunications operator, offers ISDN BRI (BRA) services in Greece. Following the launch of ADSL in 2003, the importance of ISDN for data transfer began to decrease and is today limited to niche business applications with point-to-point requirements.\\n\\nInternational deployment\\n\\nA study  of the German Department of Science shows the following spread of ISDN-channels per 1,000 inhabitants in the year 2005:\\n* Norway 401\\n* Denmark 339\\n* Germany 333\\n* Switzerland 331\\n* Japan 240\\n* UK 160\\n* Finland 160\\n* Sweden 135\\n* Italy 105\\n* France 85\\n* Spain 58\\n* United States 47\\n\\nConfigurations\\n\\nIn ISDN, there are two types of channels, B (for \\\"bearer\\\") and D (for \\\"data\\\"). B channels are used for data (which may include voice), and D channels are intended for signaling and control (but can also be used for data).\\n\\nThere are two ISDN implementations. Basic Rate Interface (BRI), also called basic rate access (BRA)\\u00a0\\u2014 consists of two B channels, each with bandwidth of 64 kbit/s, and one D channel with a bandwidth of 16 kbit/s. Together these three channels can be designated as 2B+D. Primary Rate Interface (PRI), also called primary rate access (PRA) in Europe\\u00a0\\u2014 contains a greater number of B channels and a D channel with a bandwidth of 64 kbit/s. The number of B channels for PRI varies according to the nation: in North America and Japan it is 23B+1D, with an aggregate bit rate of 1.544 Mbit/s (T1); in Europe, India and Australia it is 30B+1D, with an aggregate bit rate of 2.048 Mbit/s (E1). Broadband Integrated Services Digital Network (BISDN) is another ISDN implementation and it is able to manage different types of services at the same time. It is primarily used within network backbones and employs ATM.\\n\\nAnother alternative ISDN configuration can be used in which the B channels of an ISDN BRI line are bonded to provide a total duplex bandwidth of 128 kbit/s. This precludes use of the line for voice calls while the internet connection is in use. The B channels of several BRIs can be bonded, a typical use is a 384K videoconferencing channel.\\n\\nUsing bipolar with eight-zero substitution encoding technique, call data is transmitted over the data (B) channels, with the signaling (D) channels used for call setup and management. Once a call is set up, there is a simple 64 kbit/s synchronous bidirectional data channel (actually implemented as two simplex channels, one in each direction) between the end parties, lasting until the call is terminated. There can be as many calls as there are bearer channels, to the same or different end-points. Bearer channels may also be multiplexed into what may be considered single, higher-bandwidth channels via a process called B channel BONDING, or via use of Multi-Link PPP \\\"bundling\\\" or by using an H0, H11, or H12 channel on a PRI.\\n\\nThe D channel can also be used for sending and receiving X.25 data packets, and connection to X.25 packet network, this is specified in X.31. In practice, X.31 was only commercially implemented in UK, France, Japan and Germany.\\n\\nReference points\\n\\nA set of reference points are defined in the ISDN standard to refer to certain points between the telco and the end user ISDN equipment.\\n*R\\u00a0\\u2013 defines the point between a non-ISDN terminal equipment 2 (TE2) device and a terminal adapter (TA) which provides translation to and from such a device\\n*S\\u00a0\\u2013 defines the point between the ISDN terminal equipment 1 (TE1) or TA and a Network Termination Type 2 (NT2) device\\n*T\\u00a0\\u2013 defines the point between the NT2 and network termination 1 (NT1) devices.\\n\\nMost NT-1 devices can perform the functions of the NT2 as well, and so the S and T reference points are generally collapsed into the S/T reference point.\\n\\nIn North America, the NT1 device is considered customer premises equipment (CPE) and must be maintained by the customer, thus, the U interface is provided to the customer. In other locations, the NT1 device is maintained by the telco, and the S/T interface is provided to the customer. In India, service providers provide U interface and an NT1 may be supplied by Service provider as part of service offering.\\n\\nTypes of communications\\n\\nAmong the kinds of data that can be moved over the 64 kbit/s channels are pulse-code modulated voice calls, providing access to the traditional voice PSTN. This information can be passed between the network and the user end-point at call set-up time. In North America, ISDN is now used mostly as an alternative to analog connections, most commonly for Internet access. Some of the services envisioned as being delivered over ISDN are now delivered over the Internet instead. In Europe, and in Germany in particular, ISDN has been successfully marketed as a phone with features, as opposed to a POTS phone with few or no features. Meanwhile, features that were first available with ISDN (such as Three-Way Calling, Call Forwarding, Caller ID, etc.) are now commonly available for ordinary analog phones as well, eliminating this advantage of ISDN. Another advantage of ISDN was the possibility of multiple simultaneous calls (one call per B channel), e.g. for big families, but with the increased popularity and reduced prices of mobile telephony this has become less interesting as well, making ISDN unappealing to the private customer. However, ISDN is typically more reliable than POTS, and has a significantly faster call setup time compared with POTS, and IP connections over ISDN typically have some 30\\u201335ms round trip time, as opposed to 120\\u2013180ms (both measured with otherwise unused lines) over 56k or V.34/V.92 modems, making ISDN more reliable and more efficient for telecommuters.\\n\\nWhere an analog connection requires a modem, an ISDN connection requires a terminal adapter (TA). The function of an ISDN terminal adapter is often delivered in the form of a PC card with an S/T interface, and single-chip solutions seem to exist, considering the plethora of combined ISDN- and ADSL-routers.\\n\\nISDN is commonly used in radio broadcasting. Since ISDN provides a high quality connection this assists in delivering good quality audio for transmission in radio. Most radio studios are equipped with ISDN lines as their main form of communication with other studios or standard phone lines. Equipment made by companies such as Telos/Omnia (the popular Zephyr codec), Comrex, Tieline and others are used regularly by radio broadcasters. Almost all live sports broadcasts on radio are backhauled to their main studios via ISDN connections.\\n\\nSample call\\n\\nThe following is an example of a Primary Rate (PRI) ISDN call showing the Q.921/LAPD and the Q.931/Network message intermixed (i.e. exactly what was exchanged on the D-channel). The call is originating from the switch where the trace was taken and goes out to some other switch, possibly an end-office LEC, who terminates the call.\\n\\nThe first line format is    . If the message is an ISDN level message, then a decoding of the message is attempted showing the various Information Elements that make up the message. All ISDN messages are tagged with an ID number relative to the switch that started the call (local/remote). Following this optional decoding is a dump of the bytes of the message in   ...   ...  format.\\n\\nThe RR messages at the beginning prior to the call are the keep alive messages. SETUP message indicate the start of the call. Each message is acknowledged by the other side with a RR.\\n\\n10:49:47.33  21/1/24  R  RR \\n0000  02 01 01 a5                                          ....\\n\\n10:49:47.34  21/1/24  T  RR\\n0000  02 01 01 b9                                          ....\\n\\n10:50:17.57  21/1/24  R  RR\\n0000  02 01 01 a5                                          ....\\n\\n10:50:17.58  21/1/24  T  RR\\n0000  02 01 01 b9                                          ....\\n\\n10:50:24.37  21/1/24  T  SETUP\\n    Call Reference       : 000062-local\\n    Bearer Capability    : CCITT, Speech, Circuit mode, 64 kbit/s\\n    Channel ID           : Implicit Interface ID implies current span, 21/1/5, Exclusive\\n    Calling Party Number : 8018023000 National number  User-provided, not screened  Presentation allowed\\n    Called Party Number  : 3739120 Type: SUBSCRB\\n0000  00 01 a4 b8  08 02 00 3e  05 04 03 80  90 a2 18 03   .......>........\\n0010  a9 83 85 6c  0c 21 80 38  30 31 38 30  32 33 30 30   ...l.!.801802300\\n0020  30 70 08 c1  33 37 33 39  31 32 30                   0p..3739120\\n\\n10:50:24.37  21/1/24  R  RR\\n0000  00 01 01 a6                                          ....\\n\\n10:50:24.77  21/1/24  R  CALL PROCEEDING\\n    Call Reference       : 000062-local\\n    Channel ID           : Implicit Interface ID implies current span, 21/1/5, Exclusive\\n0000  02 01 b8 a6  08 02 80 3e  02 18 03 a9  83 85         .......>......\\n\\n10:50:24.77  21/1/24  T  RR\\n0000  02 01 01 ba                                          ....\\n\\n10:50:25.02  21/1/24  R  ALERTING\\n    Call Reference       : 000062-local\\n    Progress Indicator   : CCITT, Public network serving local user,\\nIn-band information or an appropriate pattern is now available\\n0000  02 01 ba a6  08 02 80 3e  01 1e 02 82  88            .......>.....\\n\\n10:50:25.02  21/1/24  T  RR\\n0000  02 01 01 bc                                          ....\\n\\n10:50:28.43  21/1/24  R  CONNECT\\n    Call Reference       : 000062-local\\n0000  02 01 bc a6  08 02 80 3e  07                         .......>.\\n\\n10:50:28.43  21/1/24  T  RR\\n0000  02 01 01 be                                          ....\\n\\n10:50:28.43  21/1/24  T  CONNECT_ACK\\n    Call Reference       : 000062-local\\n0000  00 01 a6 be  08 02 00 3e  0f                         .......>.\\n\\n10:50:28.44  21/1/24  R  RR\\n0000  00 01 01 a8                                          ....\\n\\n10:50:35.69  21/1/24  T  DISCONNECT\\n    Call Reference       : 000062-local\\n    Cause                : 16, Normal call clearing.\\n0000  00 01 a8 be  08 02 00 3e  45 08 02 8a  90            .......>E....\\n\\n10:50:35.70  21/1/24  R  RR\\n0000  00 01 01 aa                                          ....\\n\\n10:50:36.98  21/1/24  R  RELEASE\\n    Call Reference       : 000062-local\\n0000  02 01 be aa  08 02 80 3e  4d                         .......>M\\n\\n10:50:36.98  21/1/24  T  RR\\n0000  02 01 01 c0                                          ....\\n\\n10:50:36.99  21/1/24  T  RELEASE COMPLETE\\n    Call Reference       : 000062-local\\n0000  00 01 aa c0  08 02 00 3e  5a                         .......>Z\\n\\n10:50:36.00  21/1/24  R  RR\\n0000  00 01 01 ac                                          ....\\n\\n10:51:06.10  21/1/24  R  RR\\n0000  02 01 01 ad                                          ....\\n\\n10:51:06.10  21/1/24  T  RR\\n0000  02 01 01 c1                                          ....\\n\\n10:51:36.37  21/1/24  R  RR\\n0000  02 01 01 ad                                          ....\\n\\n10:51:36.37  21/1/24  T  RR\\n0000  02 01 01 c1                                          ....\"\n",
      "        ]\n",
      "    },\n",
      "    \"question\": \"In which country did he widespread use of ISDN begin in 1988?\",\n",
      "    \"question_id\": \"tc_15\",\n",
      "    \"question_source\": \"http://www.triviacountry.com/\",\n",
      "    \"search_results\": {\n",
      "        \"description\": [],\n",
      "        \"filename\": [],\n",
      "        \"rank\": [],\n",
      "        \"search_context\": [],\n",
      "        \"title\": [],\n",
      "        \"url\": []\n",
      "    }\n",
      "}\n",
      "2 1\n",
      "7 1\n",
      "1 1\n"
     ]
    }
   ],
   "source": [
    "for ii,item in enumerate(train_dataset):\n",
    "    #print(json.dumps(item,indent=4))\n",
    "    print(len(item['search_results']['search_context']), len(item['entity_pages']['wiki_context']))\n",
    "    if ii == 7:\n",
    "         print(json.dumps(item,indent=4))\n",
    "    if ii ==10:\n",
    "        break\n",
    "    "
   ]
  },
  {
   "cell_type": "code",
   "execution_count": null,
   "id": "beaaa866",
   "metadata": {},
   "outputs": [],
   "source": [
    "for item in train_dataset:\n",
    "    print(json.dumps(item,indent=4))\n",
    "    #print(item['search_result']['search_context'])\n",
    "    break"
   ]
  },
  {
   "cell_type": "code",
   "execution_count": null,
   "id": "fff3c1c1",
   "metadata": {},
   "outputs": [],
   "source": []
  },
  {
   "cell_type": "code",
   "execution_count": null,
   "id": "5111c274",
   "metadata": {},
   "outputs": [],
   "source": []
  },
  {
   "cell_type": "code",
   "execution_count": 11,
   "id": "4a64276d",
   "metadata": {},
   "outputs": [
    {
     "name": "stdout",
     "output_type": "stream",
     "text": [
      "True\n"
     ]
    }
   ],
   "source": [
    "print(torch.cuda.is_available())"
   ]
  },
  {
   "cell_type": "code",
   "execution_count": 12,
   "id": "42ed01b0",
   "metadata": {},
   "outputs": [
    {
     "name": "stderr",
     "output_type": "stream",
     "text": [
      "Some weights of the model checkpoint at bert-base-cased were not used when initializing BertForNextSentencePrediction: ['cls.predictions.bias', 'cls.predictions.transform.dense.weight', 'cls.predictions.transform.dense.bias', 'cls.predictions.decoder.weight', 'cls.predictions.transform.LayerNorm.weight', 'cls.predictions.transform.LayerNorm.bias']\n",
      "- This IS expected if you are initializing BertForNextSentencePrediction from the checkpoint of a model trained on another task or with another architecture (e.g. initializing a BertForSequenceClassification model from a BertForPreTraining model).\n",
      "- This IS NOT expected if you are initializing BertForNextSentencePrediction from the checkpoint of a model that you expect to be exactly identical (initializing a BertForSequenceClassification model from a BertForSequenceClassification model).\n"
     ]
    }
   ],
   "source": [
    "model_name = 'bert-base-cased'\n",
    "\n",
    "tokenizer = AutoTokenizer.from_pretrained(model_name)\n",
    "#config = AutoConfig.from_pretrained(model_name)\n",
    "model = BertForNextSentencePrediction.from_pretrained(model_name)\n"
   ]
  },
  {
   "cell_type": "code",
   "execution_count": 13,
   "id": "ddf3a07d",
   "metadata": {},
   "outputs": [],
   "source": [
    "seq_A = 'I like cookies !'\n",
    "seq_B = 'Do you like them ?'\n",
    "encoded = tokenizer.encode_plus(seq_A, text_pair=seq_B, return_tensors='pt')\n"
   ]
  },
  {
   "cell_type": "code",
   "execution_count": 14,
   "id": "8d7d418f",
   "metadata": {},
   "outputs": [],
   "source": [
    "outputs = model(**encoded, labels=torch.LongTensor([1]))\n",
    "probs = softmax(outputs.logits, dim=1)\n",
    "prob_next = probs[0][0]"
   ]
  },
  {
   "cell_type": "code",
   "execution_count": null,
   "id": "6837373c",
   "metadata": {},
   "outputs": [],
   "source": []
  },
  {
   "cell_type": "code",
   "execution_count": null,
   "id": "579e641c",
   "metadata": {},
   "outputs": [],
   "source": []
  },
  {
   "cell_type": "code",
   "execution_count": null,
   "id": "8dfd4a00",
   "metadata": {},
   "outputs": [],
   "source": []
  }
 ],
 "metadata": {
  "kernelspec": {
   "display_name": "Python 3",
   "language": "python",
   "name": "python3"
  },
  "language_info": {
   "codemirror_mode": {
    "name": "ipython",
    "version": 3
   },
   "file_extension": ".py",
   "mimetype": "text/x-python",
   "name": "python",
   "nbconvert_exporter": "python",
   "pygments_lexer": "ipython3",
   "version": "3.9.2"
  }
 },
 "nbformat": 4,
 "nbformat_minor": 5
}
