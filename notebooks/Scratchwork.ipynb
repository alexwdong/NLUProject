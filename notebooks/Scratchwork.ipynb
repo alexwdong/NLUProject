{
 "cells": [
  {
   "cell_type": "code",
   "execution_count": 1,
   "id": "52c76388",
   "metadata": {},
   "outputs": [],
   "source": [
    "import numpy as np\n",
    "from transformers import BertConfig,BertModel,AutoConfig,AutoTokenizer,BertForNextSentencePrediction\n",
    "import torch\n",
    "from torch.nn.functional import softmax\n",
    "from datasets import load_dataset,load_from_disk\n",
    "import json\n"
   ]
  },
  {
   "cell_type": "code",
   "execution_count": 2,
   "id": "0cdce95a",
   "metadata": {},
   "outputs": [],
   "source": [
    "from datasets import load_dataset,load_from_disk\n",
    "import json"
   ]
  },
  {
   "cell_type": "code",
   "execution_count": 3,
   "id": "5ca148ec",
   "metadata": {},
   "outputs": [],
   "source": [
    "\n",
    "#dataset = load_dataset('trivia_qa', 'rc')\n",
    "#dataset.save_to_disk('.')"
   ]
  },
  {
   "cell_type": "code",
   "execution_count": null,
   "id": "5f9fd1f8",
   "metadata": {},
   "outputs": [],
   "source": [
    "dataset = load_from_disk(r'../data/trivia_qa_rc_tiny')"
   ]
  },
  {
   "cell_type": "code",
   "execution_count": null,
   "id": "0e257665",
   "metadata": {},
   "outputs": [],
   "source": [
    "train_dataset = dataset['train']"
   ]
  },
  {
   "cell_type": "code",
   "execution_count": null,
   "id": "2917e8c8",
   "metadata": {},
   "outputs": [],
   "source": [
    "def function(item):\n",
    "    print(len(item['search_results']['search_context']))"
   ]
  },
  {
   "cell_type": "code",
   "execution_count": null,
   "id": "e9d81139",
   "metadata": {},
   "outputs": [],
   "source": [
    "#train_dataset.map(function)"
   ]
  },
  {
   "cell_type": "markdown",
   "id": "57adc5bd",
   "metadata": {},
   "source": [
    "# Useful fields: \n",
    "Question:\n",
    "Answer:\n",
    "Entity_pages -> wiki_context (multiple contexts)\n",
    "search_results -> search_context (multiple contexts)\n",
    "\n",
    "# Planning:\n",
    "set of documents which contains all of wiki context and search results\n",
    "\n",
    "for each document:\n",
    "    Split by sentences using NLTK:\n",
    "    Tokenize each sentence using bert (wordpiece) embeddings\n",
    "    Store each tokenized sentence in a ordered dict of {sentence_idx -> tokenized sentence}\n",
    "    run Bert's NSP over the document to generate sequence of split confidence\n",
    "    Pick a confidence threshold. Threshold needs to be s.t each segment has less than 512 tokens.\n",
    "    Assign each sentence to a segment based on threshold.\n",
    "    \n",
    "    \n",
    "    \n"
   ]
  },
  {
   "cell_type": "code",
   "execution_count": null,
   "id": "03a963aa",
   "metadata": {},
   "outputs": [],
   "source": [
    "for ii,item in enumerate(train_dataset):\n",
    "    #print(json.dumps(item,indent=4))\n",
    "    print(len(item['search_results']['search_context']), len(item['entity_pages']['wiki_context']))\n",
    "    if ii == 7:\n",
    "         print(json.dumps(item,indent=4))\n",
    "    if ii ==10:\n",
    "        break\n",
    "    "
   ]
  },
  {
   "cell_type": "code",
   "execution_count": null,
   "id": "edce8317",
   "metadata": {},
   "outputs": [],
   "source": [
    "for item in train_dataset:\n",
    "    print(json.dumps(item,indent=4))\n",
    "    #print(item['search_result']['search_context'])\n",
    "    break"
   ]
  },
  {
   "cell_type": "code",
   "execution_count": null,
   "id": "f9f44542",
   "metadata": {},
   "outputs": [],
   "source": []
  },
  {
   "cell_type": "code",
   "execution_count": null,
   "id": "3afea529",
   "metadata": {},
   "outputs": [],
   "source": []
  },
  {
   "cell_type": "code",
   "execution_count": null,
   "id": "e85c5194",
   "metadata": {},
   "outputs": [],
   "source": [
    "print(torch.cuda.is_available())"
   ]
  },
  {
   "cell_type": "code",
   "execution_count": null,
   "id": "1395517d",
   "metadata": {},
   "outputs": [],
   "source": [
    "model_name = 'bert-base-cased'\n",
    "\n",
    "tokenizer = AutoTokenizer.from_pretrained(model_name)\n",
    "#config = AutoConfig.from_pretrained(model_name)\n",
    "model = BertForNextSentencePrediction.from_pretrained(model_name)\n"
   ]
  },
  {
   "cell_type": "code",
   "execution_count": null,
   "id": "97b7258e",
   "metadata": {},
   "outputs": [],
   "source": [
    "seq_A = 'I like cookies !'\n",
    "seq_B = 'Do you like them ?'\n",
    "encoded = tokenizer.encode_plus(seq_A, text_pair=seq_B, return_tensors='pt')\n"
   ]
  },
  {
   "cell_type": "code",
   "execution_count": null,
   "id": "0a39bc22",
   "metadata": {},
   "outputs": [],
   "source": [
    "outputs = model(**encoded, labels=torch.LongTensor([1]))\n",
    "probs = softmax(outputs.logits, dim=1)\n",
    "prob_next = probs[0][0]"
   ]
  },
  {
   "cell_type": "code",
   "execution_count": null,
   "id": "cd5f31d1",
   "metadata": {},
   "outputs": [],
   "source": []
  },
  {
   "cell_type": "code",
   "execution_count": null,
   "id": "bc1fa754",
   "metadata": {},
   "outputs": [],
   "source": []
  },
  {
   "cell_type": "code",
   "execution_count": null,
   "id": "e8acd384",
   "metadata": {},
   "outputs": [],
   "source": []
  }
 ],
 "metadata": {
  "kernelspec": {
   "display_name": "Python 3",
   "language": "python",
   "name": "python3"
  },
  "language_info": {
   "codemirror_mode": {
    "name": "ipython",
    "version": 3
   },
   "file_extension": ".py",
   "mimetype": "text/x-python",
   "name": "python",
   "nbconvert_exporter": "python",
   "pygments_lexer": "ipython3",
   "version": "3.8.8"
  }
 },
 "nbformat": 4,
 "nbformat_minor": 5
}
